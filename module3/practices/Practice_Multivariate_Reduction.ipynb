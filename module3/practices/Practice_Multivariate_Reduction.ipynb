{
 "cells": [
  {
   "cell_type": "markdown",
   "metadata": {},
   "source": [
    "## Multivariate Reduction Practice\n",
    "\n",
    "Lets continue our discussion with multivariate data reduction. We will focus on dimensionality reduction using principal component analysis. The questions are partially complete. You may have to debug/modify/complete the code to generate the desired output. "
   ]
  },
  {
   "cell_type": "markdown",
   "metadata": {},
   "source": [
    "**Load the data** into movies_data dataframe."
   ]
  },
  {
   "cell_type": "code",
   "execution_count": 1,
   "metadata": {},
   "outputs": [
    {
     "data": {
      "text/html": [
       "<table>\n",
       "<caption>A data.frame: 6 × 28</caption>\n",
       "<thead>\n",
       "\t<tr><th scope=col>color</th><th scope=col>director_name</th><th scope=col>num_critic_for_reviews</th><th scope=col>duration</th><th scope=col>director_facebook_likes</th><th scope=col>actor_3_facebook_likes</th><th scope=col>actor_2_name</th><th scope=col>actor_1_facebook_likes</th><th scope=col>gross</th><th scope=col>genres</th><th scope=col>⋯</th><th scope=col>num_user_for_reviews</th><th scope=col>language</th><th scope=col>country</th><th scope=col>content_rating</th><th scope=col>budget</th><th scope=col>title_year</th><th scope=col>actor_2_facebook_likes</th><th scope=col>imdb_score</th><th scope=col>aspect_ratio</th><th scope=col>movie_facebook_likes</th></tr>\n",
       "\t<tr><th scope=col>&lt;fct&gt;</th><th scope=col>&lt;fct&gt;</th><th scope=col>&lt;int&gt;</th><th scope=col>&lt;int&gt;</th><th scope=col>&lt;int&gt;</th><th scope=col>&lt;int&gt;</th><th scope=col>&lt;fct&gt;</th><th scope=col>&lt;int&gt;</th><th scope=col>&lt;int&gt;</th><th scope=col>&lt;fct&gt;</th><th scope=col>⋯</th><th scope=col>&lt;int&gt;</th><th scope=col>&lt;fct&gt;</th><th scope=col>&lt;fct&gt;</th><th scope=col>&lt;fct&gt;</th><th scope=col>&lt;dbl&gt;</th><th scope=col>&lt;int&gt;</th><th scope=col>&lt;int&gt;</th><th scope=col>&lt;dbl&gt;</th><th scope=col>&lt;dbl&gt;</th><th scope=col>&lt;int&gt;</th></tr>\n",
       "</thead>\n",
       "<tbody>\n",
       "\t<tr><td>Color</td><td>James Cameron    </td><td>723</td><td>178</td><td>    0</td><td>  855</td><td>Joel David Moore</td><td> 1000</td><td>760505847</td><td>Action|Adventure|Fantasy|Sci-Fi</td><td>⋯</td><td>3054</td><td>English</td><td>USA</td><td>PG-13</td><td>237000000</td><td>2009</td><td>  936</td><td>7.9</td><td>1.78</td><td> 33000</td></tr>\n",
       "\t<tr><td>Color</td><td>Gore Verbinski   </td><td>302</td><td>169</td><td>  563</td><td> 1000</td><td>Orlando Bloom   </td><td>40000</td><td>309404152</td><td>Action|Adventure|Fantasy       </td><td>⋯</td><td>1238</td><td>English</td><td>USA</td><td>PG-13</td><td>300000000</td><td>2007</td><td> 5000</td><td>7.1</td><td>2.35</td><td>     0</td></tr>\n",
       "\t<tr><td>Color</td><td>Sam Mendes       </td><td>602</td><td>148</td><td>    0</td><td>  161</td><td>Rory Kinnear    </td><td>11000</td><td>200074175</td><td>Action|Adventure|Thriller      </td><td>⋯</td><td> 994</td><td>English</td><td>UK </td><td>PG-13</td><td>245000000</td><td>2015</td><td>  393</td><td>6.8</td><td>2.35</td><td> 85000</td></tr>\n",
       "\t<tr><td>Color</td><td>Christopher Nolan</td><td>813</td><td>164</td><td>22000</td><td>23000</td><td>Christian Bale  </td><td>27000</td><td>448130642</td><td>Action|Thriller                </td><td>⋯</td><td>2701</td><td>English</td><td>USA</td><td>PG-13</td><td>250000000</td><td>2012</td><td>23000</td><td>8.5</td><td>2.35</td><td>164000</td></tr>\n",
       "\t<tr><td>     </td><td>Doug Walker      </td><td> NA</td><td> NA</td><td>  131</td><td>   NA</td><td>Rob Walker      </td><td>  131</td><td>       NA</td><td>Documentary                    </td><td>⋯</td><td>  NA</td><td>       </td><td>   </td><td>     </td><td>       NA</td><td>  NA</td><td>   12</td><td>7.1</td><td>  NA</td><td>     0</td></tr>\n",
       "\t<tr><td>Color</td><td>Andrew Stanton   </td><td>462</td><td>132</td><td>  475</td><td>  530</td><td>Samantha Morton </td><td>  640</td><td> 73058679</td><td>Action|Adventure|Sci-Fi        </td><td>⋯</td><td> 738</td><td>English</td><td>USA</td><td>PG-13</td><td>263700000</td><td>2012</td><td>  632</td><td>6.6</td><td>2.35</td><td> 24000</td></tr>\n",
       "</tbody>\n",
       "</table>\n"
      ],
      "text/latex": [
       "A data.frame: 6 × 28\n",
       "\\begin{tabular}{r|llllllllllllllllllllllllllll}\n",
       " color & director\\_name & num\\_critic\\_for\\_reviews & duration & director\\_facebook\\_likes & actor\\_3\\_facebook\\_likes & actor\\_2\\_name & actor\\_1\\_facebook\\_likes & gross & genres & actor\\_1\\_name & movie\\_title & num\\_voted\\_users & cast\\_total\\_facebook\\_likes & actor\\_3\\_name & facenumber\\_in\\_poster & plot\\_keywords & movie\\_imdb\\_link & num\\_user\\_for\\_reviews & language & country & content\\_rating & budget & title\\_year & actor\\_2\\_facebook\\_likes & imdb\\_score & aspect\\_ratio & movie\\_facebook\\_likes\\\\\n",
       " <fct> & <fct> & <int> & <int> & <int> & <int> & <fct> & <int> & <int> & <fct> & <fct> & <fct> & <int> & <int> & <fct> & <int> & <fct> & <fct> & <int> & <fct> & <fct> & <fct> & <dbl> & <int> & <int> & <dbl> & <dbl> & <int>\\\\\n",
       "\\hline\n",
       "\t Color & James Cameron     & 723 & 178 &     0 &   855 & Joel David Moore &  1000 & 760505847 & Action\\textbar{}Adventure\\textbar{}Fantasy\\textbar{}Sci-Fi & CCH Pounder     & Avatar                                                  &  886204 &   4834 & Wes Studi            & 0 & avatar\\textbar{}future\\textbar{}marine\\textbar{}native\\textbar{}paraplegic                           & http://www.imdb.com/title/tt0499549/?ref\\_=fn\\_tt\\_tt\\_1 & 3054 & English & USA & PG-13 & 237000000 & 2009 &   936 & 7.9 & 1.78 &  33000\\\\\n",
       "\t Color & Gore Verbinski    & 302 & 169 &   563 &  1000 & Orlando Bloom    & 40000 & 309404152 & Action\\textbar{}Adventure\\textbar{}Fantasy        & Johnny Depp     & Pirates of the Caribbean: At World's End                &  471220 &  48350 & Jack Davenport       & 0 & goddess\\textbar{}marriage ceremony\\textbar{}marriage proposal\\textbar{}pirate\\textbar{}singapore     & http://www.imdb.com/title/tt0449088/?ref\\_=fn\\_tt\\_tt\\_1 & 1238 & English & USA & PG-13 & 300000000 & 2007 &  5000 & 7.1 & 2.35 &      0\\\\\n",
       "\t Color & Sam Mendes        & 602 & 148 &     0 &   161 & Rory Kinnear     & 11000 & 200074175 & Action\\textbar{}Adventure\\textbar{}Thriller       & Christoph Waltz & Spectre                                                 &  275868 &  11700 & Stephanie Sigman     & 1 & bomb\\textbar{}espionage\\textbar{}sequel\\textbar{}spy\\textbar{}terrorist                              & http://www.imdb.com/title/tt2379713/?ref\\_=fn\\_tt\\_tt\\_1 &  994 & English & UK  & PG-13 & 245000000 & 2015 &   393 & 6.8 & 2.35 &  85000\\\\\n",
       "\t Color & Christopher Nolan & 813 & 164 & 22000 & 23000 & Christian Bale   & 27000 & 448130642 & Action\\textbar{}Thriller                 & Tom Hardy       & The Dark Knight Rises                                   & 1144337 & 106759 & Joseph Gordon-Levitt & 0 & deception\\textbar{}imprisonment\\textbar{}lawlessness\\textbar{}police officer\\textbar{}terrorist plot & http://www.imdb.com/title/tt1345836/?ref\\_=fn\\_tt\\_tt\\_1 & 2701 & English & USA & PG-13 & 250000000 & 2012 & 23000 & 8.5 & 2.35 & 164000\\\\\n",
       "\t       & Doug Walker       &  NA &  NA &   131 &    NA & Rob Walker       &   131 &        NA & Documentary                     & Doug Walker     & Star Wars: Episode VII - The Force Awakens              &       8 &    143 &                      & 0 &                                                                  & http://www.imdb.com/title/tt5289954/?ref\\_=fn\\_tt\\_tt\\_1 &   NA &         &     &       &        NA &   NA &    12 & 7.1 &   NA &      0\\\\\n",
       "\t Color & Andrew Stanton    & 462 & 132 &   475 &   530 & Samantha Morton  &   640 &  73058679 & Action\\textbar{}Adventure\\textbar{}Sci-Fi         & Daryl Sabara    & John Carter                                             &  212204 &   1873 & Polly Walker         & 1 & alien\\textbar{}american civil war\\textbar{}male nipple\\textbar{}mars\\textbar{}princess               & http://www.imdb.com/title/tt0401729/?ref\\_=fn\\_tt\\_tt\\_1 &  738 & English & USA & PG-13 & 263700000 & 2012 &   632 & 6.6 & 2.35 &  24000\\\\\n",
       "\\end{tabular}\n"
      ],
      "text/markdown": [
       "\n",
       "A data.frame: 6 × 28\n",
       "\n",
       "| color &lt;fct&gt; | director_name &lt;fct&gt; | num_critic_for_reviews &lt;int&gt; | duration &lt;int&gt; | director_facebook_likes &lt;int&gt; | actor_3_facebook_likes &lt;int&gt; | actor_2_name &lt;fct&gt; | actor_1_facebook_likes &lt;int&gt; | gross &lt;int&gt; | genres &lt;fct&gt; | ⋯ ⋯ | num_user_for_reviews &lt;int&gt; | language &lt;fct&gt; | country &lt;fct&gt; | content_rating &lt;fct&gt; | budget &lt;dbl&gt; | title_year &lt;int&gt; | actor_2_facebook_likes &lt;int&gt; | imdb_score &lt;dbl&gt; | aspect_ratio &lt;dbl&gt; | movie_facebook_likes &lt;int&gt; |\n",
       "|---|---|---|---|---|---|---|---|---|---|---|---|---|---|---|---|---|---|---|---|---|\n",
       "| Color | James Cameron     | 723 | 178 |     0 |   855 | Joel David Moore |  1000 | 760505847 | Action|Adventure|Fantasy|Sci-Fi | ⋯ | 3054 | English | USA | PG-13 | 237000000 | 2009 |   936 | 7.9 | 1.78 |  33000 |\n",
       "| Color | Gore Verbinski    | 302 | 169 |   563 |  1000 | Orlando Bloom    | 40000 | 309404152 | Action|Adventure|Fantasy        | ⋯ | 1238 | English | USA | PG-13 | 300000000 | 2007 |  5000 | 7.1 | 2.35 |      0 |\n",
       "| Color | Sam Mendes        | 602 | 148 |     0 |   161 | Rory Kinnear     | 11000 | 200074175 | Action|Adventure|Thriller       | ⋯ |  994 | English | UK  | PG-13 | 245000000 | 2015 |   393 | 6.8 | 2.35 |  85000 |\n",
       "| Color | Christopher Nolan | 813 | 164 | 22000 | 23000 | Christian Bale   | 27000 | 448130642 | Action|Thriller                 | ⋯ | 2701 | English | USA | PG-13 | 250000000 | 2012 | 23000 | 8.5 | 2.35 | 164000 |\n",
       "| <!----> | Doug Walker       |  NA |  NA |   131 |    NA | Rob Walker       |   131 |        NA | Documentary                     | ⋯ |   NA | <!----> | <!----> | <!----> |        NA |   NA |    12 | 7.1 |   NA |      0 |\n",
       "| Color | Andrew Stanton    | 462 | 132 |   475 |   530 | Samantha Morton  |   640 |  73058679 | Action|Adventure|Sci-Fi         | ⋯ |  738 | English | USA | PG-13 | 263700000 | 2012 |   632 | 6.6 | 2.35 |  24000 |\n",
       "\n"
      ],
      "text/plain": [
       "  color director_name     num_critic_for_reviews duration\n",
       "1 Color James Cameron     723                    178     \n",
       "2 Color Gore Verbinski    302                    169     \n",
       "3 Color Sam Mendes        602                    148     \n",
       "4 Color Christopher Nolan 813                    164     \n",
       "5       Doug Walker        NA                     NA     \n",
       "6 Color Andrew Stanton    462                    132     \n",
       "  director_facebook_likes actor_3_facebook_likes actor_2_name    \n",
       "1     0                     855                  Joel David Moore\n",
       "2   563                    1000                  Orlando Bloom   \n",
       "3     0                     161                  Rory Kinnear    \n",
       "4 22000                   23000                  Christian Bale  \n",
       "5   131                      NA                  Rob Walker      \n",
       "6   475                     530                  Samantha Morton \n",
       "  actor_1_facebook_likes gross     genres                          ⋯\n",
       "1  1000                  760505847 Action|Adventure|Fantasy|Sci-Fi ⋯\n",
       "2 40000                  309404152 Action|Adventure|Fantasy        ⋯\n",
       "3 11000                  200074175 Action|Adventure|Thriller       ⋯\n",
       "4 27000                  448130642 Action|Thriller                 ⋯\n",
       "5   131                         NA Documentary                     ⋯\n",
       "6   640                   73058679 Action|Adventure|Sci-Fi         ⋯\n",
       "  num_user_for_reviews language country content_rating budget    title_year\n",
       "1 3054                 English  USA     PG-13          237000000 2009      \n",
       "2 1238                 English  USA     PG-13          300000000 2007      \n",
       "3  994                 English  UK      PG-13          245000000 2015      \n",
       "4 2701                 English  USA     PG-13          250000000 2012      \n",
       "5   NA                                                        NA   NA      \n",
       "6  738                 English  USA     PG-13          263700000 2012      \n",
       "  actor_2_facebook_likes imdb_score aspect_ratio movie_facebook_likes\n",
       "1   936                  7.9        1.78          33000              \n",
       "2  5000                  7.1        2.35              0              \n",
       "3   393                  6.8        2.35          85000              \n",
       "4 23000                  8.5        2.35         164000              \n",
       "5    12                  7.1          NA              0              \n",
       "6   632                  6.6        2.35          24000              "
      ]
     },
     "metadata": {},
     "output_type": "display_data"
    }
   ],
   "source": [
    "movies_data <- read.csv(\"/dsa/data/all_datasets/movies/movie_metadata.csv\", header = T, sep=\",\")\n",
    "head(movies_data)"
   ]
  },
  {
   "cell_type": "markdown",
   "metadata": {},
   "source": [
    "Remove the rows that contain any NA values."
   ]
  },
  {
   "cell_type": "code",
   "execution_count": 2,
   "metadata": {},
   "outputs": [
    {
     "data": {
      "text/html": [
       "5043"
      ],
      "text/latex": [
       "5043"
      ],
      "text/markdown": [
       "5043"
      ],
      "text/plain": [
       "[1] 5043"
      ]
     },
     "metadata": {},
     "output_type": "display_data"
    },
    {
     "data": {
      "text/html": [
       "3801"
      ],
      "text/latex": [
       "3801"
      ],
      "text/markdown": [
       "3801"
      ],
      "text/plain": [
       "[1] 3801"
      ]
     },
     "metadata": {},
     "output_type": "display_data"
    }
   ],
   "source": [
    "# Count number of rows in the dataset\n",
    "nrow(movies_data)\n",
    "\n",
    "# Omit rows from  the dataset that contain NA values\n",
    "movies_data <- na.omit(movies_data)\n",
    "\n",
    "# Count number of rows again in the dataset\n",
    "nrow(movies_data)\n",
    "\n",
    "# Create a new dataframe called less_data excluding all rows from movies_data that contain NA values \n",
    "less_data <- movies_data[!sapply(movies_data,class) %in% c(\"factor\")]"
   ]
  },
  {
   "cell_type": "markdown",
   "metadata": {},
   "source": [
    "#### Correlation Matrix\n"
   ]
  },
  {
   "cell_type": "code",
   "execution_count": 3,
   "metadata": {},
   "outputs": [
    {
     "data": {
      "text/html": [
       "<table>\n",
       "<caption>A matrix: 16 × 16 of type dbl</caption>\n",
       "<thead>\n",
       "\t<tr><th></th><th scope=col>num_critic_for_reviews</th><th scope=col>duration</th><th scope=col>director_facebook_likes</th><th scope=col>actor_3_facebook_likes</th><th scope=col>actor_1_facebook_likes</th><th scope=col>gross</th><th scope=col>num_voted_users</th><th scope=col>cast_total_facebook_likes</th><th scope=col>facenumber_in_poster</th><th scope=col>num_user_for_reviews</th><th scope=col>budget</th><th scope=col>title_year</th><th scope=col>actor_2_facebook_likes</th><th scope=col>imdb_score</th><th scope=col>aspect_ratio</th><th scope=col>movie_facebook_likes</th></tr>\n",
       "</thead>\n",
       "<tbody>\n",
       "\t<tr><th scope=row>num_critic_for_reviews</th><td> 1.00000000</td><td> 0.22770510</td><td> 0.17691581</td><td>0.25508576</td><td>0.17019757</td><td> 0.46853499</td><td> 0.59498973</td><td>0.24100544</td><td>-0.03400866</td><td> 0.56679514</td><td> 0.10568105</td><td> 0.41038049</td><td>0.25583672</td><td> 0.34388077</td><td>0.18064082</td><td>0.70396936</td></tr>\n",
       "\t<tr><th scope=row>duration</th><td> 0.22770510</td><td> 1.00000000</td><td> 0.17973400</td><td>0.12577123</td><td>0.08471988</td><td> 0.24474304</td><td> 0.33803814</td><td>0.12117142</td><td> 0.02909973</td><td> 0.35039147</td><td> 0.06816122</td><td>-0.12942203</td><td>0.12945227</td><td> 0.36612369</td><td>0.15311429</td><td>0.21493610</td></tr>\n",
       "\t<tr><th scope=row>director_facebook_likes</th><td> 0.17691581</td><td> 0.17973400</td><td> 1.00000000</td><td>0.11824025</td><td>0.09073261</td><td> 0.13993814</td><td> 0.30061915</td><td>0.11974122</td><td>-0.04761895</td><td> 0.21831138</td><td> 0.01855931</td><td>-0.04460636</td><td>0.11690032</td><td> 0.19083814</td><td>0.03787106</td><td>0.16273728</td></tr>\n",
       "\t<tr><th scope=row>actor_3_facebook_likes</th><td> 0.25508576</td><td> 0.12577123</td><td> 0.11824025</td><td>1.00000000</td><td>0.25372024</td><td> 0.30158391</td><td> 0.26945536</td><td>0.49068631</td><td> 0.10501768</td><td> 0.20732096</td><td> 0.04047813</td><td> 0.11553537</td><td>0.55418237</td><td> 0.06497354</td><td>0.04712336</td><td>0.27251268</td></tr>\n",
       "\t<tr><th scope=row>actor_1_facebook_likes</th><td> 0.17019757</td><td> 0.08471988</td><td> 0.09073261</td><td>0.25372024</td><td>1.00000000</td><td> 0.14704475</td><td> 0.18226526</td><td>0.94492526</td><td> 0.05757968</td><td> 0.12522139</td><td> 0.01708638</td><td> 0.09374233</td><td>0.39267587</td><td> 0.09313142</td><td>0.05760375</td><td>0.13177824</td></tr>\n",
       "\t<tr><th scope=row>gross</th><td> 0.46853499</td><td> 0.24474304</td><td> 0.13993814</td><td>0.30158391</td><td>0.14704475</td><td> 1.00000000</td><td> 0.62694784</td><td>0.23868703</td><td>-0.03225370</td><td> 0.54710674</td><td> 0.10038914</td><td> 0.05236800</td><td>0.25465945</td><td> 0.21212439</td><td>0.06526004</td><td>0.36849402</td></tr>\n",
       "\t<tr><th scope=row>num_voted_users</th><td> 0.59498973</td><td> 0.33803814</td><td> 0.30061915</td><td>0.26945536</td><td>0.18226526</td><td> 0.62694784</td><td> 1.00000000</td><td>0.25194009</td><td>-0.03202642</td><td> 0.77992455</td><td> 0.06682395</td><td> 0.02193838</td><td>0.24666028</td><td> 0.47791732</td><td>0.08548456</td><td>0.51869065</td></tr>\n",
       "\t<tr><th scope=row>cast_total_facebook_likes</th><td> 0.24100544</td><td> 0.12117142</td><td> 0.11974122</td><td>0.49068631</td><td>0.94492526</td><td> 0.23868703</td><td> 0.25194009</td><td>1.00000000</td><td> 0.08098495</td><td> 0.18228784</td><td> 0.02942336</td><td> 0.12401462</td><td>0.64401612</td><td> 0.10625870</td><td>0.06967465</td><td>0.20706080</td></tr>\n",
       "\t<tr><th scope=row>facenumber_in_poster</th><td>-0.03400866</td><td> 0.02909973</td><td>-0.04761895</td><td>0.10501768</td><td>0.05757968</td><td>-0.03225370</td><td>-0.03202642</td><td>0.08098495</td><td> 1.00000000</td><td>-0.07940360</td><td>-0.02175723</td><td> 0.06795245</td><td>0.07413806</td><td>-0.06429247</td><td>0.01662043</td><td>0.01433235</td></tr>\n",
       "\t<tr><th scope=row>num_user_for_reviews</th><td> 0.56679514</td><td> 0.35039147</td><td> 0.21831138</td><td>0.20732096</td><td>0.12522139</td><td> 0.54710674</td><td> 0.77992455</td><td>0.18228784</td><td>-0.07940360</td><td> 1.00000000</td><td> 0.07125387</td><td> 0.01759409</td><td>0.18958182</td><td> 0.32252237</td><td>0.09855669</td><td>0.37197029</td></tr>\n",
       "\t<tr><th scope=row>budget</th><td> 0.10568105</td><td> 0.06816122</td><td> 0.01855931</td><td>0.04047813</td><td>0.01708638</td><td> 0.10038914</td><td> 0.06682395</td><td>0.02942336</td><td>-0.02175723</td><td> 0.07125387</td><td> 1.00000000</td><td> 0.04629319</td><td>0.03621089</td><td> 0.02904057</td><td>0.02579646</td><td>0.05303510</td></tr>\n",
       "\t<tr><th scope=row>title_year</th><td> 0.41038049</td><td>-0.12942203</td><td>-0.04460636</td><td>0.11553537</td><td>0.09374233</td><td> 0.05236800</td><td> 0.02193838</td><td>0.12401462</td><td> 0.06795245</td><td> 0.01759409</td><td> 0.04629319</td><td> 1.00000000</td><td>0.11973855</td><td>-0.12926516</td><td>0.21977924</td><td>0.30283494</td></tr>\n",
       "\t<tr><th scope=row>actor_2_facebook_likes</th><td> 0.25583672</td><td> 0.12945227</td><td> 0.11690032</td><td>0.55418237</td><td>0.39267587</td><td> 0.25465945</td><td> 0.24666028</td><td>0.64401612</td><td> 0.07413806</td><td> 0.18958182</td><td> 0.03621089</td><td> 0.11973855</td><td>1.00000000</td><td> 0.10206038</td><td>0.06421530</td><td>0.23363209</td></tr>\n",
       "\t<tr><th scope=row>imdb_score</th><td> 0.34388077</td><td> 0.36612369</td><td> 0.19083814</td><td>0.06497354</td><td>0.09313142</td><td> 0.21212439</td><td> 0.47791732</td><td>0.10625870</td><td>-0.06429247</td><td> 0.32252237</td><td> 0.02904057</td><td>-0.12926516</td><td>0.10206038</td><td> 1.00000000</td><td>0.02845372</td><td>0.27947774</td></tr>\n",
       "\t<tr><th scope=row>aspect_ratio</th><td> 0.18064082</td><td> 0.15311429</td><td> 0.03787106</td><td>0.04712336</td><td>0.05760375</td><td> 0.06526004</td><td> 0.08548456</td><td>0.06967465</td><td> 0.01662043</td><td> 0.09855669</td><td> 0.02579646</td><td> 0.21977924</td><td>0.06421530</td><td> 0.02845372</td><td>1.00000000</td><td>0.11031824</td></tr>\n",
       "\t<tr><th scope=row>movie_facebook_likes</th><td> 0.70396936</td><td> 0.21493610</td><td> 0.16273728</td><td>0.27251268</td><td>0.13177824</td><td> 0.36849402</td><td> 0.51869065</td><td>0.20706080</td><td> 0.01433235</td><td> 0.37197029</td><td> 0.05303510</td><td> 0.30283494</td><td>0.23363209</td><td> 0.27947774</td><td>0.11031824</td><td>1.00000000</td></tr>\n",
       "</tbody>\n",
       "</table>\n"
      ],
      "text/latex": [
       "A matrix: 16 × 16 of type dbl\n",
       "\\begin{tabular}{r|llllllllllllllll}\n",
       "  & num\\_critic\\_for\\_reviews & duration & director\\_facebook\\_likes & actor\\_3\\_facebook\\_likes & actor\\_1\\_facebook\\_likes & gross & num\\_voted\\_users & cast\\_total\\_facebook\\_likes & facenumber\\_in\\_poster & num\\_user\\_for\\_reviews & budget & title\\_year & actor\\_2\\_facebook\\_likes & imdb\\_score & aspect\\_ratio & movie\\_facebook\\_likes\\\\\n",
       "\\hline\n",
       "\tnum\\_critic\\_for\\_reviews &  1.00000000 &  0.22770510 &  0.17691581 & 0.25508576 & 0.17019757 &  0.46853499 &  0.59498973 & 0.24100544 & -0.03400866 &  0.56679514 &  0.10568105 &  0.41038049 & 0.25583672 &  0.34388077 & 0.18064082 & 0.70396936\\\\\n",
       "\tduration &  0.22770510 &  1.00000000 &  0.17973400 & 0.12577123 & 0.08471988 &  0.24474304 &  0.33803814 & 0.12117142 &  0.02909973 &  0.35039147 &  0.06816122 & -0.12942203 & 0.12945227 &  0.36612369 & 0.15311429 & 0.21493610\\\\\n",
       "\tdirector\\_facebook\\_likes &  0.17691581 &  0.17973400 &  1.00000000 & 0.11824025 & 0.09073261 &  0.13993814 &  0.30061915 & 0.11974122 & -0.04761895 &  0.21831138 &  0.01855931 & -0.04460636 & 0.11690032 &  0.19083814 & 0.03787106 & 0.16273728\\\\\n",
       "\tactor\\_3\\_facebook\\_likes &  0.25508576 &  0.12577123 &  0.11824025 & 1.00000000 & 0.25372024 &  0.30158391 &  0.26945536 & 0.49068631 &  0.10501768 &  0.20732096 &  0.04047813 &  0.11553537 & 0.55418237 &  0.06497354 & 0.04712336 & 0.27251268\\\\\n",
       "\tactor\\_1\\_facebook\\_likes &  0.17019757 &  0.08471988 &  0.09073261 & 0.25372024 & 1.00000000 &  0.14704475 &  0.18226526 & 0.94492526 &  0.05757968 &  0.12522139 &  0.01708638 &  0.09374233 & 0.39267587 &  0.09313142 & 0.05760375 & 0.13177824\\\\\n",
       "\tgross &  0.46853499 &  0.24474304 &  0.13993814 & 0.30158391 & 0.14704475 &  1.00000000 &  0.62694784 & 0.23868703 & -0.03225370 &  0.54710674 &  0.10038914 &  0.05236800 & 0.25465945 &  0.21212439 & 0.06526004 & 0.36849402\\\\\n",
       "\tnum\\_voted\\_users &  0.59498973 &  0.33803814 &  0.30061915 & 0.26945536 & 0.18226526 &  0.62694784 &  1.00000000 & 0.25194009 & -0.03202642 &  0.77992455 &  0.06682395 &  0.02193838 & 0.24666028 &  0.47791732 & 0.08548456 & 0.51869065\\\\\n",
       "\tcast\\_total\\_facebook\\_likes &  0.24100544 &  0.12117142 &  0.11974122 & 0.49068631 & 0.94492526 &  0.23868703 &  0.25194009 & 1.00000000 &  0.08098495 &  0.18228784 &  0.02942336 &  0.12401462 & 0.64401612 &  0.10625870 & 0.06967465 & 0.20706080\\\\\n",
       "\tfacenumber\\_in\\_poster & -0.03400866 &  0.02909973 & -0.04761895 & 0.10501768 & 0.05757968 & -0.03225370 & -0.03202642 & 0.08098495 &  1.00000000 & -0.07940360 & -0.02175723 &  0.06795245 & 0.07413806 & -0.06429247 & 0.01662043 & 0.01433235\\\\\n",
       "\tnum\\_user\\_for\\_reviews &  0.56679514 &  0.35039147 &  0.21831138 & 0.20732096 & 0.12522139 &  0.54710674 &  0.77992455 & 0.18228784 & -0.07940360 &  1.00000000 &  0.07125387 &  0.01759409 & 0.18958182 &  0.32252237 & 0.09855669 & 0.37197029\\\\\n",
       "\tbudget &  0.10568105 &  0.06816122 &  0.01855931 & 0.04047813 & 0.01708638 &  0.10038914 &  0.06682395 & 0.02942336 & -0.02175723 &  0.07125387 &  1.00000000 &  0.04629319 & 0.03621089 &  0.02904057 & 0.02579646 & 0.05303510\\\\\n",
       "\ttitle\\_year &  0.41038049 & -0.12942203 & -0.04460636 & 0.11553537 & 0.09374233 &  0.05236800 &  0.02193838 & 0.12401462 &  0.06795245 &  0.01759409 &  0.04629319 &  1.00000000 & 0.11973855 & -0.12926516 & 0.21977924 & 0.30283494\\\\\n",
       "\tactor\\_2\\_facebook\\_likes &  0.25583672 &  0.12945227 &  0.11690032 & 0.55418237 & 0.39267587 &  0.25465945 &  0.24666028 & 0.64401612 &  0.07413806 &  0.18958182 &  0.03621089 &  0.11973855 & 1.00000000 &  0.10206038 & 0.06421530 & 0.23363209\\\\\n",
       "\timdb\\_score &  0.34388077 &  0.36612369 &  0.19083814 & 0.06497354 & 0.09313142 &  0.21212439 &  0.47791732 & 0.10625870 & -0.06429247 &  0.32252237 &  0.02904057 & -0.12926516 & 0.10206038 &  1.00000000 & 0.02845372 & 0.27947774\\\\\n",
       "\taspect\\_ratio &  0.18064082 &  0.15311429 &  0.03787106 & 0.04712336 & 0.05760375 &  0.06526004 &  0.08548456 & 0.06967465 &  0.01662043 &  0.09855669 &  0.02579646 &  0.21977924 & 0.06421530 &  0.02845372 & 1.00000000 & 0.11031824\\\\\n",
       "\tmovie\\_facebook\\_likes &  0.70396936 &  0.21493610 &  0.16273728 & 0.27251268 & 0.13177824 &  0.36849402 &  0.51869065 & 0.20706080 &  0.01433235 &  0.37197029 &  0.05303510 &  0.30283494 & 0.23363209 &  0.27947774 & 0.11031824 & 1.00000000\\\\\n",
       "\\end{tabular}\n"
      ],
      "text/markdown": [
       "\n",
       "A matrix: 16 × 16 of type dbl\n",
       "\n",
       "| <!--/--> | num_critic_for_reviews | duration | director_facebook_likes | actor_3_facebook_likes | actor_1_facebook_likes | gross | num_voted_users | cast_total_facebook_likes | facenumber_in_poster | num_user_for_reviews | budget | title_year | actor_2_facebook_likes | imdb_score | aspect_ratio | movie_facebook_likes |\n",
       "|---|---|---|---|---|---|---|---|---|---|---|---|---|---|---|---|---|\n",
       "| num_critic_for_reviews |  1.00000000 |  0.22770510 |  0.17691581 | 0.25508576 | 0.17019757 |  0.46853499 |  0.59498973 | 0.24100544 | -0.03400866 |  0.56679514 |  0.10568105 |  0.41038049 | 0.25583672 |  0.34388077 | 0.18064082 | 0.70396936 |\n",
       "| duration |  0.22770510 |  1.00000000 |  0.17973400 | 0.12577123 | 0.08471988 |  0.24474304 |  0.33803814 | 0.12117142 |  0.02909973 |  0.35039147 |  0.06816122 | -0.12942203 | 0.12945227 |  0.36612369 | 0.15311429 | 0.21493610 |\n",
       "| director_facebook_likes |  0.17691581 |  0.17973400 |  1.00000000 | 0.11824025 | 0.09073261 |  0.13993814 |  0.30061915 | 0.11974122 | -0.04761895 |  0.21831138 |  0.01855931 | -0.04460636 | 0.11690032 |  0.19083814 | 0.03787106 | 0.16273728 |\n",
       "| actor_3_facebook_likes |  0.25508576 |  0.12577123 |  0.11824025 | 1.00000000 | 0.25372024 |  0.30158391 |  0.26945536 | 0.49068631 |  0.10501768 |  0.20732096 |  0.04047813 |  0.11553537 | 0.55418237 |  0.06497354 | 0.04712336 | 0.27251268 |\n",
       "| actor_1_facebook_likes |  0.17019757 |  0.08471988 |  0.09073261 | 0.25372024 | 1.00000000 |  0.14704475 |  0.18226526 | 0.94492526 |  0.05757968 |  0.12522139 |  0.01708638 |  0.09374233 | 0.39267587 |  0.09313142 | 0.05760375 | 0.13177824 |\n",
       "| gross |  0.46853499 |  0.24474304 |  0.13993814 | 0.30158391 | 0.14704475 |  1.00000000 |  0.62694784 | 0.23868703 | -0.03225370 |  0.54710674 |  0.10038914 |  0.05236800 | 0.25465945 |  0.21212439 | 0.06526004 | 0.36849402 |\n",
       "| num_voted_users |  0.59498973 |  0.33803814 |  0.30061915 | 0.26945536 | 0.18226526 |  0.62694784 |  1.00000000 | 0.25194009 | -0.03202642 |  0.77992455 |  0.06682395 |  0.02193838 | 0.24666028 |  0.47791732 | 0.08548456 | 0.51869065 |\n",
       "| cast_total_facebook_likes |  0.24100544 |  0.12117142 |  0.11974122 | 0.49068631 | 0.94492526 |  0.23868703 |  0.25194009 | 1.00000000 |  0.08098495 |  0.18228784 |  0.02942336 |  0.12401462 | 0.64401612 |  0.10625870 | 0.06967465 | 0.20706080 |\n",
       "| facenumber_in_poster | -0.03400866 |  0.02909973 | -0.04761895 | 0.10501768 | 0.05757968 | -0.03225370 | -0.03202642 | 0.08098495 |  1.00000000 | -0.07940360 | -0.02175723 |  0.06795245 | 0.07413806 | -0.06429247 | 0.01662043 | 0.01433235 |\n",
       "| num_user_for_reviews |  0.56679514 |  0.35039147 |  0.21831138 | 0.20732096 | 0.12522139 |  0.54710674 |  0.77992455 | 0.18228784 | -0.07940360 |  1.00000000 |  0.07125387 |  0.01759409 | 0.18958182 |  0.32252237 | 0.09855669 | 0.37197029 |\n",
       "| budget |  0.10568105 |  0.06816122 |  0.01855931 | 0.04047813 | 0.01708638 |  0.10038914 |  0.06682395 | 0.02942336 | -0.02175723 |  0.07125387 |  1.00000000 |  0.04629319 | 0.03621089 |  0.02904057 | 0.02579646 | 0.05303510 |\n",
       "| title_year |  0.41038049 | -0.12942203 | -0.04460636 | 0.11553537 | 0.09374233 |  0.05236800 |  0.02193838 | 0.12401462 |  0.06795245 |  0.01759409 |  0.04629319 |  1.00000000 | 0.11973855 | -0.12926516 | 0.21977924 | 0.30283494 |\n",
       "| actor_2_facebook_likes |  0.25583672 |  0.12945227 |  0.11690032 | 0.55418237 | 0.39267587 |  0.25465945 |  0.24666028 | 0.64401612 |  0.07413806 |  0.18958182 |  0.03621089 |  0.11973855 | 1.00000000 |  0.10206038 | 0.06421530 | 0.23363209 |\n",
       "| imdb_score |  0.34388077 |  0.36612369 |  0.19083814 | 0.06497354 | 0.09313142 |  0.21212439 |  0.47791732 | 0.10625870 | -0.06429247 |  0.32252237 |  0.02904057 | -0.12926516 | 0.10206038 |  1.00000000 | 0.02845372 | 0.27947774 |\n",
       "| aspect_ratio |  0.18064082 |  0.15311429 |  0.03787106 | 0.04712336 | 0.05760375 |  0.06526004 |  0.08548456 | 0.06967465 |  0.01662043 |  0.09855669 |  0.02579646 |  0.21977924 | 0.06421530 |  0.02845372 | 1.00000000 | 0.11031824 |\n",
       "| movie_facebook_likes |  0.70396936 |  0.21493610 |  0.16273728 | 0.27251268 | 0.13177824 |  0.36849402 |  0.51869065 | 0.20706080 |  0.01433235 |  0.37197029 |  0.05303510 |  0.30283494 | 0.23363209 |  0.27947774 | 0.11031824 | 1.00000000 |\n",
       "\n"
      ],
      "text/plain": [
       "                          num_critic_for_reviews duration   \n",
       "num_critic_for_reviews     1.00000000             0.22770510\n",
       "duration                   0.22770510             1.00000000\n",
       "director_facebook_likes    0.17691581             0.17973400\n",
       "actor_3_facebook_likes     0.25508576             0.12577123\n",
       "actor_1_facebook_likes     0.17019757             0.08471988\n",
       "gross                      0.46853499             0.24474304\n",
       "num_voted_users            0.59498973             0.33803814\n",
       "cast_total_facebook_likes  0.24100544             0.12117142\n",
       "facenumber_in_poster      -0.03400866             0.02909973\n",
       "num_user_for_reviews       0.56679514             0.35039147\n",
       "budget                     0.10568105             0.06816122\n",
       "title_year                 0.41038049            -0.12942203\n",
       "actor_2_facebook_likes     0.25583672             0.12945227\n",
       "imdb_score                 0.34388077             0.36612369\n",
       "aspect_ratio               0.18064082             0.15311429\n",
       "movie_facebook_likes       0.70396936             0.21493610\n",
       "                          director_facebook_likes actor_3_facebook_likes\n",
       "num_critic_for_reviews     0.17691581             0.25508576            \n",
       "duration                   0.17973400             0.12577123            \n",
       "director_facebook_likes    1.00000000             0.11824025            \n",
       "actor_3_facebook_likes     0.11824025             1.00000000            \n",
       "actor_1_facebook_likes     0.09073261             0.25372024            \n",
       "gross                      0.13993814             0.30158391            \n",
       "num_voted_users            0.30061915             0.26945536            \n",
       "cast_total_facebook_likes  0.11974122             0.49068631            \n",
       "facenumber_in_poster      -0.04761895             0.10501768            \n",
       "num_user_for_reviews       0.21831138             0.20732096            \n",
       "budget                     0.01855931             0.04047813            \n",
       "title_year                -0.04460636             0.11553537            \n",
       "actor_2_facebook_likes     0.11690032             0.55418237            \n",
       "imdb_score                 0.19083814             0.06497354            \n",
       "aspect_ratio               0.03787106             0.04712336            \n",
       "movie_facebook_likes       0.16273728             0.27251268            \n",
       "                          actor_1_facebook_likes gross       num_voted_users\n",
       "num_critic_for_reviews    0.17019757              0.46853499  0.59498973    \n",
       "duration                  0.08471988              0.24474304  0.33803814    \n",
       "director_facebook_likes   0.09073261              0.13993814  0.30061915    \n",
       "actor_3_facebook_likes    0.25372024              0.30158391  0.26945536    \n",
       "actor_1_facebook_likes    1.00000000              0.14704475  0.18226526    \n",
       "gross                     0.14704475              1.00000000  0.62694784    \n",
       "num_voted_users           0.18226526              0.62694784  1.00000000    \n",
       "cast_total_facebook_likes 0.94492526              0.23868703  0.25194009    \n",
       "facenumber_in_poster      0.05757968             -0.03225370 -0.03202642    \n",
       "num_user_for_reviews      0.12522139              0.54710674  0.77992455    \n",
       "budget                    0.01708638              0.10038914  0.06682395    \n",
       "title_year                0.09374233              0.05236800  0.02193838    \n",
       "actor_2_facebook_likes    0.39267587              0.25465945  0.24666028    \n",
       "imdb_score                0.09313142              0.21212439  0.47791732    \n",
       "aspect_ratio              0.05760375              0.06526004  0.08548456    \n",
       "movie_facebook_likes      0.13177824              0.36849402  0.51869065    \n",
       "                          cast_total_facebook_likes facenumber_in_poster\n",
       "num_critic_for_reviews    0.24100544                -0.03400866         \n",
       "duration                  0.12117142                 0.02909973         \n",
       "director_facebook_likes   0.11974122                -0.04761895         \n",
       "actor_3_facebook_likes    0.49068631                 0.10501768         \n",
       "actor_1_facebook_likes    0.94492526                 0.05757968         \n",
       "gross                     0.23868703                -0.03225370         \n",
       "num_voted_users           0.25194009                -0.03202642         \n",
       "cast_total_facebook_likes 1.00000000                 0.08098495         \n",
       "facenumber_in_poster      0.08098495                 1.00000000         \n",
       "num_user_for_reviews      0.18228784                -0.07940360         \n",
       "budget                    0.02942336                -0.02175723         \n",
       "title_year                0.12401462                 0.06795245         \n",
       "actor_2_facebook_likes    0.64401612                 0.07413806         \n",
       "imdb_score                0.10625870                -0.06429247         \n",
       "aspect_ratio              0.06967465                 0.01662043         \n",
       "movie_facebook_likes      0.20706080                 0.01433235         \n",
       "                          num_user_for_reviews budget      title_year \n",
       "num_critic_for_reviews     0.56679514           0.10568105  0.41038049\n",
       "duration                   0.35039147           0.06816122 -0.12942203\n",
       "director_facebook_likes    0.21831138           0.01855931 -0.04460636\n",
       "actor_3_facebook_likes     0.20732096           0.04047813  0.11553537\n",
       "actor_1_facebook_likes     0.12522139           0.01708638  0.09374233\n",
       "gross                      0.54710674           0.10038914  0.05236800\n",
       "num_voted_users            0.77992455           0.06682395  0.02193838\n",
       "cast_total_facebook_likes  0.18228784           0.02942336  0.12401462\n",
       "facenumber_in_poster      -0.07940360          -0.02175723  0.06795245\n",
       "num_user_for_reviews       1.00000000           0.07125387  0.01759409\n",
       "budget                     0.07125387           1.00000000  0.04629319\n",
       "title_year                 0.01759409           0.04629319  1.00000000\n",
       "actor_2_facebook_likes     0.18958182           0.03621089  0.11973855\n",
       "imdb_score                 0.32252237           0.02904057 -0.12926516\n",
       "aspect_ratio               0.09855669           0.02579646  0.21977924\n",
       "movie_facebook_likes       0.37197029           0.05303510  0.30283494\n",
       "                          actor_2_facebook_likes imdb_score  aspect_ratio\n",
       "num_critic_for_reviews    0.25583672              0.34388077 0.18064082  \n",
       "duration                  0.12945227              0.36612369 0.15311429  \n",
       "director_facebook_likes   0.11690032              0.19083814 0.03787106  \n",
       "actor_3_facebook_likes    0.55418237              0.06497354 0.04712336  \n",
       "actor_1_facebook_likes    0.39267587              0.09313142 0.05760375  \n",
       "gross                     0.25465945              0.21212439 0.06526004  \n",
       "num_voted_users           0.24666028              0.47791732 0.08548456  \n",
       "cast_total_facebook_likes 0.64401612              0.10625870 0.06967465  \n",
       "facenumber_in_poster      0.07413806             -0.06429247 0.01662043  \n",
       "num_user_for_reviews      0.18958182              0.32252237 0.09855669  \n",
       "budget                    0.03621089              0.02904057 0.02579646  \n",
       "title_year                0.11973855             -0.12926516 0.21977924  \n",
       "actor_2_facebook_likes    1.00000000              0.10206038 0.06421530  \n",
       "imdb_score                0.10206038              1.00000000 0.02845372  \n",
       "aspect_ratio              0.06421530              0.02845372 1.00000000  \n",
       "movie_facebook_likes      0.23363209              0.27947774 0.11031824  \n",
       "                          movie_facebook_likes\n",
       "num_critic_for_reviews    0.70396936          \n",
       "duration                  0.21493610          \n",
       "director_facebook_likes   0.16273728          \n",
       "actor_3_facebook_likes    0.27251268          \n",
       "actor_1_facebook_likes    0.13177824          \n",
       "gross                     0.36849402          \n",
       "num_voted_users           0.51869065          \n",
       "cast_total_facebook_likes 0.20706080          \n",
       "facenumber_in_poster      0.01433235          \n",
       "num_user_for_reviews      0.37197029          \n",
       "budget                    0.05303510          \n",
       "title_year                0.30283494          \n",
       "actor_2_facebook_likes    0.23363209          \n",
       "imdb_score                0.27947774          \n",
       "aspect_ratio              0.11031824          \n",
       "movie_facebook_likes      1.00000000          "
      ]
     },
     "metadata": {},
     "output_type": "display_data"
    }
   ],
   "source": [
    "cor(less_data) # get the correlations for less_data"
   ]
  },
  {
   "cell_type": "markdown",
   "metadata": {},
   "source": [
    "The output of cor() function is the correlation coefficient between each and every variable combination in the dataset. \n",
    "A variable's correlation to itself is always 1."
   ]
  },
  {
   "cell_type": "markdown",
   "metadata": {},
   "source": [
    "Variables\n",
    "\n",
    "- movie_facebook_likes\n",
    "- num_user_for_reviews\n",
    "- num_voted_users\n",
    "- num_critic_for_reviews\n",
    "- duration\n",
    "\n",
    "are the most correlated with imdb_score. \n",
    "<div>\n",
    "    <ul>\n",
    "        <br>\n",
    "        <li> \n",
    "            <span style=\"color:#cc1652\">cast_total_facebook_likes</span> has a strong positive correlation with the <span style=\"color:#d38032\">actor_1_facebook_likes</span>, and has smaller positive correlation with both <span style=\"color:#30a5d3\">actor_2_facebook_likes</span> and <span style=\"color:#08cc6d\">actor_3_facebook_likes</span>\n",
    "        </li>\n",
    "        <br>\n",
    "        <li>\n",
    "            <span style=\"color:#d32e44\">movie_facebook_likes</span> has strong correlation with <span style=\"color:#8934c1\">num_critic_for_reviews</span>, meaning that the popularity of a movie in social networks can be largely affected by the critics\n",
    "        </li>\n",
    "        <br>\n",
    "        <li> <span style=\"color:#d32e44\">movie_facebook_likes</span> has a decent amount of correlation with the <span style=\"color:#1d48d3\">num_voted_users</span>\n",
    "        </li>\n",
    "        <br>\n",
    "        <li> <span style=\"color:#cc1652\">gross</span> has a strong positive correlation with the <span style=\"color:#1d48d3\">num_voted_users</span>\n",
    "        </li>\n",
    "    </ul>\n",
    "</div>\n",
    "\n",
    "\n",
    "Contradicting correlations\n",
    "---------------------------\n",
    "\n",
    "<div>\n",
    "    <ul>\n",
    "        <br>\n",
    "        <li> \n",
    "            <span style=\"color:#cc1652\">imdb_score</span> has very small positive correlation with <span style=\"color:#08cc6d\">director_facebook_likes</span>. So we cant guarantee a popular director's movie will be great.\n",
    "        </li>\n",
    "        <br>\n",
    "        <li>\n",
    "            <span style=\"color:#cc1652\">imdb_score</span> has very small positive correlation with the <span style=\"color:#d32e44\">actor_1_facebook_likes</span>. Just like a famous director, we cant guarantee a popular actor's movie will be great.\n",
    "        </li>\n",
    "        <br>\n",
    "        <li> <span style=\"color:#cc1652\">imdb_score</span> has a small but positive correlation with <span style=\"color:#d32e44\">duration</span>. Highly rated movies tend to be longer in duration.\n",
    "        </li>\n",
    "        <br>\n",
    "        <li> <span style=\"color:#cc1652\">num_voted_users</span> and <span style=\"color:#1d48d3\">num_user_for_reviews</span> demonstrate a small positive correlation. Maybe more reviews are made on good movies.\n",
    "        </li>\n",
    "        <br>\n",
    "        <li> <span style=\"color:#cc1652\">imdb_score</span> has almost no correlation with <span style=\"color:#11c627\">budget</span>. Big budget movies will not necessarily turn out great\n",
    "        </li>\n",
    "    </ul>\n",
    "</div>"
   ]
  },
  {
   "cell_type": "markdown",
   "metadata": {},
   "source": [
    "**Question 1.a: ** Which correlations surprise you and/or seem interesting for investigation?"
   ]
  },
  {
   "cell_type": "raw",
   "metadata": {},
   "source": [
    "# Write your answer below this comment:\n",
    "# -----------------------------------------\n",
    "\n",
    "The correlation between imdb_score and duration is surprising. I would be curious to see if there are other factors that \n",
    "are related here such as director, or year released. Since some movies in sagas (e.g. Star Wars, Marvel, etc.) tend to be \n",
    "longer, does that have an impact?\n",
    "\n",
    "Other than that one, the other correlations are not surprising to me.\n",
    "\n"
   ]
  },
  {
   "cell_type": "markdown",
   "metadata": {},
   "source": [
    "Lets continue our discussion with PCA. As we have seen in lab notebook we have to standardize the variables. "
   ]
  },
  {
   "cell_type": "markdown",
   "metadata": {},
   "source": [
    "**Question 2: ** Use scale() function to standardize the numeric variables in movies_data and assign the new data to a variable called standard_vars."
   ]
  },
  {
   "cell_type": "code",
   "execution_count": 4,
   "metadata": {},
   "outputs": [
    {
     "data": {
      "text/html": [
       "<ol class=list-inline>\n",
       "\t<li>3801</li>\n",
       "\t<li>16</li>\n",
       "</ol>\n"
      ],
      "text/latex": [
       "\\begin{enumerate*}\n",
       "\\item 3801\n",
       "\\item 16\n",
       "\\end{enumerate*}\n"
      ],
      "text/markdown": [
       "1. 3801\n",
       "2. 16\n",
       "\n",
       "\n"
      ],
      "text/plain": [
       "[1] 3801   16"
      ]
     },
     "metadata": {},
     "output_type": "display_data"
    },
    {
     "data": {
      "text/html": [
       "<table>\n",
       "<caption>A data.frame: 6 × 16</caption>\n",
       "<thead>\n",
       "\t<tr><th></th><th scope=col>num_critic_for_reviews</th><th scope=col>duration</th><th scope=col>director_facebook_likes</th><th scope=col>actor_3_facebook_likes</th><th scope=col>actor_1_facebook_likes</th><th scope=col>gross</th><th scope=col>num_voted_users</th><th scope=col>cast_total_facebook_likes</th><th scope=col>facenumber_in_poster</th><th scope=col>num_user_for_reviews</th><th scope=col>budget</th><th scope=col>title_year</th><th scope=col>actor_2_facebook_likes</th><th scope=col>imdb_score</th><th scope=col>aspect_ratio</th><th scope=col>movie_facebook_likes</th></tr>\n",
       "\t<tr><th></th><th scope=col>&lt;dbl&gt;</th><th scope=col>&lt;dbl&gt;</th><th scope=col>&lt;dbl&gt;</th><th scope=col>&lt;dbl&gt;</th><th scope=col>&lt;dbl&gt;</th><th scope=col>&lt;dbl&gt;</th><th scope=col>&lt;dbl&gt;</th><th scope=col>&lt;dbl&gt;</th><th scope=col>&lt;dbl&gt;</th><th scope=col>&lt;dbl&gt;</th><th scope=col>&lt;dbl&gt;</th><th scope=col>&lt;dbl&gt;</th><th scope=col>&lt;dbl&gt;</th><th scope=col>&lt;dbl&gt;</th><th scope=col>&lt;dbl&gt;</th><th scope=col>&lt;dbl&gt;</th></tr>\n",
       "</thead>\n",
       "<tbody>\n",
       "\t<tr><th scope=row>1</th><td>4.508980</td><td>2.9879271</td><td>-0.26174734</td><td> 0.04838772</td><td>-0.4319618</td><td>10.1040151</td><td>5.1583530</td><td>-0.34552775</td><td>-0.6717869</td><td>6.6344079</td><td>0.8505943</td><td>0.6029682</td><td>-0.2358878</td><td> 1.3558130</td><td>-0.9370201</td><td> 1.1113488</td></tr>\n",
       "\t<tr><th scope=row>2</th><td>1.101861</td><td>2.5912537</td><td>-0.07721951</td><td> 0.12533641</td><td> 2.0926134</td><td> 3.6707931</td><td>2.4193120</td><td> 1.93928121</td><td>-0.6717869</td><td>2.2056624</td><td>1.1309436</td><td>0.4020317</td><td> 0.6623369</td><td> 0.5994134</td><td> 0.6806695</td><td>-0.4336351</td></tr>\n",
       "\t<tr><th scope=row>3</th><td>3.529737</td><td>1.6656825</td><td>-0.26174734</td><td>-0.31990466</td><td> 0.2153651</td><td> 2.1116236</td><td>1.1299198</td><td> 0.01497179</td><td>-0.1846709</td><td>1.6106106</td><td>0.8861942</td><td>1.2057778</td><td>-0.3559016</td><td> 0.3157635</td><td> 0.6806695</td><td> 3.5458687</td></tr>\n",
       "\t<tr><th scope=row>4</th><td>5.237343</td><td>2.3708796</td><td> 6.94893180</td><td>11.80031079</td><td> 1.2510883</td><td> 5.6491903</td><td>6.8621219</td><td> 5.00604761</td><td>-0.6717869</td><td>5.7735339</td><td>0.9084441</td><td>0.9043730</td><td> 4.6406941</td><td> 1.9231127</td><td> 0.6806695</td><td> 7.2444664</td></tr>\n",
       "\t<tr><th scope=row>6</th><td>2.396728</td><td>0.9604855</td><td>-0.10606222</td><td>-0.12408350</td><td>-0.4552656</td><td> 0.3002385</td><td>0.7097149</td><td>-0.50099515</td><td>-0.1846709</td><td>0.9862941</td><td>0.9694090</td><td>0.9043730</td><td>-0.3030778</td><td> 0.1266636</td><td> 0.6806695</td><td> 0.6899895</td></tr>\n",
       "\t<tr><th scope=row>7</th><td>1.830224</td><td>2.0182811</td><td>-0.26174734</td><td> 1.71737837</td><td> 1.0568902</td><td> 4.0576428</td><td>1.8373985</td><td> 1.81878216</td><td>-0.6717869</td><td>3.8249834</td><td>0.9440440</td><td>0.4020317</td><td> 1.9884560</td><td>-0.2515362</td><td> 0.6806695</td><td>-0.4336351</td></tr>\n",
       "</tbody>\n",
       "</table>\n"
      ],
      "text/latex": [
       "A data.frame: 6 × 16\n",
       "\\begin{tabular}{r|llllllllllllllll}\n",
       "  & num\\_critic\\_for\\_reviews & duration & director\\_facebook\\_likes & actor\\_3\\_facebook\\_likes & actor\\_1\\_facebook\\_likes & gross & num\\_voted\\_users & cast\\_total\\_facebook\\_likes & facenumber\\_in\\_poster & num\\_user\\_for\\_reviews & budget & title\\_year & actor\\_2\\_facebook\\_likes & imdb\\_score & aspect\\_ratio & movie\\_facebook\\_likes\\\\\n",
       "  & <dbl> & <dbl> & <dbl> & <dbl> & <dbl> & <dbl> & <dbl> & <dbl> & <dbl> & <dbl> & <dbl> & <dbl> & <dbl> & <dbl> & <dbl> & <dbl>\\\\\n",
       "\\hline\n",
       "\t1 & 4.508980 & 2.9879271 & -0.26174734 &  0.04838772 & -0.4319618 & 10.1040151 & 5.1583530 & -0.34552775 & -0.6717869 & 6.6344079 & 0.8505943 & 0.6029682 & -0.2358878 &  1.3558130 & -0.9370201 &  1.1113488\\\\\n",
       "\t2 & 1.101861 & 2.5912537 & -0.07721951 &  0.12533641 &  2.0926134 &  3.6707931 & 2.4193120 &  1.93928121 & -0.6717869 & 2.2056624 & 1.1309436 & 0.4020317 &  0.6623369 &  0.5994134 &  0.6806695 & -0.4336351\\\\\n",
       "\t3 & 3.529737 & 1.6656825 & -0.26174734 & -0.31990466 &  0.2153651 &  2.1116236 & 1.1299198 &  0.01497179 & -0.1846709 & 1.6106106 & 0.8861942 & 1.2057778 & -0.3559016 &  0.3157635 &  0.6806695 &  3.5458687\\\\\n",
       "\t4 & 5.237343 & 2.3708796 &  6.94893180 & 11.80031079 &  1.2510883 &  5.6491903 & 6.8621219 &  5.00604761 & -0.6717869 & 5.7735339 & 0.9084441 & 0.9043730 &  4.6406941 &  1.9231127 &  0.6806695 &  7.2444664\\\\\n",
       "\t6 & 2.396728 & 0.9604855 & -0.10606222 & -0.12408350 & -0.4552656 &  0.3002385 & 0.7097149 & -0.50099515 & -0.1846709 & 0.9862941 & 0.9694090 & 0.9043730 & -0.3030778 &  0.1266636 &  0.6806695 &  0.6899895\\\\\n",
       "\t7 & 1.830224 & 2.0182811 & -0.26174734 &  1.71737837 &  1.0568902 &  4.0576428 & 1.8373985 &  1.81878216 & -0.6717869 & 3.8249834 & 0.9440440 & 0.4020317 &  1.9884560 & -0.2515362 &  0.6806695 & -0.4336351\\\\\n",
       "\\end{tabular}\n"
      ],
      "text/markdown": [
       "\n",
       "A data.frame: 6 × 16\n",
       "\n",
       "| <!--/--> | num_critic_for_reviews &lt;dbl&gt; | duration &lt;dbl&gt; | director_facebook_likes &lt;dbl&gt; | actor_3_facebook_likes &lt;dbl&gt; | actor_1_facebook_likes &lt;dbl&gt; | gross &lt;dbl&gt; | num_voted_users &lt;dbl&gt; | cast_total_facebook_likes &lt;dbl&gt; | facenumber_in_poster &lt;dbl&gt; | num_user_for_reviews &lt;dbl&gt; | budget &lt;dbl&gt; | title_year &lt;dbl&gt; | actor_2_facebook_likes &lt;dbl&gt; | imdb_score &lt;dbl&gt; | aspect_ratio &lt;dbl&gt; | movie_facebook_likes &lt;dbl&gt; |\n",
       "|---|---|---|---|---|---|---|---|---|---|---|---|---|---|---|---|---|\n",
       "| 1 | 4.508980 | 2.9879271 | -0.26174734 |  0.04838772 | -0.4319618 | 10.1040151 | 5.1583530 | -0.34552775 | -0.6717869 | 6.6344079 | 0.8505943 | 0.6029682 | -0.2358878 |  1.3558130 | -0.9370201 |  1.1113488 |\n",
       "| 2 | 1.101861 | 2.5912537 | -0.07721951 |  0.12533641 |  2.0926134 |  3.6707931 | 2.4193120 |  1.93928121 | -0.6717869 | 2.2056624 | 1.1309436 | 0.4020317 |  0.6623369 |  0.5994134 |  0.6806695 | -0.4336351 |\n",
       "| 3 | 3.529737 | 1.6656825 | -0.26174734 | -0.31990466 |  0.2153651 |  2.1116236 | 1.1299198 |  0.01497179 | -0.1846709 | 1.6106106 | 0.8861942 | 1.2057778 | -0.3559016 |  0.3157635 |  0.6806695 |  3.5458687 |\n",
       "| 4 | 5.237343 | 2.3708796 |  6.94893180 | 11.80031079 |  1.2510883 |  5.6491903 | 6.8621219 |  5.00604761 | -0.6717869 | 5.7735339 | 0.9084441 | 0.9043730 |  4.6406941 |  1.9231127 |  0.6806695 |  7.2444664 |\n",
       "| 6 | 2.396728 | 0.9604855 | -0.10606222 | -0.12408350 | -0.4552656 |  0.3002385 | 0.7097149 | -0.50099515 | -0.1846709 | 0.9862941 | 0.9694090 | 0.9043730 | -0.3030778 |  0.1266636 |  0.6806695 |  0.6899895 |\n",
       "| 7 | 1.830224 | 2.0182811 | -0.26174734 |  1.71737837 |  1.0568902 |  4.0576428 | 1.8373985 |  1.81878216 | -0.6717869 | 3.8249834 | 0.9440440 | 0.4020317 |  1.9884560 | -0.2515362 |  0.6806695 | -0.4336351 |\n",
       "\n"
      ],
      "text/plain": [
       "  num_critic_for_reviews duration  director_facebook_likes\n",
       "1 4.508980               2.9879271 -0.26174734            \n",
       "2 1.101861               2.5912537 -0.07721951            \n",
       "3 3.529737               1.6656825 -0.26174734            \n",
       "4 5.237343               2.3708796  6.94893180            \n",
       "6 2.396728               0.9604855 -0.10606222            \n",
       "7 1.830224               2.0182811 -0.26174734            \n",
       "  actor_3_facebook_likes actor_1_facebook_likes gross      num_voted_users\n",
       "1  0.04838772            -0.4319618             10.1040151 5.1583530      \n",
       "2  0.12533641             2.0926134              3.6707931 2.4193120      \n",
       "3 -0.31990466             0.2153651              2.1116236 1.1299198      \n",
       "4 11.80031079             1.2510883              5.6491903 6.8621219      \n",
       "6 -0.12408350            -0.4552656              0.3002385 0.7097149      \n",
       "7  1.71737837             1.0568902              4.0576428 1.8373985      \n",
       "  cast_total_facebook_likes facenumber_in_poster num_user_for_reviews budget   \n",
       "1 -0.34552775               -0.6717869           6.6344079            0.8505943\n",
       "2  1.93928121               -0.6717869           2.2056624            1.1309436\n",
       "3  0.01497179               -0.1846709           1.6106106            0.8861942\n",
       "4  5.00604761               -0.6717869           5.7735339            0.9084441\n",
       "6 -0.50099515               -0.1846709           0.9862941            0.9694090\n",
       "7  1.81878216               -0.6717869           3.8249834            0.9440440\n",
       "  title_year actor_2_facebook_likes imdb_score aspect_ratio\n",
       "1 0.6029682  -0.2358878              1.3558130 -0.9370201  \n",
       "2 0.4020317   0.6623369              0.5994134  0.6806695  \n",
       "3 1.2057778  -0.3559016              0.3157635  0.6806695  \n",
       "4 0.9043730   4.6406941              1.9231127  0.6806695  \n",
       "6 0.9043730  -0.3030778              0.1266636  0.6806695  \n",
       "7 0.4020317   1.9884560             -0.2515362  0.6806695  \n",
       "  movie_facebook_likes\n",
       "1  1.1113488          \n",
       "2 -0.4336351          \n",
       "3  3.5458687          \n",
       "4  7.2444664          \n",
       "6  0.6899895          \n",
       "7 -0.4336351          "
      ]
     },
     "metadata": {},
     "output_type": "display_data"
    }
   ],
   "source": [
    "standard_vars <- as.data.frame(scale(less_data))\n",
    "dim(standard_vars)\n",
    "head(standard_vars)"
   ]
  },
  {
   "cell_type": "markdown",
   "metadata": {},
   "source": [
    "**Question 3: ** Run prcomp() function on standard_vars created above and assign the result to movies_data_pca "
   ]
  },
  {
   "cell_type": "code",
   "execution_count": 5,
   "metadata": {},
   "outputs": [],
   "source": [
    "# Compute the Principal Components. Run prcomp() function on standardardized variables created above.\n",
    "movies_data_pca <- prcomp(standard_vars)"
   ]
  },
  {
   "cell_type": "code",
   "execution_count": 6,
   "metadata": {},
   "outputs": [],
   "source": [
    "help(prcomp)"
   ]
  },
  {
   "cell_type": "code",
   "execution_count": 7,
   "metadata": {
    "scrolled": true
   },
   "outputs": [
    {
     "data": {
      "text/plain": [
       "Standard deviations (1, .., p=16):\n",
       " [1] 2.10850769 1.46163889 1.22342246 1.02520584 1.00690257 0.99789629\n",
       " [7] 0.93972385 0.93054852 0.88379500 0.76886638 0.69504698 0.66573233\n",
       "[13] 0.64475854 0.49546932 0.38708215 0.04208653\n",
       "\n",
       "Rotation (n x k) = (16 x 16):\n",
       "                                   PC1          PC2          PC3         PC4\n",
       "num_critic_for_reviews    -0.362354414  0.155231715 -0.327054448  0.06131562\n",
       "duration                  -0.206546689  0.177456956  0.272900550 -0.48079133\n",
       "director_facebook_likes   -0.158008874  0.094837871  0.208405953 -0.12694943\n",
       "actor_3_facebook_likes    -0.252236775 -0.277675290  0.006543939  0.13872948\n",
       "actor_1_facebook_likes    -0.222852363 -0.463064366  0.164286814 -0.07879050\n",
       "gross                     -0.317777537  0.135716645  0.017333498  0.24850597\n",
       "num_voted_users           -0.385209501  0.240217226  0.093721899  0.10266444\n",
       "cast_total_facebook_likes -0.284546876 -0.505361278  0.148157539 -0.02354407\n",
       "facenumber_in_poster      -0.004622177 -0.161083418 -0.088785239 -0.34542028\n",
       "num_user_for_reviews      -0.340354806  0.257060225  0.074306632  0.11010314\n",
       "budget                    -0.057872769  0.037668306 -0.067695838  0.06619465\n",
       "title_year                -0.102572177 -0.114370619 -0.667981350 -0.02416881\n",
       "actor_2_facebook_likes    -0.263036546 -0.365828672  0.062501350  0.06711838\n",
       "imdb_score                -0.222104153  0.238787377  0.272306381 -0.19992725\n",
       "aspect_ratio              -0.092042867  0.007484263 -0.290456409 -0.68243550\n",
       "movie_facebook_likes      -0.317372162  0.122225179 -0.300751628  0.06374058\n",
       "                                  PC5          PC6         PC7         PC8\n",
       "num_critic_for_reviews     0.03790483  0.081510086 -0.05319986  0.16475096\n",
       "duration                  -0.06119480 -0.157182288 -0.09026840 -0.06593240\n",
       "director_facebook_likes    0.12008483  0.160520855  0.84322352  0.25249877\n",
       "actor_3_facebook_likes    -0.28485919 -0.135368922  0.29525170 -0.31375067\n",
       "actor_1_facebook_likes     0.28789749  0.113896363 -0.26048233  0.22988297\n",
       "gross                     -0.10960705 -0.126008934 -0.10533131 -0.31522940\n",
       "num_voted_users           -0.06402271  0.037686620 -0.06402336 -0.03040115\n",
       "cast_total_facebook_likes  0.16453434  0.054088871 -0.12729550  0.08631673\n",
       "facenumber_in_poster      -0.75930494 -0.207487587 -0.06070700  0.31096224\n",
       "num_user_for_reviews      -0.01713921 -0.005134548 -0.11692919 -0.18589324\n",
       "budget                     0.32198679 -0.900840516  0.07674543  0.23044408\n",
       "title_year                 0.08932524  0.090689759  0.05741010  0.15412852\n",
       "actor_2_facebook_likes    -0.10247841 -0.065725926  0.17260889 -0.19856060\n",
       "imdb_score                 0.04989134  0.102415005 -0.18340740  0.34213972\n",
       "aspect_ratio               0.25516575 -0.006484915  0.03768037 -0.46480983\n",
       "movie_facebook_likes      -0.08118748  0.117026108  0.01332640  0.25510076\n",
       "                                   PC9        PC10        PC11         PC12\n",
       "num_critic_for_reviews    -0.071826916  0.02975980  0.03654533  0.116389036\n",
       "duration                  -0.249215267  0.70348987 -0.10161889 -0.068313052\n",
       "director_facebook_likes    0.273098883  0.03440345 -0.01281196 -0.093814993\n",
       "actor_3_facebook_likes    -0.343233026 -0.07694933  0.05637323 -0.045458653\n",
       "actor_1_facebook_likes     0.261220589  0.07591730  0.10322515 -0.040965335\n",
       "gross                      0.296163637  0.02403127  0.09271010 -0.715875743\n",
       "num_voted_users            0.202531824 -0.16375738 -0.06083356  0.143676986\n",
       "cast_total_facebook_likes  0.093370921  0.03054197  0.04047403 -0.004679281\n",
       "facenumber_in_poster       0.320901140 -0.13391236 -0.01056653  0.024625935\n",
       "num_user_for_reviews       0.303658741  0.02725963 -0.28573628  0.511960976\n",
       "budget                     0.009317596 -0.08476297  0.02930096  0.050465165\n",
       "title_year                -0.011778219  0.18316802 -0.56125819 -0.222317944\n",
       "actor_2_facebook_likes    -0.309856863 -0.10728073 -0.22857214  0.196303089\n",
       "imdb_score                -0.416090447 -0.51746113 -0.24230591 -0.268416386\n",
       "aspect_ratio               0.110310534 -0.33077041  0.19069015  0.022946223\n",
       "movie_facebook_likes      -0.240690058  0.12217283  0.64456203  0.101521917\n",
       "                                  PC13         PC14         PC15          PC16\n",
       "num_critic_for_reviews     0.041215847 -0.750503288  0.331573710 -1.620255e-03\n",
       "duration                  -0.001477762  0.022426372  0.082209021  1.780926e-03\n",
       "director_facebook_likes    0.031895166 -0.049707427 -0.057452715 -6.385734e-06\n",
       "actor_3_facebook_likes    -0.640802910 -0.052765361  0.007320394  1.116294e-01\n",
       "actor_1_facebook_likes    -0.140744386 -0.008825813 -0.013753954  6.162356e-01\n",
       "gross                      0.205559844 -0.075839932 -0.150519021  1.266410e-02\n",
       "num_voted_users           -0.060286265  0.483334655  0.659253091 -1.502141e-03\n",
       "cast_total_facebook_likes -0.039677241 -0.004442355 -0.013455119 -7.578919e-01\n",
       "facenumber_in_poster       0.042603284 -0.051492340 -0.027567544  4.653548e-04\n",
       "num_user_for_reviews      -0.136650987 -0.049412149 -0.542280959 -9.771541e-04\n",
       "budget                    -0.009101403  0.035774920 -0.006652893 -3.427913e-04\n",
       "title_year                -0.102190097  0.271070874 -0.065661930  9.740497e-04\n",
       "actor_2_facebook_likes     0.686442183  0.042682171 -0.001756434  1.822079e-01\n",
       "imdb_score                -0.072547718 -0.001866957 -0.197252411 -4.566789e-03\n",
       "aspect_ratio               0.009985482  0.009206890 -0.010860507 -4.292282e-04\n",
       "movie_facebook_likes       0.108632017  0.331304758 -0.289985202  1.010065e-03"
      ]
     },
     "metadata": {},
     "output_type": "display_data"
    }
   ],
   "source": [
    "movies_data_pca"
   ]
  },
  {
   "cell_type": "markdown",
   "metadata": {},
   "source": [
    "**If you go to the help page for `prcomp` you will find in the details section,**\n",
    "\n",
    "`The calculation is done by a singular value decomposition of the (centered and scaled) data matrix, not by using eigen on the covariance matrix. This is generally the preferred method for numerical accuracy.`\n",
    "\n",
    "For `princomp()` you will see,\n",
    "\n",
    "`The calculation is done using eigen on the correlation or covariance matrix, as determined by cor. This is done for compatibility with the S-PLUS result. A preferred method of calculation is to use svd on x, as is done in prcomp.\"`"
   ]
  },
  {
   "cell_type": "code",
   "execution_count": 8,
   "metadata": {},
   "outputs": [
    {
     "data": {
      "text/plain": [
       "Importance of components:\n",
       "                          PC1    PC2     PC3     PC4     PC5     PC6     PC7\n",
       "Standard deviation     2.1085 1.4616 1.22342 1.02521 1.00690 0.99790 0.93972\n",
       "Proportion of Variance 0.2779 0.1335 0.09355 0.06569 0.06337 0.06224 0.05519\n",
       "Cumulative Proportion  0.2779 0.4114 0.50493 0.57063 0.63399 0.69623 0.75142\n",
       "                           PC8     PC9    PC10    PC11   PC12    PC13    PC14\n",
       "Standard deviation     0.93055 0.88380 0.76887 0.69505 0.6657 0.64476 0.49547\n",
       "Proportion of Variance 0.05412 0.04882 0.03695 0.03019 0.0277 0.02598 0.01534\n",
       "Cumulative Proportion  0.80554 0.85436 0.89131 0.92150 0.9492 0.97518 0.99052\n",
       "                          PC15    PC16\n",
       "Standard deviation     0.38708 0.04209\n",
       "Proportion of Variance 0.00936 0.00011\n",
       "Cumulative Proportion  0.99989 1.00000"
      ]
     },
     "metadata": {},
     "output_type": "display_data"
    }
   ],
   "source": [
    "summary(movies_data_pca)"
   ]
  },
  {
   "cell_type": "code",
   "execution_count": 9,
   "metadata": {},
   "outputs": [
    {
     "data": {
      "image/png": "[encoded data removed]",
      "text/plain": [
       "Plot with title “movies_data_pca”"
      ]
     },
     "metadata": {},
     "output_type": "display_data"
    }
   ],
   "source": [
    "screeplot(movies_data_pca, type=\"lines\")"
   ]
  },
  {
   "cell_type": "markdown",
   "metadata": {},
   "source": [
    "**Question 4: **What are your observations from below plot. Write a few words below. "
   ]
  },
  {
   "cell_type": "code",
   "execution_count": 10,
   "metadata": {},
   "outputs": [
    {
     "data": {
      "image/png": "[encoded data removed]",
      "text/plain": [
       "plot without title"
      ]
     },
     "metadata": {},
     "output_type": "display_data"
    }
   ],
   "source": [
    "biplot(movies_data_pca) "
   ]
  },
  {
   "cell_type": "raw",
   "metadata": {},
   "source": [
    "#  Write your answer for question 4 here\n",
    "# --------------------------------\n",
    "Hard to see with the amount of text, but one thing I believe I can see is there is less correlation between actor's facebook \n",
    "likes and the number of user reviews and votes on a movie. \n",
    "This is somewhat surprising as you may have believed the more likes an actor has on facebook the more people see their movies, resulting in more user reviews and votes on their movies. \n",
    "\n",
    "\n"
   ]
  },
  {
   "cell_type": "markdown",
   "metadata": {},
   "source": [
    "Look at the dimensions of the PCA we ran. We are interested in the x part of movies_data_pca for the dimensions."
   ]
  },
  {
   "cell_type": "code",
   "execution_count": 11,
   "metadata": {},
   "outputs": [
    {
     "data": {
      "text/html": [
       "<ol class=list-inline>\n",
       "\t<li>3801</li>\n",
       "\t<li>16</li>\n",
       "</ol>\n"
      ],
      "text/latex": [
       "\\begin{enumerate*}\n",
       "\\item 3801\n",
       "\\item 16\n",
       "\\end{enumerate*}\n"
      ],
      "text/markdown": [
       "1. 3801\n",
       "2. 16\n",
       "\n",
       "\n"
      ],
      "text/plain": [
       "[1] 3801   16"
      ]
     },
     "metadata": {},
     "output_type": "display_data"
    }
   ],
   "source": [
    "dim(movies_data_pca$x)"
   ]
  },
  {
   "cell_type": "markdown",
   "metadata": {},
   "source": [
    "**Question 5: ** Fit a multiple regression model to predict imdb_score on less_data using the first 4 principal components created above. "
   ]
  },
  {
   "cell_type": "code",
   "execution_count": 14,
   "metadata": {},
   "outputs": [
    {
     "data": {
      "text/plain": [
       "\n",
       "Call:\n",
       "lm(formula = less_data$imdb_score ~ movies_data_pca$x[, 1] + \n",
       "    movies_data_pca$x[, 2] + movies_data_pca$x[, 3] + movies_data_pca$x[, \n",
       "    4])\n",
       "\n",
       "Residuals:\n",
       "    Min      1Q  Median      3Q     Max \n",
       "-3.6547 -0.4121  0.0727  0.5194  2.0506 \n",
       "\n",
       "Coefficients:\n",
       "                        Estimate Std. Error t value Pr(>|t|)    \n",
       "(Intercept)             6.466035   0.012208  529.66   <2e-16 ***\n",
       "movies_data_pca$x[, 1] -0.234907   0.005791  -40.57   <2e-16 ***\n",
       "movies_data_pca$x[, 2]  0.252552   0.008353   30.23   <2e-16 ***\n",
       "movies_data_pca$x[, 3]  0.288003   0.009980   28.86   <2e-16 ***\n",
       "movies_data_pca$x[, 4] -0.211451   0.011909  -17.75   <2e-16 ***\n",
       "---\n",
       "Signif. codes:  0 ‘***’ 0.001 ‘**’ 0.01 ‘*’ 0.05 ‘.’ 0.1 ‘ ’ 1\n",
       "\n",
       "Residual standard error: 0.7526 on 3796 degrees of freedom\n",
       "Multiple R-squared:  0.4941,\tAdjusted R-squared:  0.4936 \n",
       "F-statistic:   927 on 4 and 3796 DF,  p-value: < 2.2e-16\n"
      ]
     },
     "metadata": {},
     "output_type": "display_data"
    }
   ],
   "source": [
    "# movies_data_pca$x is a list that contains all the principal components. You can access components using \n",
    "# subscripts [,1], [,2], [,3], and so on\n",
    "\n",
    "fit = lm(less_data$imdb_score ~ movies_data_pca$x[,1] + movies_data_pca$x[,2] + \n",
    "         movies_data_pca$x[,3] + movies_data_pca$x[,4])\n",
    "summary(fit)"
   ]
  },
  {
   "cell_type": "markdown",
   "metadata": {
    "collapsed": true
   },
   "source": [
    "Lets try to fit a linear multiple regression model using the most correlated variables we found."
   ]
  },
  {
   "cell_type": "markdown",
   "metadata": {},
   "source": [
    "**Question 6.a: ** Fit a multiple regression model on movies_data to predict imdb_score using variables movie_facebook_likes, num_user_for_reviews, num_voted_users, num_critic_for_reviews and duration"
   ]
  },
  {
   "cell_type": "code",
   "execution_count": 16,
   "metadata": {},
   "outputs": [
    {
     "data": {
      "text/plain": [
       "\n",
       "Call:\n",
       "lm(formula = imdb_score ~ movie_facebook_likes + num_user_for_reviews + \n",
       "    num_voted_users + num_critic_for_reviews + duration, data = movies_data)\n",
       "\n",
       "Residuals:\n",
       "    Min      1Q  Median      3Q     Max \n",
       "-4.5866 -0.5218  0.0737  0.6219  2.5695 \n",
       "\n",
       "Coefficients:\n",
       "                         Estimate Std. Error t value Pr(>|t|)    \n",
       "(Intercept)             4.801e+00  7.590e-02  63.245  < 2e-16 ***\n",
       "movie_facebook_likes   -3.322e-06  9.897e-07  -3.357 0.000795 ***\n",
       "num_user_for_reviews   -5.969e-04  5.941e-05 -10.047  < 2e-16 ***\n",
       "num_voted_users         3.582e-06  1.658e-07  21.609  < 2e-16 ***\n",
       "num_critic_for_reviews  1.367e-03  1.852e-04   7.378 1.97e-13 ***\n",
       "duration                1.174e-02  6.823e-04  17.205  < 2e-16 ***\n",
       "---\n",
       "Signif. codes:  0 ‘***’ 0.001 ‘**’ 0.01 ‘*’ 0.05 ‘.’ 0.1 ‘ ’ 1\n",
       "\n",
       "Residual standard error: 0.8861 on 3795 degrees of freedom\n",
       "Multiple R-squared:  0.2989,\tAdjusted R-squared:  0.298 \n",
       "F-statistic: 323.6 on 5 and 3795 DF,  p-value: < 2.2e-16\n"
      ]
     },
     "metadata": {},
     "output_type": "display_data"
    }
   ],
   "source": [
    "fit1=lm(imdb_score ~ movie_facebook_likes + num_user_for_reviews + num_voted_users + num_critic_for_reviews + duration,\n",
    "       data=movies_data)\n",
    "summary(fit1)"
   ]
  },
  {
   "cell_type": "markdown",
   "metadata": {},
   "source": [
    "**Question 6.b: ** Compare the $R^2$ value for models fit1 and fit. Write your opinion about the models in a line."
   ]
  },
  {
   "cell_type": "raw",
   "metadata": {},
   "source": [
    "#  Write your answer for question 6.b here\n",
    "# --------------------------------\n",
    "\n",
    "R2 on the PCA model = 0.4941\n",
    "R2 on the other model is = 0.2989\n",
    "\n",
    "Seeing as the R2 on the PCA model is significantly higher than the 'traditional' model we can conclude that the PCA model is better at fitting the data for predicting imdb scores.\n",
    "\n"
   ]
  },
  {
   "cell_type": "markdown",
   "metadata": {},
   "source": [
    "**Question 7: ** Build a model to predict imdb_score using all the independent features of less_data."
   ]
  },
  {
   "cell_type": "code",
   "execution_count": 17,
   "metadata": {},
   "outputs": [
    {
     "data": {
      "text/plain": [
       "\n",
       "Call:\n",
       "lm(formula = imdb_score ~ num_critic_for_reviews + duration + \n",
       "    director_facebook_likes + actor_3_facebook_likes + actor_1_facebook_likes + \n",
       "    gross + num_voted_users + cast_total_facebook_likes + facenumber_in_poster + \n",
       "    num_user_for_reviews + budget + title_year + actor_2_facebook_likes + \n",
       "    aspect_ratio + movie_facebook_likes, data = less_data)\n",
       "\n",
       "Residuals:\n",
       "    Min      1Q  Median      3Q     Max \n",
       "-4.4269 -0.4640  0.0779  0.5824  2.4240 \n",
       "\n",
       "Coefficients:\n",
       "                            Estimate Std. Error t value Pr(>|t|)    \n",
       "(Intercept)                4.610e+01  3.355e+00  13.739  < 2e-16 ***\n",
       "num_critic_for_reviews     2.532e-03  1.964e-04  12.890  < 2e-16 ***\n",
       "duration                   1.076e-02  6.799e-04  15.819  < 2e-16 ***\n",
       "director_facebook_likes    3.183e-06  4.794e-06   0.664 0.506700    \n",
       "actor_3_facebook_likes     6.955e-05  2.141e-05   3.248 0.001171 ** \n",
       "actor_1_facebook_likes     7.063e-05  1.304e-05   5.418 6.39e-08 ***\n",
       "gross                     -1.983e-09  2.691e-10  -7.369 2.10e-13 ***\n",
       "num_voted_users            3.739e-06  1.740e-07  21.487  < 2e-16 ***\n",
       "cast_total_facebook_likes -6.960e-05  1.299e-05  -5.357 8.99e-08 ***\n",
       "facenumber_in_poster      -2.428e-02  6.848e-03  -3.546 0.000396 ***\n",
       "num_user_for_reviews      -6.240e-04  5.761e-05 -10.832  < 2e-16 ***\n",
       "budget                    -4.673e-11  6.195e-11  -0.754 0.450667    \n",
       "title_year                -2.050e-02  1.680e-03 -12.203  < 2e-16 ***\n",
       "actor_2_facebook_likes     7.340e-05  1.371e-05   5.353 9.18e-08 ***\n",
       "aspect_ratio              -7.267e-02  4.094e-02  -1.775 0.075948 .  \n",
       "movie_facebook_likes      -2.004e-06  9.590e-07  -2.090 0.036703 *  \n",
       "---\n",
       "Signif. codes:  0 ‘***’ 0.001 ‘**’ 0.01 ‘*’ 0.05 ‘.’ 0.1 ‘ ’ 1\n",
       "\n",
       "Residual standard error: 0.85 on 3785 degrees of freedom\n",
       "Multiple R-squared:  0.3567,\tAdjusted R-squared:  0.3541 \n",
       "F-statistic: 139.9 on 15 and 3785 DF,  p-value: < 2.2e-16\n"
      ]
     },
     "metadata": {},
     "output_type": "display_data"
    }
   ],
   "source": [
    "fit2=lm(imdb_score ~ num_critic_for_reviews + duration + director_facebook_likes + actor_3_facebook_likes + \n",
    "        actor_1_facebook_likes + gross + num_voted_users + cast_total_facebook_likes + facenumber_in_poster + \n",
    "        num_user_for_reviews + budget + title_year + actor_2_facebook_likes + aspect_ratio + movie_facebook_likes, \n",
    "        data=less_data)\n",
    "summary(fit2)"
   ]
  },
  {
   "cell_type": "markdown",
   "metadata": {},
   "source": [
    "The model built using first 4 principal components has high $R^2$ compared to models built using the variables in the datasets less_data and movies_data. "
   ]
  },
  {
   "cell_type": "markdown",
   "metadata": {},
   "source": [
    "**Question 8: ** Run factanal() function to generate 2 factors for less_data.  "
   ]
  },
  {
   "cell_type": "code",
   "execution_count": 18,
   "metadata": {},
   "outputs": [
    {
     "name": "stdout",
     "output_type": "stream",
     "text": [
      "\n",
      "Call:\n",
      "factanal(x = less_data, factors = 2, rotation = \"varimax\")\n",
      "\n",
      "Uniquenesses:\n",
      "   num_critic_for_reviews                  duration   director_facebook_likes \n",
      "                     0.51                      0.85                      0.91 \n",
      "   actor_3_facebook_likes    actor_1_facebook_likes                     gross \n",
      "                     0.72                      0.10                      0.55 \n",
      "          num_voted_users cast_total_facebook_likes      facenumber_in_poster \n",
      "                     0.16                      0.00                      0.99 \n",
      "     num_user_for_reviews                    budget                title_year \n",
      "                     0.33                      0.99                      0.98 \n",
      "   actor_2_facebook_likes                imdb_score              aspect_ratio \n",
      "                     0.58                      0.77                      0.98 \n",
      "     movie_facebook_likes \n",
      "                     0.65 \n",
      "\n",
      "Loadings:\n",
      "                          Factor1 Factor2\n",
      "num_critic_for_reviews     0.69          \n",
      "gross                      0.66          \n",
      "num_voted_users            0.91          \n",
      "num_user_for_reviews       0.82          \n",
      "movie_facebook_likes       0.58          \n",
      "actor_1_facebook_likes             0.95  \n",
      "cast_total_facebook_likes          0.98  \n",
      "actor_2_facebook_likes             0.61  \n",
      "duration                   0.39          \n",
      "director_facebook_likes                  \n",
      "actor_3_facebook_likes             0.45  \n",
      "facenumber_in_poster                     \n",
      "budget                                   \n",
      "title_year                               \n",
      "imdb_score                 0.47          \n",
      "aspect_ratio                             \n",
      "\n",
      "               Factor1 Factor2\n",
      "SS loadings       3.40    2.53\n",
      "Proportion Var    0.21    0.16\n",
      "Cumulative Var    0.21    0.37\n",
      "\n",
      "Test of the hypothesis that 2 factors are sufficient.\n",
      "The chi square statistic is 16499.13 on 89 degrees of freedom.\n",
      "The p-value is 0 \n"
     ]
    }
   ],
   "source": [
    "factors <- factanal(less_data, 2, rotation=\"varimax\")\n",
    "print(factors, digits=2, cutoff=0.3, sort=TRUE)"
   ]
  },
  {
   "cell_type": "markdown",
   "metadata": {},
   "source": [
    "Reference: [Factor Analysis](http://www.statpower.net/Content/312/R%20Stuff/Exploratory%20Factor%20Analysis%20with%20R.pdf)"
   ]
  },
  {
   "cell_type": "markdown",
   "metadata": {},
   "source": [
    "# SAVE YOUR NOTEBOOK"
   ]
  }
 ],
 "metadata": {
  "kernelspec": {
   "display_name": "R",
   "language": "R",
   "name": "ir"
  },
  "language_info": {
   "codemirror_mode": "r",
   "file_extension": ".r",
   "mimetype": "text/x-r-source",
   "name": "R",
   "pygments_lexer": "r",
   "version": "3.5.1"
  }
 },
 "nbformat": 4,
 "nbformat_minor": 1
}
