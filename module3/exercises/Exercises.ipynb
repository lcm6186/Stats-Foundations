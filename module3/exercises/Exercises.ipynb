{
 "cells": [
  {
   "cell_type": "markdown",
   "metadata": {},
   "source": [
    "## Module 3 Exercises\n",
    "\n",
    "We will work with auto-mpg dataset in this exercises notebook. Most of the exercises will be similar to what you have seen in lab and practice notebooks. You may have to look up for a function or a concept to solve one or two problems in the notebook. But all questions are closed book questions which do not ask beyond what you learned in the class."
   ]
  },
  {
   "cell_type": "markdown",
   "metadata": {
    "collapsed": true
   },
   "source": [
    "Load the data `/dsa/data/all_datasets/auto-mpg/auto-mpg.csv` into R and name the dataframe as `auto_data`"
   ]
  },
  {
   "cell_type": "code",
   "execution_count": 1,
   "metadata": {},
   "outputs": [
    {
     "data": {
      "text/html": [
       "<table>\n",
       "<caption>A data.frame: 6 × 9</caption>\n",
       "<thead>\n",
       "\t<tr><th scope=col>mpg</th><th scope=col>cylinders</th><th scope=col>displacement</th><th scope=col>horsepower</th><th scope=col>weight</th><th scope=col>acceleration</th><th scope=col>model.year</th><th scope=col>origin</th><th scope=col>car.name</th></tr>\n",
       "\t<tr><th scope=col>&lt;dbl&gt;</th><th scope=col>&lt;int&gt;</th><th scope=col>&lt;dbl&gt;</th><th scope=col>&lt;fct&gt;</th><th scope=col>&lt;int&gt;</th><th scope=col>&lt;dbl&gt;</th><th scope=col>&lt;int&gt;</th><th scope=col>&lt;int&gt;</th><th scope=col>&lt;fct&gt;</th></tr>\n",
       "</thead>\n",
       "<tbody>\n",
       "\t<tr><td>18</td><td>8</td><td>307</td><td>130.0</td><td>3504</td><td>12.0</td><td>70</td><td>1</td><td>chevrolet chevelle malibu</td></tr>\n",
       "\t<tr><td>15</td><td>8</td><td>350</td><td>165.0</td><td>3693</td><td>11.5</td><td>70</td><td>1</td><td>buick skylark 320        </td></tr>\n",
       "\t<tr><td>18</td><td>8</td><td>318</td><td>150.0</td><td>3436</td><td>11.0</td><td>70</td><td>1</td><td>plymouth satellite       </td></tr>\n",
       "\t<tr><td>16</td><td>8</td><td>304</td><td>150.0</td><td>3433</td><td>12.0</td><td>70</td><td>1</td><td>amc rebel sst            </td></tr>\n",
       "\t<tr><td>17</td><td>8</td><td>302</td><td>140.0</td><td>3449</td><td>10.5</td><td>70</td><td>1</td><td>ford torino              </td></tr>\n",
       "\t<tr><td>15</td><td>8</td><td>429</td><td>198.0</td><td>4341</td><td>10.0</td><td>70</td><td>1</td><td>ford galaxie 500         </td></tr>\n",
       "</tbody>\n",
       "</table>\n"
      ],
      "text/latex": [
       "A data.frame: 6 × 9\n",
       "\\begin{tabular}{r|lllllllll}\n",
       " mpg & cylinders & displacement & horsepower & weight & acceleration & model.year & origin & car.name\\\\\n",
       " <dbl> & <int> & <dbl> & <fct> & <int> & <dbl> & <int> & <int> & <fct>\\\\\n",
       "\\hline\n",
       "\t 18 & 8 & 307 & 130.0 & 3504 & 12.0 & 70 & 1 & chevrolet chevelle malibu\\\\\n",
       "\t 15 & 8 & 350 & 165.0 & 3693 & 11.5 & 70 & 1 & buick skylark 320        \\\\\n",
       "\t 18 & 8 & 318 & 150.0 & 3436 & 11.0 & 70 & 1 & plymouth satellite       \\\\\n",
       "\t 16 & 8 & 304 & 150.0 & 3433 & 12.0 & 70 & 1 & amc rebel sst            \\\\\n",
       "\t 17 & 8 & 302 & 140.0 & 3449 & 10.5 & 70 & 1 & ford torino              \\\\\n",
       "\t 15 & 8 & 429 & 198.0 & 4341 & 10.0 & 70 & 1 & ford galaxie 500         \\\\\n",
       "\\end{tabular}\n"
      ],
      "text/markdown": [
       "\n",
       "A data.frame: 6 × 9\n",
       "\n",
       "| mpg &lt;dbl&gt; | cylinders &lt;int&gt; | displacement &lt;dbl&gt; | horsepower &lt;fct&gt; | weight &lt;int&gt; | acceleration &lt;dbl&gt; | model.year &lt;int&gt; | origin &lt;int&gt; | car.name &lt;fct&gt; |\n",
       "|---|---|---|---|---|---|---|---|---|\n",
       "| 18 | 8 | 307 | 130.0 | 3504 | 12.0 | 70 | 1 | chevrolet chevelle malibu |\n",
       "| 15 | 8 | 350 | 165.0 | 3693 | 11.5 | 70 | 1 | buick skylark 320         |\n",
       "| 18 | 8 | 318 | 150.0 | 3436 | 11.0 | 70 | 1 | plymouth satellite        |\n",
       "| 16 | 8 | 304 | 150.0 | 3433 | 12.0 | 70 | 1 | amc rebel sst             |\n",
       "| 17 | 8 | 302 | 140.0 | 3449 | 10.5 | 70 | 1 | ford torino               |\n",
       "| 15 | 8 | 429 | 198.0 | 4341 | 10.0 | 70 | 1 | ford galaxie 500          |\n",
       "\n"
      ],
      "text/plain": [
       "  mpg cylinders displacement horsepower weight acceleration model.year origin\n",
       "1 18  8         307          130.0      3504   12.0         70         1     \n",
       "2 15  8         350          165.0      3693   11.5         70         1     \n",
       "3 18  8         318          150.0      3436   11.0         70         1     \n",
       "4 16  8         304          150.0      3433   12.0         70         1     \n",
       "5 17  8         302          140.0      3449   10.5         70         1     \n",
       "6 15  8         429          198.0      4341   10.0         70         1     \n",
       "  car.name                 \n",
       "1 chevrolet chevelle malibu\n",
       "2 buick skylark 320        \n",
       "3 plymouth satellite       \n",
       "4 amc rebel sst            \n",
       "5 ford torino              \n",
       "6 ford galaxie 500         "
      ]
     },
     "metadata": {},
     "output_type": "display_data"
    }
   ],
   "source": [
    "auto_data <- read.csv(\"/dsa/data/all_datasets/auto-mpg/auto-mpg.csv\", header = TRUE, sep = ',')\n",
    "head(auto_data)"
   ]
  },
  {
   "cell_type": "code",
   "execution_count": 2,
   "metadata": {},
   "outputs": [
    {
     "name": "stdout",
     "output_type": "stream",
     "text": [
      "'data.frame':\t398 obs. of  9 variables:\n",
      " $ mpg         : num  18 15 18 16 17 15 14 14 14 15 ...\n",
      " $ cylinders   : int  8 8 8 8 8 8 8 8 8 8 ...\n",
      " $ displacement: num  307 350 318 304 302 429 454 440 455 390 ...\n",
      " $ horsepower  : Factor w/ 94 levels \"?    \",\"100.0\",..: 17 35 29 29 24 42 47 46 48 40 ...\n",
      " $ weight      : int  3504 3693 3436 3433 3449 4341 4354 4312 4425 3850 ...\n",
      " $ acceleration: num  12 11.5 11 12 10.5 10 9 8.5 10 8.5 ...\n",
      " $ model.year  : int  70 70 70 70 70 70 70 70 70 70 ...\n",
      " $ origin      : int  1 1 1 1 1 1 1 1 1 1 ...\n",
      " $ car.name    : Factor w/ 305 levels \"amc ambassador brougham\",..: 50 37 232 15 162 142 55 224 242 2 ...\n"
     ]
    }
   ],
   "source": [
    "str(auto_data)"
   ]
  },
  {
   "cell_type": "markdown",
   "metadata": {},
   "source": [
    "**Question 1: ** Display first 10 rows of data for columns mpg, horsepower and car.name"
   ]
  },
  {
   "cell_type": "code",
   "execution_count": 13,
   "metadata": {},
   "outputs": [
    {
     "data": {
      "text/html": [
       "<table>\n",
       "<caption>A data.frame: 10 × 3</caption>\n",
       "<thead>\n",
       "\t<tr><th scope=col>mpg</th><th scope=col>horsepower</th><th scope=col>car.name</th></tr>\n",
       "\t<tr><th scope=col>&lt;dbl&gt;</th><th scope=col>&lt;fct&gt;</th><th scope=col>&lt;fct&gt;</th></tr>\n",
       "</thead>\n",
       "<tbody>\n",
       "\t<tr><td>18</td><td>130.0</td><td>chevrolet chevelle malibu</td></tr>\n",
       "\t<tr><td>15</td><td>165.0</td><td>buick skylark 320        </td></tr>\n",
       "\t<tr><td>18</td><td>150.0</td><td>plymouth satellite       </td></tr>\n",
       "\t<tr><td>16</td><td>150.0</td><td>amc rebel sst            </td></tr>\n",
       "\t<tr><td>17</td><td>140.0</td><td>ford torino              </td></tr>\n",
       "\t<tr><td>15</td><td>198.0</td><td>ford galaxie 500         </td></tr>\n",
       "\t<tr><td>14</td><td>220.0</td><td>chevrolet impala         </td></tr>\n",
       "\t<tr><td>14</td><td>215.0</td><td>plymouth fury iii        </td></tr>\n",
       "\t<tr><td>14</td><td>225.0</td><td>pontiac catalina         </td></tr>\n",
       "\t<tr><td>15</td><td>190.0</td><td>amc ambassador dpl       </td></tr>\n",
       "</tbody>\n",
       "</table>\n"
      ],
      "text/latex": [
       "A data.frame: 10 × 3\n",
       "\\begin{tabular}{r|lll}\n",
       " mpg & horsepower & car.name\\\\\n",
       " <dbl> & <fct> & <fct>\\\\\n",
       "\\hline\n",
       "\t 18 & 130.0 & chevrolet chevelle malibu\\\\\n",
       "\t 15 & 165.0 & buick skylark 320        \\\\\n",
       "\t 18 & 150.0 & plymouth satellite       \\\\\n",
       "\t 16 & 150.0 & amc rebel sst            \\\\\n",
       "\t 17 & 140.0 & ford torino              \\\\\n",
       "\t 15 & 198.0 & ford galaxie 500         \\\\\n",
       "\t 14 & 220.0 & chevrolet impala         \\\\\n",
       "\t 14 & 215.0 & plymouth fury iii        \\\\\n",
       "\t 14 & 225.0 & pontiac catalina         \\\\\n",
       "\t 15 & 190.0 & amc ambassador dpl       \\\\\n",
       "\\end{tabular}\n"
      ],
      "text/markdown": [
       "\n",
       "A data.frame: 10 × 3\n",
       "\n",
       "| mpg &lt;dbl&gt; | horsepower &lt;fct&gt; | car.name &lt;fct&gt; |\n",
       "|---|---|---|\n",
       "| 18 | 130.0 | chevrolet chevelle malibu |\n",
       "| 15 | 165.0 | buick skylark 320         |\n",
       "| 18 | 150.0 | plymouth satellite        |\n",
       "| 16 | 150.0 | amc rebel sst             |\n",
       "| 17 | 140.0 | ford torino               |\n",
       "| 15 | 198.0 | ford galaxie 500          |\n",
       "| 14 | 220.0 | chevrolet impala          |\n",
       "| 14 | 215.0 | plymouth fury iii         |\n",
       "| 14 | 225.0 | pontiac catalina          |\n",
       "| 15 | 190.0 | amc ambassador dpl        |\n",
       "\n"
      ],
      "text/plain": [
       "   mpg horsepower car.name                 \n",
       "1  18  130.0      chevrolet chevelle malibu\n",
       "2  15  165.0      buick skylark 320        \n",
       "3  18  150.0      plymouth satellite       \n",
       "4  16  150.0      amc rebel sst            \n",
       "5  17  140.0      ford torino              \n",
       "6  15  198.0      ford galaxie 500         \n",
       "7  14  220.0      chevrolet impala         \n",
       "8  14  215.0      plymouth fury iii        \n",
       "9  14  225.0      pontiac catalina         \n",
       "10 15  190.0      amc ambassador dpl       "
      ]
     },
     "metadata": {},
     "output_type": "display_data"
    }
   ],
   "source": [
    "#Code for question 1 goes here\n",
    "#---------------------------------\n",
    "\n",
    "auto_data[1:10, c('mpg', 'horsepower', 'car.name')]\n"
   ]
  },
  {
   "cell_type": "markdown",
   "metadata": {},
   "source": [
    "**Question 2: ** Use factor() function to convert the labels of origin column in auto_data from (1,2,3) to (america,europe and asia)"
   ]
  },
  {
   "cell_type": "code",
   "execution_count": 14,
   "metadata": {},
   "outputs": [],
   "source": [
    "#Code for question 2 goes here\n",
    "#---------------------------------\n",
    "\n",
    "auto_data$origin <- factor(auto_data$origin, levels = c(1,2,3), labels = c(\"america\",\"europe\",\"asia\")) \n",
    "\n"
   ]
  },
  {
   "cell_type": "code",
   "execution_count": 15,
   "metadata": {},
   "outputs": [
    {
     "data": {
      "text/html": [
       "<table>\n",
       "<caption>A data.frame: 6 × 9</caption>\n",
       "<thead>\n",
       "\t<tr><th scope=col>mpg</th><th scope=col>cylinders</th><th scope=col>displacement</th><th scope=col>horsepower</th><th scope=col>weight</th><th scope=col>acceleration</th><th scope=col>model.year</th><th scope=col>origin</th><th scope=col>car.name</th></tr>\n",
       "\t<tr><th scope=col>&lt;dbl&gt;</th><th scope=col>&lt;int&gt;</th><th scope=col>&lt;dbl&gt;</th><th scope=col>&lt;fct&gt;</th><th scope=col>&lt;int&gt;</th><th scope=col>&lt;dbl&gt;</th><th scope=col>&lt;int&gt;</th><th scope=col>&lt;fct&gt;</th><th scope=col>&lt;fct&gt;</th></tr>\n",
       "</thead>\n",
       "<tbody>\n",
       "\t<tr><td>18</td><td>8</td><td>307</td><td>130.0</td><td>3504</td><td>12.0</td><td>70</td><td>america</td><td>chevrolet chevelle malibu</td></tr>\n",
       "\t<tr><td>15</td><td>8</td><td>350</td><td>165.0</td><td>3693</td><td>11.5</td><td>70</td><td>america</td><td>buick skylark 320        </td></tr>\n",
       "\t<tr><td>18</td><td>8</td><td>318</td><td>150.0</td><td>3436</td><td>11.0</td><td>70</td><td>america</td><td>plymouth satellite       </td></tr>\n",
       "\t<tr><td>16</td><td>8</td><td>304</td><td>150.0</td><td>3433</td><td>12.0</td><td>70</td><td>america</td><td>amc rebel sst            </td></tr>\n",
       "\t<tr><td>17</td><td>8</td><td>302</td><td>140.0</td><td>3449</td><td>10.5</td><td>70</td><td>america</td><td>ford torino              </td></tr>\n",
       "\t<tr><td>15</td><td>8</td><td>429</td><td>198.0</td><td>4341</td><td>10.0</td><td>70</td><td>america</td><td>ford galaxie 500         </td></tr>\n",
       "</tbody>\n",
       "</table>\n"
      ],
      "text/latex": [
       "A data.frame: 6 × 9\n",
       "\\begin{tabular}{r|lllllllll}\n",
       " mpg & cylinders & displacement & horsepower & weight & acceleration & model.year & origin & car.name\\\\\n",
       " <dbl> & <int> & <dbl> & <fct> & <int> & <dbl> & <int> & <fct> & <fct>\\\\\n",
       "\\hline\n",
       "\t 18 & 8 & 307 & 130.0 & 3504 & 12.0 & 70 & america & chevrolet chevelle malibu\\\\\n",
       "\t 15 & 8 & 350 & 165.0 & 3693 & 11.5 & 70 & america & buick skylark 320        \\\\\n",
       "\t 18 & 8 & 318 & 150.0 & 3436 & 11.0 & 70 & america & plymouth satellite       \\\\\n",
       "\t 16 & 8 & 304 & 150.0 & 3433 & 12.0 & 70 & america & amc rebel sst            \\\\\n",
       "\t 17 & 8 & 302 & 140.0 & 3449 & 10.5 & 70 & america & ford torino              \\\\\n",
       "\t 15 & 8 & 429 & 198.0 & 4341 & 10.0 & 70 & america & ford galaxie 500         \\\\\n",
       "\\end{tabular}\n"
      ],
      "text/markdown": [
       "\n",
       "A data.frame: 6 × 9\n",
       "\n",
       "| mpg &lt;dbl&gt; | cylinders &lt;int&gt; | displacement &lt;dbl&gt; | horsepower &lt;fct&gt; | weight &lt;int&gt; | acceleration &lt;dbl&gt; | model.year &lt;int&gt; | origin &lt;fct&gt; | car.name &lt;fct&gt; |\n",
       "|---|---|---|---|---|---|---|---|---|\n",
       "| 18 | 8 | 307 | 130.0 | 3504 | 12.0 | 70 | america | chevrolet chevelle malibu |\n",
       "| 15 | 8 | 350 | 165.0 | 3693 | 11.5 | 70 | america | buick skylark 320         |\n",
       "| 18 | 8 | 318 | 150.0 | 3436 | 11.0 | 70 | america | plymouth satellite        |\n",
       "| 16 | 8 | 304 | 150.0 | 3433 | 12.0 | 70 | america | amc rebel sst             |\n",
       "| 17 | 8 | 302 | 140.0 | 3449 | 10.5 | 70 | america | ford torino               |\n",
       "| 15 | 8 | 429 | 198.0 | 4341 | 10.0 | 70 | america | ford galaxie 500          |\n",
       "\n"
      ],
      "text/plain": [
       "  mpg cylinders displacement horsepower weight acceleration model.year origin \n",
       "1 18  8         307          130.0      3504   12.0         70         america\n",
       "2 15  8         350          165.0      3693   11.5         70         america\n",
       "3 18  8         318          150.0      3436   11.0         70         america\n",
       "4 16  8         304          150.0      3433   12.0         70         america\n",
       "5 17  8         302          140.0      3449   10.5         70         america\n",
       "6 15  8         429          198.0      4341   10.0         70         america\n",
       "  car.name                 \n",
       "1 chevrolet chevelle malibu\n",
       "2 buick skylark 320        \n",
       "3 plymouth satellite       \n",
       "4 amc rebel sst            \n",
       "5 ford torino              \n",
       "6 ford galaxie 500         "
      ]
     },
     "metadata": {},
     "output_type": "display_data"
    }
   ],
   "source": [
    "head(auto_data)"
   ]
  },
  {
   "cell_type": "markdown",
   "metadata": {},
   "source": [
    "**Question 3: ** Create a subset called mpg_data of auto_data to include rows which have mpg >= 12 and <= 15. Select columns cylinders, weight, acceleration, car.name to include in the subset. "
   ]
  },
  {
   "cell_type": "code",
   "execution_count": 19,
   "metadata": {},
   "outputs": [],
   "source": [
    "#Code for question 3 goes here\n",
    "#---------------------------------\n",
    "\n",
    "mpg_data <- subset(auto_data, auto_data$mpg >=12 | auto_data$mpg <= 15, select = c(\"cylinders\", \"weight\", \n",
    "                                                                                 \"acceleration\", \"car.name\"))\n",
    "\n",
    "\n"
   ]
  },
  {
   "cell_type": "code",
   "execution_count": 20,
   "metadata": {},
   "outputs": [
    {
     "data": {
      "text/html": [
       "<table>\n",
       "<caption>A data.frame: 6 × 4</caption>\n",
       "<thead>\n",
       "\t<tr><th scope=col>cylinders</th><th scope=col>weight</th><th scope=col>acceleration</th><th scope=col>car.name</th></tr>\n",
       "\t<tr><th scope=col>&lt;int&gt;</th><th scope=col>&lt;int&gt;</th><th scope=col>&lt;dbl&gt;</th><th scope=col>&lt;fct&gt;</th></tr>\n",
       "</thead>\n",
       "<tbody>\n",
       "\t<tr><td>8</td><td>3504</td><td>12.0</td><td>chevrolet chevelle malibu</td></tr>\n",
       "\t<tr><td>8</td><td>3693</td><td>11.5</td><td>buick skylark 320        </td></tr>\n",
       "\t<tr><td>8</td><td>3436</td><td>11.0</td><td>plymouth satellite       </td></tr>\n",
       "\t<tr><td>8</td><td>3433</td><td>12.0</td><td>amc rebel sst            </td></tr>\n",
       "\t<tr><td>8</td><td>3449</td><td>10.5</td><td>ford torino              </td></tr>\n",
       "\t<tr><td>8</td><td>4341</td><td>10.0</td><td>ford galaxie 500         </td></tr>\n",
       "</tbody>\n",
       "</table>\n"
      ],
      "text/latex": [
       "A data.frame: 6 × 4\n",
       "\\begin{tabular}{r|llll}\n",
       " cylinders & weight & acceleration & car.name\\\\\n",
       " <int> & <int> & <dbl> & <fct>\\\\\n",
       "\\hline\n",
       "\t 8 & 3504 & 12.0 & chevrolet chevelle malibu\\\\\n",
       "\t 8 & 3693 & 11.5 & buick skylark 320        \\\\\n",
       "\t 8 & 3436 & 11.0 & plymouth satellite       \\\\\n",
       "\t 8 & 3433 & 12.0 & amc rebel sst            \\\\\n",
       "\t 8 & 3449 & 10.5 & ford torino              \\\\\n",
       "\t 8 & 4341 & 10.0 & ford galaxie 500         \\\\\n",
       "\\end{tabular}\n"
      ],
      "text/markdown": [
       "\n",
       "A data.frame: 6 × 4\n",
       "\n",
       "| cylinders &lt;int&gt; | weight &lt;int&gt; | acceleration &lt;dbl&gt; | car.name &lt;fct&gt; |\n",
       "|---|---|---|---|\n",
       "| 8 | 3504 | 12.0 | chevrolet chevelle malibu |\n",
       "| 8 | 3693 | 11.5 | buick skylark 320         |\n",
       "| 8 | 3436 | 11.0 | plymouth satellite        |\n",
       "| 8 | 3433 | 12.0 | amc rebel sst             |\n",
       "| 8 | 3449 | 10.5 | ford torino               |\n",
       "| 8 | 4341 | 10.0 | ford galaxie 500          |\n",
       "\n"
      ],
      "text/plain": [
       "  cylinders weight acceleration car.name                 \n",
       "1 8         3504   12.0         chevrolet chevelle malibu\n",
       "2 8         3693   11.5         buick skylark 320        \n",
       "3 8         3436   11.0         plymouth satellite       \n",
       "4 8         3433   12.0         amc rebel sst            \n",
       "5 8         3449   10.5         ford torino              \n",
       "6 8         4341   10.0         ford galaxie 500         "
      ]
     },
     "metadata": {},
     "output_type": "display_data"
    }
   ],
   "source": [
    "head(mpg_data)"
   ]
  },
  {
   "cell_type": "markdown",
   "metadata": {},
   "source": [
    "**Question 4: ** Create a two-way table called \"cars_by_origin\" for origin and cylinders columns of auto_data. Add rows and columns using addmargins() function."
   ]
  },
  {
   "cell_type": "code",
   "execution_count": 23,
   "metadata": {},
   "outputs": [],
   "source": [
    "?addmargins"
   ]
  },
  {
   "cell_type": "code",
   "execution_count": 25,
   "metadata": {},
   "outputs": [
    {
     "data": {
      "text/html": [
       "<table>\n",
       "<caption>A table: 4 × 6 of type dbl</caption>\n",
       "<thead>\n",
       "\t<tr><th></th><th scope=col>3</th><th scope=col>4</th><th scope=col>5</th><th scope=col>6</th><th scope=col>8</th><th scope=col>Sum</th></tr>\n",
       "</thead>\n",
       "<tbody>\n",
       "\t<tr><th scope=row>america</th><td>0</td><td> 72</td><td>0</td><td>74</td><td>103</td><td>249</td></tr>\n",
       "\t<tr><th scope=row>europe</th><td>0</td><td> 63</td><td>3</td><td> 4</td><td>  0</td><td> 70</td></tr>\n",
       "\t<tr><th scope=row>asia</th><td>4</td><td> 69</td><td>0</td><td> 6</td><td>  0</td><td> 79</td></tr>\n",
       "\t<tr><th scope=row>Sum</th><td>4</td><td>204</td><td>3</td><td>84</td><td>103</td><td>398</td></tr>\n",
       "</tbody>\n",
       "</table>\n"
      ],
      "text/latex": [
       "A table: 4 × 6 of type dbl\n",
       "\\begin{tabular}{r|llllll}\n",
       "  & 3 & 4 & 5 & 6 & 8 & Sum\\\\\n",
       "\\hline\n",
       "\tamerica & 0 &  72 & 0 & 74 & 103 & 249\\\\\n",
       "\teurope & 0 &  63 & 3 &  4 &   0 &  70\\\\\n",
       "\tasia & 4 &  69 & 0 &  6 &   0 &  79\\\\\n",
       "\tSum & 4 & 204 & 3 & 84 & 103 & 398\\\\\n",
       "\\end{tabular}\n"
      ],
      "text/markdown": [
       "\n",
       "A table: 4 × 6 of type dbl\n",
       "\n",
       "| <!--/--> | 3 | 4 | 5 | 6 | 8 | Sum |\n",
       "|---|---|---|---|---|---|---|\n",
       "| america | 0 |  72 | 0 | 74 | 103 | 249 |\n",
       "| europe | 0 |  63 | 3 |  4 |   0 |  70 |\n",
       "| asia | 4 |  69 | 0 |  6 |   0 |  79 |\n",
       "| Sum | 4 | 204 | 3 | 84 | 103 | 398 |\n",
       "\n"
      ],
      "text/plain": [
       "         \n",
       "          3 4   5 6  8   Sum\n",
       "  america 0  72 0 74 103 249\n",
       "  europe  0  63 3  4   0  70\n",
       "  asia    4  69 0  6   0  79\n",
       "  Sum     4 204 3 84 103 398"
      ]
     },
     "metadata": {},
     "output_type": "display_data"
    }
   ],
   "source": [
    "#Code for question 4 goes here\n",
    "#---------------------------------\n",
    "\n",
    "\n",
    "# Two-way table\n",
    "cars_by_origin <- table(auto_data$origin, auto_data$cylinders)\n",
    "\n",
    "# Adding row/col margins\n",
    "\n",
    "addmargins(cars_by_origin)\n"
   ]
  },
  {
   "cell_type": "markdown",
   "metadata": {},
   "source": [
    "**Question 5** Perform chi-squared test for origin and cylinders using the two way table \"cars_by_origin\" we created above. "
   ]
  },
  {
   "cell_type": "code",
   "execution_count": 26,
   "metadata": {},
   "outputs": [
    {
     "name": "stderr",
     "output_type": "stream",
     "text": [
      "Warning message in chisq.test(cars_by_origin):\n",
      "“Chi-squared approximation may be incorrect”"
     ]
    },
    {
     "data": {
      "text/plain": [
       "\n",
       "\tPearson's Chi-squared test\n",
       "\n",
       "data:  cars_by_origin\n",
       "X-squared = 180.1, df = 8, p-value < 2.2e-16\n"
      ]
     },
     "metadata": {},
     "output_type": "display_data"
    }
   ],
   "source": [
    "#Code for question 5 goes here\n",
    "#---------------------------------\n",
    "\n",
    "chisq.test(cars_by_origin)\n"
   ]
  },
  {
   "cell_type": "markdown",
   "metadata": {},
   "source": [
    "**Question 6: ** What conclusions can you draw from the chi-squared test?"
   ]
  },
  {
   "cell_type": "raw",
   "metadata": {},
   "source": [
    "# Write your answer below this comment\n",
    "# ------------------------------------\n",
    "\n",
    "\n",
    "Since the p-value in the chi-squared test is extremely small, this leads us to believe that the two variables, cylinders and origin, are dependent. \n",
    "\n"
   ]
  },
  {
   "cell_type": "markdown",
   "metadata": {},
   "source": [
    "**Question 7: ** Use prop.table function on two way table \"cars_by_origin\" to find column wise proportion of cars in percentages. "
   ]
  },
  {
   "cell_type": "code",
   "execution_count": 28,
   "metadata": {},
   "outputs": [
    {
     "data": {
      "text/plain": [
       "         \n",
       "               3      4      5      6      8\n",
       "  america 0.0000 0.1809 0.0000 0.1859 0.2588\n",
       "  europe  0.0000 0.1583 0.0075 0.0101 0.0000\n",
       "  asia    0.0101 0.1734 0.0000 0.0151 0.0000"
      ]
     },
     "metadata": {},
     "output_type": "display_data"
    }
   ],
   "source": [
    "#Code for question 7 goes here\n",
    "#---------------------------------\n",
    "\n",
    "#prop.table(cars_by_origin)\n",
    "round(prop.table(cars_by_origin), 4)\n",
    "\n"
   ]
  },
  {
   "cell_type": "markdown",
   "metadata": {},
   "source": [
    "**Question 8.a: ** Create a subset from auto_data which includes columns of non factor type. Assign the result to a variable called \"less_data\""
   ]
  },
  {
   "cell_type": "code",
   "execution_count": 29,
   "metadata": {},
   "outputs": [
    {
     "data": {
      "text/html": [
       "<table>\n",
       "<caption>A data.frame: 6 × 6</caption>\n",
       "<thead>\n",
       "\t<tr><th scope=col>mpg</th><th scope=col>cylinders</th><th scope=col>displacement</th><th scope=col>weight</th><th scope=col>acceleration</th><th scope=col>model.year</th></tr>\n",
       "\t<tr><th scope=col>&lt;dbl&gt;</th><th scope=col>&lt;int&gt;</th><th scope=col>&lt;dbl&gt;</th><th scope=col>&lt;int&gt;</th><th scope=col>&lt;dbl&gt;</th><th scope=col>&lt;int&gt;</th></tr>\n",
       "</thead>\n",
       "<tbody>\n",
       "\t<tr><td>18</td><td>8</td><td>307</td><td>3504</td><td>12.0</td><td>70</td></tr>\n",
       "\t<tr><td>15</td><td>8</td><td>350</td><td>3693</td><td>11.5</td><td>70</td></tr>\n",
       "\t<tr><td>18</td><td>8</td><td>318</td><td>3436</td><td>11.0</td><td>70</td></tr>\n",
       "\t<tr><td>16</td><td>8</td><td>304</td><td>3433</td><td>12.0</td><td>70</td></tr>\n",
       "\t<tr><td>17</td><td>8</td><td>302</td><td>3449</td><td>10.5</td><td>70</td></tr>\n",
       "\t<tr><td>15</td><td>8</td><td>429</td><td>4341</td><td>10.0</td><td>70</td></tr>\n",
       "</tbody>\n",
       "</table>\n"
      ],
      "text/latex": [
       "A data.frame: 6 × 6\n",
       "\\begin{tabular}{r|llllll}\n",
       " mpg & cylinders & displacement & weight & acceleration & model.year\\\\\n",
       " <dbl> & <int> & <dbl> & <int> & <dbl> & <int>\\\\\n",
       "\\hline\n",
       "\t 18 & 8 & 307 & 3504 & 12.0 & 70\\\\\n",
       "\t 15 & 8 & 350 & 3693 & 11.5 & 70\\\\\n",
       "\t 18 & 8 & 318 & 3436 & 11.0 & 70\\\\\n",
       "\t 16 & 8 & 304 & 3433 & 12.0 & 70\\\\\n",
       "\t 17 & 8 & 302 & 3449 & 10.5 & 70\\\\\n",
       "\t 15 & 8 & 429 & 4341 & 10.0 & 70\\\\\n",
       "\\end{tabular}\n"
      ],
      "text/markdown": [
       "\n",
       "A data.frame: 6 × 6\n",
       "\n",
       "| mpg &lt;dbl&gt; | cylinders &lt;int&gt; | displacement &lt;dbl&gt; | weight &lt;int&gt; | acceleration &lt;dbl&gt; | model.year &lt;int&gt; |\n",
       "|---|---|---|---|---|---|\n",
       "| 18 | 8 | 307 | 3504 | 12.0 | 70 |\n",
       "| 15 | 8 | 350 | 3693 | 11.5 | 70 |\n",
       "| 18 | 8 | 318 | 3436 | 11.0 | 70 |\n",
       "| 16 | 8 | 304 | 3433 | 12.0 | 70 |\n",
       "| 17 | 8 | 302 | 3449 | 10.5 | 70 |\n",
       "| 15 | 8 | 429 | 4341 | 10.0 | 70 |\n",
       "\n"
      ],
      "text/plain": [
       "  mpg cylinders displacement weight acceleration model.year\n",
       "1 18  8         307          3504   12.0         70        \n",
       "2 15  8         350          3693   11.5         70        \n",
       "3 18  8         318          3436   11.0         70        \n",
       "4 16  8         304          3433   12.0         70        \n",
       "5 17  8         302          3449   10.5         70        \n",
       "6 15  8         429          4341   10.0         70        "
      ]
     },
     "metadata": {},
     "output_type": "display_data"
    }
   ],
   "source": [
    "#Code for question 8.a goes here\n",
    "#---------------------------------\n",
    "\n",
    "less_data <- auto_data[!sapply(auto_data,class) %in% c(\"factor\")]\n",
    "\n",
    "head(less_data)\n"
   ]
  },
  {
   "cell_type": "markdown",
   "metadata": {},
   "source": [
    "**Question 8.b: ** Find standard deviation of columns in less_data. Use apply() function to find standard deviation of all columns."
   ]
  },
  {
   "cell_type": "code",
   "execution_count": 37,
   "metadata": {},
   "outputs": [
    {
     "data": {
      "text/html": [
       "<dl class=dl-horizontal>\n",
       "\t<dt>mpg</dt>\n",
       "\t\t<dd>7.81598431256578</dd>\n",
       "\t<dt>cylinders</dt>\n",
       "\t\t<dd>1.70100424453321</dd>\n",
       "\t<dt>displacement</dt>\n",
       "\t\t<dd>104.269838171196</dd>\n",
       "\t<dt>weight</dt>\n",
       "\t\t<dd>846.841774197327</dd>\n",
       "\t<dt>acceleration</dt>\n",
       "\t\t<dd>2.75768892981268</dd>\n",
       "\t<dt>model.year</dt>\n",
       "\t\t<dd>3.69762664673262</dd>\n",
       "</dl>\n"
      ],
      "text/latex": [
       "\\begin{description*}\n",
       "\\item[mpg] 7.81598431256578\n",
       "\\item[cylinders] 1.70100424453321\n",
       "\\item[displacement] 104.269838171196\n",
       "\\item[weight] 846.841774197327\n",
       "\\item[acceleration] 2.75768892981268\n",
       "\\item[model.year] 3.69762664673262\n",
       "\\end{description*}\n"
      ],
      "text/markdown": [
       "mpg\n",
       ":   7.81598431256578cylinders\n",
       ":   1.70100424453321displacement\n",
       ":   104.269838171196weight\n",
       ":   846.841774197327acceleration\n",
       ":   2.75768892981268model.year\n",
       ":   3.69762664673262\n",
       "\n"
      ],
      "text/plain": [
       "         mpg    cylinders displacement       weight acceleration   model.year \n",
       "    7.815984     1.701004   104.269838   846.841774     2.757689     3.697627 "
      ]
     },
     "metadata": {},
     "output_type": "display_data"
    }
   ],
   "source": [
    "#Code for question 8.b goes here\n",
    "#---------------------------------\n",
    "\n",
    "apply(less_data, 2, sd)\n",
    "\n"
   ]
  },
  {
   "cell_type": "markdown",
   "metadata": {},
   "source": [
    "**Question 9: ** What conclusions can you draw the results of questions 7, 8.a, and 8.b?"
   ]
  },
  {
   "cell_type": "raw",
   "metadata": {},
   "source": [
    "# Write your answer below this comment\n",
    "# ------------------------------------\n",
    "\n",
    "Most vehicles are 4 cylinder vehicles, and they are fairly evenly distributed across origin country. The majority of 6 and 8 cylinder vehicles are from the US.\n",
    "\n",
    "\n",
    "\n"
   ]
  },
  {
   "cell_type": "markdown",
   "metadata": {
    "collapsed": true
   },
   "source": [
    "**Question 10.a: ** Run princomp() function on less_data and assign the result to less_data_pca. Run summary() on the result."
   ]
  },
  {
   "cell_type": "code",
   "execution_count": 39,
   "metadata": {},
   "outputs": [
    {
     "data": {
      "text/plain": [
       "Importance of components:\n",
       "                            Comp.1       Comp.2       Comp.3       Comp.4\n",
       "Standard deviation     851.3762025 37.315935705 4.949109e+00 2.357588e+00\n",
       "Proportion of Variance   0.9980343  0.001917305 3.372535e-05 7.653117e-06\n",
       "Cumulative Proportion    0.9980343  0.999951616 9.999853e-01 9.999930e-01\n",
       "                             Comp.5       Comp.6\n",
       "Standard deviation     2.193819e+00 5.243460e-01\n",
       "Proportion of Variance 6.626804e-06 3.785632e-07\n",
       "Cumulative Proportion  9.999996e-01 1.000000e+00"
      ]
     },
     "metadata": {},
     "output_type": "display_data"
    }
   ],
   "source": [
    "#Code for question 10 goes here\n",
    "# ------------------------------------\n",
    "\n",
    "less_data_pca <- princomp(less_data)\n",
    "\n",
    "summary(less_data_pca)"
   ]
  },
  {
   "cell_type": "markdown",
   "metadata": {},
   "source": [
    "**Question 10.b: ** How many principal components are enough to explain 99% of variance in the data. "
   ]
  },
  {
   "cell_type": "raw",
   "metadata": {},
   "source": [
    "# Write your answer below this comment\n",
    "# ------------------------------------\n",
    "\n",
    "99% of the variance in data can be explained just using the first pca from the above.\n",
    "\n"
   ]
  },
  {
   "cell_type": "markdown",
   "metadata": {},
   "source": [
    "**Question 11:** Fit a linear regression model to predict mpg using principal component 1 generated above. name the model as model1 "
   ]
  },
  {
   "cell_type": "code",
   "execution_count": 43,
   "metadata": {},
   "outputs": [
    {
     "data": {
      "text/plain": [
       "\n",
       "Call:\n",
       "lm(formula = less_data$mpg ~ less_data_pca$scores[, 1])\n",
       "\n",
       "Residuals:\n",
       "     Min       1Q   Median       3Q      Max \n",
       "-12.0375  -2.7892  -0.3737   2.1325  16.4686 \n",
       "\n",
       "Coefficients:\n",
       "                           Estimate Std. Error t value Pr(>|t|)    \n",
       "(Intercept)               2.351e+01  2.175e-01  108.09   <2e-16 ***\n",
       "less_data_pca$scores[, 1] 7.630e-03  2.555e-04   29.86   <2e-16 ***\n",
       "---\n",
       "Signif. codes:  0 ‘***’ 0.001 ‘**’ 0.01 ‘*’ 0.05 ‘.’ 0.1 ‘ ’ 1\n",
       "\n",
       "Residual standard error: 4.34 on 396 degrees of freedom\n",
       "Multiple R-squared:  0.6925,\tAdjusted R-squared:  0.6917 \n",
       "F-statistic: 891.7 on 1 and 396 DF,  p-value: < 2.2e-16\n"
      ]
     },
     "metadata": {},
     "output_type": "display_data"
    }
   ],
   "source": [
    "#Code for question 11 goes here----\n",
    "model1 <- lm(less_data$mpg ~ less_data_pca$scores[,1])\n",
    "\n",
    "summary(model1)"
   ]
  },
  {
   "cell_type": "markdown",
   "metadata": {},
   "source": [
    "**Question 12.a:** Fit a linear regression model to predict mpg using principal components 1 and 2 generated above. Name the model as model2"
   ]
  },
  {
   "cell_type": "code",
   "execution_count": 44,
   "metadata": {},
   "outputs": [
    {
     "data": {
      "text/plain": [
       "\n",
       "Call:\n",
       "lm(formula = less_data$mpg ~ less_data_pca$scores[, 1] + less_data_pca$scores[, \n",
       "    2])\n",
       "\n",
       "Residuals:\n",
       "     Min       1Q   Median       3Q      Max \n",
       "-12.4433  -2.9596  -0.3757   2.3593  16.3297 \n",
       "\n",
       "Coefficients:\n",
       "                           Estimate Std. Error t value Pr(>|t|)    \n",
       "(Intercept)               2.351e+01  2.157e-01 108.994  < 2e-16 ***\n",
       "less_data_pca$scores[, 1] 7.630e-03  2.534e-04  30.109  < 2e-16 ***\n",
       "less_data_pca$scores[, 2] 1.595e-02  5.782e-03   2.759  0.00607 ** \n",
       "---\n",
       "Signif. codes:  0 ‘***’ 0.001 ‘**’ 0.01 ‘*’ 0.05 ‘.’ 0.1 ‘ ’ 1\n",
       "\n",
       "Residual standard error: 4.304 on 395 degrees of freedom\n",
       "Multiple R-squared:  0.6983,\tAdjusted R-squared:  0.6968 \n",
       "F-statistic: 457.1 on 2 and 395 DF,  p-value: < 2.2e-16\n"
      ]
     },
     "metadata": {},
     "output_type": "display_data"
    }
   ],
   "source": [
    "#Code for question 12 goes here----\n",
    "model2 <- lm(less_data$mpg ~ less_data_pca$scores[,1] + less_data_pca$scores[,2])\n",
    "\n",
    "summary(model2)"
   ]
  },
  {
   "cell_type": "markdown",
   "metadata": {},
   "source": [
    "**Question 12.b** Compare model1 and model2 and write few words about your observations on improvement in model accuracy $R^2$"
   ]
  },
  {
   "cell_type": "raw",
   "metadata": {},
   "source": [
    "# Write your 12.b answer below this comment\n",
    "# ------------------------------------\n",
    "\n",
    "I would have excepted these models to be reletivly similar in their accuracy since the first principal component accounted for 99% of the variability in the data. After building the two models, the Adjusted R-squared improved from 0.6917 to 0.6968, which is only marginally better. Therefore, I would say that though there was improvement with the models there would likely be very little difference in their output.\n",
    "\n",
    "\n"
   ]
  },
  {
   "cell_type": "markdown",
   "metadata": {},
   "source": [
    "# SAVE YOUR NOTEBOOK!"
   ]
  }
 ],
 "metadata": {
  "kernelspec": {
   "display_name": "R",
   "language": "R",
   "name": "ir"
  },
  "language_info": {
   "codemirror_mode": "r",
   "file_extension": ".r",
   "mimetype": "text/x-r-source",
   "name": "R",
   "pygments_lexer": "r",
   "version": "3.5.1"
  }
 },
 "nbformat": 4,
 "nbformat_minor": 1
}
