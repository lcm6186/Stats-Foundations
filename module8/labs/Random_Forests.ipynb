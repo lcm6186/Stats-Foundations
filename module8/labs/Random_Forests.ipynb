{
 "cells": [
  {
   "cell_type": "markdown",
   "metadata": {},
   "source": [
    "## Random Forests\n",
    "\n",
    "Random Forest is a good choice of model when you are unsure of a good initial model for particular data set and modeling situation. \n",
    "This model, similar to techniques such as ANOVA and MANOVA, will aid in your exploration of wide data.\n",
    "This exploration will help guide your selection of features and potentially choice in more complex models you apply on a dataset. \n",
    "\n",
    "Random Forests are capable of performing both regression and classification tasks. \n",
    "It helps in dimension reduction, handles missing values, accommodates outlier values and other \n",
    "essential steps of data exploration.\n",
    "\n",
    "Before trying to get into the details of random forest, first review how how decision trees work."
   ]
  },
  {
   "cell_type": "markdown",
   "metadata": {},
   "source": [
    "**Decision trees** are a type of supervised learning algorithm mostly used in classification problems. \n",
    "It works for both categorical and continuous input and output variables. \n",
    "The main idea behind algorithm is to split the population or sample into two or more sub-populations \n",
    "based on a most significant differentiator in input variables.\n",
    "\n",
    "<img src=\"../images/decision_tree.png\">\n",
    "\n",
    "\n",
    "image source: [AnalyticsVidhya](https://www.analyticsvidhya.com/blog/2016/04/complete-tutorial-tree-based-modeling-scratch-in-python/)\n",
    "\n",
    "**Example:** \n",
    "Consider a problem of predicting whether a customer will pay his loan debt amount: either yes or no. \n",
    "The income of the customer is the deciding variable in this case. \n",
    "But the company doesn't have income details of all customers. \n",
    "Based on the insight that income drives this decision; \n",
    "a decision tree can be built to predict customer's income based on occupation, \n",
    "education level and sex and various other variables. \n",
    "Here a continuous variable is being predicted, income.\n",
    "\n",
    "\n",
    "A regular decision tree builds a single tree whether if its classification or regression using CART model(),\n",
    "but **Random Forest** algorithm builds multiple trees. \n",
    "A random forest can be built to classify an object based on attributes, \n",
    "each tree that is built gives a classification and votes for a class. \n",
    "The forest chooses the classification having the most votes (over all the trees in the forest) \n",
    "and in case of regression, \n",
    "it takes the average of outputs by different trees.\n",
    "\n",
    "We can illustrate this idea with iris dataset and compare the results. \n",
    "First, we will load the default iris dataset."
   ]
  },
  {
   "cell_type": "code",
   "execution_count": 1,
   "metadata": {},
   "outputs": [
    {
     "data": {
      "text/html": [
       "<table>\n",
       "<caption>A data.frame: 6 × 5</caption>\n",
       "<thead>\n",
       "\t<tr><th scope=col>Sepal.Length</th><th scope=col>Sepal.Width</th><th scope=col>Petal.Length</th><th scope=col>Petal.Width</th><th scope=col>Species</th></tr>\n",
       "\t<tr><th scope=col>&lt;dbl&gt;</th><th scope=col>&lt;dbl&gt;</th><th scope=col>&lt;dbl&gt;</th><th scope=col>&lt;dbl&gt;</th><th scope=col>&lt;fct&gt;</th></tr>\n",
       "</thead>\n",
       "<tbody>\n",
       "\t<tr><td>5.1</td><td>3.5</td><td>1.4</td><td>0.2</td><td>setosa</td></tr>\n",
       "\t<tr><td>4.9</td><td>3.0</td><td>1.4</td><td>0.2</td><td>setosa</td></tr>\n",
       "\t<tr><td>4.7</td><td>3.2</td><td>1.3</td><td>0.2</td><td>setosa</td></tr>\n",
       "\t<tr><td>4.6</td><td>3.1</td><td>1.5</td><td>0.2</td><td>setosa</td></tr>\n",
       "\t<tr><td>5.0</td><td>3.6</td><td>1.4</td><td>0.2</td><td>setosa</td></tr>\n",
       "\t<tr><td>5.4</td><td>3.9</td><td>1.7</td><td>0.4</td><td>setosa</td></tr>\n",
       "</tbody>\n",
       "</table>\n"
      ],
      "text/latex": [
       "A data.frame: 6 × 5\n",
       "\\begin{tabular}{r|lllll}\n",
       " Sepal.Length & Sepal.Width & Petal.Length & Petal.Width & Species\\\\\n",
       " <dbl> & <dbl> & <dbl> & <dbl> & <fct>\\\\\n",
       "\\hline\n",
       "\t 5.1 & 3.5 & 1.4 & 0.2 & setosa\\\\\n",
       "\t 4.9 & 3.0 & 1.4 & 0.2 & setosa\\\\\n",
       "\t 4.7 & 3.2 & 1.3 & 0.2 & setosa\\\\\n",
       "\t 4.6 & 3.1 & 1.5 & 0.2 & setosa\\\\\n",
       "\t 5.0 & 3.6 & 1.4 & 0.2 & setosa\\\\\n",
       "\t 5.4 & 3.9 & 1.7 & 0.4 & setosa\\\\\n",
       "\\end{tabular}\n"
      ],
      "text/markdown": [
       "\n",
       "A data.frame: 6 × 5\n",
       "\n",
       "| Sepal.Length &lt;dbl&gt; | Sepal.Width &lt;dbl&gt; | Petal.Length &lt;dbl&gt; | Petal.Width &lt;dbl&gt; | Species &lt;fct&gt; |\n",
       "|---|---|---|---|---|\n",
       "| 5.1 | 3.5 | 1.4 | 0.2 | setosa |\n",
       "| 4.9 | 3.0 | 1.4 | 0.2 | setosa |\n",
       "| 4.7 | 3.2 | 1.3 | 0.2 | setosa |\n",
       "| 4.6 | 3.1 | 1.5 | 0.2 | setosa |\n",
       "| 5.0 | 3.6 | 1.4 | 0.2 | setosa |\n",
       "| 5.4 | 3.9 | 1.7 | 0.4 | setosa |\n",
       "\n"
      ],
      "text/plain": [
       "  Sepal.Length Sepal.Width Petal.Length Petal.Width Species\n",
       "1 5.1          3.5         1.4          0.2         setosa \n",
       "2 4.9          3.0         1.4          0.2         setosa \n",
       "3 4.7          3.2         1.3          0.2         setosa \n",
       "4 4.6          3.1         1.5          0.2         setosa \n",
       "5 5.0          3.6         1.4          0.2         setosa \n",
       "6 5.4          3.9         1.7          0.4         setosa "
      ]
     },
     "metadata": {},
     "output_type": "display_data"
    }
   ],
   "source": [
    "iris_data=(data=iris)\n",
    "head(iris_data)"
   ]
  },
  {
   "cell_type": "code",
   "execution_count": 2,
   "metadata": {},
   "outputs": [
    {
     "data": {
      "image/png": "[encoded data removed]",
      "text/plain": [
       "plot without title"
      ]
     },
     "metadata": {},
     "output_type": "display_data"
    }
   ],
   "source": [
    "# Visually inspect the data on a graph\n",
    "\n",
    "library(ggplot2)\n",
    "qplot(Petal.Length,Petal.Width,colour=Species,data=iris_data)"
   ]
  },
  {
   "cell_type": "code",
   "execution_count": 3,
   "metadata": {},
   "outputs": [
    {
     "name": "stderr",
     "output_type": "stream",
     "text": [
      "Loading required package: lattice\n"
     ]
    }
   ],
   "source": [
    "# Install below packages for building a CART model.\n",
    "library(rpart)\n",
    "library(caret)"
   ]
  },
  {
   "cell_type": "markdown",
   "metadata": {},
   "source": [
    "**Reference: ** \n",
    "\n",
    "- [rpart](https://cran.r-project.org/web/packages/rpart/vignettes/longintro.pdf)\n",
    "- [caret](https://cran.r-project.org/web/packages/caret/caret.pdf)\n",
    "- [Tree based models](http://www.statmethods.net/advstats/cart.html)"
   ]
  },
  {
   "cell_type": "markdown",
   "metadata": {},
   "source": [
    "Divide the population in to training and testing sets. \n",
    "Compare the predictive power of decision tree and random forest on testing set of data."
   ]
  },
  {
   "cell_type": "code",
   "execution_count": 23,
   "metadata": {},
   "outputs": [
    {
     "data": {
      "text/html": [
       "105"
      ],
      "text/latex": [
       "105"
      ],
      "text/markdown": [
       "105"
      ],
      "text/plain": [
       "[1] 105"
      ]
     },
     "metadata": {},
     "output_type": "display_data"
    },
    {
     "data": {
      "text/html": [
       "45"
      ],
      "text/latex": [
       "45"
      ],
      "text/markdown": [
       "45"
      ],
      "text/plain": [
       "[1] 45"
      ]
     },
     "metadata": {},
     "output_type": "display_data"
    }
   ],
   "source": [
    "# Create a vector called flag such that 70% of the data is put into training set and rest in to testing set. \n",
    "# flag will have row numbers corresponding to observations that will be put into training set and the rows remaining in iris_data\n",
    "# will be put into testing set.\n",
    "flag <- createDataPartition(y=iris_data$Species,p=0.7,list=FALSE)\n",
    "\n",
    "# training will have rows from iris_data for the row numbers present in flag vector.\n",
    "training <- iris_data[flag,]\n",
    "nrow(training)\n",
    "\n",
    "# testing will have rows from iris_data which are not present in flag vector.\n",
    "testing <- iris_data[-flag,]\n",
    "nrow(testing)"
   ]
  },
  {
   "cell_type": "markdown",
   "metadata": {},
   "source": [
    "So we have 105 observations in training set and 45 in testing set."
   ]
  },
  {
   "cell_type": "markdown",
   "metadata": {},
   "source": [
    "Build a CART model. \n",
    "\"caret\" and \"rpart\" packages will be used to build the model.\n",
    "To create a more graphically appealing graph in R, \n",
    "a package called “rattle” is used to make the decision tree. \n",
    "\"Rattle\" builds more fancy and clean trees which are easy to interpret."
   ]
  },
  {
   "cell_type": "code",
   "execution_count": 24,
   "metadata": {},
   "outputs": [],
   "source": [
    "# install.packages(\"rpart.plot\",repo=\"http://cran.mtu.edu/\")\n",
    "\n",
    "fit <- train(Species~.,method=\"rpart\",data=training)\n",
    "\n",
    "# Code for generating decision tree plot\n",
    "# rpart_fit <- rpart(Species~.,method=\"class\",data=training) \n",
    "# library(rpart.plot)\n",
    "# rpart.plot(rpart_fit)"
   ]
  },
  {
   "cell_type": "markdown",
   "metadata": {},
   "source": [
    "Now we can test the predictive power of the CART model that is just built. \n",
    "Check for the number of misclassifications in the tree as the decision criteria."
   ]
  },
  {
   "cell_type": "code",
   "execution_count": 25,
   "metadata": {},
   "outputs": [
    {
     "data": {
      "text/plain": [
       "            \n",
       "train.pred   setosa versicolor virginica\n",
       "  setosa         35          0         0\n",
       "  versicolor      0         34         5\n",
       "  virginica       0          1        30"
      ]
     },
     "metadata": {},
     "output_type": "display_data"
    }
   ],
   "source": [
    "train.pred<-predict(fit,newdata=training)\n",
    "table(train.pred,training$Species)"
   ]
  },
  {
   "cell_type": "code",
   "execution_count": 26,
   "metadata": {},
   "outputs": [
    {
     "data": {
      "text/html": [
       "0.0380952380952381"
      ],
      "text/latex": [
       "0.0380952380952381"
      ],
      "text/markdown": [
       "0.0380952380952381"
      ],
      "text/plain": [
       "[1] 0.03809524"
      ]
     },
     "metadata": {},
     "output_type": "display_data"
    }
   ],
   "source": [
    "# Misclassification rate = 4/105\n",
    "4/105"
   ]
  },
  {
   "cell_type": "markdown",
   "metadata": {
    "collapsed": true
   },
   "source": [
    "There are 4 misclassifications out of 105 observations. \n",
    "The misclassification rate signifies its predictive power. \n",
    "Once the model is built, it should be validated on a test set to see how well it performs on unknown data. \n",
    "This will help in verifying the model is not over fit to the data. \n",
    "In case the model is over fitted, validation will show a sharp decline in the predictive power."
   ]
  },
  {
   "cell_type": "code",
   "execution_count": 27,
   "metadata": {},
   "outputs": [
    {
     "data": {
      "text/plain": [
       "            \n",
       "test.pred    setosa versicolor virginica\n",
       "  setosa         15          0         0\n",
       "  versicolor      0         15         0\n",
       "  virginica       0          0        15"
      ]
     },
     "metadata": {},
     "output_type": "display_data"
    }
   ],
   "source": [
    "test.pred<-predict(fit,newdata=testing)\n",
    "table(test.pred,testing$Species)"
   ]
  },
  {
   "cell_type": "code",
   "execution_count": 28,
   "metadata": {},
   "outputs": [
    {
     "data": {
      "text/html": [
       "0.0444444444444444"
      ],
      "text/latex": [
       "0.0444444444444444"
      ],
      "text/markdown": [
       "0.0444444444444444"
      ],
      "text/plain": [
       "[1] 0.04444444"
      ]
     },
     "metadata": {},
     "output_type": "display_data"
    }
   ],
   "source": [
    "# Misclassification rate = 3/45\n",
    "2/45"
   ]
  },
  {
   "cell_type": "markdown",
   "metadata": {
    "collapsed": true
   },
   "source": [
    "The predictive power decreased in testing set as compared to training. \n",
    "This is generally true in most cases. \n",
    "The reason being, the model is trained on the training data set, and ideally generalized sufficient for the validation set."
   ]
  },
  {
   "cell_type": "markdown",
   "metadata": {
    "collapsed": true
   },
   "source": [
    "### Random Forest\n",
    "\n",
    "Now we will build a random forest model on iris_data to compare the results with CART model."
   ]
  },
  {
   "cell_type": "code",
   "execution_count": 10,
   "metadata": {},
   "outputs": [
    {
     "name": "stderr",
     "output_type": "stream",
     "text": [
      "randomForest 4.6-14\n",
      "Type rfNews() to see new features/changes/bug fixes.\n",
      "\n",
      "Attaching package: ‘randomForest’\n",
      "\n",
      "The following object is masked from ‘package:ggplot2’:\n",
      "\n",
      "    margin\n",
      "\n"
     ]
    }
   ],
   "source": [
    "library(randomForest)"
   ]
  },
  {
   "cell_type": "code",
   "execution_count": 11,
   "metadata": {},
   "outputs": [
    {
     "data": {
      "image/png": "[encoded data removed]",
      "text/plain": [
       "Plot with title “RandomForest_fit”"
      ]
     },
     "metadata": {},
     "output_type": "display_data"
    }
   ],
   "source": [
    "RandomForest_fit <- randomForest(Species~.,method=\"class\",data=training,importance=TRUE) \n",
    "\n",
    "\n",
    "plot(RandomForest_fit)\n",
    "legend(\"topright\", colnames(RandomForest_fit$err.rate),col=1:4,cex=0.8,fill=1:4)"
   ]
  },
  {
   "cell_type": "markdown",
   "metadata": {},
   "source": [
    "The plot shows the amount of error with the variation in the number of trees constructed. \n",
    "\n",
    "We can also example the variable importance for the classification across the random forest."
   ]
  },
  {
   "cell_type": "code",
   "execution_count": 12,
   "metadata": {},
   "outputs": [
    {
     "data": {
      "image/png": "[encoded data removed]",
      "text/plain": [
       "plot without title"
      ]
     },
     "metadata": {},
     "output_type": "display_data"
    }
   ],
   "source": [
    "varImpPlot(RandomForest_fit)"
   ]
  },
  {
   "cell_type": "markdown",
   "metadata": {},
   "source": [
    "#### Gini importance: \n",
    "\n",
    "Every time a split of a node is made on variable `m` the gini impurity criterion for the two descendent nodes is less than the parent node. \n",
    "Adding up the gini decreases for each individual variable over all trees in the forest gives a \n",
    "fast variable importance that is often very consistent with the permutation importance measure.\n",
    "\n",
    "**Reference: **[Variable importance](https://en.wikipedia.org/wiki/Random_forest#Variable_importance)"
   ]
  },
  {
   "cell_type": "code",
   "execution_count": 13,
   "metadata": {},
   "outputs": [
    {
     "data": {
      "text/html": [
       "<table>\n",
       "<caption>A matrix: 4 × 5 of type dbl</caption>\n",
       "<thead>\n",
       "\t<tr><th></th><th scope=col>setosa</th><th scope=col>versicolor</th><th scope=col>virginica</th><th scope=col>MeanDecreaseAccuracy</th><th scope=col>MeanDecreaseGini</th></tr>\n",
       "</thead>\n",
       "<tbody>\n",
       "\t<tr><th scope=row>Sepal.Length</th><td> 6.421757</td><td> 8.043776</td><td> 5.208523</td><td>10.371153</td><td> 5.658831</td></tr>\n",
       "\t<tr><th scope=row>Sepal.Width</th><td> 4.204208</td><td> 1.975218</td><td> 7.710933</td><td> 7.164481</td><td> 2.728181</td></tr>\n",
       "\t<tr><th scope=row>Petal.Length</th><td>20.513477</td><td>31.380778</td><td>27.479929</td><td>32.326567</td><td>31.072099</td></tr>\n",
       "\t<tr><th scope=row>Petal.Width</th><td>23.225957</td><td>30.846341</td><td>27.617128</td><td>31.876590</td><td>29.789937</td></tr>\n",
       "</tbody>\n",
       "</table>\n"
      ],
      "text/latex": [
       "A matrix: 4 × 5 of type dbl\n",
       "\\begin{tabular}{r|lllll}\n",
       "  & setosa & versicolor & virginica & MeanDecreaseAccuracy & MeanDecreaseGini\\\\\n",
       "\\hline\n",
       "\tSepal.Length &  6.421757 &  8.043776 &  5.208523 & 10.371153 &  5.658831\\\\\n",
       "\tSepal.Width &  4.204208 &  1.975218 &  7.710933 &  7.164481 &  2.728181\\\\\n",
       "\tPetal.Length & 20.513477 & 31.380778 & 27.479929 & 32.326567 & 31.072099\\\\\n",
       "\tPetal.Width & 23.225957 & 30.846341 & 27.617128 & 31.876590 & 29.789937\\\\\n",
       "\\end{tabular}\n"
      ],
      "text/markdown": [
       "\n",
       "A matrix: 4 × 5 of type dbl\n",
       "\n",
       "| <!--/--> | setosa | versicolor | virginica | MeanDecreaseAccuracy | MeanDecreaseGini |\n",
       "|---|---|---|---|---|---|\n",
       "| Sepal.Length |  6.421757 |  8.043776 |  5.208523 | 10.371153 |  5.658831 |\n",
       "| Sepal.Width |  4.204208 |  1.975218 |  7.710933 |  7.164481 |  2.728181 |\n",
       "| Petal.Length | 20.513477 | 31.380778 | 27.479929 | 32.326567 | 31.072099 |\n",
       "| Petal.Width | 23.225957 | 30.846341 | 27.617128 | 31.876590 | 29.789937 |\n",
       "\n"
      ],
      "text/plain": [
       "             setosa    versicolor virginica MeanDecreaseAccuracy\n",
       "Sepal.Length  6.421757  8.043776   5.208523 10.371153           \n",
       "Sepal.Width   4.204208  1.975218   7.710933  7.164481           \n",
       "Petal.Length 20.513477 31.380778  27.479929 32.326567           \n",
       "Petal.Width  23.225957 30.846341  27.617128 31.876590           \n",
       "             MeanDecreaseGini\n",
       "Sepal.Length  5.658831       \n",
       "Sepal.Width   2.728181       \n",
       "Petal.Length 31.072099       \n",
       "Petal.Width  29.789937       "
      ]
     },
     "metadata": {},
     "output_type": "display_data"
    }
   ],
   "source": [
    "importance(RandomForest_fit)"
   ]
  },
  {
   "cell_type": "code",
   "execution_count": 14,
   "metadata": {},
   "outputs": [],
   "source": [
    "RF_fit <- train(Species~ .,method=\"rf\",data=training)"
   ]
  },
  {
   "cell_type": "code",
   "execution_count": 15,
   "metadata": {},
   "outputs": [],
   "source": [
    "train_RF_pred <- predict(RF_fit,training)"
   ]
  },
  {
   "cell_type": "code",
   "execution_count": 16,
   "metadata": {},
   "outputs": [
    {
     "data": {
      "text/plain": [
       "             \n",
       "train_RF_pred setosa versicolor virginica\n",
       "   setosa         35          0         0\n",
       "   versicolor      0         35         0\n",
       "   virginica       0          0        35"
      ]
     },
     "metadata": {},
     "output_type": "display_data"
    }
   ],
   "source": [
    "table(train_RF_pred,training$Species)"
   ]
  },
  {
   "cell_type": "markdown",
   "metadata": {},
   "source": [
    "Misclassification rate in training data is 0/105. Validate to make sure that the model is not over fitted on the training data by testing on tets data."
   ]
  },
  {
   "cell_type": "code",
   "execution_count": 17,
   "metadata": {},
   "outputs": [],
   "source": [
    "test_RF_pred<-predict(RF_fit,newdata=testing)"
   ]
  },
  {
   "cell_type": "code",
   "execution_count": 18,
   "metadata": {},
   "outputs": [
    {
     "data": {
      "text/plain": [
       "            \n",
       "test_RF_pred setosa versicolor virginica\n",
       "  setosa         15          0         0\n",
       "  versicolor      0         14         0\n",
       "  virginica       0          1        15"
      ]
     },
     "metadata": {},
     "output_type": "display_data"
    }
   ],
   "source": [
    "table(test_RF_pred,testing$Species)"
   ]
  },
  {
   "cell_type": "markdown",
   "metadata": {},
   "source": [
    "There are 2 misclassified observations out of 45, which is similar to CART model prediction power. \n"
   ]
  },
  {
   "cell_type": "markdown",
   "metadata": {},
   "source": [
    "**Feature Reduction using ANOVA, MANOVA and Random Forests.**\n",
    "\n",
    "Now we will look comparisons of the Random Forests with the ANOVA and MANOVA methods.\n",
    "\n",
    "Here we will use the bikeshare dataset."
   ]
  },
  {
   "cell_type": "code",
   "execution_count": 19,
   "metadata": {},
   "outputs": [
    {
     "data": {
      "text/html": [
       "<table>\n",
       "<caption>A data.frame: 6 × 17</caption>\n",
       "<thead>\n",
       "\t<tr><th scope=col>instant</th><th scope=col>dteday</th><th scope=col>season</th><th scope=col>yr</th><th scope=col>mnth</th><th scope=col>hr</th><th scope=col>holiday</th><th scope=col>weekday</th><th scope=col>workingday</th><th scope=col>weathersit</th><th scope=col>temp</th><th scope=col>atemp</th><th scope=col>hum</th><th scope=col>windspeed</th><th scope=col>casual</th><th scope=col>registered</th><th scope=col>cnt</th></tr>\n",
       "\t<tr><th scope=col>&lt;int&gt;</th><th scope=col>&lt;fct&gt;</th><th scope=col>&lt;int&gt;</th><th scope=col>&lt;int&gt;</th><th scope=col>&lt;int&gt;</th><th scope=col>&lt;int&gt;</th><th scope=col>&lt;int&gt;</th><th scope=col>&lt;int&gt;</th><th scope=col>&lt;int&gt;</th><th scope=col>&lt;int&gt;</th><th scope=col>&lt;dbl&gt;</th><th scope=col>&lt;dbl&gt;</th><th scope=col>&lt;dbl&gt;</th><th scope=col>&lt;dbl&gt;</th><th scope=col>&lt;int&gt;</th><th scope=col>&lt;int&gt;</th><th scope=col>&lt;int&gt;</th></tr>\n",
       "</thead>\n",
       "<tbody>\n",
       "\t<tr><td>1</td><td>2011-01-01</td><td>1</td><td>0</td><td>1</td><td>0</td><td>0</td><td>6</td><td>0</td><td>1</td><td>0.24</td><td>0.2879</td><td>0.81</td><td>0.0000</td><td>3</td><td>13</td><td>16</td></tr>\n",
       "\t<tr><td>2</td><td>2011-01-01</td><td>1</td><td>0</td><td>1</td><td>1</td><td>0</td><td>6</td><td>0</td><td>1</td><td>0.22</td><td>0.2727</td><td>0.80</td><td>0.0000</td><td>8</td><td>32</td><td>40</td></tr>\n",
       "\t<tr><td>3</td><td>2011-01-01</td><td>1</td><td>0</td><td>1</td><td>2</td><td>0</td><td>6</td><td>0</td><td>1</td><td>0.22</td><td>0.2727</td><td>0.80</td><td>0.0000</td><td>5</td><td>27</td><td>32</td></tr>\n",
       "\t<tr><td>4</td><td>2011-01-01</td><td>1</td><td>0</td><td>1</td><td>3</td><td>0</td><td>6</td><td>0</td><td>1</td><td>0.24</td><td>0.2879</td><td>0.75</td><td>0.0000</td><td>3</td><td>10</td><td>13</td></tr>\n",
       "\t<tr><td>5</td><td>2011-01-01</td><td>1</td><td>0</td><td>1</td><td>4</td><td>0</td><td>6</td><td>0</td><td>1</td><td>0.24</td><td>0.2879</td><td>0.75</td><td>0.0000</td><td>0</td><td> 1</td><td> 1</td></tr>\n",
       "\t<tr><td>6</td><td>2011-01-01</td><td>1</td><td>0</td><td>1</td><td>5</td><td>0</td><td>6</td><td>0</td><td>2</td><td>0.24</td><td>0.2576</td><td>0.75</td><td>0.0896</td><td>0</td><td> 1</td><td> 1</td></tr>\n",
       "</tbody>\n",
       "</table>\n"
      ],
      "text/latex": [
       "A data.frame: 6 × 17\n",
       "\\begin{tabular}{r|lllllllllllllllll}\n",
       " instant & dteday & season & yr & mnth & hr & holiday & weekday & workingday & weathersit & temp & atemp & hum & windspeed & casual & registered & cnt\\\\\n",
       " <int> & <fct> & <int> & <int> & <int> & <int> & <int> & <int> & <int> & <int> & <dbl> & <dbl> & <dbl> & <dbl> & <int> & <int> & <int>\\\\\n",
       "\\hline\n",
       "\t 1 & 2011-01-01 & 1 & 0 & 1 & 0 & 0 & 6 & 0 & 1 & 0.24 & 0.2879 & 0.81 & 0.0000 & 3 & 13 & 16\\\\\n",
       "\t 2 & 2011-01-01 & 1 & 0 & 1 & 1 & 0 & 6 & 0 & 1 & 0.22 & 0.2727 & 0.80 & 0.0000 & 8 & 32 & 40\\\\\n",
       "\t 3 & 2011-01-01 & 1 & 0 & 1 & 2 & 0 & 6 & 0 & 1 & 0.22 & 0.2727 & 0.80 & 0.0000 & 5 & 27 & 32\\\\\n",
       "\t 4 & 2011-01-01 & 1 & 0 & 1 & 3 & 0 & 6 & 0 & 1 & 0.24 & 0.2879 & 0.75 & 0.0000 & 3 & 10 & 13\\\\\n",
       "\t 5 & 2011-01-01 & 1 & 0 & 1 & 4 & 0 & 6 & 0 & 1 & 0.24 & 0.2879 & 0.75 & 0.0000 & 0 &  1 &  1\\\\\n",
       "\t 6 & 2011-01-01 & 1 & 0 & 1 & 5 & 0 & 6 & 0 & 2 & 0.24 & 0.2576 & 0.75 & 0.0896 & 0 &  1 &  1\\\\\n",
       "\\end{tabular}\n"
      ],
      "text/markdown": [
       "\n",
       "A data.frame: 6 × 17\n",
       "\n",
       "| instant &lt;int&gt; | dteday &lt;fct&gt; | season &lt;int&gt; | yr &lt;int&gt; | mnth &lt;int&gt; | hr &lt;int&gt; | holiday &lt;int&gt; | weekday &lt;int&gt; | workingday &lt;int&gt; | weathersit &lt;int&gt; | temp &lt;dbl&gt; | atemp &lt;dbl&gt; | hum &lt;dbl&gt; | windspeed &lt;dbl&gt; | casual &lt;int&gt; | registered &lt;int&gt; | cnt &lt;int&gt; |\n",
       "|---|---|---|---|---|---|---|---|---|---|---|---|---|---|---|---|---|\n",
       "| 1 | 2011-01-01 | 1 | 0 | 1 | 0 | 0 | 6 | 0 | 1 | 0.24 | 0.2879 | 0.81 | 0.0000 | 3 | 13 | 16 |\n",
       "| 2 | 2011-01-01 | 1 | 0 | 1 | 1 | 0 | 6 | 0 | 1 | 0.22 | 0.2727 | 0.80 | 0.0000 | 8 | 32 | 40 |\n",
       "| 3 | 2011-01-01 | 1 | 0 | 1 | 2 | 0 | 6 | 0 | 1 | 0.22 | 0.2727 | 0.80 | 0.0000 | 5 | 27 | 32 |\n",
       "| 4 | 2011-01-01 | 1 | 0 | 1 | 3 | 0 | 6 | 0 | 1 | 0.24 | 0.2879 | 0.75 | 0.0000 | 3 | 10 | 13 |\n",
       "| 5 | 2011-01-01 | 1 | 0 | 1 | 4 | 0 | 6 | 0 | 1 | 0.24 | 0.2879 | 0.75 | 0.0000 | 0 |  1 |  1 |\n",
       "| 6 | 2011-01-01 | 1 | 0 | 1 | 5 | 0 | 6 | 0 | 2 | 0.24 | 0.2576 | 0.75 | 0.0896 | 0 |  1 |  1 |\n",
       "\n"
      ],
      "text/plain": [
       "  instant dteday     season yr mnth hr holiday weekday workingday weathersit\n",
       "1 1       2011-01-01 1      0  1    0  0       6       0          1         \n",
       "2 2       2011-01-01 1      0  1    1  0       6       0          1         \n",
       "3 3       2011-01-01 1      0  1    2  0       6       0          1         \n",
       "4 4       2011-01-01 1      0  1    3  0       6       0          1         \n",
       "5 5       2011-01-01 1      0  1    4  0       6       0          1         \n",
       "6 6       2011-01-01 1      0  1    5  0       6       0          2         \n",
       "  temp atemp  hum  windspeed casual registered cnt\n",
       "1 0.24 0.2879 0.81 0.0000    3      13         16 \n",
       "2 0.22 0.2727 0.80 0.0000    8      32         40 \n",
       "3 0.22 0.2727 0.80 0.0000    5      27         32 \n",
       "4 0.24 0.2879 0.75 0.0000    3      10         13 \n",
       "5 0.24 0.2879 0.75 0.0000    0       1          1 \n",
       "6 0.24 0.2576 0.75 0.0896    0       1          1 "
      ]
     },
     "metadata": {},
     "output_type": "display_data"
    }
   ],
   "source": [
    "bikeshare_data = read.csv(\"/dsa/data/all_datasets/bikeshare/hour.csv\")\n",
    "head(bikeshare_data)"
   ]
  },
  {
   "cell_type": "code",
   "execution_count": 20,
   "metadata": {},
   "outputs": [
    {
     "name": "stdout",
     "output_type": "stream",
     "text": [
      "'data.frame':\t17379 obs. of  17 variables:\n",
      " $ instant   : int  1 2 3 4 5 6 7 8 9 10 ...\n",
      " $ dteday    : Factor w/ 731 levels \"2011-01-01\",\"2011-01-02\",..: 1 1 1 1 1 1 1 1 1 1 ...\n",
      " $ season    : int  1 1 1 1 1 1 1 1 1 1 ...\n",
      " $ yr        : int  0 0 0 0 0 0 0 0 0 0 ...\n",
      " $ mnth      : int  1 1 1 1 1 1 1 1 1 1 ...\n",
      " $ hr        : int  0 1 2 3 4 5 6 7 8 9 ...\n",
      " $ holiday   : int  0 0 0 0 0 0 0 0 0 0 ...\n",
      " $ weekday   : int  6 6 6 6 6 6 6 6 6 6 ...\n",
      " $ workingday: int  0 0 0 0 0 0 0 0 0 0 ...\n",
      " $ weathersit: int  1 1 1 1 1 2 1 1 1 1 ...\n",
      " $ temp      : num  0.24 0.22 0.22 0.24 0.24 0.24 0.22 0.2 0.24 0.32 ...\n",
      " $ atemp     : num  0.288 0.273 0.273 0.288 0.288 ...\n",
      " $ hum       : num  0.81 0.8 0.8 0.75 0.75 0.75 0.8 0.86 0.75 0.76 ...\n",
      " $ windspeed : num  0 0 0 0 0 0.0896 0 0 0 0 ...\n",
      " $ casual    : int  3 8 5 3 0 0 2 1 1 8 ...\n",
      " $ registered: int  13 32 27 10 1 1 0 2 7 6 ...\n",
      " $ cnt       : int  16 40 32 13 1 1 2 3 8 14 ...\n"
     ]
    }
   ],
   "source": [
    "str(bikeshare_data)"
   ]
  },
  {
   "cell_type": "code",
   "execution_count": 21,
   "metadata": {},
   "outputs": [],
   "source": [
    "bikeshare_data$hr = factor(bikeshare_data$hr)\n",
    "bikeshare_data$weekday = factor(bikeshare_data$weekday)"
   ]
  },
  {
   "cell_type": "code",
   "execution_count": 22,
   "metadata": {},
   "outputs": [
    {
     "data": {
      "text/plain": [
       "               Df Sum Sq Mean Sq F value Pr(>F)\n",
       "hr             23     25   1.078   0.091      1\n",
       "Residuals   17355 205473  11.839               "
      ]
     },
     "metadata": {},
     "output_type": "display_data"
    }
   ],
   "source": [
    "fit <- aov(mnth ~ hr, data=bikeshare_data)\n",
    "summary(fit)"
   ]
  },
  {
   "cell_type": "markdown",
   "metadata": {},
   "source": [
    "The p-value suggests there is no variation in the means of data by hour for all the months."
   ]
  },
  {
   "cell_type": "code",
   "execution_count": 29,
   "metadata": {},
   "outputs": [
    {
     "data": {
      "text/plain": [
       "               Df Sum Sq Mean Sq F value Pr(>F)\n",
       "weekday         6     31   5.207    0.44  0.852\n",
       "Residuals   17372 205467  11.827               "
      ]
     },
     "metadata": {},
     "output_type": "display_data"
    }
   ],
   "source": [
    "fit <- aov(mnth ~ weekday, data=bikeshare_data)\n",
    "summary(fit)"
   ]
  },
  {
   "cell_type": "code",
   "execution_count": 30,
   "metadata": {},
   "outputs": [
    {
     "data": {
      "text/plain": [
       "               Df Sum Sq Mean Sq F value Pr(>F)    \n",
       "hr             23   35.5  1.5420   43.95 <2e-16 ***\n",
       "Residuals   17355  608.9  0.0351                   \n",
       "---\n",
       "Signif. codes:  0 ‘***’ 0.001 ‘**’ 0.01 ‘*’ 0.05 ‘.’ 0.1 ‘ ’ 1"
      ]
     },
     "metadata": {},
     "output_type": "display_data"
    }
   ],
   "source": [
    "fit <- aov(temp ~ hr, data=bikeshare_data)\n",
    "summary(fit)"
   ]
  },
  {
   "cell_type": "code",
   "execution_count": 31,
   "metadata": {},
   "outputs": [
    {
     "data": {
      "text/plain": [
       "\n",
       "\tPairwise comparisons using t tests with pooled SD \n",
       "\n",
       "data:  bikeshare_data$temp and bikeshare_data$hr \n",
       "\n",
       "   0       1       2       3       4       5       6       7       8      \n",
       "1  1.00000 -       -       -       -       -       -       -       -      \n",
       "2  1.00000 1.00000 -       -       -       -       -       -       -      \n",
       "3  1.00000 1.00000 1.00000 -       -       -       -       -       -      \n",
       "4  1.00000 1.00000 1.00000 1.00000 -       -       -       -       -      \n",
       "5  0.41768 1.00000 1.00000 1.00000 1.00000 -       -       -       -      \n",
       "6  0.10540 1.00000 1.00000 1.00000 1.00000 1.00000 -       -       -      \n",
       "7  1.00000 1.00000 1.00000 1.00000 1.00000 1.00000 1.00000 -       -      \n",
       "8  1.00000 1.00000 1.00000 1.00000 1.00000 1.00000 1.00000 1.00000 -      \n",
       "9  1.00000 1.00000 1.00000 1.00000 0.67330 0.01057 0.00187 0.03538 1.00000\n",
       "10 0.20425 0.00771 0.00087 0.00049 1.5e-05 1.8e-08 1.2e-09 1.1e-07 0.00097\n",
       "11 5.4e-06 3.6e-08 1.5e-09 7.4e-10 5.7e-12 5.2e-16 < 2e-16 5.6e-15 1.7e-09\n",
       "12 3.5e-11 5.5e-14 1.1e-15 4.9e-16 < 2e-16 < 2e-16 < 2e-16 < 2e-16 1.1e-15\n",
       "13 < 2e-16 < 2e-16 < 2e-16 < 2e-16 < 2e-16 < 2e-16 < 2e-16 < 2e-16 < 2e-16\n",
       "14 < 2e-16 < 2e-16 < 2e-16 < 2e-16 < 2e-16 < 2e-16 < 2e-16 < 2e-16 < 2e-16\n",
       "15 < 2e-16 < 2e-16 < 2e-16 < 2e-16 < 2e-16 < 2e-16 < 2e-16 < 2e-16 < 2e-16\n",
       "16 < 2e-16 < 2e-16 < 2e-16 < 2e-16 < 2e-16 < 2e-16 < 2e-16 < 2e-16 < 2e-16\n",
       "17 < 2e-16 < 2e-16 < 2e-16 < 2e-16 < 2e-16 < 2e-16 < 2e-16 < 2e-16 < 2e-16\n",
       "18 1.7e-11 2.6e-14 4.8e-16 < 2e-16 < 2e-16 < 2e-16 < 2e-16 < 2e-16 5.1e-16\n",
       "19 2.1e-06 1.2e-08 4.9e-10 2.3e-10 1.6e-12 < 2e-16 < 2e-16 1.4e-15 5.3e-10\n",
       "20 0.00765 0.00015 1.2e-05 6.4e-06 1.2e-07 5.5e-11 2.7e-12 4.2e-10 1.3e-05\n",
       "21 1.00000 0.07105 0.01006 0.00592 0.00026 5.4e-07 4.6e-08 2.9e-06 0.01124\n",
       "22 1.00000 1.00000 0.66467 0.43231 0.03758 0.00025 3.3e-05 0.00105 0.73388\n",
       "23 1.00000 1.00000 1.00000 1.00000 1.00000 0.02186 0.00413 0.07007 1.00000\n",
       "   9       10      11      12      13      14      15      16      17     \n",
       "1  -       -       -       -       -       -       -       -       -      \n",
       "2  -       -       -       -       -       -       -       -       -      \n",
       "3  -       -       -       -       -       -       -       -       -      \n",
       "4  -       -       -       -       -       -       -       -       -      \n",
       "5  -       -       -       -       -       -       -       -       -      \n",
       "6  -       -       -       -       -       -       -       -       -      \n",
       "7  -       -       -       -       -       -       -       -       -      \n",
       "8  -       -       -       -       -       -       -       -       -      \n",
       "9  -       -       -       -       -       -       -       -       -      \n",
       "10 1.00000 -       -       -       -       -       -       -       -      \n",
       "11 0.00083 1.00000 -       -       -       -       -       -       -      \n",
       "12 2.8e-08 0.01468 1.00000 -       -       -       -       -       -      \n",
       "13 5.7e-13 9.7e-06 0.29572 1.00000 -       -       -       -       -      \n",
       "14 < 2e-16 1.4e-08 0.00423 1.00000 1.00000 -       -       -       -      \n",
       "15 < 2e-16 1.2e-09 0.00078 1.00000 1.00000 1.00000 -       -       -      \n",
       "16 < 2e-16 1.5e-08 0.00443 1.00000 1.00000 1.00000 1.00000 -       -      \n",
       "17 6.3e-13 1.1e-05 0.31167 1.00000 1.00000 1.00000 1.00000 1.00000 -      \n",
       "18 1.5e-08 0.00987 1.00000 1.00000 1.00000 1.00000 1.00000 1.00000 1.00000\n",
       "19 0.00038 1.00000 1.00000 1.00000 0.51103 0.00854 0.00165 0.00894 0.53752\n",
       "20 0.32432 1.00000 1.00000 0.34654 0.00072 2.4e-06 2.7e-07 2.6e-06 0.00077\n",
       "21 1.00000 1.00000 1.00000 0.00129 3.9e-07 3.3e-10 2.3e-11 3.6e-10 4.3e-07\n",
       "22 1.00000 1.00000 0.02890 3.8e-06 2.4e-10 6.6e-14 3.1e-15 7.1e-14 2.6e-10\n",
       "23 1.00000 1.00000 0.00035 8.6e-09 1.4e-13 < 2e-16 < 2e-16 < 2e-16 1.5e-13\n",
       "   18      19      20      21      22     \n",
       "1  -       -       -       -       -      \n",
       "2  -       -       -       -       -      \n",
       "3  -       -       -       -       -      \n",
       "4  -       -       -       -       -      \n",
       "5  -       -       -       -       -      \n",
       "6  -       -       -       -       -      \n",
       "7  -       -       -       -       -      \n",
       "8  -       -       -       -       -      \n",
       "9  -       -       -       -       -      \n",
       "10 -       -       -       -       -      \n",
       "11 -       -       -       -       -      \n",
       "12 -       -       -       -       -      \n",
       "13 -       -       -       -       -      \n",
       "14 -       -       -       -       -      \n",
       "15 -       -       -       -       -      \n",
       "16 -       -       -       -       -      \n",
       "17 -       -       -       -       -      \n",
       "18 -       -       -       -       -      \n",
       "19 1.00000 -       -       -       -      \n",
       "20 0.25002 1.00000 -       -       -      \n",
       "21 0.00082 0.90402 1.00000 -       -      \n",
       "22 2.2e-06 0.01477 1.00000 1.00000 -      \n",
       "23 4.6e-09 0.00015 0.17352 1.00000 1.00000\n",
       "\n",
       "P value adjustment method: bonferroni "
      ]
     },
     "metadata": {},
     "output_type": "display_data"
    }
   ],
   "source": [
    "# Do pairwise comparison between group means for each hour\n",
    "pairwise.t.test(bikeshare_data$temp, bikeshare_data$hr,p.adjust=\"bonferroni\")"
   ]
  },
  {
   "cell_type": "markdown",
   "metadata": {},
   "source": [
    "Although there is not much variation in the temparature for some of the hours there is a lot of \n",
    "variation in the temparature of the day based on hour for some of the hours. \n",
    "Lets find the mean temparature of each hour using tapply()."
   ]
  },
  {
   "cell_type": "code",
   "execution_count": 32,
   "metadata": {},
   "outputs": [
    {
     "data": {
      "text/html": [
       "<table>\n",
       "<caption>A matrix: 1 × 24 of type dbl</caption>\n",
       "<thead>\n",
       "\t<tr><th scope=col>0</th><th scope=col>1</th><th scope=col>2</th><th scope=col>3</th><th scope=col>4</th><th scope=col>5</th><th scope=col>6</th><th scope=col>7</th><th scope=col>8</th><th scope=col>9</th><th scope=col>⋯</th><th scope=col>14</th><th scope=col>15</th><th scope=col>16</th><th scope=col>17</th><th scope=col>18</th><th scope=col>19</th><th scope=col>20</th><th scope=col>21</th><th scope=col>22</th><th scope=col>23</th></tr>\n",
       "</thead>\n",
       "<tbody>\n",
       "\t<tr><td>0.4674105</td><td>0.4593646</td><td>0.4545734</td><td>0.4531133</td><td>0.4466284</td><td>0.4361227</td><td>0.432469</td><td>0.4390922</td><td>0.4549931</td><td>0.4767263</td><td>⋯</td><td>0.5650754</td><td>0.5686145</td><td>0.5649589</td><td>0.5545753</td><td>0.5411813</td><td>0.5241758</td><td>0.5085989</td><td>0.4953022</td><td>0.4845055</td><td>0.4750275</td></tr>\n",
       "</tbody>\n",
       "</table>\n"
      ],
      "text/latex": [
       "A matrix: 1 × 24 of type dbl\n",
       "\\begin{tabular}{llllllllllllllllllllllll}\n",
       " 0 & 1 & 2 & 3 & 4 & 5 & 6 & 7 & 8 & 9 & 10 & 11 & 12 & 13 & 14 & 15 & 16 & 17 & 18 & 19 & 20 & 21 & 22 & 23\\\\\n",
       "\\hline\n",
       "\t 0.4674105 & 0.4593646 & 0.4545734 & 0.4531133 & 0.4466284 & 0.4361227 & 0.432469 & 0.4390922 & 0.4549931 & 0.4767263 & 0.5005777 & 0.5226135 & 0.5402747 & 0.5547325 & 0.5650754 & 0.5686145 & 0.5649589 & 0.5545753 & 0.5411813 & 0.5241758 & 0.5085989 & 0.4953022 & 0.4845055 & 0.4750275\\\\\n",
       "\\end{tabular}\n"
      ],
      "text/markdown": [
       "\n",
       "A matrix: 1 × 24 of type dbl\n",
       "\n",
       "| 0 | 1 | 2 | 3 | 4 | 5 | 6 | 7 | 8 | 9 | ⋯ | 14 | 15 | 16 | 17 | 18 | 19 | 20 | 21 | 22 | 23 |\n",
       "|---|---|---|---|---|---|---|---|---|---|---|---|---|---|---|---|---|---|---|---|---|\n",
       "| 0.4674105 | 0.4593646 | 0.4545734 | 0.4531133 | 0.4466284 | 0.4361227 | 0.432469 | 0.4390922 | 0.4549931 | 0.4767263 | ⋯ | 0.5650754 | 0.5686145 | 0.5649589 | 0.5545753 | 0.5411813 | 0.5241758 | 0.5085989 | 0.4953022 | 0.4845055 | 0.4750275 |\n",
       "\n"
      ],
      "text/plain": [
       "     0         1         2         3         4         5         6       \n",
       "[1,] 0.4674105 0.4593646 0.4545734 0.4531133 0.4466284 0.4361227 0.432469\n",
       "     7         8         9         ⋯ 14        15        16        17       \n",
       "[1,] 0.4390922 0.4549931 0.4767263 ⋯ 0.5650754 0.5686145 0.5649589 0.5545753\n",
       "     18        19        20        21        22        23       \n",
       "[1,] 0.5411813 0.5241758 0.5085989 0.4953022 0.4845055 0.4750275"
      ]
     },
     "metadata": {},
     "output_type": "display_data"
    }
   ],
   "source": [
    "t(tapply(bikeshare_data$temp,bikeshare_data$hr,mean))"
   ]
  },
  {
   "cell_type": "code",
   "execution_count": 33,
   "metadata": {},
   "outputs": [
    {
     "data": {
      "text/plain": [
       "              Df Hotelling-Lawley approx F num Df den Df Pr(>F)    \n",
       "hr            23          0.46393   69.410    115  86027 <2e-16 ***\n",
       "weekday        6          0.10114   58.005     30  86027 <2e-16 ***\n",
       "hr:weekday   138          0.01853    0.462    690  86027      1    \n",
       "Residuals  17211                                                   \n",
       "---\n",
       "Signif. codes:  0 ‘***’ 0.001 ‘**’ 0.01 ‘*’ 0.05 ‘.’ 0.1 ‘ ’ 1"
      ]
     },
     "metadata": {},
     "output_type": "display_data"
    }
   ],
   "source": [
    "# Do a MANOVA on variables temp,hum,windspeed,holiday and weathersit using hr and weekday variables\n",
    "summary(manova(cbind(temp,hum,windspeed,holiday,weathersit) ~ hr * weekday,\n",
    "               data = bikeshare_data), test = \"Hotelling-Lawley\")"
   ]
  },
  {
   "cell_type": "markdown",
   "metadata": {},
   "source": [
    "According to MANOVA, these variables temp,hum,windspeed,holiday and weathersit vary by hr and weekday.\n",
    "Lets analyze the same for rest of the variables."
   ]
  },
  {
   "cell_type": "code",
   "execution_count": 34,
   "metadata": {},
   "outputs": [
    {
     "data": {
      "text/html": [
       "<ol class=list-inline>\n",
       "\t<li>'instant'</li>\n",
       "\t<li>'dteday'</li>\n",
       "\t<li>'season'</li>\n",
       "\t<li>'yr'</li>\n",
       "\t<li>'mnth'</li>\n",
       "\t<li>'hr'</li>\n",
       "\t<li>'holiday'</li>\n",
       "\t<li>'weekday'</li>\n",
       "\t<li>'workingday'</li>\n",
       "\t<li>'weathersit'</li>\n",
       "\t<li>'temp'</li>\n",
       "\t<li>'atemp'</li>\n",
       "\t<li>'hum'</li>\n",
       "\t<li>'windspeed'</li>\n",
       "\t<li>'casual'</li>\n",
       "\t<li>'registered'</li>\n",
       "\t<li>'cnt'</li>\n",
       "</ol>\n"
      ],
      "text/latex": [
       "\\begin{enumerate*}\n",
       "\\item 'instant'\n",
       "\\item 'dteday'\n",
       "\\item 'season'\n",
       "\\item 'yr'\n",
       "\\item 'mnth'\n",
       "\\item 'hr'\n",
       "\\item 'holiday'\n",
       "\\item 'weekday'\n",
       "\\item 'workingday'\n",
       "\\item 'weathersit'\n",
       "\\item 'temp'\n",
       "\\item 'atemp'\n",
       "\\item 'hum'\n",
       "\\item 'windspeed'\n",
       "\\item 'casual'\n",
       "\\item 'registered'\n",
       "\\item 'cnt'\n",
       "\\end{enumerate*}\n"
      ],
      "text/markdown": [
       "1. 'instant'\n",
       "2. 'dteday'\n",
       "3. 'season'\n",
       "4. 'yr'\n",
       "5. 'mnth'\n",
       "6. 'hr'\n",
       "7. 'holiday'\n",
       "8. 'weekday'\n",
       "9. 'workingday'\n",
       "10. 'weathersit'\n",
       "11. 'temp'\n",
       "12. 'atemp'\n",
       "13. 'hum'\n",
       "14. 'windspeed'\n",
       "15. 'casual'\n",
       "16. 'registered'\n",
       "17. 'cnt'\n",
       "\n",
       "\n"
      ],
      "text/plain": [
       " [1] \"instant\"    \"dteday\"     \"season\"     \"yr\"         \"mnth\"      \n",
       " [6] \"hr\"         \"holiday\"    \"weekday\"    \"workingday\" \"weathersit\"\n",
       "[11] \"temp\"       \"atemp\"      \"hum\"        \"windspeed\"  \"casual\"    \n",
       "[16] \"registered\" \"cnt\"       "
      ]
     },
     "metadata": {},
     "output_type": "display_data"
    }
   ],
   "source": [
    "names(bikeshare_data)"
   ]
  },
  {
   "cell_type": "code",
   "execution_count": 35,
   "metadata": {},
   "outputs": [
    {
     "data": {
      "text/plain": [
       "              Df Hotelling-Lawley approx F num Df den Df  Pr(>F)  \n",
       "hr            23       0.00016426  0.06145     46  34418 1.00000  \n",
       "weekday        6       0.00109778  1.57431     12  34418 0.09124 .\n",
       "hr:weekday   138       0.00020925  0.01305    276  34418 1.00000  \n",
       "Residuals  17211                                                  \n",
       "---\n",
       "Signif. codes:  0 ‘***’ 0.001 ‘**’ 0.01 ‘*’ 0.05 ‘.’ 0.1 ‘ ’ 1"
      ]
     },
     "metadata": {},
     "output_type": "display_data"
    }
   ],
   "source": [
    "summary(manova(cbind(season,mnth) ~ hr * weekday,\n",
    "               data = bikeshare_data), test = \"Hotelling-Lawley\")"
   ]
  },
  {
   "cell_type": "markdown",
   "metadata": {},
   "source": [
    "`month` and `season` are not contributing anything as they have little variation in their data. \n",
    "\n",
    "### Measuring variable importance using Random Forests\n",
    "\n",
    "#### Gini importance\n",
    "\n",
    "The mean Gini gain that is produced by a feature over all trees. Consider `RF` is the Random Forest model fitted on the data. \n",
    "\n",
    "```R\n",
    "RF <- randomForest(..., importance=TRUE)\n",
    "```\n",
    "\n",
    "There are 2 ways of checking the impoortance\n",
    "\n",
    "* `RF$importance`       **column**: MeanDecreaseGini\n",
    "\n",
    "* `importance(RF, type=2)`\n",
    "\n",
    "Note: For variables of different types there will be a bias in favor of continuous \n",
    "variables and variables with many categories."
   ]
  },
  {
   "cell_type": "markdown",
   "metadata": {},
   "source": [
    "#### Permutation importance\n",
    " \n",
    "The mean decrease in classification accuracy after permuting the feature over all trees \n",
    "\n",
    "```R\n",
    "RF <- randomForest(..., importance=TRUE)\n",
    "```\n",
    "\n",
    "- `RF$importance` **column**: MeanDecreaseAccuracy\n",
    "- `importance(RF, type=1)`\n",
    "\n",
    "```R\n",
    "obj <- cforest(...)\n",
    "varimp(obj)\n",
    "```\n",
    "\n",
    "Note: For variables of different types are unbiased only when subsampling is used as in   \n",
    "`cforest(..., controls = cforest unbiased())`\n",
    "\n",
    "**Note:** The below cell takes a minute or so to execute."
   ]
  },
  {
   "cell_type": "code",
   "execution_count": 36,
   "metadata": {},
   "outputs": [
    {
     "data": {
      "image/png": "[encoded data removed]",
      "text/plain": [
       "plot without title"
      ]
     },
     "metadata": {},
     "output_type": "display_data"
    }
   ],
   "source": [
    "# Train a model across all the training data and plot the variable importance\n",
    "rf <- randomForest(bikeshare_data[,c(\"season\",\"holiday\",\"workingday\",\"weathersit\",\"temp\",\"atemp\",\"hum\",\"windspeed\",\"hr\")], \n",
    "                                  bikeshare_data$cnt, ntree=50, importance=TRUE)\n",
    "imp <- importance(rf, type=2)\n",
    "Imp_features <- data.frame(Feature=row.names(imp), Importance=imp[,1])\n",
    "\n",
    "p <- ggplot(Imp_features, aes(x=reorder(Feature, Importance), y=Importance)) +\n",
    "     geom_bar(stat=\"identity\", fill=\"blue\") +\n",
    "     coord_flip() + \n",
    "     theme_light(base_size=20) +\n",
    "     xlab(\"Importance\") +\n",
    "     ylab(\"\") + \n",
    "     ggtitle(\"Random Forest Feature Importance\\n\") +\n",
    "     theme(plot.title=element_text(size=18))\n",
    "p"
   ]
  },
  {
   "cell_type": "code",
   "execution_count": 37,
   "metadata": {},
   "outputs": [
    {
     "data": {
      "text/html": [
       "<table>\n",
       "<caption>A matrix: 9 × 2 of type dbl</caption>\n",
       "<thead>\n",
       "\t<tr><th></th><th scope=col>%IncMSE</th><th scope=col>IncNodePurity</th></tr>\n",
       "</thead>\n",
       "<tbody>\n",
       "\t<tr><th scope=row>season</th><td>20.16463</td><td> 21565550</td></tr>\n",
       "\t<tr><th scope=row>holiday</th><td>12.70923</td><td>  1969707</td></tr>\n",
       "\t<tr><th scope=row>workingday</th><td>58.80903</td><td> 35459765</td></tr>\n",
       "\t<tr><th scope=row>weathersit</th><td>18.56020</td><td> 11788987</td></tr>\n",
       "\t<tr><th scope=row>temp</th><td>15.36372</td><td> 52122462</td></tr>\n",
       "\t<tr><th scope=row>atemp</th><td>14.02077</td><td> 56230146</td></tr>\n",
       "\t<tr><th scope=row>hum</th><td>20.34581</td><td> 45144635</td></tr>\n",
       "\t<tr><th scope=row>windspeed</th><td>13.95398</td><td> 20361421</td></tr>\n",
       "\t<tr><th scope=row>hr</th><td>86.10249</td><td>299910903</td></tr>\n",
       "</tbody>\n",
       "</table>\n"
      ],
      "text/latex": [
       "A matrix: 9 × 2 of type dbl\n",
       "\\begin{tabular}{r|ll}\n",
       "  & \\%IncMSE & IncNodePurity\\\\\n",
       "\\hline\n",
       "\tseason & 20.16463 &  21565550\\\\\n",
       "\tholiday & 12.70923 &   1969707\\\\\n",
       "\tworkingday & 58.80903 &  35459765\\\\\n",
       "\tweathersit & 18.56020 &  11788987\\\\\n",
       "\ttemp & 15.36372 &  52122462\\\\\n",
       "\tatemp & 14.02077 &  56230146\\\\\n",
       "\thum & 20.34581 &  45144635\\\\\n",
       "\twindspeed & 13.95398 &  20361421\\\\\n",
       "\thr & 86.10249 & 299910903\\\\\n",
       "\\end{tabular}\n"
      ],
      "text/markdown": [
       "\n",
       "A matrix: 9 × 2 of type dbl\n",
       "\n",
       "| <!--/--> | %IncMSE | IncNodePurity |\n",
       "|---|---|---|\n",
       "| season | 20.16463 |  21565550 |\n",
       "| holiday | 12.70923 |   1969707 |\n",
       "| workingday | 58.80903 |  35459765 |\n",
       "| weathersit | 18.56020 |  11788987 |\n",
       "| temp | 15.36372 |  52122462 |\n",
       "| atemp | 14.02077 |  56230146 |\n",
       "| hum | 20.34581 |  45144635 |\n",
       "| windspeed | 13.95398 |  20361421 |\n",
       "| hr | 86.10249 | 299910903 |\n",
       "\n"
      ],
      "text/plain": [
       "           %IncMSE  IncNodePurity\n",
       "season     20.16463  21565550    \n",
       "holiday    12.70923   1969707    \n",
       "workingday 58.80903  35459765    \n",
       "weathersit 18.56020  11788987    \n",
       "temp       15.36372  52122462    \n",
       "atemp      14.02077  56230146    \n",
       "hum        20.34581  45144635    \n",
       "windspeed  13.95398  20361421    \n",
       "hr         86.10249 299910903    "
      ]
     },
     "metadata": {},
     "output_type": "display_data"
    }
   ],
   "source": [
    "cbind(importance(rf, type=1),importance(rf, type=2))"
   ]
  },
  {
   "cell_type": "code",
   "execution_count": 38,
   "metadata": {},
   "outputs": [
    {
     "data": {
      "image/png": "[encoded data removed]",
      "text/plain": [
       "plot without title"
      ]
     },
     "metadata": {},
     "output_type": "display_data"
    }
   ],
   "source": [
    "varImpPlot(rf)"
   ]
  },
  {
   "cell_type": "markdown",
   "metadata": {
    "collapsed": true
   },
   "source": [
    "From the plots `hr` is the most important variable followed by `holiday`, `atemp` \n",
    "and so on for `MeanDEcreaseAccuracy` measure of importance. \n",
    "`hum` is the most important variable according to `MeanDecreaseGini` measure. \n",
    "\n",
    "# Save your notebook!"
   ]
  }
 ],
 "metadata": {
  "kernelspec": {
   "display_name": "R",
   "language": "R",
   "name": "ir"
  },
  "language_info": {
   "codemirror_mode": "r",
   "file_extension": ".r",
   "mimetype": "text/x-r-source",
   "name": "R",
   "pygments_lexer": "r",
   "version": "3.5.1"
  }
 },
 "nbformat": 4,
 "nbformat_minor": 1
}
