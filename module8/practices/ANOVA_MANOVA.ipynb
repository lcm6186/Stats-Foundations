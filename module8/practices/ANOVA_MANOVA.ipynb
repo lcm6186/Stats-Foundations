{
 "cells": [
  {
   "cell_type": "markdown",
   "metadata": {},
   "source": [
    "## Anova(Analysis of Variance)\n",
    "\n",
    "In the \"Bias Against Associates of the Obese\" case study, \n",
    "the researchers were interested in whether the weight of a companion of a job applicant \n",
    "would affect judgments of a male applicant's qualifications for a job. \n",
    "Two independent variables were investigated: \n",
    "(1) whether the companion was obese or of typical weight, \n",
    "(2) whether the companion was a girlfriend or just an acquaintance. \n",
    "\n",
    "One approach could have been to conduct two separate studies, one with each independent variable. \n",
    "However, it is more efficient to conduct one study that includes both independent variables. \n",
    "Moreover, there is a much bigger advantage than efficiency for including two variables in the same study: \n",
    "it allows a test of the **interaction** between the variables. \n",
    "There is an interaction when the effect of one variable differs depending on the level of a second variable. \n",
    "For example, it is possible that the effect of having an obese companion would differ depending on the relationship to the companion. \n",
    "Perhaps there is more prejudice against a person with an obese companion if the companion is a girlfriend \n",
    "than if she is just an acquaintance. \n",
    "If so, there would be an interaction between the obesity factor and the relationship factor.\n",
    "\n",
    "There are three effects of interest in this experiment:\n",
    "\n",
    "**Weight:** Are applicants judged differently depending on the weight of their companion?\n",
    "\n",
    "**Relationship:** Are applicants judged differently depending on their relationship with their companion?\n",
    "\n",
    "**Weight x Relationship Interaction:** Does the effect of weight differ depending on the relationship with the companion?\n",
    "\n",
    "We will apply ANOVA to study these effects. "
   ]
  },
  {
   "cell_type": "code",
   "execution_count": 1,
   "metadata": {},
   "outputs": [
    {
     "name": "stdout",
     "output_type": "stream",
     "text": [
      "'data.frame':\t176 obs. of  3 variables:\n",
      " $ WEIGHT  : int  1 1 1 1 1 1 1 1 1 1 ...\n",
      " $ RELATE  : int  1 1 1 1 1 1 1 1 1 1 ...\n",
      " $ QUALIFID: int  7 5 7 5 7 7 3 7 7 5 ...\n"
     ]
    }
   ],
   "source": [
    "# Read the data\n",
    "weight=read.csv(\"/dsa/data/all_datasets/weight/weight.csv\")\n",
    "\n",
    "str(weight)\n",
    "# WEIGHT and RELATE are factors\n",
    "weight$WEIGHT=as.factor(weight$WEIGHT)\n",
    "weight$RELATE=as.factor(weight$RELATE)"
   ]
  },
  {
   "cell_type": "markdown",
   "metadata": {},
   "source": [
    "Descriptions of the variables:\n",
    "\n",
    "**Weight:** The weight of the woman sitting next to the job applicant; 1 = obese, 2 = average weight.\n",
    "\n",
    "**Relate:** Type of relationship between the job applicant and the woman seated next to him: 1 = girlfriend, 2 = acquaintance.\n",
    "\n",
    "**Qualifid:** Larger numbers represent higher professional qualification ratings.\n",
    "\n",
    "Let's see if the mean qualification score differs with respect to companion's weight. \n",
    "We'll plot the group means."
   ]
  },
  {
   "cell_type": "code",
   "execution_count": 2,
   "metadata": {},
   "outputs": [
    {
     "data": {
      "image/png": "[encoded data removed]",
      "text/plain": [
       "plot without title"
      ]
     },
     "metadata": {},
     "output_type": "display_data"
    }
   ],
   "source": [
    "library(ggplot2)\n",
    "ggplot(weight,aes(WEIGHT,QUALIFID))+geom_boxplot()"
   ]
  },
  {
   "cell_type": "code",
   "execution_count": 3,
   "metadata": {},
   "outputs": [
    {
     "data": {
      "image/png": "[encoded data removed]",
      "text/plain": [
       "plot without title"
      ]
     },
     "metadata": {},
     "output_type": "display_data"
    }
   ],
   "source": [
    "# Also, plot the group means for RELATE \n",
    "ggplot(weight,aes(RELATE,QUALIFID))+geom_boxplot()"
   ]
  },
  {
   "cell_type": "markdown",
   "metadata": {},
   "source": [
    "From the plots above, it seems like WEIGHT has somewhat an effect on perceived qualification; \n",
    "RELATE does not seem to have an effect. \n",
    "Let's run ANOVA and see if these hypotheses hold."
   ]
  },
  {
   "cell_type": "code",
   "execution_count": 4,
   "metadata": {},
   "outputs": [
    {
     "data": {
      "text/plain": [
       "             Df Sum Sq Mean Sq F value  Pr(>F)   \n",
       "WEIGHT        1  11.65  11.648   6.953 0.00913 **\n",
       "RELATE        1   8.72   8.716   5.203 0.02377 * \n",
       "Residuals   173 289.82   1.675                   \n",
       "---\n",
       "Signif. codes:  0 ‘***’ 0.001 ‘**’ 0.01 ‘*’ 0.05 ‘.’ 0.1 ‘ ’ 1"
      ]
     },
     "metadata": {},
     "output_type": "display_data"
    }
   ],
   "source": [
    "# run ANOVA\n",
    "fit1 <- aov(QUALIFID ~ WEIGHT + RELATE, data=weight)\n",
    "summary(fit1)"
   ]
  },
  {
   "cell_type": "markdown",
   "metadata": {},
   "source": [
    "ANOVA results show that WEIGHT has an effect. \n",
    "The p-value is 0.009 and therefore the null hypothesis of no main effect of WEIGHT is rejected. \n",
    "The conclusion is that being accompanied by an obese companion lowers judgments of qualifications. \n",
    "The effect of RELATE is not as significant but we can't readily reject the null hypothesis either. \n",
    "The conclusion is that being accompanied by a girlfriend leads to somewhat lower ratings than being accompanied by an acquaintance.\n",
    "\n",
    "Let's see if there is interaction between these two independent variables. **YOUR TURN: **"
   ]
  },
  {
   "cell_type": "code",
   "execution_count": 5,
   "metadata": {},
   "outputs": [
    {
     "data": {
      "text/plain": [
       "               Df Sum Sq Mean Sq F value  Pr(>F)   \n",
       "WEIGHT          1  11.65  11.648   6.916 0.00932 **\n",
       "RELATE          1   8.72   8.716   5.175 0.02415 * \n",
       "WEIGHT:RELATE   1   0.10   0.104   0.062 0.80427   \n",
       "Residuals     172 289.71   1.684                   \n",
       "---\n",
       "Signif. codes:  0 ‘***’ 0.001 ‘**’ 0.01 ‘*’ 0.05 ‘.’ 0.1 ‘ ’ 1"
      ]
     },
     "metadata": {},
     "output_type": "display_data"
    }
   ],
   "source": [
    "# run ANOVA with interaction\n",
    "fit2 <- aov(QUALIFID ~ WEIGHT*RELATE, data=weight)\n",
    "summary(fit2)"
   ]
  },
  {
   "cell_type": "markdown",
   "metadata": {},
   "source": [
    "The p-value for the interaction is 0.8, \n",
    "which is the probability of getting an interaction as big or bigger than the one obtained \n",
    "in the experiment if there were no interaction in the population. \n",
    "Therefore, these data provide no evidence for an interaction.\n",
    "\n",
    "Let's apply the same analysis to the kc_house_data that we have seen before. "
   ]
  },
  {
   "cell_type": "code",
   "execution_count": 6,
   "metadata": {},
   "outputs": [
    {
     "data": {
      "text/html": [
       "<table>\n",
       "<caption>A data.frame: 6 × 21</caption>\n",
       "<thead>\n",
       "\t<tr><th scope=col>id</th><th scope=col>date</th><th scope=col>price</th><th scope=col>bedrooms</th><th scope=col>bathrooms</th><th scope=col>sqft_living</th><th scope=col>sqft_lot</th><th scope=col>floors</th><th scope=col>waterfront</th><th scope=col>view</th><th scope=col>⋯</th><th scope=col>grade</th><th scope=col>sqft_above</th><th scope=col>sqft_basement</th><th scope=col>yr_built</th><th scope=col>yr_renovated</th><th scope=col>zipcode</th><th scope=col>lat</th><th scope=col>long</th><th scope=col>sqft_living15</th><th scope=col>sqft_lot15</th></tr>\n",
       "\t<tr><th scope=col>&lt;dbl&gt;</th><th scope=col>&lt;fct&gt;</th><th scope=col>&lt;dbl&gt;</th><th scope=col>&lt;int&gt;</th><th scope=col>&lt;dbl&gt;</th><th scope=col>&lt;int&gt;</th><th scope=col>&lt;int&gt;</th><th scope=col>&lt;dbl&gt;</th><th scope=col>&lt;int&gt;</th><th scope=col>&lt;int&gt;</th><th scope=col>⋯</th><th scope=col>&lt;int&gt;</th><th scope=col>&lt;int&gt;</th><th scope=col>&lt;int&gt;</th><th scope=col>&lt;int&gt;</th><th scope=col>&lt;int&gt;</th><th scope=col>&lt;int&gt;</th><th scope=col>&lt;dbl&gt;</th><th scope=col>&lt;dbl&gt;</th><th scope=col>&lt;int&gt;</th><th scope=col>&lt;int&gt;</th></tr>\n",
       "</thead>\n",
       "<tbody>\n",
       "\t<tr><td>7129300520</td><td>20141013T000000</td><td> 221900</td><td>3</td><td>1.00</td><td>1180</td><td>  5650</td><td>1</td><td>0</td><td>0</td><td>⋯</td><td> 7</td><td>1180</td><td>   0</td><td>1955</td><td>   0</td><td>98178</td><td>47.5112</td><td>-122.257</td><td>1340</td><td>  5650</td></tr>\n",
       "\t<tr><td>6414100192</td><td>20141209T000000</td><td> 538000</td><td>3</td><td>2.25</td><td>2570</td><td>  7242</td><td>2</td><td>0</td><td>0</td><td>⋯</td><td> 7</td><td>2170</td><td> 400</td><td>1951</td><td>1991</td><td>98125</td><td>47.7210</td><td>-122.319</td><td>1690</td><td>  7639</td></tr>\n",
       "\t<tr><td>5631500400</td><td>20150225T000000</td><td> 180000</td><td>2</td><td>1.00</td><td> 770</td><td> 10000</td><td>1</td><td>0</td><td>0</td><td>⋯</td><td> 6</td><td> 770</td><td>   0</td><td>1933</td><td>   0</td><td>98028</td><td>47.7379</td><td>-122.233</td><td>2720</td><td>  8062</td></tr>\n",
       "\t<tr><td>2487200875</td><td>20141209T000000</td><td> 604000</td><td>4</td><td>3.00</td><td>1960</td><td>  5000</td><td>1</td><td>0</td><td>0</td><td>⋯</td><td> 7</td><td>1050</td><td> 910</td><td>1965</td><td>   0</td><td>98136</td><td>47.5208</td><td>-122.393</td><td>1360</td><td>  5000</td></tr>\n",
       "\t<tr><td>1954400510</td><td>20150218T000000</td><td> 510000</td><td>3</td><td>2.00</td><td>1680</td><td>  8080</td><td>1</td><td>0</td><td>0</td><td>⋯</td><td> 8</td><td>1680</td><td>   0</td><td>1987</td><td>   0</td><td>98074</td><td>47.6168</td><td>-122.045</td><td>1800</td><td>  7503</td></tr>\n",
       "\t<tr><td>7237550310</td><td>20140512T000000</td><td>1225000</td><td>4</td><td>4.50</td><td>5420</td><td>101930</td><td>1</td><td>0</td><td>0</td><td>⋯</td><td>11</td><td>3890</td><td>1530</td><td>2001</td><td>   0</td><td>98053</td><td>47.6561</td><td>-122.005</td><td>4760</td><td>101930</td></tr>\n",
       "</tbody>\n",
       "</table>\n"
      ],
      "text/latex": [
       "A data.frame: 6 × 21\n",
       "\\begin{tabular}{r|lllllllllllllllllllll}\n",
       " id & date & price & bedrooms & bathrooms & sqft\\_living & sqft\\_lot & floors & waterfront & view & condition & grade & sqft\\_above & sqft\\_basement & yr\\_built & yr\\_renovated & zipcode & lat & long & sqft\\_living15 & sqft\\_lot15\\\\\n",
       " <dbl> & <fct> & <dbl> & <int> & <dbl> & <int> & <int> & <dbl> & <int> & <int> & <int> & <int> & <int> & <int> & <int> & <int> & <int> & <dbl> & <dbl> & <int> & <int>\\\\\n",
       "\\hline\n",
       "\t 7129300520 & 20141013T000000 &  221900 & 3 & 1.00 & 1180 &   5650 & 1 & 0 & 0 & 3 &  7 & 1180 &    0 & 1955 &    0 & 98178 & 47.5112 & -122.257 & 1340 &   5650\\\\\n",
       "\t 6414100192 & 20141209T000000 &  538000 & 3 & 2.25 & 2570 &   7242 & 2 & 0 & 0 & 3 &  7 & 2170 &  400 & 1951 & 1991 & 98125 & 47.7210 & -122.319 & 1690 &   7639\\\\\n",
       "\t 5631500400 & 20150225T000000 &  180000 & 2 & 1.00 &  770 &  10000 & 1 & 0 & 0 & 3 &  6 &  770 &    0 & 1933 &    0 & 98028 & 47.7379 & -122.233 & 2720 &   8062\\\\\n",
       "\t 2487200875 & 20141209T000000 &  604000 & 4 & 3.00 & 1960 &   5000 & 1 & 0 & 0 & 5 &  7 & 1050 &  910 & 1965 &    0 & 98136 & 47.5208 & -122.393 & 1360 &   5000\\\\\n",
       "\t 1954400510 & 20150218T000000 &  510000 & 3 & 2.00 & 1680 &   8080 & 1 & 0 & 0 & 3 &  8 & 1680 &    0 & 1987 &    0 & 98074 & 47.6168 & -122.045 & 1800 &   7503\\\\\n",
       "\t 7237550310 & 20140512T000000 & 1225000 & 4 & 4.50 & 5420 & 101930 & 1 & 0 & 0 & 3 & 11 & 3890 & 1530 & 2001 &    0 & 98053 & 47.6561 & -122.005 & 4760 & 101930\\\\\n",
       "\\end{tabular}\n"
      ],
      "text/markdown": [
       "\n",
       "A data.frame: 6 × 21\n",
       "\n",
       "| id &lt;dbl&gt; | date &lt;fct&gt; | price &lt;dbl&gt; | bedrooms &lt;int&gt; | bathrooms &lt;dbl&gt; | sqft_living &lt;int&gt; | sqft_lot &lt;int&gt; | floors &lt;dbl&gt; | waterfront &lt;int&gt; | view &lt;int&gt; | ⋯ ⋯ | grade &lt;int&gt; | sqft_above &lt;int&gt; | sqft_basement &lt;int&gt; | yr_built &lt;int&gt; | yr_renovated &lt;int&gt; | zipcode &lt;int&gt; | lat &lt;dbl&gt; | long &lt;dbl&gt; | sqft_living15 &lt;int&gt; | sqft_lot15 &lt;int&gt; |\n",
       "|---|---|---|---|---|---|---|---|---|---|---|---|---|---|---|---|---|---|---|---|---|\n",
       "| 7129300520 | 20141013T000000 |  221900 | 3 | 1.00 | 1180 |   5650 | 1 | 0 | 0 | ⋯ |  7 | 1180 |    0 | 1955 |    0 | 98178 | 47.5112 | -122.257 | 1340 |   5650 |\n",
       "| 6414100192 | 20141209T000000 |  538000 | 3 | 2.25 | 2570 |   7242 | 2 | 0 | 0 | ⋯ |  7 | 2170 |  400 | 1951 | 1991 | 98125 | 47.7210 | -122.319 | 1690 |   7639 |\n",
       "| 5631500400 | 20150225T000000 |  180000 | 2 | 1.00 |  770 |  10000 | 1 | 0 | 0 | ⋯ |  6 |  770 |    0 | 1933 |    0 | 98028 | 47.7379 | -122.233 | 2720 |   8062 |\n",
       "| 2487200875 | 20141209T000000 |  604000 | 4 | 3.00 | 1960 |   5000 | 1 | 0 | 0 | ⋯ |  7 | 1050 |  910 | 1965 |    0 | 98136 | 47.5208 | -122.393 | 1360 |   5000 |\n",
       "| 1954400510 | 20150218T000000 |  510000 | 3 | 2.00 | 1680 |   8080 | 1 | 0 | 0 | ⋯ |  8 | 1680 |    0 | 1987 |    0 | 98074 | 47.6168 | -122.045 | 1800 |   7503 |\n",
       "| 7237550310 | 20140512T000000 | 1225000 | 4 | 4.50 | 5420 | 101930 | 1 | 0 | 0 | ⋯ | 11 | 3890 | 1530 | 2001 |    0 | 98053 | 47.6561 | -122.005 | 4760 | 101930 |\n",
       "\n"
      ],
      "text/plain": [
       "  id         date            price   bedrooms bathrooms sqft_living sqft_lot\n",
       "1 7129300520 20141013T000000  221900 3        1.00      1180          5650  \n",
       "2 6414100192 20141209T000000  538000 3        2.25      2570          7242  \n",
       "3 5631500400 20150225T000000  180000 2        1.00       770         10000  \n",
       "4 2487200875 20141209T000000  604000 4        3.00      1960          5000  \n",
       "5 1954400510 20150218T000000  510000 3        2.00      1680          8080  \n",
       "6 7237550310 20140512T000000 1225000 4        4.50      5420        101930  \n",
       "  floors waterfront view ⋯ grade sqft_above sqft_basement yr_built yr_renovated\n",
       "1 1      0          0    ⋯  7    1180          0          1955        0        \n",
       "2 2      0          0    ⋯  7    2170        400          1951     1991        \n",
       "3 1      0          0    ⋯  6     770          0          1933        0        \n",
       "4 1      0          0    ⋯  7    1050        910          1965        0        \n",
       "5 1      0          0    ⋯  8    1680          0          1987        0        \n",
       "6 1      0          0    ⋯ 11    3890       1530          2001        0        \n",
       "  zipcode lat     long     sqft_living15 sqft_lot15\n",
       "1 98178   47.5112 -122.257 1340            5650    \n",
       "2 98125   47.7210 -122.319 1690            7639    \n",
       "3 98028   47.7379 -122.233 2720            8062    \n",
       "4 98136   47.5208 -122.393 1360            5000    \n",
       "5 98074   47.6168 -122.045 1800            7503    \n",
       "6 98053   47.6561 -122.005 4760          101930    "
      ]
     },
     "metadata": {},
     "output_type": "display_data"
    },
    {
     "name": "stdout",
     "output_type": "stream",
     "text": [
      "'data.frame':\t21613 obs. of  21 variables:\n",
      " $ id           : num  7.13e+09 6.41e+09 5.63e+09 2.49e+09 1.95e+09 ...\n",
      " $ date         : Factor w/ 372 levels \"20140502T000000\",..: 165 221 291 221 284 11 57 252 340 306 ...\n",
      " $ price        : num  221900 538000 180000 604000 510000 ...\n",
      " $ bedrooms     : int  3 3 2 4 3 4 3 3 3 3 ...\n",
      " $ bathrooms    : num  1 2.25 1 3 2 4.5 2.25 1.5 1 2.5 ...\n",
      " $ sqft_living  : int  1180 2570 770 1960 1680 5420 1715 1060 1780 1890 ...\n",
      " $ sqft_lot     : int  5650 7242 10000 5000 8080 101930 6819 9711 7470 6560 ...\n",
      " $ floors       : num  1 2 1 1 1 1 2 1 1 2 ...\n",
      " $ waterfront   : int  0 0 0 0 0 0 0 0 0 0 ...\n",
      " $ view         : int  0 0 0 0 0 0 0 0 0 0 ...\n",
      " $ condition    : int  3 3 3 5 3 3 3 3 3 3 ...\n",
      " $ grade        : int  7 7 6 7 8 11 7 7 7 7 ...\n",
      " $ sqft_above   : int  1180 2170 770 1050 1680 3890 1715 1060 1050 1890 ...\n",
      " $ sqft_basement: int  0 400 0 910 0 1530 0 0 730 0 ...\n",
      " $ yr_built     : int  1955 1951 1933 1965 1987 2001 1995 1963 1960 2003 ...\n",
      " $ yr_renovated : int  0 1991 0 0 0 0 0 0 0 0 ...\n",
      " $ zipcode      : int  98178 98125 98028 98136 98074 98053 98003 98198 98146 98038 ...\n",
      " $ lat          : num  47.5 47.7 47.7 47.5 47.6 ...\n",
      " $ long         : num  -122 -122 -122 -122 -122 ...\n",
      " $ sqft_living15: int  1340 1690 2720 1360 1800 4760 2238 1650 1780 2390 ...\n",
      " $ sqft_lot15   : int  5650 7639 8062 5000 7503 101930 6819 9711 8113 7570 ...\n"
     ]
    }
   ],
   "source": [
    "hs <- read.csv(\"/dsa/data/all_datasets/house_sales_in_king_county/kc_house_data.csv\",header=TRUE)\n",
    "head(hs)\n",
    "str(hs)"
   ]
  },
  {
   "cell_type": "code",
   "execution_count": 7,
   "metadata": {},
   "outputs": [],
   "source": [
    "# these are factors\n",
    "hs$bedrooms = as.factor(hs$bedrooms)\n",
    "hs$floors = as.factor(hs$floors)"
   ]
  },
  {
   "cell_type": "markdown",
   "metadata": {},
   "source": [
    "Let's see if price is effected by number of bedrooms and number of floors; and also see if there is interaction between the two.\n",
    "**Your turn:**"
   ]
  },
  {
   "cell_type": "code",
   "execution_count": 8,
   "metadata": {},
   "outputs": [
    {
     "data": {
      "text/plain": [
       "                   Df    Sum Sq   Mean Sq F value Pr(>F)    \n",
       "bedrooms           12 3.103e+14 2.586e+13  232.94 <2e-16 ***\n",
       "floors              5 1.461e+14 2.921e+13  263.11 <2e-16 ***\n",
       "bedrooms:floors    33 6.280e+13 1.903e+12   17.14 <2e-16 ***\n",
       "Residuals       21562 2.394e+15 1.110e+11                   \n",
       "---\n",
       "Signif. codes:  0 ‘***’ 0.001 ‘**’ 0.01 ‘*’ 0.05 ‘.’ 0.1 ‘ ’ 1"
      ]
     },
     "metadata": {},
     "output_type": "display_data"
    }
   ],
   "source": [
    "fit3 <- aov(price ~ bedrooms*floors, data=hs)\n",
    "summary(fit3)"
   ]
  },
  {
   "cell_type": "markdown",
   "metadata": {},
   "source": [
    "As we can see, both variables have a significant effect and there is interaction between them \n",
    "(we would expect that). \n",
    "\n",
    "Let's see how we can apply MANOVA to this data set. \n",
    "We'd like to see if there is a relation between price and location. \n",
    "We will use the price as the independent variable and see if it has an effect on the location \n",
    "(usually the other way around makes more sense). \n",
    "Here we use \"lat\" and \"long\" as the coordinates of the location; so we need to bind them in order to apply MANOVA. "
   ]
  },
  {
   "cell_type": "code",
   "execution_count": 9,
   "metadata": {},
   "outputs": [
    {
     "data": {
      "text/plain": [
       " Response lat :\n",
       "               Df Sum Sq Mean Sq F value    Pr(>F)    \n",
       "price           1  39.11  39.109  2248.8 < 2.2e-16 ***\n",
       "Residuals   21611 375.84   0.017                      \n",
       "---\n",
       "Signif. codes:  0 ‘***’ 0.001 ‘**’ 0.01 ‘*’ 0.05 ‘.’ 0.1 ‘ ’ 1\n",
       "\n",
       " Response long :\n",
       "               Df Sum Sq  Mean Sq F value   Pr(>F)   \n",
       "price           1   0.20 0.200464  10.112 0.001475 **\n",
       "Residuals   21611 428.42 0.019824                    \n",
       "---\n",
       "Signif. codes:  0 ‘***’ 0.001 ‘**’ 0.01 ‘*’ 0.05 ‘.’ 0.1 ‘ ’ 1\n"
      ]
     },
     "metadata": {},
     "output_type": "display_data"
    }
   ],
   "source": [
    "fit4 <- aov(cbind(lat, long) ~ price, data = hs)\n",
    "summary(fit4)"
   ]
  },
  {
   "cell_type": "markdown",
   "metadata": {},
   "source": [
    "The price has more effect on lattitude than longitude (we know why from a previous practice); \n",
    "the p-value for lattitude is almost zero whereas the p-value for longitude is 0.0015 which suggests good significance. \n",
    "\n",
    "# Save your notebook!"
   ]
  }
 ],
 "metadata": {
  "kernelspec": {
   "display_name": "R",
   "language": "R",
   "name": "ir"
  },
  "language_info": {
   "codemirror_mode": "r",
   "file_extension": ".r",
   "mimetype": "text/x-r-source",
   "name": "R",
   "pygments_lexer": "r",
   "version": "3.5.1"
  }
 },
 "nbformat": 4,
 "nbformat_minor": 1
}
