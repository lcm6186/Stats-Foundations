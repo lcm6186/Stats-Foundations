{
 "cells": [
  {
   "cell_type": "markdown",
   "metadata": {},
   "source": [
    "# Statistical and Mathematical Foundations of Data Analytics\n",
    "\n",
    "This is an intermediate statistics class designed to build the mathematical foundation for students dealing with _Big Data phenomena_. \n",
    "Topics include discussions of probability, data sampling, data summarization, sampling distributions, statistical inference, statistical pattern analysis, regression, and non-parametric inference over multidimensional data collections. \n",
    "Students will engage in learning activities using various publicly available data sets \n",
    "and leveraging modern Data Science tools, techniques, and cyberinfrastructure."
   ]
  },
  {
   "cell_type": "markdown",
   "metadata": {},
   "source": [
    "## Course Module Schedule\n",
    "\n",
    "  1. [Introduction and Review of Statistics with R](./module1/Schedule.ipynb)\n",
    "  2. [Multivariate Statistics](./module2/Schedule.ipynb)\n",
    "  3. [Multivariate Exploration](./module3/Schedule.ipynb)\n",
    "  4. [Probabilities](./module4/Schedule.ipynb)\n",
    "  5. [Regression](./module5/Schedule.ipynb)\n",
    "  6. [Classification](./module6/Schedule.ipynb)\n",
    "  7. [Clustering](./module7/Schedule.ipynb)\n",
    "  8. [Analysis of Variance](./module8/Schedule.ipynb)\n",
    "  \n",
    "### Weekly Module Download\n",
    "\n",
    "Each Monday morning, the new module will become available.\n",
    "You will be using Git Pull to acquire the module's learning activities.  \n",
    "Clicking on the modules above before the content is pulled is expected to give you a **404 Error**\n",
    "\n",
    "#### Steps:\n",
    "  1. Open Terminal in JupyterHub\n",
    "  1. Change into the course folder,  \n",
    "  `cd __course_folder_name_here__`  \n",
    "  1. Execute command:  \n",
    "  `git pull   --no-edit   upstream   master`"
   ]
  },
  {
   "cell_type": "markdown",
   "metadata": {},
   "source": [
    "## Technologies\n",
    "\n",
    "  * R Programming Language"
   ]
  },
  {
   "cell_type": "markdown",
   "metadata": {},
   "source": [
    "## Weekly Module Schedule\n",
    "This is the suggested weekly schedule for each module\n",
    "  * Sunday - Monday: Readings, Videos, Labs and Practices\n",
    "  * Tuesday - Wednesday: Discussion Board Activities\n",
    "  * Thursday - Friday: Weekly Exercise(s)\n",
    "  \n",
    "All material will be released at the beginning of each module to allow you to work through the week and manage your time as needed.\n",
    "\n",
    "Module exercises will be collected 12:30 p.m. central time at the end of the Saturday after the exercise is assigned.  Specifically:\n",
    "    * Module 1 is optional\n",
    "    * Module 2 will be collected at 12:30 p.m. on Saturday, Jan. 30\n",
    "    * Module 3 will be collected at 12:30 p.m. on Saturday, Feb. 06\n",
    "    * Module 4 will be collected at 12:30 p.m. on Saturday, Feb. 13\n",
    "    * Module 5 will be collected at 12:30 p.m. on Saturday, Feb. 20\n",
    "    * Module 6 will be collected at 12:30 p.m. on Saturday, Feb. 27\n",
    "    * Module 7 will be collected at 12:30 p.m. on Saturday, Mar. 06\n",
    "    * Moduel 8 will be collected at 12:30 p.m. on Saturday, Mar. 13\n",
    "\n",
    "Exercises should be submitted by way of Git : Add, Commit, Push. More details will be provided in the learning activities on JupyterHub."
   ]
  },
  {
   "cell_type": "markdown",
   "metadata": {},
   "source": [
    "## Resources\n",
    "\n",
    "Each module will have reading links and resources.\n",
    "Please consult the weekly `Schedule` notebook and Canvas for details and modular particulars."
   ]
  }
 ],
 "metadata": {
  "kernelspec": {
   "display_name": "Python 3",
   "language": "python",
   "name": "python3"
  },
  "language_info": {
   "codemirror_mode": {
    "name": "ipython",
    "version": 3
   },
   "file_extension": ".py",
   "mimetype": "text/x-python",
   "name": "python",
   "nbconvert_exporter": "python",
   "pygments_lexer": "ipython3",
   "version": "3.7.3"
  }
 },
 "nbformat": 4,
 "nbformat_minor": 2
}
