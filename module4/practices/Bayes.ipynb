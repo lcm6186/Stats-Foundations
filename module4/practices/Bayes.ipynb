{
 "cells": [
  {
   "cell_type": "markdown",
   "metadata": {},
   "source": [
    "<span style=\"color:#1871d6; font-size:24px; font-weight:700\"> Bayes Theorem </span>\n",
    "\n",
    "The cigar example in the lab illustrates the application of Bayes' theorem with its calculation using the formula. \n",
    "Unfortunately, that calculation is complicated and can cause confusion and/or incorrect substitution of the involved\n",
    "probability values. \n",
    "Fortunately, here is another approach that is much more intuitive and easier:\n",
    "\n",
    "Assume some convenient value for the total of all items involved, \n",
    "then construct a table of rows and columns with the individual cell frequencies based on the known probabilities.\n",
    "\n",
    "For example, let's assume that the adult population in Boone County, Missouri is 100,000. \n",
    "Now we can use the given information to create a table.\n",
    "\n",
    "*Number of males who smoke cigars:* \n",
    "51% of adults are males; so there are 51,000 males. \n",
    "If 9.5% of them smoke, that makes 0.095 x 51,000 = 4845. \n",
    "Then, males who do not smoke are 51,000 - 4845 = 46,155.\n",
    "See the table where these values go.\n",
    "\n",
    "\n",
    "*Number of females who smoke cigars:* 49% of the adults are females, that makes 49,000. \n",
    "1.7% of them are smokers, so 0.017 x 49,000 = 833. \n",
    "The number of females who do not smoke is 49,000 - 833 = 48,167. \n",
    "Again look at the table below. "
   ]
  },
  {
   "cell_type": "code",
   "execution_count": 1,
   "metadata": {},
   "outputs": [
    {
     "data": {
      "text/html": [
       "<table>\n",
       "<caption>A table: 3 × 3 of type dbl</caption>\n",
       "<thead>\n",
       "\t<tr><th></th><th scope=col>smoker</th><th scope=col>nonsmoker</th><th scope=col>Sum</th></tr>\n",
       "</thead>\n",
       "<tbody>\n",
       "\t<tr><th scope=row>male</th><td>4845</td><td>46155</td><td> 51000</td></tr>\n",
       "\t<tr><th scope=row>female</th><td> 833</td><td>48167</td><td> 49000</td></tr>\n",
       "\t<tr><th scope=row>Sum</th><td>5678</td><td>94322</td><td>100000</td></tr>\n",
       "</tbody>\n",
       "</table>\n"
      ],
      "text/latex": [
       "A table: 3 × 3 of type dbl\n",
       "\\begin{tabular}{r|lll}\n",
       "  & smoker & nonsmoker & Sum\\\\\n",
       "\\hline\n",
       "\tmale & 4845 & 46155 &  51000\\\\\n",
       "\tfemale &  833 & 48167 &  49000\\\\\n",
       "\tSum & 5678 & 94322 & 100000\\\\\n",
       "\\end{tabular}\n"
      ],
      "text/markdown": [
       "\n",
       "A table: 3 × 3 of type dbl\n",
       "\n",
       "| <!--/--> | smoker | nonsmoker | Sum |\n",
       "|---|---|---|---|\n",
       "| male | 4845 | 46155 |  51000 |\n",
       "| female |  833 | 48167 |  49000 |\n",
       "| Sum | 5678 | 94322 | 100000 |\n",
       "\n"
      ],
      "text/plain": [
       "       smoker nonsmoker Sum   \n",
       "male   4845   46155      51000\n",
       "female  833   48167      49000\n",
       "Sum    5678   94322     100000"
      ]
     },
     "metadata": {},
     "output_type": "display_data"
    }
   ],
   "source": [
    "cigar <- matrix(c(4845, 833, 46155, 48167), ncol = 2)\n",
    "colnames(cigar) <- c('smoker', 'nonsmoker')\n",
    "rownames(cigar) <- c('male', 'female')\n",
    "cigar.table <- as.table(cigar)\n",
    "\n",
    "addmargins(cigar.table)"
   ]
  },
  {
   "cell_type": "markdown",
   "metadata": {},
   "source": [
    "The above table involves simple arithmetic. \n",
    "Simply partition the assumed population into the different cell categories by finding suitable percentages.\n",
    "\n",
    "Now we can easily address the key question as follows: \n",
    "To find the probability of getting a male subject, given that the subject smokes cigars, \n",
    "simply use the same conditional probability described before. \n",
    "\n",
    "To find the probability of getting a male given that the subject smokes, \n",
    "restrict the table to the column of cigar smokers, \n",
    "then find the probability of getting a male in that column.\n",
    "Among the 5678 cigar smokers, there are 4845 males, so the probability we seek is 4845/5678 = 0.85329341. \n",
    "That is, $P(M | C)$ = 4845/5678 = 0.85329341 = 0.853 (rounded).\n",
    "\n",
    "**Activity 1:** \n",
    "Now, your turn: \n",
    "The actual population of Boone County, Missouri is 170,733 (as of 2013).\n",
    "Create the above table with actual population values for the given percentages and find the actual $P(M | C)$."
   ]
  },
  {
   "cell_type": "code",
   "execution_count": 2,
   "metadata": {},
   "outputs": [
    {
     "data": {
      "text/html": [
       "87073.83"
      ],
      "text/latex": [
       "87073.83"
      ],
      "text/markdown": [
       "87073.83"
      ],
      "text/plain": [
       "[1] 87073.83"
      ]
     },
     "metadata": {},
     "output_type": "display_data"
    },
    {
     "data": {
      "text/html": [
       "83659.17"
      ],
      "text/latex": [
       "83659.17"
      ],
      "text/markdown": [
       "83659.17"
      ],
      "text/plain": [
       "[1] 83659.17"
      ]
     },
     "metadata": {},
     "output_type": "display_data"
    }
   ],
   "source": [
    "#51% - Male\n",
    "#49% - Female\n",
    "#9.5% - M Smoke\n",
    "#1.7% - F Smoke\n",
    "\n",
    "170733 * 0.51\n",
    "170733 * 0.49"
   ]
  },
  {
   "cell_type": "code",
   "execution_count": 3,
   "metadata": {},
   "outputs": [
    {
     "data": {
      "text/html": [
       "8272.03"
      ],
      "text/latex": [
       "8272.03"
      ],
      "text/markdown": [
       "8272.03"
      ],
      "text/plain": [
       "[1] 8272.03"
      ]
     },
     "metadata": {},
     "output_type": "display_data"
    },
    {
     "data": {
      "text/html": [
       "78801.97"
      ],
      "text/latex": [
       "78801.97"
      ],
      "text/markdown": [
       "78801.97"
      ],
      "text/plain": [
       "[1] 78801.97"
      ]
     },
     "metadata": {},
     "output_type": "display_data"
    },
    {
     "data": {
      "text/html": [
       "1422.203"
      ],
      "text/latex": [
       "1422.203"
      ],
      "text/markdown": [
       "1422.203"
      ],
      "text/plain": [
       "[1] 1422.203"
      ]
     },
     "metadata": {},
     "output_type": "display_data"
    },
    {
     "data": {
      "text/html": [
       "82236.797"
      ],
      "text/latex": [
       "82236.797"
      ],
      "text/markdown": [
       "82236.797"
      ],
      "text/plain": [
       "[1] 82236.8"
      ]
     },
     "metadata": {},
     "output_type": "display_data"
    }
   ],
   "source": [
    "# Rounding\n",
    "# M = 87,074\n",
    "# F = 83,659\n",
    "\n",
    "87074 * 0.095\n",
    "87074 - (87074 * 0.095)\n",
    "\n",
    "83659 * 0.017\n",
    "83659 - (83659 * 0.017)"
   ]
  },
  {
   "cell_type": "code",
   "execution_count": 4,
   "metadata": {},
   "outputs": [
    {
     "data": {
      "text/html": [
       "<table>\n",
       "<caption>A table: 3 × 3 of type dbl</caption>\n",
       "<thead>\n",
       "\t<tr><th></th><th scope=col>smoker</th><th scope=col>nonsmoker</th><th scope=col>Sum</th></tr>\n",
       "</thead>\n",
       "<tbody>\n",
       "\t<tr><th scope=row>male</th><td>8272</td><td> 78802</td><td> 87074</td></tr>\n",
       "\t<tr><th scope=row>female</th><td>1422</td><td> 82237</td><td> 83659</td></tr>\n",
       "\t<tr><th scope=row>Sum</th><td>9694</td><td>161039</td><td>170733</td></tr>\n",
       "</tbody>\n",
       "</table>\n"
      ],
      "text/latex": [
       "A table: 3 × 3 of type dbl\n",
       "\\begin{tabular}{r|lll}\n",
       "  & smoker & nonsmoker & Sum\\\\\n",
       "\\hline\n",
       "\tmale & 8272 &  78802 &  87074\\\\\n",
       "\tfemale & 1422 &  82237 &  83659\\\\\n",
       "\tSum & 9694 & 161039 & 170733\\\\\n",
       "\\end{tabular}\n"
      ],
      "text/markdown": [
       "\n",
       "A table: 3 × 3 of type dbl\n",
       "\n",
       "| <!--/--> | smoker | nonsmoker | Sum |\n",
       "|---|---|---|---|\n",
       "| male | 8272 |  78802 |  87074 |\n",
       "| female | 1422 |  82237 |  83659 |\n",
       "| Sum | 9694 | 161039 | 170733 |\n",
       "\n"
      ],
      "text/plain": [
       "       smoker nonsmoker Sum   \n",
       "male   8272    78802     87074\n",
       "female 1422    82237     83659\n",
       "Sum    9694   161039    170733"
      ]
     },
     "metadata": {},
     "output_type": "display_data"
    }
   ],
   "source": [
    "# Add your code here\n",
    "# --------------------\n",
    "\n",
    "cigar <- matrix(c(8272, 1422, 78802, 82237), ncol = 2)\n",
    "colnames(cigar) <- c('smoker', 'nonsmoker')\n",
    "rownames(cigar) <- c('male', 'female')\n",
    "cigar.table <- as.table(cigar)\n",
    "\n",
    "addmargins(cigar.table)"
   ]
  },
  {
   "cell_type": "markdown",
   "metadata": {},
   "source": [
    "a) Now, using the same table, randomly select an individual, what is the prior probability that the selected person is a female?\n",
    "\n",
    "b) You later learn that the randomly selected person was smoking a cigar. \n",
    "Use this additional information to find the posterior probability that the selected person is a female."
   ]
  },
  {
   "cell_type": "code",
   "execution_count": 5,
   "metadata": {},
   "outputs": [
    {
     "data": {
      "text/html": [
       "<table>\n",
       "<caption>A matrix: 3 × 3 of type dbl</caption>\n",
       "<thead>\n",
       "\t<tr><th></th><th scope=col>smoker</th><th scope=col>nonsmoker</th><th scope=col>Sum</th></tr>\n",
       "</thead>\n",
       "<tbody>\n",
       "\t<tr><th scope=row>male</th><td>0.048449919</td><td>0.4615511</td><td>0.510001</td></tr>\n",
       "\t<tr><th scope=row>female</th><td>0.008328794</td><td>0.4816702</td><td>0.489999</td></tr>\n",
       "\t<tr><th scope=row>Sum</th><td>0.056778713</td><td>0.9432213</td><td>1.000000</td></tr>\n",
       "</tbody>\n",
       "</table>\n"
      ],
      "text/latex": [
       "A matrix: 3 × 3 of type dbl\n",
       "\\begin{tabular}{r|lll}\n",
       "  & smoker & nonsmoker & Sum\\\\\n",
       "\\hline\n",
       "\tmale & 0.048449919 & 0.4615511 & 0.510001\\\\\n",
       "\tfemale & 0.008328794 & 0.4816702 & 0.489999\\\\\n",
       "\tSum & 0.056778713 & 0.9432213 & 1.000000\\\\\n",
       "\\end{tabular}\n"
      ],
      "text/markdown": [
       "\n",
       "A matrix: 3 × 3 of type dbl\n",
       "\n",
       "| <!--/--> | smoker | nonsmoker | Sum |\n",
       "|---|---|---|---|\n",
       "| male | 0.048449919 | 0.4615511 | 0.510001 |\n",
       "| female | 0.008328794 | 0.4816702 | 0.489999 |\n",
       "| Sum | 0.056778713 | 0.9432213 | 1.000000 |\n",
       "\n"
      ],
      "text/plain": [
       "       smoker      nonsmoker Sum     \n",
       "male   0.048449919 0.4615511 0.510001\n",
       "female 0.008328794 0.4816702 0.489999\n",
       "Sum    0.056778713 0.9432213 1.000000"
      ]
     },
     "metadata": {},
     "output_type": "display_data"
    }
   ],
   "source": [
    "addmargins(prop.table(cigar))"
   ]
  },
  {
   "cell_type": "code",
   "execution_count": 6,
   "metadata": {},
   "outputs": [
    {
     "data": {
      "text/html": [
       "<ol class=list-inline>\n",
       "\t<li>0.0255</li>\n",
       "\t<li>0.00049</li>\n",
       "</ol>\n"
      ],
      "text/latex": [
       "\\begin{enumerate*}\n",
       "\\item 0.0255\n",
       "\\item 0.00049\n",
       "\\end{enumerate*}\n"
      ],
      "text/markdown": [
       "1. 0.0255\n",
       "2. 0.00049\n",
       "\n",
       "\n"
      ],
      "text/plain": [
       "[1] 0.02550 0.00049"
      ]
     },
     "metadata": {},
     "output_type": "display_data"
    }
   ],
   "source": [
    "# Add your code here\n",
    "# --------------------\n",
    "\n",
    "prior_probs <- c(0.51, .049)\n",
    "\n",
    "like <- c(0.05, 0.01)\n",
    "\n",
    "post <- prior_probs * like\n",
    "post"
   ]
  },
  {
   "cell_type": "code",
   "execution_count": 7,
   "metadata": {},
   "outputs": [
    {
     "data": {
      "text/html": [
       "<ol class=list-inline>\n",
       "\t<li>0.981146594844171</li>\n",
       "\t<li>0.0188534051558292</li>\n",
       "</ol>\n"
      ],
      "text/latex": [
       "\\begin{enumerate*}\n",
       "\\item 0.981146594844171\n",
       "\\item 0.0188534051558292\n",
       "\\end{enumerate*}\n"
      ],
      "text/markdown": [
       "1. 0.981146594844171\n",
       "2. 0.0188534051558292\n",
       "\n",
       "\n"
      ],
      "text/plain": [
       "[1] 0.98114659 0.01885341"
      ]
     },
     "metadata": {},
     "output_type": "display_data"
    }
   ],
   "source": [
    "post/sum(post)"
   ]
  },
  {
   "cell_type": "markdown",
   "metadata": {},
   "source": [
    "Based on the above, there is only a ~2% chance that a randomly selected smoker is a female. "
   ]
  },
  {
   "cell_type": "markdown",
   "metadata": {},
   "source": [
    "Load the framingham data from the directory '/datasets/framingham'."
   ]
  },
  {
   "cell_type": "code",
   "execution_count": 12,
   "metadata": {},
   "outputs": [
    {
     "data": {
      "text/html": [
       "<table>\n",
       "<caption>A data.frame: 6 × 16</caption>\n",
       "<thead>\n",
       "\t<tr><th scope=col>male</th><th scope=col>age</th><th scope=col>education</th><th scope=col>currentSmoker</th><th scope=col>cigsPerDay</th><th scope=col>BPMeds</th><th scope=col>prevalentStroke</th><th scope=col>prevalentHyp</th><th scope=col>diabetes</th><th scope=col>totChol</th><th scope=col>sysBP</th><th scope=col>diaBP</th><th scope=col>BMI</th><th scope=col>heartRate</th><th scope=col>glucose</th><th scope=col>TenYearCHD</th></tr>\n",
       "\t<tr><th scope=col>&lt;int&gt;</th><th scope=col>&lt;int&gt;</th><th scope=col>&lt;int&gt;</th><th scope=col>&lt;int&gt;</th><th scope=col>&lt;int&gt;</th><th scope=col>&lt;int&gt;</th><th scope=col>&lt;int&gt;</th><th scope=col>&lt;int&gt;</th><th scope=col>&lt;int&gt;</th><th scope=col>&lt;int&gt;</th><th scope=col>&lt;dbl&gt;</th><th scope=col>&lt;dbl&gt;</th><th scope=col>&lt;dbl&gt;</th><th scope=col>&lt;int&gt;</th><th scope=col>&lt;int&gt;</th><th scope=col>&lt;int&gt;</th></tr>\n",
       "</thead>\n",
       "<tbody>\n",
       "\t<tr><td>1</td><td>39</td><td>4</td><td>0</td><td> 0</td><td>0</td><td>0</td><td>0</td><td>0</td><td>195</td><td>106.0</td><td> 70</td><td>26.97</td><td>80</td><td> 77</td><td>0</td></tr>\n",
       "\t<tr><td>0</td><td>46</td><td>2</td><td>0</td><td> 0</td><td>0</td><td>0</td><td>0</td><td>0</td><td>250</td><td>121.0</td><td> 81</td><td>28.73</td><td>95</td><td> 76</td><td>0</td></tr>\n",
       "\t<tr><td>1</td><td>48</td><td>1</td><td>1</td><td>20</td><td>0</td><td>0</td><td>0</td><td>0</td><td>245</td><td>127.5</td><td> 80</td><td>25.34</td><td>75</td><td> 70</td><td>0</td></tr>\n",
       "\t<tr><td>0</td><td>61</td><td>3</td><td>1</td><td>30</td><td>0</td><td>0</td><td>1</td><td>0</td><td>225</td><td>150.0</td><td> 95</td><td>28.58</td><td>65</td><td>103</td><td>1</td></tr>\n",
       "\t<tr><td>0</td><td>46</td><td>3</td><td>1</td><td>23</td><td>0</td><td>0</td><td>0</td><td>0</td><td>285</td><td>130.0</td><td> 84</td><td>23.10</td><td>85</td><td> 85</td><td>0</td></tr>\n",
       "\t<tr><td>0</td><td>43</td><td>2</td><td>0</td><td> 0</td><td>0</td><td>0</td><td>1</td><td>0</td><td>228</td><td>180.0</td><td>110</td><td>30.30</td><td>77</td><td> 99</td><td>0</td></tr>\n",
       "</tbody>\n",
       "</table>\n"
      ],
      "text/latex": [
       "A data.frame: 6 × 16\n",
       "\\begin{tabular}{r|llllllllllllllll}\n",
       " male & age & education & currentSmoker & cigsPerDay & BPMeds & prevalentStroke & prevalentHyp & diabetes & totChol & sysBP & diaBP & BMI & heartRate & glucose & TenYearCHD\\\\\n",
       " <int> & <int> & <int> & <int> & <int> & <int> & <int> & <int> & <int> & <int> & <dbl> & <dbl> & <dbl> & <int> & <int> & <int>\\\\\n",
       "\\hline\n",
       "\t 1 & 39 & 4 & 0 &  0 & 0 & 0 & 0 & 0 & 195 & 106.0 &  70 & 26.97 & 80 &  77 & 0\\\\\n",
       "\t 0 & 46 & 2 & 0 &  0 & 0 & 0 & 0 & 0 & 250 & 121.0 &  81 & 28.73 & 95 &  76 & 0\\\\\n",
       "\t 1 & 48 & 1 & 1 & 20 & 0 & 0 & 0 & 0 & 245 & 127.5 &  80 & 25.34 & 75 &  70 & 0\\\\\n",
       "\t 0 & 61 & 3 & 1 & 30 & 0 & 0 & 1 & 0 & 225 & 150.0 &  95 & 28.58 & 65 & 103 & 1\\\\\n",
       "\t 0 & 46 & 3 & 1 & 23 & 0 & 0 & 0 & 0 & 285 & 130.0 &  84 & 23.10 & 85 &  85 & 0\\\\\n",
       "\t 0 & 43 & 2 & 0 &  0 & 0 & 0 & 1 & 0 & 228 & 180.0 & 110 & 30.30 & 77 &  99 & 0\\\\\n",
       "\\end{tabular}\n"
      ],
      "text/markdown": [
       "\n",
       "A data.frame: 6 × 16\n",
       "\n",
       "| male &lt;int&gt; | age &lt;int&gt; | education &lt;int&gt; | currentSmoker &lt;int&gt; | cigsPerDay &lt;int&gt; | BPMeds &lt;int&gt; | prevalentStroke &lt;int&gt; | prevalentHyp &lt;int&gt; | diabetes &lt;int&gt; | totChol &lt;int&gt; | sysBP &lt;dbl&gt; | diaBP &lt;dbl&gt; | BMI &lt;dbl&gt; | heartRate &lt;int&gt; | glucose &lt;int&gt; | TenYearCHD &lt;int&gt; |\n",
       "|---|---|---|---|---|---|---|---|---|---|---|---|---|---|---|---|\n",
       "| 1 | 39 | 4 | 0 |  0 | 0 | 0 | 0 | 0 | 195 | 106.0 |  70 | 26.97 | 80 |  77 | 0 |\n",
       "| 0 | 46 | 2 | 0 |  0 | 0 | 0 | 0 | 0 | 250 | 121.0 |  81 | 28.73 | 95 |  76 | 0 |\n",
       "| 1 | 48 | 1 | 1 | 20 | 0 | 0 | 0 | 0 | 245 | 127.5 |  80 | 25.34 | 75 |  70 | 0 |\n",
       "| 0 | 61 | 3 | 1 | 30 | 0 | 0 | 1 | 0 | 225 | 150.0 |  95 | 28.58 | 65 | 103 | 1 |\n",
       "| 0 | 46 | 3 | 1 | 23 | 0 | 0 | 0 | 0 | 285 | 130.0 |  84 | 23.10 | 85 |  85 | 0 |\n",
       "| 0 | 43 | 2 | 0 |  0 | 0 | 0 | 1 | 0 | 228 | 180.0 | 110 | 30.30 | 77 |  99 | 0 |\n",
       "\n"
      ],
      "text/plain": [
       "  male age education currentSmoker cigsPerDay BPMeds prevalentStroke\n",
       "1 1    39  4         0              0         0      0              \n",
       "2 0    46  2         0              0         0      0              \n",
       "3 1    48  1         1             20         0      0              \n",
       "4 0    61  3         1             30         0      0              \n",
       "5 0    46  3         1             23         0      0              \n",
       "6 0    43  2         0              0         0      0              \n",
       "  prevalentHyp diabetes totChol sysBP diaBP BMI   heartRate glucose TenYearCHD\n",
       "1 0            0        195     106.0  70   26.97 80         77     0         \n",
       "2 0            0        250     121.0  81   28.73 95         76     0         \n",
       "3 0            0        245     127.5  80   25.34 75         70     0         \n",
       "4 1            0        225     150.0  95   28.58 65        103     1         \n",
       "5 0            0        285     130.0  84   23.10 85         85     0         \n",
       "6 1            0        228     180.0 110   30.30 77         99     0         "
      ]
     },
     "metadata": {},
     "output_type": "display_data"
    }
   ],
   "source": [
    "framingham_data <- read.csv(\"/dsa/data/all_datasets/framingham/framingham.csv\")\n",
    "head(framingham_data)"
   ]
  },
  {
   "cell_type": "markdown",
   "metadata": {},
   "source": [
    "**Activity 2:** Create a two-way table from this data set with diabetes condition in the columns and gender in the rows. Use addmargins to add totals.\n"
   ]
  },
  {
   "cell_type": "code",
   "execution_count": 17,
   "metadata": {},
   "outputs": [],
   "source": [
    "dia <- with(framingham_data,table(framingham_data$diabetes,framingham_data$male))\n",
    "colnames(dia) <- c('nondiabetes','diabetes')\n",
    "rownames(dia) <- c('female','male')\n",
    "dia.table <- as.table(dia)"
   ]
  },
  {
   "cell_type": "code",
   "execution_count": 19,
   "metadata": {},
   "outputs": [
    {
     "data": {
      "text/html": [
       "<table>\n",
       "<caption>A table: 3 × 3 of type dbl</caption>\n",
       "<thead>\n",
       "\t<tr><th></th><th scope=col>nondiabetes</th><th scope=col>diabetes</th><th scope=col>Sum</th></tr>\n",
       "</thead>\n",
       "<tbody>\n",
       "\t<tr><th scope=row>female</th><td>2363</td><td>1768</td><td>4131</td></tr>\n",
       "\t<tr><th scope=row>male</th><td>  57</td><td>  52</td><td> 109</td></tr>\n",
       "\t<tr><th scope=row>Sum</th><td>2420</td><td>1820</td><td>4240</td></tr>\n",
       "</tbody>\n",
       "</table>\n"
      ],
      "text/latex": [
       "A table: 3 × 3 of type dbl\n",
       "\\begin{tabular}{r|lll}\n",
       "  & nondiabetes & diabetes & Sum\\\\\n",
       "\\hline\n",
       "\tfemale & 2363 & 1768 & 4131\\\\\n",
       "\tmale &   57 &   52 &  109\\\\\n",
       "\tSum & 2420 & 1820 & 4240\\\\\n",
       "\\end{tabular}\n"
      ],
      "text/markdown": [
       "\n",
       "A table: 3 × 3 of type dbl\n",
       "\n",
       "| <!--/--> | nondiabetes | diabetes | Sum |\n",
       "|---|---|---|---|\n",
       "| female | 2363 | 1768 | 4131 |\n",
       "| male |   57 |   52 |  109 |\n",
       "| Sum | 2420 | 1820 | 4240 |\n",
       "\n"
      ],
      "text/plain": [
       "        \n",
       "         nondiabetes diabetes Sum \n",
       "  female 2363        1768     4131\n",
       "  male     57          52      109\n",
       "  Sum    2420        1820     4240"
      ]
     },
     "metadata": {},
     "output_type": "display_data"
    }
   ],
   "source": [
    "addmargins(dia.table)"
   ]
  },
  {
   "cell_type": "code",
   "execution_count": 20,
   "metadata": {},
   "outputs": [
    {
     "data": {
      "text/html": [
       "<table>\n",
       "<caption>A table: 3 × 3 of type dbl</caption>\n",
       "<thead>\n",
       "\t<tr><th></th><th scope=col>nondiabetes</th><th scope=col>diabetes</th><th scope=col>Sum</th></tr>\n",
       "</thead>\n",
       "<tbody>\n",
       "\t<tr><th scope=row>female</th><td>0.5573113</td><td>0.41698113</td><td>0.97429245</td></tr>\n",
       "\t<tr><th scope=row>male</th><td>0.0134434</td><td>0.01226415</td><td>0.02570755</td></tr>\n",
       "\t<tr><th scope=row>Sum</th><td>0.5707547</td><td>0.42924528</td><td>1.00000000</td></tr>\n",
       "</tbody>\n",
       "</table>\n"
      ],
      "text/latex": [
       "A table: 3 × 3 of type dbl\n",
       "\\begin{tabular}{r|lll}\n",
       "  & nondiabetes & diabetes & Sum\\\\\n",
       "\\hline\n",
       "\tfemale & 0.5573113 & 0.41698113 & 0.97429245\\\\\n",
       "\tmale & 0.0134434 & 0.01226415 & 0.02570755\\\\\n",
       "\tSum & 0.5707547 & 0.42924528 & 1.00000000\\\\\n",
       "\\end{tabular}\n"
      ],
      "text/markdown": [
       "\n",
       "A table: 3 × 3 of type dbl\n",
       "\n",
       "| <!--/--> | nondiabetes | diabetes | Sum |\n",
       "|---|---|---|---|\n",
       "| female | 0.5573113 | 0.41698113 | 0.97429245 |\n",
       "| male | 0.0134434 | 0.01226415 | 0.02570755 |\n",
       "| Sum | 0.5707547 | 0.42924528 | 1.00000000 |\n",
       "\n"
      ],
      "text/plain": [
       "        \n",
       "         nondiabetes diabetes   Sum       \n",
       "  female 0.5573113   0.41698113 0.97429245\n",
       "  male   0.0134434   0.01226415 0.02570755\n",
       "  Sum    0.5707547   0.42924528 1.00000000"
      ]
     },
     "metadata": {},
     "output_type": "display_data"
    }
   ],
   "source": [
    "addmargins(prop.table(dia.table))"
   ]
  },
  {
   "cell_type": "markdown",
   "metadata": {},
   "source": [
    "**Activity 3:** What is the probability that an individual has diabetes, given that the individual is female?  Let <b>d</b> be an event of diabetes and <b>d'</b> be event of nondiabetes.\n",
    "Similarly let $f$ be the event of female and $f'$ be event of male. \n",
    "Find $P(d | f)$ using Bayes formula.\n",
    "\n",
    "            \n",
    "                         p(d) * p(f|d)\n",
    "     p(d|f) =  -------------------------------------\n",
    "               [p(d) * p(f|d)] + [ p(d') * p(f|d')]"
   ]
  },
  {
   "cell_type": "code",
   "execution_count": 21,
   "metadata": {},
   "outputs": [
    {
     "data": {
      "text/html": [
       "0.361344537815126"
      ],
      "text/latex": [
       "0.361344537815126"
      ],
      "text/markdown": [
       "0.361344537815126"
      ],
      "text/plain": [
       "[1] 0.3613445"
      ]
     },
     "metadata": {},
     "output_type": "display_data"
    }
   ],
   "source": [
    "# Add your code here\n",
    "# --------------------\n",
    "\n",
    "\n",
    "(0.43 * 0.42) / ((0.43 * 0.42) + (0.57 * 0.56))"
   ]
  },
  {
   "cell_type": "markdown",
   "metadata": {},
   "source": [
    "# Save your notebook!"
   ]
  }
 ],
 "metadata": {
  "kernelspec": {
   "display_name": "R",
   "language": "R",
   "name": "ir"
  },
  "language_info": {
   "codemirror_mode": "r",
   "file_extension": ".r",
   "mimetype": "text/x-r-source",
   "name": "R",
   "pygments_lexer": "r",
   "version": "3.5.1"
  }
 },
 "nbformat": 4,
 "nbformat_minor": 1
}
