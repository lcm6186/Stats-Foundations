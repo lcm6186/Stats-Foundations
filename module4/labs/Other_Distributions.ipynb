{
 "cells": [
  {
   "cell_type": "markdown",
   "metadata": {
    "collapsed": true
   },
   "source": [
    "<span style=\"color:#1871d6; font-size:24px; font-weight:700\"> Normal distributions"
   ]
  },
  {
   "cell_type": "markdown",
   "metadata": {},
   "source": [
    "We saw in module 1 how a normal distribution looks and discussed what questions we can answer about a variable knowing that it is normally distributed. \n",
    "We can say a distribution, X, is normally distributed mathematically as below... \n",
    "\n",
    "$$ X ∼ norm(mean = µ, sd = σ) $$\n",
    "\n",
    "where µ (mu) is the mean of the normal distribution and σ (sigma) is the standard deviation of the distribution. \n",
    "\n",
    "The associated R function, which generates a standard normal distribution with mean 0 and standard deviation of 1, is `dnorm(x, mean = 0, sd = 1)`.\n",
    "\n",
    "**Reference:** Discrete and continuous probability distributions: https://stattrek.com/probability-distributions/discrete-continuous.aspx"
   ]
  },
  {
   "cell_type": "markdown",
   "metadata": {},
   "source": [
    "-----\n",
    "\n",
    "The values of the distribution lie around the (sample) mean in specific proportions.  This is commonly called the <span style=\"color:#e57f0b; font-size:14px; font-weight:700\">68-95-99.7</span> rule. \n",
    "We can see where this rule comes from using `pnorm()` function in R.\n",
    "\n",
    "Here is a summary that goes over some of the functions we're about to cover: http://seankross.com/notes/dpqr/\n",
    "\n",
    "\n",
    "<span style=\"color:#e57f0b; font-size:14px; font-weight:700\">pnorm()</span>\n",
    "\n",
    "The function pnorm() returns the **area under the curve**, from −∞ (negative infinity) to $q$ of the probability density function (pdf) of the normal distribution.  `pnorm()` takes $q$, the mean, and the standard deviation as its arguments.  If mean and standard deviation are not specified, it considers mean = 0 and sd = 1 by default. The pnorm() function can also take the argument `lower.tail`. If `lower.tail` is set equal to FALSE, then pnorm returns the integral from $q$ to ∞ (positive infinity) of the pdf of the normal distribution.  You can think of `pnorm()` as being the function that replaces the table of probabilites and Z-scores at the back of every statistics textbook.  When plotted in R, `pnorm()` returns the cumulative distribution function (cdf) of the normal distribution.  In fact, this function also goes by the name **Cumulative Distribution Function**.\n",
    "\n",
    "This video provides an introduction to continuous probability distributions and probability density functions: https://www.youtube.com/watch?v=OWSOhpS00_s&list=PLvxOuBpazmsPDZGwqhhjE3KkLWnTD34R0.\n",
    "\n",
    "In the below example, the `pnorm()` function takes 3 numbers (i.e., 1, 2, and 3) and returns the area under the curve (i.e., called the _integral_) for the normal distribution.  That is, it returns the area under the curve that is from −∞ to each number (i.e., $q$).  The areas under the curve (i.e., probabilities) are determined according to the 68-95-99.7 rule. \n",
    "\n",
    "Below, we are not supplying the mean and standard deviation to the function. \n",
    "So, mean and sd are assumed to be 0 and 1, respectively, by default.\n",
    "So, what is the area below the curve that is to the left of the first input value '1'? \n",
    "We know that 50% of the area under standard normal curve will be below the mean. "
   ]
  },
  {
   "cell_type": "code",
   "execution_count": 2,
   "metadata": {},
   "outputs": [
    {
     "data": {
      "text/html": [
       "0.841344746068543"
      ],
      "text/latex": [
       "0.841344746068543"
      ],
      "text/markdown": [
       "0.841344746068543"
      ],
      "text/plain": [
       "[1] 0.8413447"
      ]
     },
     "metadata": {},
     "output_type": "display_data"
    },
    {
     "data": {
      "text/html": [
       "0.977249868051821"
      ],
      "text/latex": [
       "0.977249868051821"
      ],
      "text/markdown": [
       "0.977249868051821"
      ],
      "text/plain": [
       "[1] 0.9772499"
      ]
     },
     "metadata": {},
     "output_type": "display_data"
    },
    {
     "data": {
      "text/html": [
       "0.99865010196837"
      ],
      "text/latex": [
       "0.99865010196837"
      ],
      "text/markdown": [
       "0.99865010196837"
      ],
      "text/plain": [
       "[1] 0.9986501"
      ]
     },
     "metadata": {},
     "output_type": "display_data"
    },
    {
     "data": {
      "text/html": [
       "0.999968328758167"
      ],
      "text/latex": [
       "0.999968328758167"
      ],
      "text/markdown": [
       "0.999968328758167"
      ],
      "text/plain": [
       "[1] 0.9999683"
      ]
     },
     "metadata": {},
     "output_type": "display_data"
    }
   ],
   "source": [
    "# These probabilities are for numbers that are found to the right of the mean\n",
    "pnorm(1)\n",
    "pnorm(2)\n",
    "pnorm(3)\n",
    "pnorm(4)"
   ]
  },
  {
   "cell_type": "code",
   "execution_count": 3,
   "metadata": {},
   "outputs": [
    {
     "data": {
      "text/html": [
       "<ol class=list-inline>\n",
       "\t<li>0.000133830225764885</li>\n",
       "\t<li>0.00013928497646576</li>\n",
       "\t<li>0.000144947560423891</li>\n",
       "\t<li>0.000150825271550518</li>\n",
       "\t<li>0.000156925634065532</li>\n",
       "\t<li>0.000163256408766242</li>\n",
       "</ol>\n"
      ],
      "text/latex": [
       "\\begin{enumerate*}\n",
       "\\item 0.000133830225764885\n",
       "\\item 0.00013928497646576\n",
       "\\item 0.000144947560423891\n",
       "\\item 0.000150825271550518\n",
       "\\item 0.000156925634065532\n",
       "\\item 0.000163256408766242\n",
       "\\end{enumerate*}\n"
      ],
      "text/markdown": [
       "1. 0.000133830225764885\n",
       "2. 0.00013928497646576\n",
       "3. 0.000144947560423891\n",
       "4. 0.000150825271550518\n",
       "5. 0.000156925634065532\n",
       "6. 0.000163256408766242\n",
       "\n",
       "\n"
      ],
      "text/plain": [
       "[1] 0.0001338302 0.0001392850 0.0001449476 0.0001508253 0.0001569256\n",
       "[6] 0.0001632564"
      ]
     },
     "metadata": {},
     "output_type": "display_data"
    }
   ],
   "source": [
    "sequence <- seq(-4, 4, .01)\n",
    "\n",
    "# dnorm() - Given a set of values, dnorm() returns the height of the probability distribution at each point. It \n",
    "# assumes a mean of 0 and standard deviation of 1 if not supplied with data.\n",
    "\n",
    "densities <- dnorm(sequence, 0, 1)\n",
    "\n",
    "head(densities)"
   ]
  },
  {
   "cell_type": "code",
   "execution_count": 4,
   "metadata": {},
   "outputs": [
    {
     "data": {
      "image/png": "[encoded data removed]",
      "text/plain": [
       "Plot with title “PDF of Standard Normal Distribution”"
      ]
     },
     "metadata": {},
     "output_type": "display_data"
    }
   ],
   "source": [
    "par(pin = c(4, 4))  # par() is used to set or query graphical parameters\n",
    "                    # Here, we set the size of the plot to 4\" by 4\". \n",
    "\n",
    "plot(sequence,  # Plotting the values (-4, -3.99, -3.98,..., 3.98, 3.99, 4) on x axis\n",
    "     densities, # Plotting the corresponding probability densities of the values \n",
    "                # (-4, -3.99, -3.98,..., 3.98, 3.99, 4) on y axis\n",
    "     col = \"blue\", xlab = \"\", ylab = \"Density\", type = \"l\", lwd = 2, cex = 2,  \n",
    "     main = \"PDF of Standard Normal Distribution\", cex.axis = .8)\n",
    "\n",
    "#Vertical lines at 1, 2, and 3 standard deviations from the mean \n",
    "abline(v = c(-1, 1), col = ('red'))   # Draw a vertical line at standard deviation of 1\n",
    "abline(v = c(-2, 2), col = ('green')) # Draw a vertical line at standard deviation of 2\n",
    "abline(v = c(-3, 3), col = ('blue'))  # Draw a vertical line at standard deviation of 3\n",
    "axis(1, at = c(-3, -2, -1, 0, 1, 2, 3), \n",
    "     labels = c(0.001, 0.02, 0.15, 0.5, 0.84, 0.97, 0.99), # The labels {0.001,0.02,0.15,0.5,0.84,0.97,0.99} \n",
    "                                                           # represent the areas under normal curve before \n",
    "                                                           # each value.          \n",
    "     las = 2, col.axis = \"red\", cex.axis = 0.7)"
   ]
  },
  {
   "cell_type": "code",
   "execution_count": 5,
   "metadata": {},
   "outputs": [
    {
     "data": {
      "text/html": [
       "<ol class=list-inline>\n",
       "\t<li>0.158655253931457</li>\n",
       "\t<li>0.0227501319481792</li>\n",
       "\t<li>0.00134989803163009</li>\n",
       "</ol>\n"
      ],
      "text/latex": [
       "\\begin{enumerate*}\n",
       "\\item 0.158655253931457\n",
       "\\item 0.0227501319481792\n",
       "\\item 0.00134989803163009\n",
       "\\end{enumerate*}\n"
      ],
      "text/markdown": [
       "1. 0.158655253931457\n",
       "2. 0.0227501319481792\n",
       "3. 0.00134989803163009\n",
       "\n",
       "\n"
      ],
      "text/plain": [
       "[1] 0.158655254 0.022750132 0.001349898"
      ]
     },
     "metadata": {},
     "output_type": "display_data"
    }
   ],
   "source": [
    "# These probabilities are for numbers found to the left of the mean\n",
    "pnorm(-(1:3))"
   ]
  },
  {
   "cell_type": "markdown",
   "metadata": {},
   "source": [
    "When you subtract the areas of probability for numbers on left tail with those on the right tail, you will see why the values of the distribution fall within the proportions of 68.2-95.4-99.7"
   ]
  },
  {
   "cell_type": "code",
   "execution_count": 6,
   "metadata": {},
   "outputs": [
    {
     "data": {
      "text/html": [
       "<ol class=list-inline>\n",
       "\t<li>0.682689492137086</li>\n",
       "\t<li>0.954499736103642</li>\n",
       "\t<li>0.99730020393674</li>\n",
       "</ol>\n"
      ],
      "text/latex": [
       "\\begin{enumerate*}\n",
       "\\item 0.682689492137086\n",
       "\\item 0.954499736103642\n",
       "\\item 0.99730020393674\n",
       "\\end{enumerate*}\n"
      ],
      "text/markdown": [
       "1. 0.682689492137086\n",
       "2. 0.954499736103642\n",
       "3. 0.99730020393674\n",
       "\n",
       "\n"
      ],
      "text/plain": [
       "[1] 0.6826895 0.9544997 0.9973002"
      ]
     },
     "metadata": {},
     "output_type": "display_data"
    }
   ],
   "source": [
    "# Note, this is a vector math operation:  A = right tail vector, B = left tail vector\n",
    "# A - B\n",
    "pnorm(1:3) - pnorm(-(1:3))"
   ]
  },
  {
   "cell_type": "markdown",
   "metadata": {},
   "source": [
    "**Question: ** A random experiment consist of a person taking an IQ test. \n",
    "Let `X` be the score on the test.\n",
    "The test scores have a mean of 100 and a standard deviation of 15. \n",
    "What is P(85 ≤ X ≤ 115)?\n",
    "\n",
    "\n",
    "**Solution:** We need to find the area on the normal curve where this scores will fall. \n",
    "The limits 85 and 115 fall exactly one standard deviation (below and above, respectively) from the mean of 100. \n",
    "The answer is therefore approximately 68%. \n",
    "So the probability of a person getting a score between 85 and 115 is 68%. "
   ]
  },
  {
   "cell_type": "markdown",
   "metadata": {},
   "source": [
    "<span style=\"color:#e57f0b; font-size:14px; font-weight:700\">qnorm() </span>\n",
    "\n",
    "`qnorm()` returns a Z-score for the quantile (i.e., the cut point) passed through the function.  It assumes a normal distribution.  `qnorm()` is the inverse of `pnorm()` and thus returns the inverse of the cumulative distribution function (i.e., -cdf) of the normal distribution.\n",
    "\n",
    "The default arguments use a mean of zero and standard deviation of one. \n",
    "\n",
    "**Question:** Continuing with our previous example of IQ, \n",
    "what is the lowest possible IQ score that a person can have and still be in the top 1% of all IQ scores?\n",
    "\n",
    "**Solution:** We are looking for _q_ when X = 0.99, where X ∼ norm(mean = 100, sd = 15). "
   ]
  },
  {
   "cell_type": "code",
   "execution_count": 7,
   "metadata": {},
   "outputs": [
    {
     "data": {
      "text/html": [
       "134.895218110613"
      ],
      "text/latex": [
       "134.895218110613"
      ],
      "text/markdown": [
       "134.895218110613"
      ],
      "text/plain": [
       "[1] 134.8952"
      ]
     },
     "metadata": {},
     "output_type": "display_data"
    }
   ],
   "source": [
    "#The below function should return the distribution value at the given probability.\n",
    "qnorm(0.99, mean = 100, sd = 15)"
   ]
  },
  {
   "cell_type": "markdown",
   "metadata": {},
   "source": [
    "So, the answer is approximately 134.8952. A person with this IQ score or higher falls in the top 1% of all IQ scores"
   ]
  },
  {
   "cell_type": "markdown",
   "metadata": {},
   "source": [
    "<span style=\"color:#1871d6; font-size:24px; font-weight:700\"> Normal distribution as an approximation for the binomial distribution</span>\n",
    "\n",
    "<span style=\"color:#e57f0b; font-size:16px; font-weight:700\">Binomial distributions</span>\n",
    "\n",
    "When you flip a coin, there are two possible outcomes: heads or tails. \n",
    "Each outcome has a fixed probability of 1/2, the same from trial to trial.\n",
    "Here we consider probability distributions for which there are just two possible \n",
    "outcomes, with fixed probabilities summing to one. \n",
    "These distributions are called binomial distributions.\n",
    "\n",
    "The formula we use for calculating probabilities in a binomial distribution is given below, \n",
    "(note that the \"!\" means \"factorial\", which is a number multiplied by the progressive \n",
    "reduction of itself down to 1 ... such that 3! is 3 x 2 x 1 = 6 and 2! is 2 x 1 = 2)\n",
    "\n",
    "<img src='../images/binomial_formula.gif'>\n",
    "\n",
    "... where P(x) is the probability of x successes out of N trials, \n",
    "N is the number of trials, and π is the probability of success on a given trial. \n",
    "Applying this to the coin flip example, if N = 2:\n",
    "\n",
    "<img src='../images/binomial2.gif'>\n",
    "\n",
    "image src: http://onlinestatbook.com/2/probability/binomial.html\n",
    "\n",
    "Now if we were to toss a coin 12 times, what is the probability that the coin will land on heads from 0 to 3 times? \n",
    "The answer is found by computing the probability of exactly 0 heads, exactly 1 head, exactly 2 heads, and exactly 3 heads -- and then adding those probabilities together.  The probability of getting from 0 to 3 heads is then the sum of these probabilities.  The probabilities are: 0.0002, 0.0029, 0.0161, and 0.0537.  So the sum of the probabilities is 0.073.  The calculation of cumulative binomial probabilities can be quite tedious.   \n",
    "  \n",
    "Abraham de Moivre, an 18th century statistician noted that when the number of events (coin flips) increased, \n",
    "the shape of the binomial distribution approached a very smooth curve. \n",
    "The curve he discovered is now called the \"normal curve.\"\n",
    "\n"
   ]
  },
  {
   "cell_type": "markdown",
   "metadata": {},
   "source": [
    "Assume you have a fair coin and wish to know the probability that you would get 8 heads out of 10 flips.\n",
    "The binomial distribution has a mean of $\\mu$ = Nπ = (10)(0.5) = 5 and a variance of $\\sigma^2$ = Nπ(1-π) = (10)(0.5)(0.5) = 2.5. \n",
    "The standard deviation $\\sigma$ is therefore 1.5811. \n",
    "\n",
    "    8 - no of heads\n",
    "\n",
    "    5 - mean of the population\n",
    "\n",
    "    1.5811 - SD of population\n",
    "\n",
    "A total of 8 heads is (8 - 5) / 1.5811 = 1.897 standard deviations above the mean of the distribution. \n",
    "\n",
    "A binomial distribution is a type of **discrete probability distribution**, because it relates each value of a discrete random variable (in this example, heads or tails) with its probability of occurrence.  As stated earlier, as the number of samples in a binomial distribution increases, the curve will be seen to approach a normal distribution.  \n",
    "\n",
    "However, truly normal distributions are **continuous probability distributions**; and in these distributions, the variable is continuous -- not discrete.  The equation used to describe a continuous probability distribution is called a probability density function (aka a density function, a PDF, or a pdf).   \n",
    "\n",
    "For continuous probability distributions, the question then is, \"What is the probability of getting a value exactly _n_ standard deviations above the mean?\" You may be surprised to learn that the answer is 0.  In a continuous probability distribution, the probability of the variable being equal to any given value (e.g., 8) is 0.\n",
    "\n",
    "To determine probability with continuous probability distributions, the solution in this case would be to round off and consider any value from 7.5 to 8.5 to represent an outcome of 8. \n",
    "Using this approach, we would figure out the area under a normal curve from 7.5 to 8.5\n",
    "\n",
    "<img src='../images/normal_binom_p.gif'>"
   ]
  },
  {
   "cell_type": "code",
   "execution_count": 8,
   "metadata": {},
   "outputs": [
    {
     "data": {
      "text/html": [
       "2.21364872557081"
      ],
      "text/latex": [
       "2.21364872557081"
      ],
      "text/markdown": [
       "2.21364872557081"
      ],
      "text/plain": [
       "[1] 2.213649"
      ]
     },
     "metadata": {},
     "output_type": "display_data"
    },
    {
     "data": {
      "text/html": [
       "1.581177661122"
      ],
      "text/latex": [
       "1.581177661122"
      ],
      "text/markdown": [
       "1.581177661122"
      ],
      "text/plain": [
       "[1] 1.581178"
      ]
     },
     "metadata": {},
     "output_type": "display_data"
    },
    {
     "data": {
      "text/html": [
       "0.632471064448802"
      ],
      "text/latex": [
       "0.632471064448802"
      ],
      "text/markdown": [
       "0.632471064448802"
      ],
      "text/plain": [
       "[1] 0.6324711"
      ]
     },
     "metadata": {},
     "output_type": "display_data"
    }
   ],
   "source": [
    "# There are two ways to find the area under a curve\n",
    "    # a) Using a table of the standard normal distribution (a Z table)\n",
    "    # b) Using pnormGC() function as shown below\n",
    "\n",
    "# Here, we assume the mean is 5 and the standard deviation is 1.5811\n",
    "# Find the z-score to find out the area\n",
    "#Z score for 8.5\n",
    "Z1 = (8.5 - 5) / 1.5811\n",
    "Z1\n",
    "\n",
    "#Z score for 7.5\n",
    "Z2 = (7.5 - 5) / 1.5811\n",
    "Z2\n",
    "\n",
    "Z1 - Z2"
   ]
  },
  {
   "cell_type": "markdown",
   "metadata": {},
   "source": [
    "**Reference**: <a href=\"http://www.z-table.com/\">click here for z-score table</a>"
   ]
  },
  {
   "cell_type": "code",
   "execution_count": 9,
   "metadata": {},
   "outputs": [
    {
     "name": "stderr",
     "output_type": "stream",
     "text": [
      "also installing the dependencies ‘processx’, ‘pkgbuild’, ‘diffobj’, ‘rematch2’, ‘brio’, ‘callr’, ‘cli’, ‘desc’, ‘pkgload’, ‘praise’, ‘ps’, ‘waldo’, ‘withr’, ‘testthat’, ‘farver’, ‘vctrs’, ‘isoband’, ‘tweenr’, ‘polyclip’, ‘RcppEigen’, ‘haven’, ‘ggplot2’, ‘ggforce’, ‘labelled’, ‘ggformula’, ‘mosaicCore’, ‘ggstance’, ‘ggridges’, ‘rlang’, ‘ggdendro’, ‘abd’, ‘mosaic’, ‘mosaicData’, ‘manipulate’\n",
      "\n",
      "Updating HTML index of packages in '.Library'\n",
      "Making 'packages.html' ... done\n",
      "Loading required package: abd\n",
      "Loading required package: nlme\n",
      "Loading required package: lattice\n",
      "Loading required package: grid\n",
      "Loading required package: mosaic\n",
      "Error: package or namespace load failed for ‘mosaic’ in loadNamespace(i, c(lib.loc, .libPaths()), versionCheck = vI[[i]]):\n",
      " namespace ‘rlang’ 0.4.0 is already loaded, but >= 0.4.7 is required\n"
     ]
    },
    {
     "ename": "ERROR",
     "evalue": "Error: package ‘mosaic’ could not be loaded\n",
     "output_type": "error",
     "traceback": [
      "Error: package ‘mosaic’ could not be loaded\nTraceback:\n",
      "1. library(tigerstats)",
      "2. .getRequiredPackages2(pkgInfo, quietly = quietly)",
      "3. library(pkg, character.only = TRUE, logical.return = TRUE, lib.loc = lib.loc, \n .     quietly = quietly)",
      "4. .getRequiredPackages2(pkgInfo, quietly = quietly)",
      "5. stop(gettextf(\"package %s could not be loaded\", sQuote(pkg)), \n .     call. = FALSE, domain = NA)"
     ]
    }
   ],
   "source": [
    "# Area below Z1 of 2.21 using pnormGC function\n",
    "install.packages(\"tigerstats\")\n",
    "library(tigerstats) # tigerstats\n",
    "\n",
    "#This gives P(7.5 < X < 8.5), for standard normal X:\n",
    "pnormGC(c(8.5, 7.5), region=\"between\", mean = 5, sd = 1.5811, graph = TRUE)"
   ]
  },
  {
   "cell_type": "markdown",
   "metadata": {},
   "source": [
    "The area 0.043492234454135 is an approximation of the probability of obtaining 8 heads.\n",
    "\n",
    "The same logic applies when calculating the probability of a range of outcomes. For example, to calculate the probability of 7 to 10 flips, calculate the area from 7.5 to 10.5.\n",
    "\n",
    "**Reference: ** [pnormGC()](https://www.rdocumentation.org/packages/tigerstats/versions/0.3/topics/pnormGC)\n",
    "\n",
    "**Reference: ** [tigerstats package](https://cran.r-project.org/web/packages/tigerstats/tigerstats.pdf)"
   ]
  },
  {
   "cell_type": "markdown",
   "metadata": {},
   "source": [
    "<span style=\"color:#e57f0b; font-size:16px; font-weight:700\"> Binomial Distribution </span>\n",
    "\n",
    "The binomial distribution is based on a Bernoulli trial (Binomial trial), \n",
    "which is a random experiment in which there are only two possible outcomes: \n",
    "success (S) and failure (F). \n",
    "We conduct the Bernoulli trial and let\n",
    "\n",
    "\\begin{gather*}     \n",
    "X =\n",
    "\\begin{cases}\n",
    "1 & \\text {if the outcome is S ,}\\\\\n",
    "0 & \\text {if the outcome is F.}\\\\\n",
    "\\end{cases}\n",
    "\\end{gather*}\n",
    "\n",
    "If the probability of success is **p** then the probability of failure must be 1 − p = q.\n",
    "\n",
    "The probability mass function (PMF) is a function that gives the probability that a discrete random variable is exactly equal to some value.  The probability mass function is often the primary means of defining a discrete probability distribution.  \n",
    "The PMF can be represented mathematically like this:\n",
    "\n",
    "$P(X = x) = f(x)$,                  \n",
    "\n",
    "Where _X_ is the random discrete variable and _x_ is some value of _X_.  \n"
   ]
  },
  {
   "cell_type": "markdown",
   "metadata": {},
   "source": [
    "<span style=\"color:#e57f0b; font-size:14px; font-weight:700\"> The Binomial Model </span>\n",
    " \n",
    "The Binomial model has three defining properties:\n",
    "    \n",
    "    • Bernoulli trials are conducted n times,\n",
    "    • the trials are independent,\n",
    "    • the probability of success (p) does not change between trials.\n",
    "\n",
    "If a random variable `X` follows the binomial distribution with parameters n ∈ N (total number of trials) and p ∈ [0,1] (probability range),\n",
    "we can write X ~ B(n, p). \n",
    "\n",
    "The probability of getting exactly k successes in n trials is given by the probability mass function.  Note the presence of the binomial coefficient in the formula.\n",
    "\n",
    "<img src=\"../images/binomial_dist.JPG\">\n",
    "\n",
    "Image src: https://en.wikipedia.org/wiki/Binomial_distribution\n",
    "\n",
    "(Click on the link for an explanation of the formula.)"
   ]
  },
  {
   "cell_type": "markdown",
   "metadata": {},
   "source": [
    "#### How to replicate the same in R:\n",
    "\n",
    "There are R functions for probability mass functions (PMFs) that correspond to the functions we discussed previously for continuous probability distributions.  They are `dbinom()` and `pbinom()`.  `dbinom()` returns the height (i.e., density) of the probability distribution at each point.  `pbinom()` returns the distribution function (i.e., the area under the curve).  We demonstrate their use in the following examples.\n",
    "\n",
    "Example: Roll 12 dice simultaneously, and let X denote the number of 6s that appear. \n",
    "We wish to find the probability of getting seven, eight, or nine 6s at the same time. \n",
    "If we let S = { get a 6 on one roll }, then P(S) = 1/6 and the rolls constitute Bernoulli trials; \n",
    "thus X ∼ binom(size =12, prob =1/6) and our task is to find P(7 ≤ X ≤ 9). \n",
    "This is just\n",
    "\n",
    "$P(7 ≤ X ≤ 9) = P(X ≤9) − P(X ≤ 6) = F_x(9) − F_x(6)$"
   ]
  },
  {
   "cell_type": "code",
   "execution_count": 10,
   "metadata": {},
   "outputs": [
    {
     "data": {
      "text/html": [
       "0.999999213977451"
      ],
      "text/latex": [
       "0.999999213977451"
      ],
      "text/markdown": [
       "0.999999213977451"
      ],
      "text/plain": [
       "[1] 0.9999992"
      ]
     },
     "metadata": {},
     "output_type": "display_data"
    },
    {
     "data": {
      "text/html": [
       "0.998707456435369"
      ],
      "text/latex": [
       "0.998707456435369"
      ],
      "text/markdown": [
       "0.998707456435369"
      ],
      "text/plain": [
       "[1] 0.9987075"
      ]
     },
     "metadata": {},
     "output_type": "display_data"
    },
    {
     "data": {
      "text/html": [
       "0.00129175754208255"
      ],
      "text/latex": [
       "0.00129175754208255"
      ],
      "text/markdown": [
       "0.00129175754208255"
      ],
      "text/plain": [
       "[1] 0.001291758"
      ]
     },
     "metadata": {},
     "output_type": "display_data"
    }
   ],
   "source": [
    "pbinom(9, size=12, prob=1/6)\n",
    "\n",
    "pbinom(6, size=12, prob=1/6)\n",
    "\n",
    "pbinom(9, size=12, prob=1/6) - pbinom(6, size=12, prob=1/6)"
   ]
  },
  {
   "cell_type": "markdown",
   "metadata": {},
   "source": [
    "**Example:** Toss a coin three times and let X be the number of Heads observed.\n",
    "We know from before that X ∼ binom(size = 3, prob = 1/2) which implies the following PMF:\n",
    "\n",
    "x = # of Heads   |  0   1   2   3\n",
    "----------------|-----------------\n",
    "f(x) = IP(X = x)| 1/8 3/8 3/8 1/8"
   ]
  },
  {
   "cell_type": "code",
   "execution_count": 13,
   "metadata": {},
   "outputs": [
    {
     "name": "stderr",
     "output_type": "stream",
     "text": [
      "Updating HTML index of packages in '.Library'\n",
      "Making 'packages.html' ... done\n"
     ]
    },
    {
     "data": {
      "text/plain": [
       "Distribution Object of Class: Binom\n",
       " size: 3\n",
       " prob: 0.5"
      ]
     },
     "metadata": {},
     "output_type": "display_data"
    }
   ],
   "source": [
    "install.packages(\"distr\") #,repo=\"https://cran.cnr.berkeley.edu/\"\n",
    "library(distr)\n",
    "x <- Binom(size = 3, prob = 1/2)\n",
    "x"
   ]
  },
  {
   "cell_type": "code",
   "execution_count": 14,
   "metadata": {},
   "outputs": [
    {
     "data": {
      "text/html": [
       "'0.125 , 0.375 , 0.375 , 0.125'"
      ],
      "text/latex": [
       "'0.125 , 0.375 , 0.375 , 0.125'"
      ],
      "text/markdown": [
       "'0.125 , 0.375 , 0.375 , 0.125'"
      ],
      "text/plain": [
       "[1] \"0.125 , 0.375 , 0.375 , 0.125\""
      ]
     },
     "metadata": {},
     "output_type": "display_data"
    }
   ],
   "source": [
    "# Returns the height (i.e., density) of the probability distribution at each point\n",
    "# pmf of X evaluated at x = 0,1,2,3\n",
    "\n",
    "paste(d(x)(0),',', d(x)(1),',', d(x)(2),',',d(x)(3)) "
   ]
  },
  {
   "cell_type": "code",
   "execution_count": 15,
   "metadata": {},
   "outputs": [
    {
     "data": {
      "text/html": [
       "'0.125 , 0.5 , 0.875 , 1'"
      ],
      "text/latex": [
       "'0.125 , 0.5 , 0.875 , 1'"
      ],
      "text/markdown": [
       "'0.125 , 0.5 , 0.875 , 1'"
      ],
      "text/plain": [
       "[1] \"0.125 , 0.5 , 0.875 , 1\""
      ]
     },
     "metadata": {},
     "output_type": "display_data"
    }
   ],
   "source": [
    "# Returns the area under the curve at each point\n",
    "# cdf of X evaluated at x = 0, 1, 2, 3\n",
    "\n",
    "paste(p(x)(0),',', p(x)(1),',', p(x)(2),',',p(x)(3)) "
   ]
  },
  {
   "cell_type": "markdown",
   "metadata": {},
   "source": [
    "### This concludes the extra distributions notebook"
   ]
  }
 ],
 "metadata": {
  "kernelspec": {
   "display_name": "R",
   "language": "R",
   "name": "ir"
  },
  "language_info": {
   "codemirror_mode": "r",
   "file_extension": ".r",
   "mimetype": "text/x-r-source",
   "name": "R",
   "pygments_lexer": "r",
   "version": "3.5.1"
  }
 },
 "nbformat": 4,
 "nbformat_minor": 1
}
