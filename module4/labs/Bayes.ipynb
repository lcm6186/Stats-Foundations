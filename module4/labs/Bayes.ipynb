{
 "cells": [
  {
   "cell_type": "markdown",
   "metadata": {
    "collapsed": true
   },
   "source": [
    "### Bayesian Statistics with Conditional Probability\n",
    "\n",
    "\n",
    "People rely on the collective intelligence of previous experiences to protect themselves or to make better decisions in the future, \n",
    "like saving themselves from eating bad food at the wrong restaurant. \n",
    "\n",
    "We discussed conditional probability of an event as the probability obtained using additional information that some other event has already occurred. \n",
    "If the occurrence of Event B is dependent on Event A, we used the following formula for finding P(B|A):\n",
    "\n",
    "                                             P(A ∩ B)  \n",
    "                                    P(B|A) = --------  \n",
    "                                               P(A)\n",
    "\n",
    "In this notebook, \n",
    "we will extend the discussion of conditional probability to applications of Bayes' theorem (or Bayes' rule). \n",
    "Bayes' rule is used to update prior probabilities based on information that is obtained later. \n",
    "Bayes' theorem deals with sequences of events where each occurrence of a subsequent event provides \n",
    "new information that is used to revise the probability of the previous event.\n",
    "The terms _prior probability_ and _posterior probability_ are the common terms for this.\n",
    "\n",
    "**Prior probability** (a priori) is an initial probability value obtained before any additional information is obtained.\n",
    "\n",
    "**Posterior probability** (a posteriori) is a probability value that has been revised by using additional information that is later obtained."
   ]
  },
  {
   "cell_type": "markdown",
   "metadata": {},
   "source": [
    "### Bayes' Theorem\n",
    "\n",
    "Bayes' Theorem: https://www.youtube.com/watch?v=R13BD8qKeTg\n",
    "\n",
    "The probability of event A, given that event X has subsequently occurred, is mathematically represented as below:\n",
    "\n",
    "                                          P(X|A) * P(A)\n",
    "                  P(A|X) = ------------------------------------------\n",
    "                          [P(A) * P(X|A)] + [ P(not A) * P(X|not A)]\n",
    "                                  \n",
    "\n",
    "Consider an example of conducting cancer tests. \n",
    "Tests detect things that don’t exist (false positive) and miss things that do exist (false negative).\n",
    "People often consider the test results directly, without considering the errors in the tests. \n",
    "Bayes’ theorem converts the results from a test into the real probability of the event. \n",
    "\n",
    "**Correct for measurement errors...** \n",
    "If you know the real probabilities and the chance of a false positive and false negative, \n",
    "you can correct for measurement errors.\n",
    "\n",
    "**Relate the actual probability to the measured test probability...** \n",
    "Bayes’ theorem lets you relate `P(A|X)`, the chance that an event A happened given the indicator X, \n",
    "and `P(X|A)`, the chance the indicator X happened given that event A occurred. \n",
    "Given mammogram test results and known error rates, you can predict the actual chance of having cancer.\n",
    "\n",
    "Bayes’ Theorem: \n",
    "It lets you take the test results and correct for the “skew” introduced by false positives. \n",
    "Consider the example of a cancer test again to illustrate what Bayes' formula is doing.\n",
    "\n",
    "Let 'A' be the event of person having cancer.\n",
    "Let 'X' be the event of positive test\n",
    "\n",
    "P(A|X) = Chance of having cancer (A) given a positive test (X). \n",
    "**This is what we want to know**: \n",
    "How likely is it to have cancer with a positive result?\n",
    "\n",
    "P(X|A) = Chance of a positive test (X) given that you had cancer (A). This is the chance of a true positive.\n",
    "\n",
    "P(A) = Chance of having cancer.\n",
    "\n",
    "P(not A) = Chance of not having cancer.\n",
    "\n",
    "P(X|not A) = Chance of a positive test (X) given that you didn’t have cancer (~A). \n",
    "This is a false positive.\n"
   ]
  },
  {
   "cell_type": "markdown",
   "metadata": {},
   "source": [
    "It all comes down to the chance of a true positive result divided by the chance of any positive result. So we can simplify Bayes' Theorem like this:\n",
    "\n",
    "                      P(X|A) * P(A)\n",
    "            P(A|X) = ---------------\n",
    "                          P(X)          <- Read the note below about what P(X) actually represents\n",
    "\n",
    "\n",
    "**What do the probabilities in this formula represent?**\n",
    "\n",
    "<ul>\n",
    "    <li>P(A|X) is the probability that you have cancer (A) if you tested positive (X)</li>\n",
    "    <br><li>P(X|A) is the probability that you would test positive (X) if you had cancer (A)</li>\n",
    "    <br><li>P(A) represents the PRIOR probability of having cancer (that is, the likelihood of having cancer before having the test done.  Note that in some problems, this probability can be difficult to quantify.  Consider that there will be instances when P(A) needs to be revised -- for example, if a positive test result is obtained a first time, and the same test is run again to see if a second run of the test also shows the same result.  See  this video, starting at the 4:54 mark: https://www.youtube.com/watch?v=R13BD8qKeTg</li>\n",
    "    <br><li>P(X) is the **total probability** of the test being positive.  </li>\n",
    "</ul>\n",
    "\n",
    "Number 4 is total probability. It represents the probability of having cancer AND testing positive for cancer [i.e., P(A) multiplied by P(X|A)] **PLUS** the probability of NOT having cancer AND having a false positive result [i.e., P(not A) multiplied by P(X|not A)].  \n",
    "\n",
    "So in mathematical terms, the **denominator** of the above equation [P(X)] is determined as follows: \n",
    "\n",
    "          P(X) = [P(A) * P(X|A)] + (P(~A) * P(X|~A)]\n",
    "          \n",
    "\n",
    "The example below illustrates the formula... "
   ]
  },
  {
   "cell_type": "markdown",
   "metadata": {},
   "source": [
    "----\n",
    "`1. Consider an example:` In Boone County, Missouri 51% of the adults are males.\n",
    "One adult is randomly selected for a survey involving credit card usage. \n",
    "What is the prior probability that the selected person is a male?"
   ]
  },
  {
   "cell_type": "markdown",
   "metadata": {},
   "source": [
    "**Solution** It's known that 51% of the adults in the county are males. \n",
    "\n",
    "Consider A to be the event of selecting an adult male. \n",
    "So the probability of randomly selecting an adult and getting a male is given by P(A) = 0.51"
   ]
  },
  {
   "cell_type": "markdown",
   "metadata": {},
   "source": [
    "`2. Let's take this a step further:` \n",
    "Now consider that the same survey also includes questions about smoking cigars, and the adult selected above was also selected because this person is known to smoke cigars.   \n",
    "\n",
    "Based on data from the Substance Abuse and Mental Health Services Administration, we know that 9.5% of males smoke cigars, whereas 1.7% of females smoke cigars.  Now _use this additional information_ (i.e., Bayes Theorem) to find the probability that the selected subject was a male."
   ]
  },
  {
   "cell_type": "markdown",
   "metadata": {},
   "source": [
    "**Solution:** Based on the additional given information, we have the following:\n",
    "    \n",
    "Let X denote the event that the adult smokes cigars\n",
    "       \n",
    "    X' (pronounced _X prime_) is the complement event of X and represents the event that the adult does not smoke cigars\n",
    "        \n",
    "    P(A) = 0.51 because 51% of the adults are males\n",
    "  \n",
    "    A' (pronounced _A prime_) is the complement event of A and represents the event that the adult is not a male (i.e., is a female)\n",
    "    \n",
    "    P(A') = 0.49 because 49% of the adults are females (not males)\n",
    "    \n",
    "    P(X|A) = 0.095 because 9.5% of the males smoke cigars \n",
    "    (That is, the probability of getting someone who smokes cigars, given that the person is a male, is 0.095.)\n",
    "\n",
    "    P(X|A') = 0.017 because 1.7% of the females smoke cigars \n",
    "    (That is, the probability of getting someone who smokes cigars, given that the person is a female, is 0.017)\n",
    "\n",
    "Applying Bayes' theorem to the information above, we get the following result:\n",
    "\n",
    "                                               P(X|A) * P(A)\n",
    "                        P(A|X) = --------------------------------------\n",
    "                                    [P(A) * P(X|A)] + [P(A') * P(X|A')]\n",
    "                                    \n",
    "                                            0.095 * 0.51  \n",
    "                               =   -------------------------------\n",
    "                                   (0.51 * 0.095) + (0.49 * 0.017)\n",
    "                                   \n",
    "                                   \n",
    "                                 =  0.853                                                                                                                          "
   ]
  },
  {
   "cell_type": "markdown",
   "metadata": {},
   "source": [
    "Before we knew that the survey subject smoked cigars, we determined that the probability that the survey subject was male was 0.51.  \n",
    "\n",
    "But after finding out that the subject smoked cigars, we could revise the probability that the survey subject was a male to 0.853.  The probability that the cigar-smoking respondent is a male is 0.853. \n",
    "The likelihood that the subject was a male increased dramatically once we knew the additional piece of information that the subject also smokes cigars."
   ]
  },
  {
   "cell_type": "markdown",
   "metadata": {},
   "source": [
    "Let's apply Bayes' theorem to a multivariate dataset to learn more. Load the framingham data from the directory '/dsa/data/all_datasets/framingham' ... \n",
    "This data is from the Framingham Heart Study : https://www.framinghamheartstudy.org"
   ]
  },
  {
   "cell_type": "code",
   "execution_count": 1,
   "metadata": {},
   "outputs": [
    {
     "name": "stderr",
     "output_type": "stream",
     "text": [
      "ERROR while rich displaying an object: Error in loadNamespace(i, c(lib.loc, .libPaths()), versionCheck = vI[[i]]): namespace ‘rlang’ 0.4.0 is already loaded, but >= 0.4.7 is required\n",
      "\n",
      "Traceback:\n",
      "1. FUN(X[[i]], ...)\n",
      "2. tryCatch(withCallingHandlers({\n",
      " .     if (!mime %in% names(repr::mime2repr)) \n",
      " .         stop(\"No repr_* for mimetype \", mime, \" in repr::mime2repr\")\n",
      " .     rpr <- repr::mime2repr[[mime]](obj)\n",
      " .     if (is.null(rpr)) \n",
      " .         return(NULL)\n",
      " .     prepare_content(is.raw(rpr), rpr)\n",
      " . }, error = error_handler), error = outer_handler)\n",
      "3. tryCatchList(expr, classes, parentenv, handlers)\n",
      "4. tryCatchOne(expr, names, parentenv, handlers[[1L]])\n",
      "5. doTryCatch(return(expr), name, parentenv, handler)\n",
      "6. withCallingHandlers({\n",
      " .     if (!mime %in% names(repr::mime2repr)) \n",
      " .         stop(\"No repr_* for mimetype \", mime, \" in repr::mime2repr\")\n",
      " .     rpr <- repr::mime2repr[[mime]](obj)\n",
      " .     if (is.null(rpr)) \n",
      " .         return(NULL)\n",
      " .     prepare_content(is.raw(rpr), rpr)\n",
      " . }, error = error_handler)\n",
      "7. repr::mime2repr[[mime]](obj)\n",
      "8. repr_html.data.frame(obj)\n",
      "9. repr_matrix_generic(obj, \"<table>\\n<caption>%s</caption>\\n%s%s</table>\\n\", \n",
      " .     \"<thead>\\n%s</thead>\\n\", \"\\t<tr>%s</tr>\\n\", \"<th></th>\", \n",
      " .     \"<th scope=col>%s</th>\", \"<tbody>\\n%s</tbody>\\n\", \"\\t<tr>%s</tr>\\n\", \n",
      " .     \"<th scope=row>%s</th>\", \"<td>%s</td>\", escape_fun = html_escape_vec, \n",
      " .     rows = rows, cols = cols, ...)\n",
      "10. sprintf(\"<%s>\", sapply(x, type_sum))\n",
      "11. sapply(x, type_sum)\n",
      "12. lapply(X = X, FUN = FUN, ...)\n",
      "13. FUN(X[[i]], ...)\n",
      "14. type_sum.default(X[[i]], ...)\n",
      "15. vec_is(x)\n",
      "16. vctrs::vec_is\n",
      "17. getExportedValue(pkg, name)\n",
      "18. asNamespace(ns)\n",
      "19. getNamespace(ns)\n",
      "20. tryCatch(loadNamespace(name), error = function(e) stop(e))\n",
      "21. tryCatchList(expr, classes, parentenv, handlers)\n",
      "22. tryCatchOne(expr, names, parentenv, handlers[[1L]])\n",
      "23. value[[3L]](cond)\n",
      "ERROR while rich displaying an object: Error in loadNamespace(i, c(lib.loc, .libPaths()), versionCheck = vI[[i]]): namespace ‘rlang’ 0.4.0 is already loaded, but >= 0.4.7 is required\n",
      "\n",
      "Traceback:\n",
      "1. FUN(X[[i]], ...)\n",
      "2. tryCatch(withCallingHandlers({\n",
      " .     if (!mime %in% names(repr::mime2repr)) \n",
      " .         stop(\"No repr_* for mimetype \", mime, \" in repr::mime2repr\")\n",
      " .     rpr <- repr::mime2repr[[mime]](obj)\n",
      " .     if (is.null(rpr)) \n",
      " .         return(NULL)\n",
      " .     prepare_content(is.raw(rpr), rpr)\n",
      " . }, error = error_handler), error = outer_handler)\n",
      "3. tryCatchList(expr, classes, parentenv, handlers)\n",
      "4. tryCatchOne(expr, names, parentenv, handlers[[1L]])\n",
      "5. doTryCatch(return(expr), name, parentenv, handler)\n",
      "6. withCallingHandlers({\n",
      " .     if (!mime %in% names(repr::mime2repr)) \n",
      " .         stop(\"No repr_* for mimetype \", mime, \" in repr::mime2repr\")\n",
      " .     rpr <- repr::mime2repr[[mime]](obj)\n",
      " .     if (is.null(rpr)) \n",
      " .         return(NULL)\n",
      " .     prepare_content(is.raw(rpr), rpr)\n",
      " . }, error = error_handler)\n",
      "7. repr::mime2repr[[mime]](obj)\n",
      "8. repr_markdown.data.frame(obj)\n",
      "9. repr_matrix_generic(obj, \"\\n%s\\n\\n%s%s\\n\", sprintf(\"|%%s\\n|%s|\\n\", \n",
      " .     underline), NULL, \" <!--/--> |\", \" %s |\", \"%s\", \"|%s\\n\", \n",
      " .     \" %s |\", \" %s |\", escape_fun = markdown_escape, rows = rows, \n",
      " .     cols = cols, ...)\n",
      "10. sprintf(\"<%s>\", sapply(x, type_sum))\n",
      "11. sapply(x, type_sum)\n",
      "12. lapply(X = X, FUN = FUN, ...)\n",
      "13. FUN(X[[i]], ...)\n",
      "14. type_sum.default(X[[i]], ...)\n",
      "15. vec_is(x)\n",
      "16. vctrs::vec_is\n",
      "17. getExportedValue(pkg, name)\n",
      "18. asNamespace(ns)\n",
      "19. getNamespace(ns)\n",
      "20. tryCatch(loadNamespace(name), error = function(e) stop(e))\n",
      "21. tryCatchList(expr, classes, parentenv, handlers)\n",
      "22. tryCatchOne(expr, names, parentenv, handlers[[1L]])\n",
      "23. value[[3L]](cond)\n",
      "ERROR while rich displaying an object: Error in loadNamespace(i, c(lib.loc, .libPaths()), versionCheck = vI[[i]]): namespace ‘rlang’ 0.4.0 is already loaded, but >= 0.4.7 is required\n",
      "\n",
      "Traceback:\n",
      "1. FUN(X[[i]], ...)\n",
      "2. tryCatch(withCallingHandlers({\n",
      " .     if (!mime %in% names(repr::mime2repr)) \n",
      " .         stop(\"No repr_* for mimetype \", mime, \" in repr::mime2repr\")\n",
      " .     rpr <- repr::mime2repr[[mime]](obj)\n",
      " .     if (is.null(rpr)) \n",
      " .         return(NULL)\n",
      " .     prepare_content(is.raw(rpr), rpr)\n",
      " . }, error = error_handler), error = outer_handler)\n",
      "3. tryCatchList(expr, classes, parentenv, handlers)\n",
      "4. tryCatchOne(expr, names, parentenv, handlers[[1L]])\n",
      "5. doTryCatch(return(expr), name, parentenv, handler)\n",
      "6. withCallingHandlers({\n",
      " .     if (!mime %in% names(repr::mime2repr)) \n",
      " .         stop(\"No repr_* for mimetype \", mime, \" in repr::mime2repr\")\n",
      " .     rpr <- repr::mime2repr[[mime]](obj)\n",
      " .     if (is.null(rpr)) \n",
      " .         return(NULL)\n",
      " .     prepare_content(is.raw(rpr), rpr)\n",
      " . }, error = error_handler)\n",
      "7. repr::mime2repr[[mime]](obj)\n",
      "8. repr_latex.data.frame(obj)\n",
      "9. repr_matrix_generic(obj, sprintf(\"%%s\\n\\\\begin{tabular}{%s}\\n%%s%%s\\\\end{tabular}\\n\", \n",
      " .     cols), \"%s\\\\hline\\n\", \"%s\\\\\\\\\\n\", \"  &\", \" %s &\", \"%s\", \"\\t%s\\\\\\\\\\n\", \n",
      " .     \"%s &\", \" %s &\", escape_fun = latex_escape_vec, rows = rows, \n",
      " .     cols = cols, ...)\n",
      "10. sprintf(\"<%s>\", sapply(x, type_sum))\n",
      "11. sapply(x, type_sum)\n",
      "12. lapply(X = X, FUN = FUN, ...)\n",
      "13. FUN(X[[i]], ...)\n",
      "14. type_sum.default(X[[i]], ...)\n",
      "15. vec_is(x)\n",
      "16. vctrs::vec_is\n",
      "17. getExportedValue(pkg, name)\n",
      "18. asNamespace(ns)\n",
      "19. getNamespace(ns)\n",
      "20. tryCatch(loadNamespace(name), error = function(e) stop(e))\n",
      "21. tryCatchList(expr, classes, parentenv, handlers)\n",
      "22. tryCatchOne(expr, names, parentenv, handlers[[1L]])\n",
      "23. value[[3L]](cond)\n"
     ]
    },
    {
     "data": {
      "text/plain": [
       "  male age education currentSmoker cigsPerDay BPMeds prevalentStroke\n",
       "1 1    39  4         0              0         0      0              \n",
       "2 0    46  2         0              0         0      0              \n",
       "3 1    48  1         1             20         0      0              \n",
       "4 0    61  3         1             30         0      0              \n",
       "5 0    46  3         1             23         0      0              \n",
       "6 0    43  2         0              0         0      0              \n",
       "  prevalentHyp diabetes totChol sysBP diaBP BMI   heartRate glucose TenYearCHD\n",
       "1 0            0        195     106.0  70   26.97 80         77     0         \n",
       "2 0            0        250     121.0  81   28.73 95         76     0         \n",
       "3 0            0        245     127.5  80   25.34 75         70     0         \n",
       "4 1            0        225     150.0  95   28.58 65        103     1         \n",
       "5 0            0        285     130.0  84   23.10 85         85     0         \n",
       "6 1            0        228     180.0 110   30.30 77         99     0         "
      ]
     },
     "metadata": {},
     "output_type": "display_data"
    }
   ],
   "source": [
    "framingham_data <- read.csv(\"/dsa/data/all_datasets/framingham/framingham.csv\")\n",
    "head(framingham_data)"
   ]
  },
  {
   "cell_type": "code",
   "execution_count": 2,
   "metadata": {},
   "outputs": [
    {
     "data": {
      "text/plain": [
       "             TenYearCHD\n",
       "currentSmoker    0    1\n",
       "            0 1834  311\n",
       "            1 1762  333"
      ]
     },
     "metadata": {},
     "output_type": "display_data"
    }
   ],
   "source": [
    "with(framingham_data,table(currentSmoker,TenYearCHD))"
   ]
  },
  {
   "cell_type": "markdown",
   "metadata": {},
   "source": [
    "**Question:** What is the probability that a person has coronary heart disease in ten years given that the person is also a smoker?\n",
    "\n",
    "According to the Bayes' theorem formula, let's define events...\n",
    "\n",
    "**Solution**: \n",
    "<ul>\n",
    "    <li>Let D be the event of the person having coronary heart disease in 10 years and D' be the event of the person _not_ having coronary heart disease in 10 years.</li>\n",
    "    <li>Let S be the event of the person being a smoker and S' be the event of the _not_ being a smoker.</li>\n",
    "    <li>$P(D|S)$ - This is the probability that the person has coronary heart disease in 10 years given that the person is a smoker.  **This is what we want to know**.  </li>\n",
    "    <li>$P(S|D)$ - This is the probability that the person is a smoker given that the person has coronary heart disease in 10 years.  This is the same as a true positive result.  P(S|D) = the number of smokers with heart disease / the number of people with heart disease in 10 years = 333 / 644 = 0.517    </li>\n",
    "    <li>$P(S|D')$ - This is the probability that the person is a smoker given that the person does not have coronary heart disease in 10 years.  This is the same as a true negative result.  P(S|D') = the number of smokers who don't have heart disease in 10 years  / the number of people who don't have heart disease in 10 years = 1762 / 3596 = 0.490</li>\n",
    "    <li>$P(D)$ - This is the probability that the person has heart disease in 10 years (644 / 4240 = 0.152)</li>\n",
    "    <li>$P(D')$ - The probability that the person doesn't have heart disease in 10 years (3596 / 4240 = 0.848)</li>\n",
    "    <li>$P(S)$ - The probability that the person smokes (2095 / 4240 = 0.494)</li>\n",
    "    <li>$P(S')$ - The probability that the person doesn't smoke (2145 / 4240 = 0.506)</li>\n",
    "</ul>\n",
    "(In Bayes' formula, we're going to substitute as follows: D = A and S = X)\n",
    "\n",
    "\n",
    "\n",
    "                                               P(S|D) * P(D)\n",
    "                        P(D|S) = --------------------------------------\n",
    "                                    [P(D) * P(S|D)] + [P(D') * P(S|D')]\n",
    "                                    \n",
    "                                            0.517 * 0.152  \n",
    "                               =   -------------------------------\n",
    "                                   (0.152 * 0.517) + (0.848 * 0.490)\n",
    "                                   \n",
    "                                   \n",
    "                                 =  0.159     \n",
    "                                 \n",
    "Or, using the simplified Bayes' formula: \n",
    "\n",
    "                                P(S|D) * P(D)              0.517 * 0.152\n",
    "                  P(D|S)  =  -------------------    =     ---------------    =   0.159\n",
    "                                   P(S)                        0.494\n",
    "\n"
   ]
  },
  {
   "cell_type": "markdown",
   "metadata": {},
   "source": [
    "**Example from: ** [IPSUR](http://ipsur.r-forge.r-project.org/book/download/IPSUR.pdf)\n",
    "\n",
    "**Misfiling Assistants problem.**\n",
    "In this problem, there are three assistants working at a company: \n",
    "Moe, Larry, and Curly. \n",
    "Their primary job duty is to file paperwork in the filing cabinet when papers become available.\n",
    "The three assistants have different work schedules:\n",
    "\n",
    "<table>\n",
    "    <tr>\n",
    "        <th></th>\n",
    "        <th>Moe</th>\n",
    "        <th>Larry</th>\n",
    "        <th>Curly</th>\n",
    "    </tr>\n",
    "    <tr>\n",
    "        <td>Misfiles</td>\n",
    "        <td>60%</td>\n",
    "        <td>30%</td>\n",
    "        <td>10%</td>\n",
    "    <tr>\n",
    "</table>\n",
    "\n",
    "That is, Moe works 60% of the time, Larry works 30% of the time, and Curly does the remaining 10%, and they file documents at approximately the same speed. Suppose a person were to select one of the documents from the cabinet at random. \n",
    "\n",
    "Let M be the event, M = {Moe filed the document}  and \n",
    "\n",
    "Let L and C be the events that Larry and Curly, respectively, filed the document. \n"
   ]
  },
  {
   "cell_type": "markdown",
   "metadata": {},
   "source": [
    "What are these events’ respective probabilities? \n",
    "In the absence of additional information, reasonable prior probabilities would just be\n",
    "\n",
    "<table>\n",
    "    <tr>\n",
    "        <th></th>\n",
    "        <th>Moe</th>\n",
    "        <th>Larry</th>\n",
    "        <th>Curly</th>\n",
    "    </tr>\n",
    "    <tr>\n",
    "        <td>Misfiles</td>\n",
    "        <td>P(M) = 60%</td>\n",
    "        <td>P(L) = 30%</td>\n",
    "        <td>P(C) = 10%</td>\n",
    "    <tr>\n",
    "</table>\n",
    "\n",
    "Now, the boss comes in one day, opens up the file cabinet, and selects a file at random. \n",
    "The boss discovers that the file has been misplaced. \n",
    "The boss is so angry at the mistake that (s)he threatens to fire the one who erred. \n",
    "The question is: Who misplaced the file?"
   ]
  },
  {
   "cell_type": "markdown",
   "metadata": {},
   "source": [
    "The boss decides to use probability to decide, and walks straight to the workload schedule. \n",
    "(S)he reasons that, since the three employees work at the same speed, \n",
    "the probability that a randomly selected file would have been filed by each one would be proportional to his workload.\n",
    "The boss notifies Moe that he has until the end of the day to empty his desk. \n",
    "But Moe argues in his defense that the boss has ignored additional information.\n",
    "Moe’s likelihood of having misfiled a document is smaller than Larry’s and Curly’s, \n",
    "since he is a diligent worker who pays close attention to his work.\n",
    "Moe admits that he works longer than the others, \n",
    "but he doesn’t make as many mistakes as they do. \n",
    "Thus, Moe recommends that – before making a decision – the boss should update the probability \n",
    "(initially based on workload alone) to incorporate the likelihood of having observed a misfiled document."
   ]
  },
  {
   "cell_type": "markdown",
   "metadata": {},
   "source": [
    "And, as it turns out, the boss has information about Moe, Larry, and Curly’s filing accuracy in the past (due to historical performance evaluations). \n",
    "The performance information may be represented by the following table:\n",
    "\n",
    "<table>\n",
    "    <tr>\n",
    "        <th></th>\n",
    "        <th>Moe</th>\n",
    "        <th>Larry</th>\n",
    "        <th>Curly</th>\n",
    "    </tr>\n",
    "    <tr>\n",
    "        <td>Misfiles</td>\n",
    "        <td>0.003</td>\n",
    "        <td>0.007</td>\n",
    "        <td>0.010</td>\n",
    "    <tr>\n",
    "</table>\n",
    "\n",
    "\n",
    "\n",
    "In other words, on the average, Moe misfiles 0.3% of the documents he is supposed to file. \n",
    "Notice that Moe was correct: he is the most accurate filer, followed by Larry, and lastly Curly. \n",
    "If the boss were to make a decision based only on the worker’s overall accuracy, \n",
    "then Curly should get the axe.\n",
    "But Curly hears this and interjects that he only works a short period during the day, and consequently makes mistakes only very rarely; \n",
    "there is only the tiniest chance that he misfiled this particular document."
   ]
  },
  {
   "cell_type": "markdown",
   "metadata": {},
   "source": [
    "The boss would like to use this updated information to update the probabilities for the three assistants, that is, \n",
    "(s)he wants to use the additional likelihood that the document was misfiled to update his/her beliefs about the likely culprit. \n",
    "\n",
    "Let **A** be the event that **a document is misfiled**.\n",
    "What the boss would like to know are the three probabilities...\n",
    "\n",
    "            P(M|A), P(L|A), and P(C|A)\n",
    "            \n",
    "We will show the calculation for P(M|A), the other two cases being similar.\n",
    "We use Bayes’ Rule in the form\n",
    "\n",
    "\n",
    "                 P(M ∩ A)      P(A|M) * P(M)       \n",
    "        P(M|A) = ---------- =  ---------------\n",
    "                    P(A)            P(A)\n",
    "                                                  "
   ]
  },
  {
   "cell_type": "markdown",
   "metadata": {},
   "source": [
    "So we'll first find P(M ∩ A), which we know from the Multiplication Rule is the same as P(A|M) · P(M).\n",
    "\n",
    "We already know P(A|M) is just Moe’s misfile rate (given above as 0.003) and P(M) = 0.6.\n",
    "Thus, we compute\n",
    "\n",
    "        P(M ∩ A) = (0.003)(0.06) = 0.0018\n",
    "\n",
    "        P(L ∩ A) = 0.0021\n",
    "        \n",
    "        P(C ∩ A) = 0.0010\n",
    "\n",
    "\n",
    "Using the Theorem of Total Probability we can write P(A) = P(M ∩ A) + P(L ∩ A) + P(C ∩ A).\n",
    "\n",
    "        P(A) = 0.0018 + 0.0021 + 0.0010 = 0.0049\n",
    "        \n",
    "                                         0.0018\n",
    "    According to Bayes' rule,  P(M|A) = --------  \n",
    "                                         0.0049\n",
    "\n",
    "                                       = 0.37\n",
    "\n",
    "The above last quantity is called the **posterior probability** that Moe misfiled the document. \n",
    "We can use the same argument to calculate\n",
    "\n",
    "<table>\n",
    "    <tr>\n",
    "        <th></th>\n",
    "        <th>Moe</th>\n",
    "        <th>Larry</th>\n",
    "        <th>Curly</th>\n",
    "    </tr>\n",
    "    <tr>\n",
    "        <td></td>\n",
    "        <td>P(M/A) = 0.37</td>\n",
    "        <td>P(L/A) = 0.43</td>\n",
    "        <td>P(C/A) = 0.20</td>\n",
    "    <tr>\n",
    "</table>\n",
    "\n",
    "\n",
    "The conclusion:\n",
    "Larry gets the axe.\n",
    "What is happening is an intricate interplay between the time on the job and the misfile rate. \n",
    "It is not obvious who the winner (or in this case, loser) will be, \n",
    "and the statistician needs to consult Bayes’ Rule to determine the best course of action."
   ]
  },
  {
   "cell_type": "markdown",
   "metadata": {},
   "source": [
    "Let's try to implement the same thing in R. \n",
    "All the math in the problem above used four simple steps. "
   ]
  },
  {
   "cell_type": "code",
   "execution_count": 3,
   "metadata": {},
   "outputs": [
    {
     "data": {
      "text/html": [
       "<ol class=list-inline>\n",
       "\t<li>0.0018</li>\n",
       "\t<li>0.0021</li>\n",
       "\t<li>0.001</li>\n",
       "</ol>\n"
      ],
      "text/latex": [
       "\\begin{enumerate*}\n",
       "\\item 0.0018\n",
       "\\item 0.0021\n",
       "\\item 0.001\n",
       "\\end{enumerate*}\n"
      ],
      "text/markdown": [
       "1. 0.0018\n",
       "2. 0.0021\n",
       "3. 0.001\n",
       "\n",
       "\n"
      ],
      "text/plain": [
       "[1] 0.0018 0.0021 0.0010"
      ]
     },
     "metadata": {},
     "output_type": "display_data"
    }
   ],
   "source": [
    "# prior_probs is the name of the variable that contains the prior probabilities we assumed above\n",
    "# The prior probabilities are based on the amount of time each person was working (i.e., Moe = 60%, \n",
    "# Larry = 30%, Curly = 10%)\n",
    "prior_probs <- c(0.6, 0.3, 0.1)\n",
    "\n",
    "# We now add information from Moe, Larry, and Curly’s past historical performance evaluations,\n",
    "# which we are considering the to be the likelihood that they committed the misfiling.\n",
    "like <- c(0.003, 0.007, 0.01)\n",
    "\n",
    "# Generate posterior probabilities based on prior probabilities and the likelihood of each event.\n",
    "post <- prior_probs * like   # Note: This is vector math\n",
    "post"
   ]
  },
  {
   "cell_type": "code",
   "execution_count": 4,
   "metadata": {},
   "outputs": [
    {
     "data": {
      "text/html": [
       "<ol class=list-inline>\n",
       "\t<li>0.36734693877551</li>\n",
       "\t<li>0.428571428571429</li>\n",
       "\t<li>0.204081632653061</li>\n",
       "</ol>\n"
      ],
      "text/latex": [
       "\\begin{enumerate*}\n",
       "\\item 0.36734693877551\n",
       "\\item 0.428571428571429\n",
       "\\item 0.204081632653061\n",
       "\\end{enumerate*}\n"
      ],
      "text/markdown": [
       "1. 0.36734693877551\n",
       "2. 0.428571428571429\n",
       "3. 0.204081632653061\n",
       "\n",
       "\n"
      ],
      "text/plain": [
       "[1] 0.3673469 0.4285714 0.2040816"
      ]
     },
     "metadata": {},
     "output_type": "display_data"
    }
   ],
   "source": [
    "post / sum(post) # More vector math"
   ]
  },
  {
   "cell_type": "markdown",
   "metadata": {},
   "source": [
    "We see that we can compute the results using R.\n",
    "Later in the course, you will see Bayes' Rule applied to a classification problem."
   ]
  }
 ],
 "metadata": {
  "kernelspec": {
   "display_name": "R",
   "language": "R",
   "name": "ir"
  },
  "language_info": {
   "codemirror_mode": "r",
   "file_extension": ".r",
   "mimetype": "text/x-r-source",
   "name": "R",
   "pygments_lexer": "r",
   "version": "3.5.1"
  }
 },
 "nbformat": 4,
 "nbformat_minor": 1
}
