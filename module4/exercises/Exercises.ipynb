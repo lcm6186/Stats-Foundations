{
 "cells": [
  {
   "cell_type": "markdown",
   "metadata": {
    "collapsed": true
   },
   "source": [
    "### Module 4 - Probability Exercises "
   ]
  },
  {
   "cell_type": "markdown",
   "metadata": {},
   "source": [
    "Most of the concepts we discussed in this module were theoretical. Examples were used to explain how to apply conditional probability concepts on dataset columns. The exercises in this notebook will be similar to what you have seen in lab and practice notebooks. \n",
    "\n",
    "Refer to your labs: [Bayes](../labs/Bayes.ipynb), [Conditional_Probability](../labs/Conditional_Probability.ipynb) and [Other_Distributions](../labs/Other_Distributions.ipynb).  \n",
    "\n",
    "Practice notebooks: [Conditional_Probability](../practices/Conditional_Probability.ipynb) and [Bayes](../labs/Bayes.ipynb). "
   ]
  },
  {
   "cell_type": "markdown",
   "metadata": {},
   "source": [
    "Let's recall what is an independent and dependent event through below activity. Consider an event of rolling two dice. The sample space S={{1,1}, {1,2}, {1,3},....,{6,6}} contains 36 possible combinations on two dice.\n",
    "\n",
    "<span style=\"color:#1871d6; font-weight:400\">Activity 1.a: </span> What is the probability of getting a 2 on either dice?"
   ]
  },
  {
   "cell_type": "code",
   "execution_count": 1,
   "metadata": {},
   "outputs": [
    {
     "name": "stderr",
     "output_type": "stream",
     "text": [
      "also installing the dependencies ‘spatial’, ‘gss’, ‘stabledist’, ‘timeSeries’, ‘fBasics’, ‘fOptions’, ‘combinat’, ‘fAsianOptions’\n",
      "\n",
      "Updating HTML index of packages in '.Library'\n",
      "Making 'packages.html' ... done\n",
      "Loading required package: combinat\n",
      "\n",
      "Attaching package: ‘combinat’\n",
      "\n",
      "The following object is masked from ‘package:utils’:\n",
      "\n",
      "    combn\n",
      "\n",
      "Loading required package: fAsianOptions\n",
      "Loading required package: timeDate\n",
      "Loading required package: timeSeries\n",
      "Loading required package: fBasics\n",
      "Loading required package: fOptions\n",
      "\n",
      "Attaching package: ‘prob’\n",
      "\n",
      "The following objects are masked from ‘package:base’:\n",
      "\n",
      "    intersect, setdiff, union\n",
      "\n"
     ]
    }
   ],
   "source": [
    "# Your code for activity 1.a goes here...\n",
    "\n",
    "install.packages('prob')\n",
    "\n",
    "library(prob)\n",
    "S <- rolldie(2, makespace = TRUE)\n",
    "\n",
    "# Define the event A such that it has all possible combinations including a 2 {{1,2}, {2,2}, {2,3},...} \n"
   ]
  },
  {
   "cell_type": "code",
   "execution_count": 20,
   "metadata": {},
   "outputs": [
    {
     "data": {
      "text/html": [
       "<table>\n",
       "<caption>A data.frame: 6 × 3</caption>\n",
       "<thead>\n",
       "\t<tr><th scope=col>X1</th><th scope=col>X2</th><th scope=col>probs</th></tr>\n",
       "\t<tr><th scope=col>&lt;int&gt;</th><th scope=col>&lt;int&gt;</th><th scope=col>&lt;dbl&gt;</th></tr>\n",
       "</thead>\n",
       "<tbody>\n",
       "\t<tr><td>1</td><td>1</td><td>0.02777778</td></tr>\n",
       "\t<tr><td>2</td><td>1</td><td>0.02777778</td></tr>\n",
       "\t<tr><td>3</td><td>1</td><td>0.02777778</td></tr>\n",
       "\t<tr><td>4</td><td>1</td><td>0.02777778</td></tr>\n",
       "\t<tr><td>5</td><td>1</td><td>0.02777778</td></tr>\n",
       "\t<tr><td>6</td><td>1</td><td>0.02777778</td></tr>\n",
       "</tbody>\n",
       "</table>\n"
      ],
      "text/latex": [
       "A data.frame: 6 × 3\n",
       "\\begin{tabular}{r|lll}\n",
       " X1 & X2 & probs\\\\\n",
       " <int> & <int> & <dbl>\\\\\n",
       "\\hline\n",
       "\t 1 & 1 & 0.02777778\\\\\n",
       "\t 2 & 1 & 0.02777778\\\\\n",
       "\t 3 & 1 & 0.02777778\\\\\n",
       "\t 4 & 1 & 0.02777778\\\\\n",
       "\t 5 & 1 & 0.02777778\\\\\n",
       "\t 6 & 1 & 0.02777778\\\\\n",
       "\\end{tabular}\n"
      ],
      "text/markdown": [
       "\n",
       "A data.frame: 6 × 3\n",
       "\n",
       "| X1 &lt;int&gt; | X2 &lt;int&gt; | probs &lt;dbl&gt; |\n",
       "|---|---|---|\n",
       "| 1 | 1 | 0.02777778 |\n",
       "| 2 | 1 | 0.02777778 |\n",
       "| 3 | 1 | 0.02777778 |\n",
       "| 4 | 1 | 0.02777778 |\n",
       "| 5 | 1 | 0.02777778 |\n",
       "| 6 | 1 | 0.02777778 |\n",
       "\n"
      ],
      "text/plain": [
       "  X1 X2 probs     \n",
       "1 1  1  0.02777778\n",
       "2 2  1  0.02777778\n",
       "3 3  1  0.02777778\n",
       "4 4  1  0.02777778\n",
       "5 5  1  0.02777778\n",
       "6 6  1  0.02777778"
      ]
     },
     "metadata": {},
     "output_type": "display_data"
    }
   ],
   "source": [
    "head(S)"
   ]
  },
  {
   "cell_type": "code",
   "execution_count": 21,
   "metadata": {},
   "outputs": [],
   "source": [
    "A <- subset(S, X1 == 2 | X2 == 2)"
   ]
  },
  {
   "cell_type": "code",
   "execution_count": 22,
   "metadata": {},
   "outputs": [
    {
     "data": {
      "text/html": [
       "<table>\n",
       "<caption>A data.frame: 11 × 3</caption>\n",
       "<thead>\n",
       "\t<tr><th></th><th scope=col>X1</th><th scope=col>X2</th><th scope=col>probs</th></tr>\n",
       "\t<tr><th></th><th scope=col>&lt;int&gt;</th><th scope=col>&lt;int&gt;</th><th scope=col>&lt;dbl&gt;</th></tr>\n",
       "</thead>\n",
       "<tbody>\n",
       "\t<tr><th scope=row>2</th><td>2</td><td>1</td><td>0.02777778</td></tr>\n",
       "\t<tr><th scope=row>7</th><td>1</td><td>2</td><td>0.02777778</td></tr>\n",
       "\t<tr><th scope=row>8</th><td>2</td><td>2</td><td>0.02777778</td></tr>\n",
       "\t<tr><th scope=row>9</th><td>3</td><td>2</td><td>0.02777778</td></tr>\n",
       "\t<tr><th scope=row>10</th><td>4</td><td>2</td><td>0.02777778</td></tr>\n",
       "\t<tr><th scope=row>11</th><td>5</td><td>2</td><td>0.02777778</td></tr>\n",
       "\t<tr><th scope=row>12</th><td>6</td><td>2</td><td>0.02777778</td></tr>\n",
       "\t<tr><th scope=row>14</th><td>2</td><td>3</td><td>0.02777778</td></tr>\n",
       "\t<tr><th scope=row>20</th><td>2</td><td>4</td><td>0.02777778</td></tr>\n",
       "\t<tr><th scope=row>26</th><td>2</td><td>5</td><td>0.02777778</td></tr>\n",
       "\t<tr><th scope=row>32</th><td>2</td><td>6</td><td>0.02777778</td></tr>\n",
       "</tbody>\n",
       "</table>\n"
      ],
      "text/latex": [
       "A data.frame: 11 × 3\n",
       "\\begin{tabular}{r|lll}\n",
       "  & X1 & X2 & probs\\\\\n",
       "  & <int> & <int> & <dbl>\\\\\n",
       "\\hline\n",
       "\t2 & 2 & 1 & 0.02777778\\\\\n",
       "\t7 & 1 & 2 & 0.02777778\\\\\n",
       "\t8 & 2 & 2 & 0.02777778\\\\\n",
       "\t9 & 3 & 2 & 0.02777778\\\\\n",
       "\t10 & 4 & 2 & 0.02777778\\\\\n",
       "\t11 & 5 & 2 & 0.02777778\\\\\n",
       "\t12 & 6 & 2 & 0.02777778\\\\\n",
       "\t14 & 2 & 3 & 0.02777778\\\\\n",
       "\t20 & 2 & 4 & 0.02777778\\\\\n",
       "\t26 & 2 & 5 & 0.02777778\\\\\n",
       "\t32 & 2 & 6 & 0.02777778\\\\\n",
       "\\end{tabular}\n"
      ],
      "text/markdown": [
       "\n",
       "A data.frame: 11 × 3\n",
       "\n",
       "| <!--/--> | X1 &lt;int&gt; | X2 &lt;int&gt; | probs &lt;dbl&gt; |\n",
       "|---|---|---|---|\n",
       "| 2 | 2 | 1 | 0.02777778 |\n",
       "| 7 | 1 | 2 | 0.02777778 |\n",
       "| 8 | 2 | 2 | 0.02777778 |\n",
       "| 9 | 3 | 2 | 0.02777778 |\n",
       "| 10 | 4 | 2 | 0.02777778 |\n",
       "| 11 | 5 | 2 | 0.02777778 |\n",
       "| 12 | 6 | 2 | 0.02777778 |\n",
       "| 14 | 2 | 3 | 0.02777778 |\n",
       "| 20 | 2 | 4 | 0.02777778 |\n",
       "| 26 | 2 | 5 | 0.02777778 |\n",
       "| 32 | 2 | 6 | 0.02777778 |\n",
       "\n"
      ],
      "text/plain": [
       "   X1 X2 probs     \n",
       "2  2  1  0.02777778\n",
       "7  1  2  0.02777778\n",
       "8  2  2  0.02777778\n",
       "9  3  2  0.02777778\n",
       "10 4  2  0.02777778\n",
       "11 5  2  0.02777778\n",
       "12 6  2  0.02777778\n",
       "14 2  3  0.02777778\n",
       "20 2  4  0.02777778\n",
       "26 2  5  0.02777778\n",
       "32 2  6  0.02777778"
      ]
     },
     "metadata": {},
     "output_type": "display_data"
    }
   ],
   "source": [
    "A"
   ]
  },
  {
   "cell_type": "markdown",
   "metadata": {},
   "source": [
    "<span style=\"color:#1871d6; font-weight:400\">Activity 1.b: </span> What is the probability of getting a 2 on either dice given that the sum of the two outcomes is less than 6? "
   ]
  },
  {
   "cell_type": "code",
   "execution_count": 25,
   "metadata": {},
   "outputs": [
    {
     "data": {
      "text/html": [
       "<table>\n",
       "<caption>A data.frame: 11 × 3</caption>\n",
       "<thead>\n",
       "\t<tr><th></th><th scope=col>X1</th><th scope=col>X2</th><th scope=col>probs</th></tr>\n",
       "\t<tr><th></th><th scope=col>&lt;int&gt;</th><th scope=col>&lt;int&gt;</th><th scope=col>&lt;dbl&gt;</th></tr>\n",
       "</thead>\n",
       "<tbody>\n",
       "\t<tr><th scope=row>2</th><td>2</td><td>1</td><td>0.02777778</td></tr>\n",
       "\t<tr><th scope=row>7</th><td>1</td><td>2</td><td>0.02777778</td></tr>\n",
       "\t<tr><th scope=row>8</th><td>2</td><td>2</td><td>0.02777778</td></tr>\n",
       "\t<tr><th scope=row>9</th><td>3</td><td>2</td><td>0.02777778</td></tr>\n",
       "\t<tr><th scope=row>10</th><td>4</td><td>2</td><td>0.02777778</td></tr>\n",
       "\t<tr><th scope=row>11</th><td>5</td><td>2</td><td>0.02777778</td></tr>\n",
       "\t<tr><th scope=row>12</th><td>6</td><td>2</td><td>0.02777778</td></tr>\n",
       "\t<tr><th scope=row>14</th><td>2</td><td>3</td><td>0.02777778</td></tr>\n",
       "\t<tr><th scope=row>20</th><td>2</td><td>4</td><td>0.02777778</td></tr>\n",
       "\t<tr><th scope=row>26</th><td>2</td><td>5</td><td>0.02777778</td></tr>\n",
       "\t<tr><th scope=row>32</th><td>2</td><td>6</td><td>0.02777778</td></tr>\n",
       "</tbody>\n",
       "</table>\n"
      ],
      "text/latex": [
       "A data.frame: 11 × 3\n",
       "\\begin{tabular}{r|lll}\n",
       "  & X1 & X2 & probs\\\\\n",
       "  & <int> & <int> & <dbl>\\\\\n",
       "\\hline\n",
       "\t2 & 2 & 1 & 0.02777778\\\\\n",
       "\t7 & 1 & 2 & 0.02777778\\\\\n",
       "\t8 & 2 & 2 & 0.02777778\\\\\n",
       "\t9 & 3 & 2 & 0.02777778\\\\\n",
       "\t10 & 4 & 2 & 0.02777778\\\\\n",
       "\t11 & 5 & 2 & 0.02777778\\\\\n",
       "\t12 & 6 & 2 & 0.02777778\\\\\n",
       "\t14 & 2 & 3 & 0.02777778\\\\\n",
       "\t20 & 2 & 4 & 0.02777778\\\\\n",
       "\t26 & 2 & 5 & 0.02777778\\\\\n",
       "\t32 & 2 & 6 & 0.02777778\\\\\n",
       "\\end{tabular}\n"
      ],
      "text/markdown": [
       "\n",
       "A data.frame: 11 × 3\n",
       "\n",
       "| <!--/--> | X1 &lt;int&gt; | X2 &lt;int&gt; | probs &lt;dbl&gt; |\n",
       "|---|---|---|---|\n",
       "| 2 | 2 | 1 | 0.02777778 |\n",
       "| 7 | 1 | 2 | 0.02777778 |\n",
       "| 8 | 2 | 2 | 0.02777778 |\n",
       "| 9 | 3 | 2 | 0.02777778 |\n",
       "| 10 | 4 | 2 | 0.02777778 |\n",
       "| 11 | 5 | 2 | 0.02777778 |\n",
       "| 12 | 6 | 2 | 0.02777778 |\n",
       "| 14 | 2 | 3 | 0.02777778 |\n",
       "| 20 | 2 | 4 | 0.02777778 |\n",
       "| 26 | 2 | 5 | 0.02777778 |\n",
       "| 32 | 2 | 6 | 0.02777778 |\n",
       "\n"
      ],
      "text/plain": [
       "   X1 X2 probs     \n",
       "2  2  1  0.02777778\n",
       "7  1  2  0.02777778\n",
       "8  2  2  0.02777778\n",
       "9  3  2  0.02777778\n",
       "10 4  2  0.02777778\n",
       "11 5  2  0.02777778\n",
       "12 6  2  0.02777778\n",
       "14 2  3  0.02777778\n",
       "20 2  4  0.02777778\n",
       "26 2  5  0.02777778\n",
       "32 2  6  0.02777778"
      ]
     },
     "metadata": {},
     "output_type": "display_data"
    },
    {
     "data": {
      "text/html": [
       "<table>\n",
       "<caption>A data.frame: 10 × 3</caption>\n",
       "<thead>\n",
       "\t<tr><th></th><th scope=col>X1</th><th scope=col>X2</th><th scope=col>probs</th></tr>\n",
       "\t<tr><th></th><th scope=col>&lt;int&gt;</th><th scope=col>&lt;int&gt;</th><th scope=col>&lt;dbl&gt;</th></tr>\n",
       "</thead>\n",
       "<tbody>\n",
       "\t<tr><th scope=row>1</th><td>1</td><td>1</td><td>0.02777778</td></tr>\n",
       "\t<tr><th scope=row>2</th><td>2</td><td>1</td><td>0.02777778</td></tr>\n",
       "\t<tr><th scope=row>3</th><td>3</td><td>1</td><td>0.02777778</td></tr>\n",
       "\t<tr><th scope=row>4</th><td>4</td><td>1</td><td>0.02777778</td></tr>\n",
       "\t<tr><th scope=row>7</th><td>1</td><td>2</td><td>0.02777778</td></tr>\n",
       "\t<tr><th scope=row>8</th><td>2</td><td>2</td><td>0.02777778</td></tr>\n",
       "\t<tr><th scope=row>9</th><td>3</td><td>2</td><td>0.02777778</td></tr>\n",
       "\t<tr><th scope=row>13</th><td>1</td><td>3</td><td>0.02777778</td></tr>\n",
       "\t<tr><th scope=row>14</th><td>2</td><td>3</td><td>0.02777778</td></tr>\n",
       "\t<tr><th scope=row>19</th><td>1</td><td>4</td><td>0.02777778</td></tr>\n",
       "</tbody>\n",
       "</table>\n"
      ],
      "text/latex": [
       "A data.frame: 10 × 3\n",
       "\\begin{tabular}{r|lll}\n",
       "  & X1 & X2 & probs\\\\\n",
       "  & <int> & <int> & <dbl>\\\\\n",
       "\\hline\n",
       "\t1 & 1 & 1 & 0.02777778\\\\\n",
       "\t2 & 2 & 1 & 0.02777778\\\\\n",
       "\t3 & 3 & 1 & 0.02777778\\\\\n",
       "\t4 & 4 & 1 & 0.02777778\\\\\n",
       "\t7 & 1 & 2 & 0.02777778\\\\\n",
       "\t8 & 2 & 2 & 0.02777778\\\\\n",
       "\t9 & 3 & 2 & 0.02777778\\\\\n",
       "\t13 & 1 & 3 & 0.02777778\\\\\n",
       "\t14 & 2 & 3 & 0.02777778\\\\\n",
       "\t19 & 1 & 4 & 0.02777778\\\\\n",
       "\\end{tabular}\n"
      ],
      "text/markdown": [
       "\n",
       "A data.frame: 10 × 3\n",
       "\n",
       "| <!--/--> | X1 &lt;int&gt; | X2 &lt;int&gt; | probs &lt;dbl&gt; |\n",
       "|---|---|---|---|\n",
       "| 1 | 1 | 1 | 0.02777778 |\n",
       "| 2 | 2 | 1 | 0.02777778 |\n",
       "| 3 | 3 | 1 | 0.02777778 |\n",
       "| 4 | 4 | 1 | 0.02777778 |\n",
       "| 7 | 1 | 2 | 0.02777778 |\n",
       "| 8 | 2 | 2 | 0.02777778 |\n",
       "| 9 | 3 | 2 | 0.02777778 |\n",
       "| 13 | 1 | 3 | 0.02777778 |\n",
       "| 14 | 2 | 3 | 0.02777778 |\n",
       "| 19 | 1 | 4 | 0.02777778 |\n",
       "\n"
      ],
      "text/plain": [
       "   X1 X2 probs     \n",
       "1  1  1  0.02777778\n",
       "2  2  1  0.02777778\n",
       "3  3  1  0.02777778\n",
       "4  4  1  0.02777778\n",
       "7  1  2  0.02777778\n",
       "8  2  2  0.02777778\n",
       "9  3  2  0.02777778\n",
       "13 1  3  0.02777778\n",
       "14 2  3  0.02777778\n",
       "19 1  4  0.02777778"
      ]
     },
     "metadata": {},
     "output_type": "display_data"
    },
    {
     "data": {
      "text/html": [
       "<span style=white-space:pre-wrap>'P(A/B):  0.5'</span>"
      ],
      "text/latex": [
       "'P(A/B):  0.5'"
      ],
      "text/markdown": [
       "<span style=white-space:pre-wrap>'P(A/B):  0.5'</span>"
      ],
      "text/plain": [
       "[1] \"P(A/B):  0.5\""
      ]
     },
     "metadata": {},
     "output_type": "display_data"
    }
   ],
   "source": [
    "# Your code for activity 1.b goes here...\n",
    "\n",
    "# Define the event A such that it has all possible combinations including 2 {{1,2}, {2,2},...}. \n",
    "A\n",
    "\n",
    "# Define event B such that sum of outcomes is less than 6. \n",
    "B <- subset(S, (X1 + X2) < 6)\n",
    "B\n",
    "# Event A is conditional on Event B \n",
    "\n",
    "paste('P(A/B): ', Prob(A, given=B))"
   ]
  },
  {
   "cell_type": "markdown",
   "metadata": {},
   "source": [
    "<span style=\"color:#1871d6; font-weight:400\">Activity 2: </span> Toss a coin twice. The sample space is given by S = {HH, HT, TH, TT}. Let A = {head occurs} and B = {a head and tail occur}. What are the probabilities P(A|B) and P(B|A)?"
   ]
  },
  {
   "cell_type": "code",
   "execution_count": 26,
   "metadata": {},
   "outputs": [],
   "source": [
    "HT <- iidspace(c(\"H\",\"T\"), ntrials = 2, probs = c(0.5, 0.5))\n",
    "A <- subset(HT, X1 == 'H' | X2 == 'H')\n",
    "B <- subset(HT, (X1=='H' & X2=='T') | (X1=='T' & X2=='H'))"
   ]
  },
  {
   "cell_type": "code",
   "execution_count": 27,
   "metadata": {},
   "outputs": [
    {
     "data": {
      "text/html": [
       "<span style=white-space:pre-wrap>'P(A|B):  1'</span>"
      ],
      "text/latex": [
       "'P(A\\textbar{}B):  1'"
      ],
      "text/markdown": [
       "<span style=white-space:pre-wrap>'P(A|B):  1'</span>"
      ],
      "text/plain": [
       "[1] \"P(A|B):  1\""
      ]
     },
     "metadata": {},
     "output_type": "display_data"
    },
    {
     "data": {
      "text/html": [
       "<span style=white-space:pre-wrap>'P(B|A):  0.666666666666667'</span>"
      ],
      "text/latex": [
       "'P(B\\textbar{}A):  0.666666666666667'"
      ],
      "text/markdown": [
       "<span style=white-space:pre-wrap>'P(B|A):  0.666666666666667'</span>"
      ],
      "text/plain": [
       "[1] \"P(B|A):  0.666666666666667\""
      ]
     },
     "metadata": {},
     "output_type": "display_data"
    }
   ],
   "source": [
    "paste('P(A|B): ', Prob(A, given=B))\n",
    "paste('P(B|A): ', Prob(B, given=A))"
   ]
  },
  {
   "cell_type": "markdown",
   "metadata": {},
   "source": [
    "````\n",
    "P(A|B) = 1. This would be true as there has to be a heads in B.\n",
    "P(B|A) = 0.67. This would be true as a H and T occur 2/3 of the time from A. The other 1/3 being HH in A.\n",
    "\n",
    "````"
   ]
  },
  {
   "cell_type": "markdown",
   "metadata": {},
   "source": [
    "<span style=\"color:#1871d6; font-weight:400\">Activity 3: </span> We have data about the smoking status versus the gender of people working in a company.\n",
    "\n",
    "<table>\n",
    "    <tr>\n",
    "        <th></th>\n",
    "        <th colspan=\"2\">gender</th>\n",
    "        <th>sum</th>\n",
    "    </tr>\n",
    "    <tr>\n",
    "        <td rowspan=\"2\">smoke</td>\n",
    "        <td>80</td>\n",
    "        <td>54</td>\n",
    "        <td>134</td>\n",
    "    </tr>\n",
    "    <tr>\n",
    "        <td>15</td>\n",
    "        <td>19</td>\n",
    "        <td>34</td>\n",
    "    </tr>\n",
    "    <tr>\n",
    "        <td>sum</td>\n",
    "        <td>95</td>\n",
    "        <td>73</td>\n",
    "        <td>168</td>\n",
    "    </tr>\n",
    "</table>\n",
    "    \n",
    "    \n",
    "3.a) If one person were selected at random from the data set, what is the probability that selected person is female?\n",
    "\n",
    "3.b) What is the probability that selected person is a smoker?"
   ]
  },
  {
   "cell_type": "code",
   "execution_count": 47,
   "metadata": {},
   "outputs": [
    {
     "data": {
      "text/html": [
       "<table>\n",
       "<caption>A matrix: 2 × 2 of type dbl</caption>\n",
       "<thead>\n",
       "\t<tr><th></th><th scope=col>female</th><th scope=col>male</th></tr>\n",
       "</thead>\n",
       "<tbody>\n",
       "\t<tr><th scope=row>nonsmoker</th><td>80</td><td>54</td></tr>\n",
       "\t<tr><th scope=row>smoker</th><td>15</td><td>19</td></tr>\n",
       "</tbody>\n",
       "</table>\n"
      ],
      "text/latex": [
       "A matrix: 2 × 2 of type dbl\n",
       "\\begin{tabular}{r|ll}\n",
       "  & female & male\\\\\n",
       "\\hline\n",
       "\tnonsmoker & 80 & 54\\\\\n",
       "\tsmoker & 15 & 19\\\\\n",
       "\\end{tabular}\n"
      ],
      "text/markdown": [
       "\n",
       "A matrix: 2 × 2 of type dbl\n",
       "\n",
       "| <!--/--> | female | male |\n",
       "|---|---|---|\n",
       "| nonsmoker | 80 | 54 |\n",
       "| smoker | 15 | 19 |\n",
       "\n"
      ],
      "text/plain": [
       "          female male\n",
       "nonsmoker 80     54  \n",
       "smoker    15     19  "
      ]
     },
     "metadata": {},
     "output_type": "display_data"
    }
   ],
   "source": [
    "# Code for Activity 3 goes here -----\n",
    "# Generate the matrix required to find probabilities\n",
    "S <- matrix(c(80, 15, 54, 19), 2)\n",
    "rownames(S) <- c('nonsmoker', 'smoker')\n",
    "colnames(S) <- c('female', 'male')\n",
    "S"
   ]
  },
  {
   "cell_type": "code",
   "execution_count": 48,
   "metadata": {},
   "outputs": [
    {
     "data": {
      "text/html": [
       "<table>\n",
       "<caption>A matrix: 3 × 3 of type dbl</caption>\n",
       "<thead>\n",
       "\t<tr><th></th><th scope=col>female</th><th scope=col>male</th><th scope=col>Sum</th></tr>\n",
       "</thead>\n",
       "<tbody>\n",
       "\t<tr><th scope=row>nonsmoker</th><td>80</td><td>54</td><td>134</td></tr>\n",
       "\t<tr><th scope=row>smoker</th><td>15</td><td>19</td><td> 34</td></tr>\n",
       "\t<tr><th scope=row>Sum</th><td>95</td><td>73</td><td>168</td></tr>\n",
       "</tbody>\n",
       "</table>\n"
      ],
      "text/latex": [
       "A matrix: 3 × 3 of type dbl\n",
       "\\begin{tabular}{r|lll}\n",
       "  & female & male & Sum\\\\\n",
       "\\hline\n",
       "\tnonsmoker & 80 & 54 & 134\\\\\n",
       "\tsmoker & 15 & 19 &  34\\\\\n",
       "\tSum & 95 & 73 & 168\\\\\n",
       "\\end{tabular}\n"
      ],
      "text/markdown": [
       "\n",
       "A matrix: 3 × 3 of type dbl\n",
       "\n",
       "| <!--/--> | female | male | Sum |\n",
       "|---|---|---|---|\n",
       "| nonsmoker | 80 | 54 | 134 |\n",
       "| smoker | 15 | 19 |  34 |\n",
       "| Sum | 95 | 73 | 168 |\n",
       "\n"
      ],
      "text/plain": [
       "          female male Sum\n",
       "nonsmoker 80     54   134\n",
       "smoker    15     19    34\n",
       "Sum       95     73   168"
      ]
     },
     "metadata": {},
     "output_type": "display_data"
    }
   ],
   "source": [
    "addmargins(S)"
   ]
  },
  {
   "cell_type": "code",
   "execution_count": 49,
   "metadata": {
    "scrolled": true
   },
   "outputs": [
    {
     "data": {
      "text/html": [
       "<table>\n",
       "<caption>A matrix: 3 × 3 of type dbl</caption>\n",
       "<thead>\n",
       "\t<tr><th></th><th scope=col>female</th><th scope=col>male</th><th scope=col>Sum</th></tr>\n",
       "</thead>\n",
       "<tbody>\n",
       "\t<tr><th scope=row>nonsmoker</th><td>0.47619048</td><td>0.3214286</td><td>0.797619</td></tr>\n",
       "\t<tr><th scope=row>smoker</th><td>0.08928571</td><td>0.1130952</td><td>0.202381</td></tr>\n",
       "\t<tr><th scope=row>Sum</th><td>0.56547619</td><td>0.4345238</td><td>1.000000</td></tr>\n",
       "</tbody>\n",
       "</table>\n"
      ],
      "text/latex": [
       "A matrix: 3 × 3 of type dbl\n",
       "\\begin{tabular}{r|lll}\n",
       "  & female & male & Sum\\\\\n",
       "\\hline\n",
       "\tnonsmoker & 0.47619048 & 0.3214286 & 0.797619\\\\\n",
       "\tsmoker & 0.08928571 & 0.1130952 & 0.202381\\\\\n",
       "\tSum & 0.56547619 & 0.4345238 & 1.000000\\\\\n",
       "\\end{tabular}\n"
      ],
      "text/markdown": [
       "\n",
       "A matrix: 3 × 3 of type dbl\n",
       "\n",
       "| <!--/--> | female | male | Sum |\n",
       "|---|---|---|---|\n",
       "| nonsmoker | 0.47619048 | 0.3214286 | 0.797619 |\n",
       "| smoker | 0.08928571 | 0.1130952 | 0.202381 |\n",
       "| Sum | 0.56547619 | 0.4345238 | 1.000000 |\n",
       "\n"
      ],
      "text/plain": [
       "          female     male      Sum     \n",
       "nonsmoker 0.47619048 0.3214286 0.797619\n",
       "smoker    0.08928571 0.1130952 0.202381\n",
       "Sum       0.56547619 0.4345238 1.000000"
      ]
     },
     "metadata": {},
     "output_type": "display_data"
    }
   ],
   "source": [
    "addmargins(prop.table(S))"
   ]
  },
  {
   "cell_type": "code",
   "execution_count": 51,
   "metadata": {},
   "outputs": [
    {
     "data": {
      "text/html": [
       "0.57"
      ],
      "text/latex": [
       "0.57"
      ],
      "text/markdown": [
       "0.57"
      ],
      "text/plain": [
       "[1] 0.57"
      ]
     },
     "metadata": {},
     "output_type": "display_data"
    }
   ],
   "source": [
    "# Answer for Activity 3.a goes here -----\n",
    "# P(Female) = 0.57\n",
    "0.57"
   ]
  },
  {
   "cell_type": "code",
   "execution_count": 50,
   "metadata": {},
   "outputs": [
    {
     "data": {
      "text/html": [
       "0.157894736842105"
      ],
      "text/latex": [
       "0.157894736842105"
      ],
      "text/markdown": [
       "0.157894736842105"
      ],
      "text/plain": [
       "[1] 0.1578947"
      ]
     },
     "metadata": {},
     "output_type": "display_data"
    }
   ],
   "source": [
    "# Answer for Activity 3.b goes here -----\n",
    "# P(smoker | Female) = P(smoker & female)/P(female)\n",
    "\n",
    "15 / (80+15)"
   ]
  },
  {
   "cell_type": "markdown",
   "metadata": {},
   "source": [
    "<span style=\"color:#1871d6; font-weight:400\">Activity 4: </span>  Load the framingham data from the directory '/datasets/framingham'. Find out the probability of a randomly subject to have the risk of coronary heart disease given that the subject is a male."
   ]
  },
  {
   "cell_type": "code",
   "execution_count": 52,
   "metadata": {},
   "outputs": [
    {
     "data": {
      "text/html": [
       "<table>\n",
       "<caption>A data.frame: 6 × 16</caption>\n",
       "<thead>\n",
       "\t<tr><th scope=col>male</th><th scope=col>age</th><th scope=col>education</th><th scope=col>currentSmoker</th><th scope=col>cigsPerDay</th><th scope=col>BPMeds</th><th scope=col>prevalentStroke</th><th scope=col>prevalentHyp</th><th scope=col>diabetes</th><th scope=col>totChol</th><th scope=col>sysBP</th><th scope=col>diaBP</th><th scope=col>BMI</th><th scope=col>heartRate</th><th scope=col>glucose</th><th scope=col>TenYearCHD</th></tr>\n",
       "\t<tr><th scope=col>&lt;int&gt;</th><th scope=col>&lt;int&gt;</th><th scope=col>&lt;int&gt;</th><th scope=col>&lt;int&gt;</th><th scope=col>&lt;int&gt;</th><th scope=col>&lt;int&gt;</th><th scope=col>&lt;int&gt;</th><th scope=col>&lt;int&gt;</th><th scope=col>&lt;int&gt;</th><th scope=col>&lt;int&gt;</th><th scope=col>&lt;dbl&gt;</th><th scope=col>&lt;dbl&gt;</th><th scope=col>&lt;dbl&gt;</th><th scope=col>&lt;int&gt;</th><th scope=col>&lt;int&gt;</th><th scope=col>&lt;int&gt;</th></tr>\n",
       "</thead>\n",
       "<tbody>\n",
       "\t<tr><td>1</td><td>39</td><td>4</td><td>0</td><td> 0</td><td>0</td><td>0</td><td>0</td><td>0</td><td>195</td><td>106.0</td><td> 70</td><td>26.97</td><td>80</td><td> 77</td><td>0</td></tr>\n",
       "\t<tr><td>0</td><td>46</td><td>2</td><td>0</td><td> 0</td><td>0</td><td>0</td><td>0</td><td>0</td><td>250</td><td>121.0</td><td> 81</td><td>28.73</td><td>95</td><td> 76</td><td>0</td></tr>\n",
       "\t<tr><td>1</td><td>48</td><td>1</td><td>1</td><td>20</td><td>0</td><td>0</td><td>0</td><td>0</td><td>245</td><td>127.5</td><td> 80</td><td>25.34</td><td>75</td><td> 70</td><td>0</td></tr>\n",
       "\t<tr><td>0</td><td>61</td><td>3</td><td>1</td><td>30</td><td>0</td><td>0</td><td>1</td><td>0</td><td>225</td><td>150.0</td><td> 95</td><td>28.58</td><td>65</td><td>103</td><td>1</td></tr>\n",
       "\t<tr><td>0</td><td>46</td><td>3</td><td>1</td><td>23</td><td>0</td><td>0</td><td>0</td><td>0</td><td>285</td><td>130.0</td><td> 84</td><td>23.10</td><td>85</td><td> 85</td><td>0</td></tr>\n",
       "\t<tr><td>0</td><td>43</td><td>2</td><td>0</td><td> 0</td><td>0</td><td>0</td><td>1</td><td>0</td><td>228</td><td>180.0</td><td>110</td><td>30.30</td><td>77</td><td> 99</td><td>0</td></tr>\n",
       "</tbody>\n",
       "</table>\n"
      ],
      "text/latex": [
       "A data.frame: 6 × 16\n",
       "\\begin{tabular}{r|llllllllllllllll}\n",
       " male & age & education & currentSmoker & cigsPerDay & BPMeds & prevalentStroke & prevalentHyp & diabetes & totChol & sysBP & diaBP & BMI & heartRate & glucose & TenYearCHD\\\\\n",
       " <int> & <int> & <int> & <int> & <int> & <int> & <int> & <int> & <int> & <int> & <dbl> & <dbl> & <dbl> & <int> & <int> & <int>\\\\\n",
       "\\hline\n",
       "\t 1 & 39 & 4 & 0 &  0 & 0 & 0 & 0 & 0 & 195 & 106.0 &  70 & 26.97 & 80 &  77 & 0\\\\\n",
       "\t 0 & 46 & 2 & 0 &  0 & 0 & 0 & 0 & 0 & 250 & 121.0 &  81 & 28.73 & 95 &  76 & 0\\\\\n",
       "\t 1 & 48 & 1 & 1 & 20 & 0 & 0 & 0 & 0 & 245 & 127.5 &  80 & 25.34 & 75 &  70 & 0\\\\\n",
       "\t 0 & 61 & 3 & 1 & 30 & 0 & 0 & 1 & 0 & 225 & 150.0 &  95 & 28.58 & 65 & 103 & 1\\\\\n",
       "\t 0 & 46 & 3 & 1 & 23 & 0 & 0 & 0 & 0 & 285 & 130.0 &  84 & 23.10 & 85 &  85 & 0\\\\\n",
       "\t 0 & 43 & 2 & 0 &  0 & 0 & 0 & 1 & 0 & 228 & 180.0 & 110 & 30.30 & 77 &  99 & 0\\\\\n",
       "\\end{tabular}\n"
      ],
      "text/markdown": [
       "\n",
       "A data.frame: 6 × 16\n",
       "\n",
       "| male &lt;int&gt; | age &lt;int&gt; | education &lt;int&gt; | currentSmoker &lt;int&gt; | cigsPerDay &lt;int&gt; | BPMeds &lt;int&gt; | prevalentStroke &lt;int&gt; | prevalentHyp &lt;int&gt; | diabetes &lt;int&gt; | totChol &lt;int&gt; | sysBP &lt;dbl&gt; | diaBP &lt;dbl&gt; | BMI &lt;dbl&gt; | heartRate &lt;int&gt; | glucose &lt;int&gt; | TenYearCHD &lt;int&gt; |\n",
       "|---|---|---|---|---|---|---|---|---|---|---|---|---|---|---|---|\n",
       "| 1 | 39 | 4 | 0 |  0 | 0 | 0 | 0 | 0 | 195 | 106.0 |  70 | 26.97 | 80 |  77 | 0 |\n",
       "| 0 | 46 | 2 | 0 |  0 | 0 | 0 | 0 | 0 | 250 | 121.0 |  81 | 28.73 | 95 |  76 | 0 |\n",
       "| 1 | 48 | 1 | 1 | 20 | 0 | 0 | 0 | 0 | 245 | 127.5 |  80 | 25.34 | 75 |  70 | 0 |\n",
       "| 0 | 61 | 3 | 1 | 30 | 0 | 0 | 1 | 0 | 225 | 150.0 |  95 | 28.58 | 65 | 103 | 1 |\n",
       "| 0 | 46 | 3 | 1 | 23 | 0 | 0 | 0 | 0 | 285 | 130.0 |  84 | 23.10 | 85 |  85 | 0 |\n",
       "| 0 | 43 | 2 | 0 |  0 | 0 | 0 | 1 | 0 | 228 | 180.0 | 110 | 30.30 | 77 |  99 | 0 |\n",
       "\n"
      ],
      "text/plain": [
       "  male age education currentSmoker cigsPerDay BPMeds prevalentStroke\n",
       "1 1    39  4         0              0         0      0              \n",
       "2 0    46  2         0              0         0      0              \n",
       "3 1    48  1         1             20         0      0              \n",
       "4 0    61  3         1             30         0      0              \n",
       "5 0    46  3         1             23         0      0              \n",
       "6 0    43  2         0              0         0      0              \n",
       "  prevalentHyp diabetes totChol sysBP diaBP BMI   heartRate glucose TenYearCHD\n",
       "1 0            0        195     106.0  70   26.97 80         77     0         \n",
       "2 0            0        250     121.0  81   28.73 95         76     0         \n",
       "3 0            0        245     127.5  80   25.34 75         70     0         \n",
       "4 1            0        225     150.0  95   28.58 65        103     1         \n",
       "5 0            0        285     130.0  84   23.10 85         85     0         \n",
       "6 1            0        228     180.0 110   30.30 77         99     0         "
      ]
     },
     "metadata": {},
     "output_type": "display_data"
    }
   ],
   "source": [
    "# Code for Activity 4 goes here -----\n",
    "framingham_data <- read.csv(\"/dsa/data/all_datasets/framingham/framingham.csv\")\n",
    "head(framingham_data)"
   ]
  },
  {
   "cell_type": "code",
   "execution_count": 81,
   "metadata": {},
   "outputs": [],
   "source": [
    "# Creating the table\n",
    "male_cor <- with(framingham_data, table(framingham_data$TenYearCHD, framingham_data$male))\n",
    "colnames(male_cor) <- c('female', 'male')\n",
    "rownames(male_cor) <- c('CHD -', 'CHD +')\n",
    "male_cor.table <- as.table(male_cor)"
   ]
  },
  {
   "cell_type": "code",
   "execution_count": 82,
   "metadata": {
    "scrolled": true
   },
   "outputs": [
    {
     "data": {
      "text/html": [
       "<table>\n",
       "<caption>A table: 3 × 3 of type dbl</caption>\n",
       "<thead>\n",
       "\t<tr><th></th><th scope=col>female</th><th scope=col>male</th><th scope=col>Sum</th></tr>\n",
       "</thead>\n",
       "<tbody>\n",
       "\t<tr><th scope=row>CHD -</th><td>2119</td><td>1477</td><td>3596</td></tr>\n",
       "\t<tr><th scope=row>CHD +</th><td> 301</td><td> 343</td><td> 644</td></tr>\n",
       "\t<tr><th scope=row>Sum</th><td>2420</td><td>1820</td><td>4240</td></tr>\n",
       "</tbody>\n",
       "</table>\n"
      ],
      "text/latex": [
       "A table: 3 × 3 of type dbl\n",
       "\\begin{tabular}{r|lll}\n",
       "  & female & male & Sum\\\\\n",
       "\\hline\n",
       "\tCHD - & 2119 & 1477 & 3596\\\\\n",
       "\tCHD + &  301 &  343 &  644\\\\\n",
       "\tSum & 2420 & 1820 & 4240\\\\\n",
       "\\end{tabular}\n"
      ],
      "text/markdown": [
       "\n",
       "A table: 3 × 3 of type dbl\n",
       "\n",
       "| <!--/--> | female | male | Sum |\n",
       "|---|---|---|---|\n",
       "| CHD - | 2119 | 1477 | 3596 |\n",
       "| CHD + |  301 |  343 |  644 |\n",
       "| Sum | 2420 | 1820 | 4240 |\n",
       "\n"
      ],
      "text/plain": [
       "       \n",
       "        female male Sum \n",
       "  CHD - 2119   1477 3596\n",
       "  CHD +  301    343  644\n",
       "  Sum   2420   1820 4240"
      ]
     },
     "metadata": {},
     "output_type": "display_data"
    },
    {
     "data": {
      "text/html": [
       "<table>\n",
       "<caption>A table: 3 × 3 of type dbl</caption>\n",
       "<thead>\n",
       "\t<tr><th></th><th scope=col>female</th><th scope=col>male</th><th scope=col>Sum</th></tr>\n",
       "</thead>\n",
       "<tbody>\n",
       "\t<tr><th scope=row>CHD -</th><td>0.49976415</td><td>0.34834906</td><td>0.8481132</td></tr>\n",
       "\t<tr><th scope=row>CHD +</th><td>0.07099057</td><td>0.08089623</td><td>0.1518868</td></tr>\n",
       "\t<tr><th scope=row>Sum</th><td>0.57075472</td><td>0.42924528</td><td>1.0000000</td></tr>\n",
       "</tbody>\n",
       "</table>\n"
      ],
      "text/latex": [
       "A table: 3 × 3 of type dbl\n",
       "\\begin{tabular}{r|lll}\n",
       "  & female & male & Sum\\\\\n",
       "\\hline\n",
       "\tCHD - & 0.49976415 & 0.34834906 & 0.8481132\\\\\n",
       "\tCHD + & 0.07099057 & 0.08089623 & 0.1518868\\\\\n",
       "\tSum & 0.57075472 & 0.42924528 & 1.0000000\\\\\n",
       "\\end{tabular}\n"
      ],
      "text/markdown": [
       "\n",
       "A table: 3 × 3 of type dbl\n",
       "\n",
       "| <!--/--> | female | male | Sum |\n",
       "|---|---|---|---|\n",
       "| CHD - | 0.49976415 | 0.34834906 | 0.8481132 |\n",
       "| CHD + | 0.07099057 | 0.08089623 | 0.1518868 |\n",
       "| Sum | 0.57075472 | 0.42924528 | 1.0000000 |\n",
       "\n"
      ],
      "text/plain": [
       "       \n",
       "        female     male       Sum      \n",
       "  CHD - 0.49976415 0.34834906 0.8481132\n",
       "  CHD + 0.07099057 0.08089623 0.1518868\n",
       "  Sum   0.57075472 0.42924528 1.0000000"
      ]
     },
     "metadata": {},
     "output_type": "display_data"
    }
   ],
   "source": [
    "addmargins(male_cor.table)\n",
    "addmargins(prop.table(male_cor.table))"
   ]
  },
  {
   "cell_type": "markdown",
   "metadata": {},
   "source": [
    "Using Bayes\n",
    "\n",
    "CHD = CHD +\n",
    "\n",
    "m = male\n",
    "\n",
    "                            p(CHD) * p(m|CHD)\n",
    "     p(CHD|m) =  -------------------------------------\n",
    "               [p(CHD) * p(m|CHD)] + [ p(CHD') * p(m|CHD')]"
   ]
  },
  {
   "cell_type": "code",
   "execution_count": 85,
   "metadata": {},
   "outputs": [
    {
     "data": {
      "text/html": [
       "0.0387722132471729"
      ],
      "text/latex": [
       "0.0387722132471729"
      ],
      "text/markdown": [
       "0.0387722132471729"
      ],
      "text/plain": [
       "[1] 0.03877221"
      ]
     },
     "metadata": {},
     "output_type": "display_data"
    }
   ],
   "source": [
    "#P(CHD|male) = P(CHD and male)/P(male) <- updated per professor's notes\n",
    "# Enter your answer for Activity 4 -----\n",
    "# using Bayes see above\n",
    "\n",
    "(0.15 * 0.08) / ((0.15 * 0.08) + (0.85 * 0.35))"
   ]
  },
  {
   "cell_type": "markdown",
   "metadata": {},
   "source": [
    "<span style=\"color:#1871d6; font-weight:400\">Activity 5: </span> Find out the probability of randomly selected subject to have the risk of coronary heart disease given subject is less than or equal to 40 years of age."
   ]
  },
  {
   "cell_type": "code",
   "execution_count": 78,
   "metadata": {},
   "outputs": [
    {
     "data": {
      "text/html": [
       "748"
      ],
      "text/latex": [
       "748"
      ],
      "text/markdown": [
       "748"
      ],
      "text/plain": [
       "[1] 748"
      ]
     },
     "metadata": {},
     "output_type": "display_data"
    }
   ],
   "source": [
    "#using these cells to make sure all the data in the tables is in the right columns/rows\n",
    "#less_40 <- subset(framingham_data, framingham_data$age <=40)\n",
    "#nrow(less_40)"
   ]
  },
  {
   "cell_type": "code",
   "execution_count": 90,
   "metadata": {},
   "outputs": [
    {
     "data": {
      "text/html": [
       "644"
      ],
      "text/latex": [
       "644"
      ],
      "text/markdown": [
       "644"
      ],
      "text/plain": [
       "[1] 644"
      ]
     },
     "metadata": {},
     "output_type": "display_data"
    }
   ],
   "source": [
    "#has_chd <- subset(framingham_data, framingham_data$TenYearCHD == 1)\n",
    "#nrow(has_chd)"
   ]
  },
  {
   "cell_type": "code",
   "execution_count": 88,
   "metadata": {},
   "outputs": [],
   "source": [
    "# Code for activity 5 goes here...\n",
    "age_cor <- with(framingham_data, table(framingham_data$TenYearCHD, framingham_data$age <= 40))\n",
    "colnames(age_cor) <- c('>40', '<=40')\n",
    "rownames(age_cor) <- c('CHD -', 'CHD +')\n",
    "age_cor <- as.table(age_cor)"
   ]
  },
  {
   "cell_type": "code",
   "execution_count": 91,
   "metadata": {},
   "outputs": [
    {
     "data": {
      "text/html": [
       "<table>\n",
       "<caption>A table: 3 × 3 of type dbl</caption>\n",
       "<thead>\n",
       "\t<tr><th></th><th scope=col>&gt;40</th><th scope=col>&lt;=40</th><th scope=col>Sum</th></tr>\n",
       "</thead>\n",
       "<tbody>\n",
       "\t<tr><th scope=row>CHD -</th><td>2886</td><td>710</td><td>3596</td></tr>\n",
       "\t<tr><th scope=row>CHD +</th><td> 606</td><td> 38</td><td> 644</td></tr>\n",
       "\t<tr><th scope=row>Sum</th><td>3492</td><td>748</td><td>4240</td></tr>\n",
       "</tbody>\n",
       "</table>\n"
      ],
      "text/latex": [
       "A table: 3 × 3 of type dbl\n",
       "\\begin{tabular}{r|lll}\n",
       "  & >40 & <=40 & Sum\\\\\n",
       "\\hline\n",
       "\tCHD - & 2886 & 710 & 3596\\\\\n",
       "\tCHD + &  606 &  38 &  644\\\\\n",
       "\tSum & 3492 & 748 & 4240\\\\\n",
       "\\end{tabular}\n"
      ],
      "text/markdown": [
       "\n",
       "A table: 3 × 3 of type dbl\n",
       "\n",
       "| <!--/--> | &gt;40 | &lt;=40 | Sum |\n",
       "|---|---|---|---|\n",
       "| CHD - | 2886 | 710 | 3596 |\n",
       "| CHD + |  606 |  38 |  644 |\n",
       "| Sum | 3492 | 748 | 4240 |\n",
       "\n"
      ],
      "text/plain": [
       "       \n",
       "        >40  <=40 Sum \n",
       "  CHD - 2886 710  3596\n",
       "  CHD +  606  38   644\n",
       "  Sum   3492 748  4240"
      ]
     },
     "metadata": {},
     "output_type": "display_data"
    },
    {
     "data": {
      "text/html": [
       "<table>\n",
       "<caption>A table: 3 × 3 of type dbl</caption>\n",
       "<thead>\n",
       "\t<tr><th></th><th scope=col>&gt;40</th><th scope=col>&lt;=40</th><th scope=col>Sum</th></tr>\n",
       "</thead>\n",
       "<tbody>\n",
       "\t<tr><th scope=row>CHD -</th><td>0.6806604</td><td>0.167452830</td><td>0.8481132</td></tr>\n",
       "\t<tr><th scope=row>CHD +</th><td>0.1429245</td><td>0.008962264</td><td>0.1518868</td></tr>\n",
       "\t<tr><th scope=row>Sum</th><td>0.8235849</td><td>0.176415094</td><td>1.0000000</td></tr>\n",
       "</tbody>\n",
       "</table>\n"
      ],
      "text/latex": [
       "A table: 3 × 3 of type dbl\n",
       "\\begin{tabular}{r|lll}\n",
       "  & >40 & <=40 & Sum\\\\\n",
       "\\hline\n",
       "\tCHD - & 0.6806604 & 0.167452830 & 0.8481132\\\\\n",
       "\tCHD + & 0.1429245 & 0.008962264 & 0.1518868\\\\\n",
       "\tSum & 0.8235849 & 0.176415094 & 1.0000000\\\\\n",
       "\\end{tabular}\n"
      ],
      "text/markdown": [
       "\n",
       "A table: 3 × 3 of type dbl\n",
       "\n",
       "| <!--/--> | &gt;40 | &lt;=40 | Sum |\n",
       "|---|---|---|---|\n",
       "| CHD - | 0.6806604 | 0.167452830 | 0.8481132 |\n",
       "| CHD + | 0.1429245 | 0.008962264 | 0.1518868 |\n",
       "| Sum | 0.8235849 | 0.176415094 | 1.0000000 |\n",
       "\n"
      ],
      "text/plain": [
       "       \n",
       "        >40       <=40        Sum      \n",
       "  CHD - 0.6806604 0.167452830 0.8481132\n",
       "  CHD + 0.1429245 0.008962264 0.1518868\n",
       "  Sum   0.8235849 0.176415094 1.0000000"
      ]
     },
     "metadata": {},
     "output_type": "display_data"
    }
   ],
   "source": [
    "addmargins(age_cor)\n",
    "addmargins(prop.table(age_cor))"
   ]
  },
  {
   "cell_type": "markdown",
   "metadata": {},
   "source": [
    "Using Bayes\n",
    "\n",
    "CHD = CHD +\n",
    "\n",
    "<=40 = less than or equal to 40\n",
    "\n",
    "                            p(CHD) * p(<=40|CHD)\n",
    "     p(CHD|m) =  -------------------------------------\n",
    "               [p(CHD) * p(<=40|CHD)] + [ p(CHD') * p(<=40|CHD')]"
   ]
  },
  {
   "cell_type": "code",
   "execution_count": 93,
   "metadata": {},
   "outputs": [
    {
     "data": {
      "text/html": [
       "0.0102739726027397"
      ],
      "text/latex": [
       "0.0102739726027397"
      ],
      "text/markdown": [
       "0.0102739726027397"
      ],
      "text/plain": [
       "[1] 0.01027397"
      ]
     },
     "metadata": {},
     "output_type": "display_data"
    }
   ],
   "source": [
    "# P(CHD | age <= 40) = P(CHD and age <= 40) / P(age <= 40)\n",
    "# Enter your answer for Activity 5 -----\n",
    "\n",
    "(0.15 * 0.01)/((0.15 * 0.01) + (0.85 * 0.17))\n"
   ]
  },
  {
   "cell_type": "markdown",
   "metadata": {},
   "source": [
    "<span style=\"color:#1871d6; font-weight:400\">Activity 6: </span> Find out the probability of randomly selected subject to have the risk of coronary heart disease given that the subject smokes less than 10 cigarettes and is a current smoker. \n",
    "\n",
    "**Hint:** Use a 3-way table to include the variables cigsPerDay, TenYearCHD and currentSmoker. Use currentSmoker as the 3rd dimension/input."
   ]
  },
  {
   "cell_type": "markdown",
   "metadata": {},
   "source": [
    "Per email, we are not considering current smokers and therefore do not need a 3-way table on this"
   ]
  },
  {
   "cell_type": "code",
   "execution_count": 96,
   "metadata": {},
   "outputs": [
    {
     "data": {
      "text/html": [
       "2631"
      ],
      "text/latex": [
       "2631"
      ],
      "text/markdown": [
       "2631"
      ],
      "text/plain": [
       "[1] 2631"
      ]
     },
     "metadata": {},
     "output_type": "display_data"
    }
   ],
   "source": [
    "#pack_10 <- subset(framingham_data, framingham_data$cigsPerDay < 10)\n",
    "#nrow(pack_10)"
   ]
  },
  {
   "cell_type": "code",
   "execution_count": 94,
   "metadata": {},
   "outputs": [],
   "source": [
    "# Code for activity 6 goes here....\n",
    "less_cigs <- with(framingham_data, table(framingham_data$TenYearCHD, framingham_data$cigsPerDay < 10))\n",
    "colnames(less_cigs) <- c('>=10', '<10')\n",
    "rownames(less_cigs) <- c('CHD -', 'CHD +')\n",
    "less_cigs <- as.table(less_cigs)"
   ]
  },
  {
   "cell_type": "code",
   "execution_count": 95,
   "metadata": {},
   "outputs": [
    {
     "data": {
      "text/html": [
       "<table>\n",
       "<caption>A table: 3 × 3 of type dbl</caption>\n",
       "<thead>\n",
       "\t<tr><th></th><th scope=col>&gt;=10</th><th scope=col>&lt;10</th><th scope=col>Sum</th></tr>\n",
       "</thead>\n",
       "<tbody>\n",
       "\t<tr><th scope=row>CHD -</th><td>1302</td><td>2267</td><td>3569</td></tr>\n",
       "\t<tr><th scope=row>CHD +</th><td> 278</td><td> 364</td><td> 642</td></tr>\n",
       "\t<tr><th scope=row>Sum</th><td>1580</td><td>2631</td><td>4211</td></tr>\n",
       "</tbody>\n",
       "</table>\n"
      ],
      "text/latex": [
       "A table: 3 × 3 of type dbl\n",
       "\\begin{tabular}{r|lll}\n",
       "  & >=10 & <10 & Sum\\\\\n",
       "\\hline\n",
       "\tCHD - & 1302 & 2267 & 3569\\\\\n",
       "\tCHD + &  278 &  364 &  642\\\\\n",
       "\tSum & 1580 & 2631 & 4211\\\\\n",
       "\\end{tabular}\n"
      ],
      "text/markdown": [
       "\n",
       "A table: 3 × 3 of type dbl\n",
       "\n",
       "| <!--/--> | &gt;=10 | &lt;10 | Sum |\n",
       "|---|---|---|---|\n",
       "| CHD - | 1302 | 2267 | 3569 |\n",
       "| CHD + |  278 |  364 |  642 |\n",
       "| Sum | 1580 | 2631 | 4211 |\n",
       "\n"
      ],
      "text/plain": [
       "       \n",
       "        >=10 <10  Sum \n",
       "  CHD - 1302 2267 3569\n",
       "  CHD +  278  364  642\n",
       "  Sum   1580 2631 4211"
      ]
     },
     "metadata": {},
     "output_type": "display_data"
    },
    {
     "data": {
      "text/html": [
       "<table>\n",
       "<caption>A table: 3 × 3 of type dbl</caption>\n",
       "<thead>\n",
       "\t<tr><th></th><th scope=col>&gt;=10</th><th scope=col>&lt;10</th><th scope=col>Sum</th></tr>\n",
       "</thead>\n",
       "<tbody>\n",
       "\t<tr><th scope=row>CHD -</th><td>0.30919022</td><td>0.53835194</td><td>0.8475422</td></tr>\n",
       "\t<tr><th scope=row>CHD +</th><td>0.06601757</td><td>0.08644028</td><td>0.1524578</td></tr>\n",
       "\t<tr><th scope=row>Sum</th><td>0.37520779</td><td>0.62479221</td><td>1.0000000</td></tr>\n",
       "</tbody>\n",
       "</table>\n"
      ],
      "text/latex": [
       "A table: 3 × 3 of type dbl\n",
       "\\begin{tabular}{r|lll}\n",
       "  & >=10 & <10 & Sum\\\\\n",
       "\\hline\n",
       "\tCHD - & 0.30919022 & 0.53835194 & 0.8475422\\\\\n",
       "\tCHD + & 0.06601757 & 0.08644028 & 0.1524578\\\\\n",
       "\tSum & 0.37520779 & 0.62479221 & 1.0000000\\\\\n",
       "\\end{tabular}\n"
      ],
      "text/markdown": [
       "\n",
       "A table: 3 × 3 of type dbl\n",
       "\n",
       "| <!--/--> | &gt;=10 | &lt;10 | Sum |\n",
       "|---|---|---|---|\n",
       "| CHD - | 0.30919022 | 0.53835194 | 0.8475422 |\n",
       "| CHD + | 0.06601757 | 0.08644028 | 0.1524578 |\n",
       "| Sum | 0.37520779 | 0.62479221 | 1.0000000 |\n",
       "\n"
      ],
      "text/plain": [
       "       \n",
       "        >=10       <10        Sum      \n",
       "  CHD - 0.30919022 0.53835194 0.8475422\n",
       "  CHD + 0.06601757 0.08644028 0.1524578\n",
       "  Sum   0.37520779 0.62479221 1.0000000"
      ]
     },
     "metadata": {},
     "output_type": "display_data"
    }
   ],
   "source": [
    "addmargins(less_cigs)\n",
    "addmargins(prop.table(less_cigs))"
   ]
  },
  {
   "cell_type": "markdown",
   "metadata": {},
   "source": [
    "Using Bayes\n",
    "\n",
    "CHD = CHD +\n",
    "\n",
    "<10 = less than 10 packs a day\n",
    "\n",
    "                            p(CHD) * p(<10|CHD)\n",
    "     p(CHD|m) =  -------------------------------------\n",
    "               [p(CHD) * p(<10|CHD)] + [ p(CHD') * p(<10|CHD')]"
   ]
  },
  {
   "cell_type": "code",
   "execution_count": 97,
   "metadata": {},
   "outputs": [
    {
     "data": {
      "text/html": [
       "0.0285714285714286"
      ],
      "text/latex": [
       "0.0285714285714286"
      ],
      "text/markdown": [
       "0.0285714285714286"
      ],
      "text/plain": [
       "[1] 0.02857143"
      ]
     },
     "metadata": {},
     "output_type": "display_data"
    }
   ],
   "source": [
    "# P( risk of CHD | subject smokes <10 cigs ) = P( risk of CHD and subject smokes <10 cigs)/ P(subject smokes <10 cigs)\n",
    "# Enter your answer for Activity 6 -----\n",
    "\n",
    "(0.15*0.09)/((0.15*0.09)+(0.85 * 0.54))\n"
   ]
  },
  {
   "cell_type": "markdown",
   "metadata": {},
   "source": [
    "<span style=\"color:#1871d6; font-weight:400\">Activity 7.a: </span> Find out the probability of randomly selected subject to have the risk of coronary heart disease given that the subject has totChol > 300 and has BMI >30. \n",
    "\n",
    "<span style=\"color:#1871d6; font-weight:400\">Activity 7.b: </span> Find out the probability of randomly selected subject to have the risk of coronary heart disease given that the subject has totChol > 300 and has BMI < 30. \n",
    "\n",
    "**Hint:** Use a 3-way table. Use BMI as the 3rd dimension/input."
   ]
  },
  {
   "cell_type": "code",
   "execution_count": 99,
   "metadata": {},
   "outputs": [],
   "source": [
    "?xtabs"
   ]
  },
  {
   "cell_type": "code",
   "execution_count": 100,
   "metadata": {},
   "outputs": [],
   "source": [
    "# Code for activity 7 goes here....\n",
    "\n",
    "# with(framingham_data,xtabs(~(totChol>300)+TenYearCHD+(BMI>30)))\n",
    "\n",
    "CHD_BMI_totChol <- with(framingham_data,xtabs(~(totChol>300)+TenYearCHD+(BMI>30)))"
   ]
  },
  {
   "cell_type": "code",
   "execution_count": 103,
   "metadata": {},
   "outputs": [
    {
     "data": {
      "text/plain": [
       ", , BMI > 30 = FALSE\n",
       "\n",
       "             TenYearCHD\n",
       "totChol > 300    0    1  Sum\n",
       "        FALSE 2909  465 3374\n",
       "        TRUE   214   58  272\n",
       "        Sum   3123  523 3646\n",
       "\n",
       ", , BMI > 30 = TRUE\n",
       "\n",
       "             TenYearCHD\n",
       "totChol > 300    0    1  Sum\n",
       "        FALSE  386   91  477\n",
       "        TRUE    38   11   49\n",
       "        Sum    424  102  526\n",
       "\n",
       ", , BMI > 30 = Sum\n",
       "\n",
       "             TenYearCHD\n",
       "totChol > 300    0    1  Sum\n",
       "        FALSE 3295  556 3851\n",
       "        TRUE   252   69  321\n",
       "        Sum   3547  625 4172\n"
      ]
     },
     "metadata": {},
     "output_type": "display_data"
    }
   ],
   "source": [
    "addmargins(CHD_BMI_totChol)"
   ]
  },
  {
   "cell_type": "code",
   "execution_count": 104,
   "metadata": {},
   "outputs": [
    {
     "data": {
      "text/html": [
       "0.0651038644539863"
      ],
      "text/latex": [
       "0.0651038644539863"
      ],
      "text/markdown": [
       "0.0651038644539863"
      ],
      "text/plain": [
       "[1] 0.06510386"
      ]
     },
     "metadata": {},
     "output_type": "display_data"
    }
   ],
   "source": [
    "# Enter your answer for Activity 7.a (BMI > 30) -----  \n",
    "# P( risk of CHD | subject has totChol > 300 ) = P( risk of CHD and subject has totChol > 300 )/ P(subject has totChol > 300 )\n",
    "\n",
    "(102 * 11)/((102*11)+(424*38))"
   ]
  },
  {
   "cell_type": "code",
   "execution_count": 105,
   "metadata": {},
   "outputs": [
    {
     "data": {
      "text/html": [
       "0.0434176475976732"
      ],
      "text/latex": [
       "0.0434176475976732"
      ],
      "text/markdown": [
       "0.0434176475976732"
      ],
      "text/plain": [
       "[1] 0.04341765"
      ]
     },
     "metadata": {},
     "output_type": "display_data"
    }
   ],
   "source": [
    "# Enter your answer for Activity 7.b (BMI < 30) -----  \n",
    "# P( risk of CHD | subject has totChol > 300 ) = P( risk of CHD and subject has totChol > 300 )/ P(subject has totChol > 300 )\n",
    "(523*58)/((523*58)+(3123*214))"
   ]
  },
  {
   "cell_type": "markdown",
   "metadata": {},
   "source": [
    "<span style=\"color:#1871d6; font-weight:400\">Activity 8: </span> Consider two machines producing memory chips. Machine A is in production 18 hours a day producing 80% of the products while machine B is in production for 6 hours a day producing 20% of the products. Both machines have a fault rate of 0.002 and 0.007, respectively. If a randomly selected chip is faulty, which machine could be the most probable source of producing that chip?"
   ]
  },
  {
   "cell_type": "code",
   "execution_count": 108,
   "metadata": {},
   "outputs": [
    {
     "data": {
      "text/html": [
       "<ol class=list-inline>\n",
       "\t<li>0.0016</li>\n",
       "\t<li>0.0014</li>\n",
       "</ol>\n"
      ],
      "text/latex": [
       "\\begin{enumerate*}\n",
       "\\item 0.0016\n",
       "\\item 0.0014\n",
       "\\end{enumerate*}\n"
      ],
      "text/markdown": [
       "1. 0.0016\n",
       "2. 0.0014\n",
       "\n",
       "\n"
      ],
      "text/plain": [
       "[1] 0.0016 0.0014"
      ]
     },
     "metadata": {},
     "output_type": "display_data"
    }
   ],
   "source": [
    "# Code for activity 8 goes here. \n",
    "\n",
    "# We don't have any prior probabilities for the machines. We consider amount of production they do as our prior.\n",
    "prior_probs <- c(0.8, 0.2)\n",
    "\n",
    "# Both machines A and B have a fault rate of 0.002 and 0.007. WE use this info as likelihood of generating a faulty chip\n",
    "like <- c(0.002, 0.007)\n",
    "\n",
    "# Generate posterior probabilities based on prior probability and likelihood of each event.\n",
    "post <- prior_probs * like\n",
    "post"
   ]
  },
  {
   "cell_type": "code",
   "execution_count": 109,
   "metadata": {},
   "outputs": [
    {
     "data": {
      "text/html": [
       "<ol class=list-inline>\n",
       "\t<li>0.533333333333333</li>\n",
       "\t<li>0.466666666666667</li>\n",
       "</ol>\n"
      ],
      "text/latex": [
       "\\begin{enumerate*}\n",
       "\\item 0.533333333333333\n",
       "\\item 0.466666666666667\n",
       "\\end{enumerate*}\n"
      ],
      "text/markdown": [
       "1. 0.533333333333333\n",
       "2. 0.466666666666667\n",
       "\n",
       "\n"
      ],
      "text/plain": [
       "[1] 0.5333333 0.4666667"
      ]
     },
     "metadata": {},
     "output_type": "display_data"
    }
   ],
   "source": [
    "post / sum(post)"
   ]
  },
  {
   "cell_type": "markdown",
   "metadata": {},
   "source": [
    "Based on the above math, there is a 53.3% chance Machine A produced the faulty chip, and a 46.7% chance the faulty chip was produced by Machine B.\n",
    "\n",
    "Therefore, it is more likely that the faulty chip was produced by Machine A."
   ]
  }
 ],
 "metadata": {
  "kernelspec": {
   "display_name": "R",
   "language": "R",
   "name": "ir"
  },
  "language_info": {
   "codemirror_mode": "r",
   "file_extension": ".r",
   "mimetype": "text/x-r-source",
   "name": "R",
   "pygments_lexer": "r",
   "version": "3.5.1"
  }
 },
 "nbformat": 4,
 "nbformat_minor": 1
}
