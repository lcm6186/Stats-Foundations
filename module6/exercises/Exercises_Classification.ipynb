{
 "cells": [
  {
   "cell_type": "markdown",
   "metadata": {},
   "source": [
    "<span style=\"color:#04c921; font-size:24px; font-weight:700\"> Module 6 - Classification Exercises</span>\n",
    "\n",
    "We saw why linear regression is not an ideal choice for classification. \n",
    "We audited the following classification algorithms logistic regression, LDA and SVM \n",
    "which are widely used for data analysis. \n",
    "\n",
    "For this exercise, you will apply the classification algorithms you came across in lab \n",
    "and practice notebooks on **songs** and **glass** datasets. \n",
    "The songs dataset captures details about a song:\n",
    "year when it is released, title, artist name, loudness pitch, tempo, timbre values etc. \n",
    "All these independent values are used to predict if the song has made it to the top 10 of the list. \n",
    "Apply a logistic regression model to this dataset."
   ]
  },
  {
   "cell_type": "markdown",
   "metadata": {},
   "source": [
    "Read the data from dataset located at `/dsa/data/all_datasets/songs/songs.csv`."
   ]
  },
  {
   "cell_type": "code",
   "execution_count": 1,
   "metadata": {},
   "outputs": [
    {
     "data": {
      "text/html": [
       "<table>\n",
       "<caption>A data.frame: 6 × 39</caption>\n",
       "<thead>\n",
       "\t<tr><th scope=col>year</th><th scope=col>songtitle</th><th scope=col>artistname</th><th scope=col>songID</th><th scope=col>artistID</th><th scope=col>timesignature</th><th scope=col>timesignature_confidence</th><th scope=col>loudness</th><th scope=col>tempo</th><th scope=col>tempo_confidence</th><th scope=col>⋯</th><th scope=col>timbre_7_max</th><th scope=col>timbre_8_min</th><th scope=col>timbre_8_max</th><th scope=col>timbre_9_min</th><th scope=col>timbre_9_max</th><th scope=col>timbre_10_min</th><th scope=col>timbre_10_max</th><th scope=col>timbre_11_min</th><th scope=col>timbre_11_max</th><th scope=col>Top10</th></tr>\n",
       "\t<tr><th scope=col>&lt;int&gt;</th><th scope=col>&lt;fct&gt;</th><th scope=col>&lt;fct&gt;</th><th scope=col>&lt;fct&gt;</th><th scope=col>&lt;fct&gt;</th><th scope=col>&lt;int&gt;</th><th scope=col>&lt;dbl&gt;</th><th scope=col>&lt;dbl&gt;</th><th scope=col>&lt;dbl&gt;</th><th scope=col>&lt;dbl&gt;</th><th scope=col>⋯</th><th scope=col>&lt;dbl&gt;</th><th scope=col>&lt;dbl&gt;</th><th scope=col>&lt;dbl&gt;</th><th scope=col>&lt;dbl&gt;</th><th scope=col>&lt;dbl&gt;</th><th scope=col>&lt;dbl&gt;</th><th scope=col>&lt;dbl&gt;</th><th scope=col>&lt;dbl&gt;</th><th scope=col>&lt;dbl&gt;</th><th scope=col>&lt;int&gt;</th></tr>\n",
       "</thead>\n",
       "<tbody>\n",
       "\t<tr><td>2010</td><td>This Is the House That Doubt Built</td><td>A Day to Remember</td><td>SOBGGAB12C5664F054</td><td>AROBSHL1187B9AFB01</td><td>3</td><td>0.853</td><td>-4.262</td><td> 91.525</td><td>0.953</td><td>⋯</td><td> 82.475</td><td>-52.025</td><td>39.116</td><td>-35.368</td><td>71.642</td><td>-126.440</td><td> 18.658</td><td>-44.770</td><td>25.989</td><td>0</td></tr>\n",
       "\t<tr><td>2010</td><td><span style=white-space:pre-wrap>Sticks &amp; Bricks                   </span></td><td>A Day to Remember</td><td>SOPAQHU1315CD47F31</td><td>AROBSHL1187B9AFB01</td><td>4</td><td>1.000</td><td>-4.051</td><td>140.048</td><td>0.921</td><td>⋯</td><td>106.918</td><td>-61.320</td><td>35.378</td><td>-81.928</td><td>74.574</td><td>-103.808</td><td>121.935</td><td>-38.892</td><td>22.513</td><td>0</td></tr>\n",
       "\t<tr><td>2010</td><td>All I Want                        </td><td>A Day to Remember</td><td>SOOIZOU1376E7C6386</td><td>AROBSHL1187B9AFB01</td><td>4</td><td>1.000</td><td>-3.571</td><td>160.512</td><td>0.489</td><td>⋯</td><td> 80.621</td><td>-59.773</td><td>45.979</td><td>-46.293</td><td>59.904</td><td>-108.313</td><td> 33.300</td><td>-43.733</td><td>25.744</td><td>0</td></tr>\n",
       "\t<tr><td>2010</td><td>It's Complicated                  </td><td>A Day to Remember</td><td>SODRYWD1315CD49DBE</td><td>AROBSHL1187B9AFB01</td><td>4</td><td>1.000</td><td>-3.815</td><td> 97.525</td><td>0.794</td><td>⋯</td><td> 96.675</td><td>-78.660</td><td>41.088</td><td>-49.194</td><td>95.440</td><td>-102.676</td><td> 46.422</td><td>-59.439</td><td>37.082</td><td>0</td></tr>\n",
       "\t<tr><td>2010</td><td>2nd Sucks                         </td><td>A Day to Remember</td><td>SOICMQB1315CD46EE3</td><td>AROBSHL1187B9AFB01</td><td>4</td><td>0.788</td><td>-4.707</td><td>140.053</td><td>0.286</td><td>⋯</td><td>110.332</td><td>-56.450</td><td>37.555</td><td>-48.588</td><td>67.570</td><td> -52.796</td><td> 22.888</td><td>-50.414</td><td>32.758</td><td>0</td></tr>\n",
       "\t<tr><td>2010</td><td>Better Off This Way               </td><td>A Day to Remember</td><td>SOCEYON1315CD4A23E</td><td>AROBSHL1187B9AFB01</td><td>4</td><td>1.000</td><td>-3.807</td><td>160.366</td><td>0.347</td><td>⋯</td><td> 91.117</td><td>-54.378</td><td>53.808</td><td>-33.183</td><td>54.657</td><td> -64.478</td><td> 34.522</td><td>-40.922</td><td>36.453</td><td>0</td></tr>\n",
       "</tbody>\n",
       "</table>\n"
      ],
      "text/latex": [
       "A data.frame: 6 × 39\n",
       "\\begin{tabular}{r|lllllllllllllllllllllllllllllllllllllll}\n",
       " year & songtitle & artistname & songID & artistID & timesignature & timesignature\\_confidence & loudness & tempo & tempo\\_confidence & key & key\\_confidence & energy & pitch & timbre\\_0\\_min & timbre\\_0\\_max & timbre\\_1\\_min & timbre\\_1\\_max & timbre\\_2\\_min & timbre\\_2\\_max & timbre\\_3\\_min & timbre\\_3\\_max & timbre\\_4\\_min & timbre\\_4\\_max & timbre\\_5\\_min & timbre\\_5\\_max & timbre\\_6\\_min & timbre\\_6\\_max & timbre\\_7\\_min & timbre\\_7\\_max & timbre\\_8\\_min & timbre\\_8\\_max & timbre\\_9\\_min & timbre\\_9\\_max & timbre\\_10\\_min & timbre\\_10\\_max & timbre\\_11\\_min & timbre\\_11\\_max & Top10\\\\\n",
       " <int> & <fct> & <fct> & <fct> & <fct> & <int> & <dbl> & <dbl> & <dbl> & <dbl> & <int> & <dbl> & <dbl> & <dbl> & <dbl> & <dbl> & <dbl> & <dbl> & <dbl> & <dbl> & <dbl> & <dbl> & <dbl> & <dbl> & <dbl> & <dbl> & <dbl> & <dbl> & <dbl> & <dbl> & <dbl> & <dbl> & <dbl> & <dbl> & <dbl> & <dbl> & <dbl> & <dbl> & <int>\\\\\n",
       "\\hline\n",
       "\t 2010 & This Is the House That Doubt Built & A Day to Remember & SOBGGAB12C5664F054 & AROBSHL1187B9AFB01 & 3 & 0.853 & -4.262 &  91.525 & 0.953 & 11 & 0.453 & 0.9666556 & 0.024 & 0.002 & 57.342 &   -6.496 & 171.093 &  -81.664 &  95.117 & -285.049 & 259.426 & -40.385 &  73.630 & -104.683 & 183.089 &  -88.771 & 73.549 & -71.127 &  82.475 & -52.025 & 39.116 & -35.368 & 71.642 & -126.440 &  18.658 & -44.770 & 25.989 & 0\\\\\n",
       "\t 2010 & Sticks \\& Bricks                    & A Day to Remember & SOPAQHU1315CD47F31 & AROBSHL1187B9AFB01 & 4 & 1.000 & -4.051 & 140.048 & 0.921 & 10 & 0.469 & 0.9847095 & 0.025 & 0.000 & 57.414 &  -37.351 & 171.130 & -149.589 & 180.334 & -380.143 & 384.166 & -48.662 & 100.414 &  -87.267 &  42.798 &  -86.895 & 75.455 & -65.807 & 106.918 & -61.320 & 35.378 & -81.928 & 74.574 & -103.808 & 121.935 & -38.892 & 22.513 & 0\\\\\n",
       "\t 2010 & All I Want                         & A Day to Remember & SOOIZOU1376E7C6386 & AROBSHL1187B9AFB01 & 4 & 1.000 & -3.571 & 160.512 & 0.489 &  2 & 0.209 & 0.9899004 & 0.026 & 0.003 & 57.422 &  -17.222 & 171.060 &  -72.912 & 157.925 & -203.984 & 251.258 & -66.044 & 152.095 &  -98.673 & 141.365 &  -88.874 & 66.504 & -67.433 &  80.621 & -59.773 & 45.979 & -46.293 & 59.904 & -108.313 &  33.300 & -43.733 & 25.744 & 0\\\\\n",
       "\t 2010 & It's Complicated                   & A Day to Remember & SODRYWD1315CD49DBE & AROBSHL1187B9AFB01 & 4 & 1.000 & -3.815 &  97.525 & 0.794 &  1 & 0.632 & 0.9392072 & 0.013 & 0.000 & 57.765 &  -32.083 & 220.895 & -138.596 & 173.365 &  -73.490 & 373.492 & -55.607 & 119.158 &  -77.515 & 141.178 &  -70.790 & 64.540 & -63.667 &  96.675 & -78.660 & 41.088 & -49.194 & 95.440 & -102.676 &  46.422 & -59.439 & 37.082 & 0\\\\\n",
       "\t 2010 & 2nd Sucks                          & A Day to Remember & SOICMQB1315CD46EE3 & AROBSHL1187B9AFB01 & 4 & 0.788 & -4.707 & 140.053 & 0.286 &  6 & 0.483 & 0.9877376 & 0.063 & 0.000 & 56.872 & -223.922 & 171.130 & -147.153 & 166.008 & -128.082 & 389.419 & -43.908 &  99.332 &  -96.147 &  38.303 & -110.757 & 72.391 & -55.935 & 110.332 & -56.450 & 37.555 & -48.588 & 67.570 &  -52.796 &  22.888 & -50.414 & 32.758 & 0\\\\\n",
       "\t 2010 & Better Off This Way                & A Day to Remember & SOCEYON1315CD4A23E & AROBSHL1187B9AFB01 & 4 & 1.000 & -3.807 & 160.366 & 0.347 &  4 & 0.627 & 0.9799530 & 0.038 & 0.000 & 57.083 &  -40.408 & 174.002 &  -83.829 & 126.879 & -100.119 & 173.607 & -33.789 &  66.904 &  -84.451 &  47.268 &  -71.219 & 71.239 & -79.948 &  91.117 & -54.378 & 53.808 & -33.183 & 54.657 &  -64.478 &  34.522 & -40.922 & 36.453 & 0\\\\\n",
       "\\end{tabular}\n"
      ],
      "text/markdown": [
       "\n",
       "A data.frame: 6 × 39\n",
       "\n",
       "| year &lt;int&gt; | songtitle &lt;fct&gt; | artistname &lt;fct&gt; | songID &lt;fct&gt; | artistID &lt;fct&gt; | timesignature &lt;int&gt; | timesignature_confidence &lt;dbl&gt; | loudness &lt;dbl&gt; | tempo &lt;dbl&gt; | tempo_confidence &lt;dbl&gt; | ⋯ ⋯ | timbre_7_max &lt;dbl&gt; | timbre_8_min &lt;dbl&gt; | timbre_8_max &lt;dbl&gt; | timbre_9_min &lt;dbl&gt; | timbre_9_max &lt;dbl&gt; | timbre_10_min &lt;dbl&gt; | timbre_10_max &lt;dbl&gt; | timbre_11_min &lt;dbl&gt; | timbre_11_max &lt;dbl&gt; | Top10 &lt;int&gt; |\n",
       "|---|---|---|---|---|---|---|---|---|---|---|---|---|---|---|---|---|---|---|---|---|\n",
       "| 2010 | This Is the House That Doubt Built | A Day to Remember | SOBGGAB12C5664F054 | AROBSHL1187B9AFB01 | 3 | 0.853 | -4.262 |  91.525 | 0.953 | ⋯ |  82.475 | -52.025 | 39.116 | -35.368 | 71.642 | -126.440 |  18.658 | -44.770 | 25.989 | 0 |\n",
       "| 2010 | Sticks &amp; Bricks                    | A Day to Remember | SOPAQHU1315CD47F31 | AROBSHL1187B9AFB01 | 4 | 1.000 | -4.051 | 140.048 | 0.921 | ⋯ | 106.918 | -61.320 | 35.378 | -81.928 | 74.574 | -103.808 | 121.935 | -38.892 | 22.513 | 0 |\n",
       "| 2010 | All I Want                         | A Day to Remember | SOOIZOU1376E7C6386 | AROBSHL1187B9AFB01 | 4 | 1.000 | -3.571 | 160.512 | 0.489 | ⋯ |  80.621 | -59.773 | 45.979 | -46.293 | 59.904 | -108.313 |  33.300 | -43.733 | 25.744 | 0 |\n",
       "| 2010 | It's Complicated                   | A Day to Remember | SODRYWD1315CD49DBE | AROBSHL1187B9AFB01 | 4 | 1.000 | -3.815 |  97.525 | 0.794 | ⋯ |  96.675 | -78.660 | 41.088 | -49.194 | 95.440 | -102.676 |  46.422 | -59.439 | 37.082 | 0 |\n",
       "| 2010 | 2nd Sucks                          | A Day to Remember | SOICMQB1315CD46EE3 | AROBSHL1187B9AFB01 | 4 | 0.788 | -4.707 | 140.053 | 0.286 | ⋯ | 110.332 | -56.450 | 37.555 | -48.588 | 67.570 |  -52.796 |  22.888 | -50.414 | 32.758 | 0 |\n",
       "| 2010 | Better Off This Way                | A Day to Remember | SOCEYON1315CD4A23E | AROBSHL1187B9AFB01 | 4 | 1.000 | -3.807 | 160.366 | 0.347 | ⋯ |  91.117 | -54.378 | 53.808 | -33.183 | 54.657 |  -64.478 |  34.522 | -40.922 | 36.453 | 0 |\n",
       "\n"
      ],
      "text/plain": [
       "  year songtitle                          artistname        songID            \n",
       "1 2010 This Is the House That Doubt Built A Day to Remember SOBGGAB12C5664F054\n",
       "2 2010 Sticks & Bricks                    A Day to Remember SOPAQHU1315CD47F31\n",
       "3 2010 All I Want                         A Day to Remember SOOIZOU1376E7C6386\n",
       "4 2010 It's Complicated                   A Day to Remember SODRYWD1315CD49DBE\n",
       "5 2010 2nd Sucks                          A Day to Remember SOICMQB1315CD46EE3\n",
       "6 2010 Better Off This Way                A Day to Remember SOCEYON1315CD4A23E\n",
       "  artistID           timesignature timesignature_confidence loudness tempo  \n",
       "1 AROBSHL1187B9AFB01 3             0.853                    -4.262    91.525\n",
       "2 AROBSHL1187B9AFB01 4             1.000                    -4.051   140.048\n",
       "3 AROBSHL1187B9AFB01 4             1.000                    -3.571   160.512\n",
       "4 AROBSHL1187B9AFB01 4             1.000                    -3.815    97.525\n",
       "5 AROBSHL1187B9AFB01 4             0.788                    -4.707   140.053\n",
       "6 AROBSHL1187B9AFB01 4             1.000                    -3.807   160.366\n",
       "  tempo_confidence ⋯ timbre_7_max timbre_8_min timbre_8_max timbre_9_min\n",
       "1 0.953            ⋯  82.475      -52.025      39.116       -35.368     \n",
       "2 0.921            ⋯ 106.918      -61.320      35.378       -81.928     \n",
       "3 0.489            ⋯  80.621      -59.773      45.979       -46.293     \n",
       "4 0.794            ⋯  96.675      -78.660      41.088       -49.194     \n",
       "5 0.286            ⋯ 110.332      -56.450      37.555       -48.588     \n",
       "6 0.347            ⋯  91.117      -54.378      53.808       -33.183     \n",
       "  timbre_9_max timbre_10_min timbre_10_max timbre_11_min timbre_11_max Top10\n",
       "1 71.642       -126.440       18.658       -44.770       25.989        0    \n",
       "2 74.574       -103.808      121.935       -38.892       22.513        0    \n",
       "3 59.904       -108.313       33.300       -43.733       25.744        0    \n",
       "4 95.440       -102.676       46.422       -59.439       37.082        0    \n",
       "5 67.570        -52.796       22.888       -50.414       32.758        0    \n",
       "6 54.657        -64.478       34.522       -40.922       36.453        0    "
      ]
     },
     "metadata": {},
     "output_type": "display_data"
    }
   ],
   "source": [
    "songs_data = read.csv(\"/dsa/data/all_datasets/songs/songs.csv\")\n",
    "head(songs_data)"
   ]
  },
  {
   "cell_type": "code",
   "execution_count": 2,
   "metadata": {},
   "outputs": [
    {
     "name": "stdout",
     "output_type": "stream",
     "text": [
      "'data.frame':\t7574 obs. of  39 variables:\n",
      " $ year                    : int  2010 2010 2010 2010 2010 2010 2010 2010 2010 2010 ...\n",
      " $ songtitle               : Factor w/ 7141 levels \"̈́ l'or_e des bois\",..: 6204 5522 241 3115 48 608 255 4419 2886 6756 ...\n",
      " $ artistname              : Factor w/ 1032 levels \"50 Cent\",\"98 Degrees\",..: 3 3 3 3 3 3 3 3 3 12 ...\n",
      " $ songID                  : Factor w/ 7549 levels \"SOAACNI1315CD4AC42\",..: 595 5439 5252 1716 3431 1020 1831 3964 6904 2473 ...\n",
      " $ artistID                : Factor w/ 1047 levels \"AR00B1I1187FB433EB\",..: 671 671 671 671 671 671 671 671 671 507 ...\n",
      " $ timesignature           : int  3 4 4 4 4 4 4 4 4 4 ...\n",
      " $ timesignature_confidence: num  0.853 1 1 1 0.788 1 0.968 0.861 0.622 0.938 ...\n",
      " $ loudness                : num  -4.26 -4.05 -3.57 -3.81 -4.71 ...\n",
      " $ tempo                   : num  91.5 140 160.5 97.5 140.1 ...\n",
      " $ tempo_confidence        : num  0.953 0.921 0.489 0.794 0.286 0.347 0.273 0.83 0.018 0.929 ...\n",
      " $ key                     : int  11 10 2 1 6 4 10 5 9 11 ...\n",
      " $ key_confidence          : num  0.453 0.469 0.209 0.632 0.483 0.627 0.715 0.423 0.751 0.602 ...\n",
      " $ energy                  : num  0.967 0.985 0.99 0.939 0.988 ...\n",
      " $ pitch                   : num  0.024 0.025 0.026 0.013 0.063 0.038 0.026 0.033 0.027 0.004 ...\n",
      " $ timbre_0_min            : num  0.002 0 0.003 0 0 ...\n",
      " $ timbre_0_max            : num  57.3 57.4 57.4 57.8 56.9 ...\n",
      " $ timbre_1_min            : num  -6.5 -37.4 -17.2 -32.1 -223.9 ...\n",
      " $ timbre_1_max            : num  171 171 171 221 171 ...\n",
      " $ timbre_2_min            : num  -81.7 -149.6 -72.9 -138.6 -147.2 ...\n",
      " $ timbre_2_max            : num  95.1 180.3 157.9 173.4 166 ...\n",
      " $ timbre_3_min            : num  -285 -380.1 -204 -73.5 -128.1 ...\n",
      " $ timbre_3_max            : num  259 384 251 373 389 ...\n",
      " $ timbre_4_min            : num  -40.4 -48.7 -66 -55.6 -43.9 ...\n",
      " $ timbre_4_max            : num  73.6 100.4 152.1 119.2 99.3 ...\n",
      " $ timbre_5_min            : num  -104.7 -87.3 -98.7 -77.5 -96.1 ...\n",
      " $ timbre_5_max            : num  183.1 42.8 141.4 141.2 38.3 ...\n",
      " $ timbre_6_min            : num  -88.8 -86.9 -88.9 -70.8 -110.8 ...\n",
      " $ timbre_6_max            : num  73.5 75.5 66.5 64.5 72.4 ...\n",
      " $ timbre_7_min            : num  -71.1 -65.8 -67.4 -63.7 -55.9 ...\n",
      " $ timbre_7_max            : num  82.5 106.9 80.6 96.7 110.3 ...\n",
      " $ timbre_8_min            : num  -52 -61.3 -59.8 -78.7 -56.5 ...\n",
      " $ timbre_8_max            : num  39.1 35.4 46 41.1 37.6 ...\n",
      " $ timbre_9_min            : num  -35.4 -81.9 -46.3 -49.2 -48.6 ...\n",
      " $ timbre_9_max            : num  71.6 74.6 59.9 95.4 67.6 ...\n",
      " $ timbre_10_min           : num  -126.4 -103.8 -108.3 -102.7 -52.8 ...\n",
      " $ timbre_10_max           : num  18.7 121.9 33.3 46.4 22.9 ...\n",
      " $ timbre_11_min           : num  -44.8 -38.9 -43.7 -59.4 -50.4 ...\n",
      " $ timbre_11_max           : num  26 22.5 25.7 37.1 32.8 ...\n",
      " $ Top10                   : int  0 0 0 0 0 0 0 0 0 1 ...\n"
     ]
    },
    {
     "data": {
      "text/plain": [
       "\n",
       "1990 1991 1992 1993 1994 1995 1996 1997 1998 1999 2000 2001 2002 2003 2004 2005 \n",
       " 328  196  186  324  198  258  178  329  380  357  363  282  518  434  479  392 \n",
       "2006 2007 2008 2009 2010 \n",
       " 479  622  415  483  373 "
      ]
     },
     "metadata": {},
     "output_type": "display_data"
    }
   ],
   "source": [
    "str(songs_data)\n",
    "table(songs_data$year)"
   ]
  },
  {
   "cell_type": "markdown",
   "metadata": {},
   "source": [
    "<span style=\"color:#1d80ba; font-size:14px; font-weight:700\">Activity 1:</span> Split the songs_data dataframe into train and test sets. \n",
    "Use subset function to create songs_traindata and songs_testdata subsets. \n",
    "songs_traindata should contain songs with year less than or equal to (<=) 2009 \n",
    "and songs_testdata should contain songs from year 2010."
   ]
  },
  {
   "cell_type": "code",
   "execution_count": 29,
   "metadata": {},
   "outputs": [],
   "source": [
    "# Your code for Activity 1 goes here\n",
    "\n",
    "#split the data into train and test sets\n",
    "songs_traindata <- subset(songs_data, year <= 2009)\n",
    "\n",
    "songs_testdata <- subset(songs_data, year > 2009)\n",
    "\n"
   ]
  },
  {
   "cell_type": "code",
   "execution_count": 30,
   "metadata": {},
   "outputs": [
    {
     "data": {
      "text/plain": [
       "\n",
       "1990 1991 1992 1993 1994 1995 1996 1997 1998 1999 2000 2001 2002 2003 2004 2005 \n",
       " 328  196  186  324  198  258  178  329  380  357  363  282  518  434  479  392 \n",
       "2006 2007 2008 2009 \n",
       " 479  622  415  483 "
      ]
     },
     "metadata": {},
     "output_type": "display_data"
    }
   ],
   "source": [
    "table(songs_traindata$year)"
   ]
  },
  {
   "cell_type": "code",
   "execution_count": 31,
   "metadata": {},
   "outputs": [
    {
     "data": {
      "text/plain": [
       "\n",
       "2010 \n",
       " 373 "
      ]
     },
     "metadata": {},
     "output_type": "display_data"
    }
   ],
   "source": [
    "table(songs_testdata$year)"
   ]
  },
  {
   "cell_type": "markdown",
   "metadata": {},
   "source": [
    "<span style=\"color:#1d80ba; font-size:14px; font-weight:700\">Activity 2:</span> \n",
    "Remove the following independent variables (\"year\", \"songtitle\", \"artistname\", \"songID\", and \"artistID\") \n",
    "from songs_traindata and songs_testdata. \n",
    "Make sure you are assigning this new data back to songs_traindata dataframe. "
   ]
  },
  {
   "cell_type": "code",
   "execution_count": 32,
   "metadata": {},
   "outputs": [],
   "source": [
    "# Your code for Activity 2 goes here\n",
    "\n",
    "songs_traindata <- subset(songs_traindata, select = -c(year, songtitle, artistname, songID, artistID))\n",
    "songs_testdata <- subset(songs_testdata, select = -c(year, songtitle, artistname, songID, artistID))\n"
   ]
  },
  {
   "cell_type": "code",
   "execution_count": 33,
   "metadata": {},
   "outputs": [
    {
     "data": {
      "text/html": [
       "<ol class=list-inline>\n",
       "\t<li>'timesignature'</li>\n",
       "\t<li>'timesignature_confidence'</li>\n",
       "\t<li>'loudness'</li>\n",
       "\t<li>'tempo'</li>\n",
       "\t<li>'tempo_confidence'</li>\n",
       "\t<li>'key'</li>\n",
       "\t<li>'key_confidence'</li>\n",
       "\t<li>'energy'</li>\n",
       "\t<li>'pitch'</li>\n",
       "\t<li>'timbre_0_min'</li>\n",
       "\t<li>'timbre_0_max'</li>\n",
       "\t<li>'timbre_1_min'</li>\n",
       "\t<li>'timbre_1_max'</li>\n",
       "\t<li>'timbre_2_min'</li>\n",
       "\t<li>'timbre_2_max'</li>\n",
       "\t<li>'timbre_3_min'</li>\n",
       "\t<li>'timbre_3_max'</li>\n",
       "\t<li>'timbre_4_min'</li>\n",
       "\t<li>'timbre_4_max'</li>\n",
       "\t<li>'timbre_5_min'</li>\n",
       "\t<li>'timbre_5_max'</li>\n",
       "\t<li>'timbre_6_min'</li>\n",
       "\t<li>'timbre_6_max'</li>\n",
       "\t<li>'timbre_7_min'</li>\n",
       "\t<li>'timbre_7_max'</li>\n",
       "\t<li>'timbre_8_min'</li>\n",
       "\t<li>'timbre_8_max'</li>\n",
       "\t<li>'timbre_9_min'</li>\n",
       "\t<li>'timbre_9_max'</li>\n",
       "\t<li>'timbre_10_min'</li>\n",
       "\t<li>'timbre_10_max'</li>\n",
       "\t<li>'timbre_11_min'</li>\n",
       "\t<li>'timbre_11_max'</li>\n",
       "\t<li>'Top10'</li>\n",
       "</ol>\n"
      ],
      "text/latex": [
       "\\begin{enumerate*}\n",
       "\\item 'timesignature'\n",
       "\\item 'timesignature\\_confidence'\n",
       "\\item 'loudness'\n",
       "\\item 'tempo'\n",
       "\\item 'tempo\\_confidence'\n",
       "\\item 'key'\n",
       "\\item 'key\\_confidence'\n",
       "\\item 'energy'\n",
       "\\item 'pitch'\n",
       "\\item 'timbre\\_0\\_min'\n",
       "\\item 'timbre\\_0\\_max'\n",
       "\\item 'timbre\\_1\\_min'\n",
       "\\item 'timbre\\_1\\_max'\n",
       "\\item 'timbre\\_2\\_min'\n",
       "\\item 'timbre\\_2\\_max'\n",
       "\\item 'timbre\\_3\\_min'\n",
       "\\item 'timbre\\_3\\_max'\n",
       "\\item 'timbre\\_4\\_min'\n",
       "\\item 'timbre\\_4\\_max'\n",
       "\\item 'timbre\\_5\\_min'\n",
       "\\item 'timbre\\_5\\_max'\n",
       "\\item 'timbre\\_6\\_min'\n",
       "\\item 'timbre\\_6\\_max'\n",
       "\\item 'timbre\\_7\\_min'\n",
       "\\item 'timbre\\_7\\_max'\n",
       "\\item 'timbre\\_8\\_min'\n",
       "\\item 'timbre\\_8\\_max'\n",
       "\\item 'timbre\\_9\\_min'\n",
       "\\item 'timbre\\_9\\_max'\n",
       "\\item 'timbre\\_10\\_min'\n",
       "\\item 'timbre\\_10\\_max'\n",
       "\\item 'timbre\\_11\\_min'\n",
       "\\item 'timbre\\_11\\_max'\n",
       "\\item 'Top10'\n",
       "\\end{enumerate*}\n"
      ],
      "text/markdown": [
       "1. 'timesignature'\n",
       "2. 'timesignature_confidence'\n",
       "3. 'loudness'\n",
       "4. 'tempo'\n",
       "5. 'tempo_confidence'\n",
       "6. 'key'\n",
       "7. 'key_confidence'\n",
       "8. 'energy'\n",
       "9. 'pitch'\n",
       "10. 'timbre_0_min'\n",
       "11. 'timbre_0_max'\n",
       "12. 'timbre_1_min'\n",
       "13. 'timbre_1_max'\n",
       "14. 'timbre_2_min'\n",
       "15. 'timbre_2_max'\n",
       "16. 'timbre_3_min'\n",
       "17. 'timbre_3_max'\n",
       "18. 'timbre_4_min'\n",
       "19. 'timbre_4_max'\n",
       "20. 'timbre_5_min'\n",
       "21. 'timbre_5_max'\n",
       "22. 'timbre_6_min'\n",
       "23. 'timbre_6_max'\n",
       "24. 'timbre_7_min'\n",
       "25. 'timbre_7_max'\n",
       "26. 'timbre_8_min'\n",
       "27. 'timbre_8_max'\n",
       "28. 'timbre_9_min'\n",
       "29. 'timbre_9_max'\n",
       "30. 'timbre_10_min'\n",
       "31. 'timbre_10_max'\n",
       "32. 'timbre_11_min'\n",
       "33. 'timbre_11_max'\n",
       "34. 'Top10'\n",
       "\n",
       "\n"
      ],
      "text/plain": [
       " [1] \"timesignature\"            \"timesignature_confidence\"\n",
       " [3] \"loudness\"                 \"tempo\"                   \n",
       " [5] \"tempo_confidence\"         \"key\"                     \n",
       " [7] \"key_confidence\"           \"energy\"                  \n",
       " [9] \"pitch\"                    \"timbre_0_min\"            \n",
       "[11] \"timbre_0_max\"             \"timbre_1_min\"            \n",
       "[13] \"timbre_1_max\"             \"timbre_2_min\"            \n",
       "[15] \"timbre_2_max\"             \"timbre_3_min\"            \n",
       "[17] \"timbre_3_max\"             \"timbre_4_min\"            \n",
       "[19] \"timbre_4_max\"             \"timbre_5_min\"            \n",
       "[21] \"timbre_5_max\"             \"timbre_6_min\"            \n",
       "[23] \"timbre_6_max\"             \"timbre_7_min\"            \n",
       "[25] \"timbre_7_max\"             \"timbre_8_min\"            \n",
       "[27] \"timbre_8_max\"             \"timbre_9_min\"            \n",
       "[29] \"timbre_9_max\"             \"timbre_10_min\"           \n",
       "[31] \"timbre_10_max\"            \"timbre_11_min\"           \n",
       "[33] \"timbre_11_max\"            \"Top10\"                   "
      ]
     },
     "metadata": {},
     "output_type": "display_data"
    }
   ],
   "source": [
    "colnames(songs_traindata)"
   ]
  },
  {
   "cell_type": "code",
   "execution_count": 34,
   "metadata": {},
   "outputs": [
    {
     "data": {
      "image/png": "[encoded data removed]",
      "text/plain": [
       "plot without title"
      ]
     },
     "metadata": {},
     "output_type": "display_data"
    }
   ],
   "source": [
    "# Use ggplot to plot the the variables loudness and energy of songs_traindata with Top10 \n",
    "# supplied to color and shape parameters.\n",
    "\n",
    "library(ggplot2)\n",
    "songs_plot <- ggplot(songs_traindata, aes(loudness, energy)) + geom_point(aes(colour=factor(Top10),shape=factor(Top10))) \n",
    "songs_plot"
   ]
  },
  {
   "cell_type": "markdown",
   "metadata": {},
   "source": [
    "According to above graph, there is not a clear linear boundary to separate the songs that \n",
    "made it to Top10 and those not."
   ]
  },
  {
   "cell_type": "markdown",
   "metadata": {},
   "source": [
    "<span style=\"color:#1d80ba; font-size:14px; font-weight:700\">Activity 3:</span> Fit a logistic regression model to predict Top10 using all the independent variables. \n",
    "_Name this model songsLog1_."
   ]
  },
  {
   "cell_type": "code",
   "execution_count": 35,
   "metadata": {},
   "outputs": [],
   "source": [
    "# Your code for Activity 3 goes here\n",
    "\n",
    "songsLog1 <- glm(Top10 ~ timesignature + timesignature_confidence + loudness + tempo + tempo_confidence + \n",
    "                 key + key_confidence + energy + pitch + timbre_0_min + timbre_0_max + timbre_1_min + \n",
    "                 timbre_1_max + timbre_2_min + timbre_2_max + timbre_3_min + timbre_3_max + timbre_4_min + \n",
    "                 timbre_4_max + timbre_5_min + timbre_5_max + timbre_6_min + timbre_6_max + timbre_7_min + \n",
    "                 timbre_7_max + timbre_8_min + timbre_8_max + timbre_9_min + timbre_9_max + timbre_10_min + \n",
    "                 timbre_10_max + timbre_11_min + timbre_11_max, data=songs_traindata, family=binomial)\n"
   ]
  },
  {
   "cell_type": "code",
   "execution_count": 36,
   "metadata": {},
   "outputs": [
    {
     "data": {
      "text/plain": [
       "\n",
       "Call:\n",
       "glm(formula = Top10 ~ timesignature + timesignature_confidence + \n",
       "    loudness + tempo + tempo_confidence + key + key_confidence + \n",
       "    energy + pitch + timbre_0_min + timbre_0_max + timbre_1_min + \n",
       "    timbre_1_max + timbre_2_min + timbre_2_max + timbre_3_min + \n",
       "    timbre_3_max + timbre_4_min + timbre_4_max + timbre_5_min + \n",
       "    timbre_5_max + timbre_6_min + timbre_6_max + timbre_7_min + \n",
       "    timbre_7_max + timbre_8_min + timbre_8_max + timbre_9_min + \n",
       "    timbre_9_max + timbre_10_min + timbre_10_max + timbre_11_min + \n",
       "    timbre_11_max, family = binomial, data = songs_traindata)\n",
       "\n",
       "Deviance Residuals: \n",
       "    Min       1Q   Median       3Q      Max  \n",
       "-1.9220  -0.5399  -0.3459  -0.1845   3.0770  \n",
       "\n",
       "Coefficients:\n",
       "                           Estimate Std. Error z value Pr(>|z|)    \n",
       "(Intercept)               1.470e+01  1.806e+00   8.138 4.03e-16 ***\n",
       "timesignature             1.264e-01  8.674e-02   1.457 0.145050    \n",
       "timesignature_confidence  7.450e-01  1.953e-01   3.815 0.000136 ***\n",
       "loudness                  2.999e-01  2.917e-02  10.282  < 2e-16 ***\n",
       "tempo                     3.634e-04  1.691e-03   0.215 0.829889    \n",
       "tempo_confidence          4.732e-01  1.422e-01   3.329 0.000873 ***\n",
       "key                       1.588e-02  1.039e-02   1.529 0.126349    \n",
       "key_confidence            3.087e-01  1.412e-01   2.187 0.028760 *  \n",
       "energy                   -1.502e+00  3.099e-01  -4.847 1.25e-06 ***\n",
       "pitch                    -4.491e+01  6.835e+00  -6.570 5.02e-11 ***\n",
       "timbre_0_min              2.316e-02  4.256e-03   5.441 5.29e-08 ***\n",
       "timbre_0_max             -3.310e-01  2.569e-02 -12.882  < 2e-16 ***\n",
       "timbre_1_min              5.881e-03  7.798e-04   7.542 4.64e-14 ***\n",
       "timbre_1_max             -2.449e-04  7.152e-04  -0.342 0.732087    \n",
       "timbre_2_min             -2.127e-03  1.126e-03  -1.889 0.058843 .  \n",
       "timbre_2_max              6.586e-04  9.066e-04   0.726 0.467571    \n",
       "timbre_3_min              6.920e-04  5.985e-04   1.156 0.247583    \n",
       "timbre_3_max             -2.967e-03  5.815e-04  -5.103 3.34e-07 ***\n",
       "timbre_4_min              1.040e-02  1.985e-03   5.237 1.63e-07 ***\n",
       "timbre_4_max              6.110e-03  1.550e-03   3.942 8.10e-05 ***\n",
       "timbre_5_min             -5.598e-03  1.277e-03  -4.385 1.16e-05 ***\n",
       "timbre_5_max              7.736e-05  7.935e-04   0.097 0.922337    \n",
       "timbre_6_min             -1.686e-02  2.264e-03  -7.445 9.66e-14 ***\n",
       "timbre_6_max              3.668e-03  2.190e-03   1.675 0.093875 .  \n",
       "timbre_7_min             -4.549e-03  1.781e-03  -2.554 0.010661 *  \n",
       "timbre_7_max             -3.774e-03  1.832e-03  -2.060 0.039408 *  \n",
       "timbre_8_min              3.911e-03  2.851e-03   1.372 0.170123    \n",
       "timbre_8_max              4.011e-03  3.003e-03   1.336 0.181620    \n",
       "timbre_9_min              1.367e-03  2.998e-03   0.456 0.648356    \n",
       "timbre_9_max              1.603e-03  2.434e-03   0.659 0.510188    \n",
       "timbre_10_min             4.126e-03  1.839e-03   2.244 0.024852 *  \n",
       "timbre_10_max             5.825e-03  1.769e-03   3.292 0.000995 ***\n",
       "timbre_11_min            -2.625e-02  3.693e-03  -7.108 1.18e-12 ***\n",
       "timbre_11_max             1.967e-02  3.385e-03   5.811 6.21e-09 ***\n",
       "---\n",
       "Signif. codes:  0 ‘***’ 0.001 ‘**’ 0.01 ‘*’ 0.05 ‘.’ 0.1 ‘ ’ 1\n",
       "\n",
       "(Dispersion parameter for binomial family taken to be 1)\n",
       "\n",
       "    Null deviance: 6017.5  on 7200  degrees of freedom\n",
       "Residual deviance: 4759.2  on 7167  degrees of freedom\n",
       "AIC: 4827.2\n",
       "\n",
       "Number of Fisher Scoring iterations: 6\n"
      ]
     },
     "metadata": {},
     "output_type": "display_data"
    }
   ],
   "source": [
    "summary(songsLog1)"
   ]
  },
  {
   "cell_type": "markdown",
   "metadata": {},
   "source": [
    "<span style=\"color:#1d80ba; font-size:14px; font-weight:700\">Activity 4:</span> Make predictions on the test set using songsLog1 model."
   ]
  },
  {
   "cell_type": "code",
   "execution_count": 37,
   "metadata": {},
   "outputs": [],
   "source": [
    "# Your code for Activity 4 goes here\n",
    "\n",
    "# The predict() function can be used to predict the probability that a song from the songs_testdata dataframe\n",
    "# will be in the Top 10, given values of the predictors. For a default binomial model (i.e., logistic regression\n",
    "# model), the default predictions are of log-odds (probabilities on logit scale) and type = \"response\" gives the \n",
    "# predicted probabilities. In other words, the type = \"response\" option tells R to output probabilities of the \n",
    "# form P(Y = 1|X).\n",
    "\n",
    "songsLog1.probs <- predict(songsLog1, songs_testdata, type=\"response\")\n"
   ]
  },
  {
   "cell_type": "markdown",
   "metadata": {},
   "source": [
    "<span style=\"color:#1d80ba; font-size:14px; font-weight:700\">Activity 5:</span>\n",
    "What is the accuracy of model 'songsLog1' on the test set, \n",
    "using a threshold of 0.5? (Compute the accuracy as a number between 0 and 1.)\n",
    "\n",
    "**Hint:** Use a 2-way table command between the actual output in test data and the \n",
    "predictions you made in activity 4 with a threshold > 0.5"
   ]
  },
  {
   "cell_type": "code",
   "execution_count": 44,
   "metadata": {},
   "outputs": [
    {
     "data": {
      "text/plain": [
       "              \n",
       "songsLog1.pred   0   1\n",
       "             0 311  48\n",
       "             1   3  11"
      ]
     },
     "metadata": {},
     "output_type": "display_data"
    }
   ],
   "source": [
    "# Your code for Activity 5 goes here\n",
    "\n",
    "songsLog1.pred <- rep(0, 373)\n",
    "\n",
    "songsLog1.pred[songsLog1.probs > 0.5] <- 1\n",
    "\n",
    "songs.conftable <- table(songsLog1.pred, songs_testdata$Top10)\n",
    "\n",
    "songs.conftable"
   ]
  },
  {
   "cell_type": "code",
   "execution_count": 47,
   "metadata": {},
   "outputs": [
    {
     "data": {
      "text/html": [
       "0.863270777479893"
      ],
      "text/latex": [
       "0.863270777479893"
      ],
      "text/markdown": [
       "0.863270777479893"
      ],
      "text/plain": [
       "[1] 0.8632708"
      ]
     },
     "metadata": {},
     "output_type": "display_data"
    }
   ],
   "source": [
    "# Calculate the accuracy of the model here. R can do the math for you.\n",
    "\n",
    "# Accuracy = (TP + TN) / number of observations in the dataset.\n",
    "\n",
    "Accuracy <- (11+311) / (311+48+3+11)\n",
    "\n",
    "Accuracy\n"
   ]
  },
  {
   "cell_type": "markdown",
   "metadata": {},
   "source": [
    "<span style=\"color:#1d80ba; font-size:14px; font-weight:700\">Activity 6:</span>:  Calculate baseline model accuracy."
   ]
  },
  {
   "cell_type": "code",
   "execution_count": 48,
   "metadata": {},
   "outputs": [
    {
     "data": {
      "text/html": [
       "0.841823056300268"
      ],
      "text/latex": [
       "0.841823056300268"
      ],
      "text/markdown": [
       "0.841823056300268"
      ],
      "text/plain": [
       "[1] 0.8418231"
      ]
     },
     "metadata": {},
     "output_type": "display_data"
    }
   ],
   "source": [
    "# Your answer for Activity 6 goes here. Just do the math needed to calculate accuracy.\n",
    "\n",
    "\n",
    "Acc2 <- (311+3)/(311+48+3+11)\n",
    "\n",
    "Acc2"
   ]
  },
  {
   "cell_type": "markdown",
   "metadata": {},
   "source": [
    "### LDA and SVM\n",
    "\n",
    "Apply LDA and SVM algorithms on **glass** dataset. \n",
    "The dependent variable in the dataset, `Type`, has 6 different classes. \n",
    "\n",
    "Load the glass dataset from `/dsa/data/all_datasets/glass/glass.txt`. \n",
    "Apply LDA on the dataset to determine the type of glass."
   ]
  },
  {
   "cell_type": "code",
   "execution_count": 49,
   "metadata": {},
   "outputs": [
    {
     "data": {
      "text/html": [
       "<table>\n",
       "<caption>A data.frame: 6 × 11</caption>\n",
       "<thead>\n",
       "\t<tr><th scope=col>V1</th><th scope=col>V2</th><th scope=col>V3</th><th scope=col>V4</th><th scope=col>V5</th><th scope=col>V6</th><th scope=col>V7</th><th scope=col>V8</th><th scope=col>V9</th><th scope=col>V10</th><th scope=col>V11</th></tr>\n",
       "\t<tr><th scope=col>&lt;int&gt;</th><th scope=col>&lt;dbl&gt;</th><th scope=col>&lt;dbl&gt;</th><th scope=col>&lt;dbl&gt;</th><th scope=col>&lt;dbl&gt;</th><th scope=col>&lt;dbl&gt;</th><th scope=col>&lt;dbl&gt;</th><th scope=col>&lt;dbl&gt;</th><th scope=col>&lt;dbl&gt;</th><th scope=col>&lt;dbl&gt;</th><th scope=col>&lt;int&gt;</th></tr>\n",
       "</thead>\n",
       "<tbody>\n",
       "\t<tr><td>1</td><td>1.52101</td><td>13.64</td><td>4.49</td><td>1.10</td><td>71.78</td><td>0.06</td><td>8.75</td><td>0</td><td>0.00</td><td>1</td></tr>\n",
       "\t<tr><td>2</td><td>1.51761</td><td>13.89</td><td>3.60</td><td>1.36</td><td>72.73</td><td>0.48</td><td>7.83</td><td>0</td><td>0.00</td><td>1</td></tr>\n",
       "\t<tr><td>3</td><td>1.51618</td><td>13.53</td><td>3.55</td><td>1.54</td><td>72.99</td><td>0.39</td><td>7.78</td><td>0</td><td>0.00</td><td>1</td></tr>\n",
       "\t<tr><td>4</td><td>1.51766</td><td>13.21</td><td>3.69</td><td>1.29</td><td>72.61</td><td>0.57</td><td>8.22</td><td>0</td><td>0.00</td><td>1</td></tr>\n",
       "\t<tr><td>5</td><td>1.51742</td><td>13.27</td><td>3.62</td><td>1.24</td><td>73.08</td><td>0.55</td><td>8.07</td><td>0</td><td>0.00</td><td>1</td></tr>\n",
       "\t<tr><td>6</td><td>1.51596</td><td>12.79</td><td>3.61</td><td>1.62</td><td>72.97</td><td>0.64</td><td>8.07</td><td>0</td><td>0.26</td><td>1</td></tr>\n",
       "</tbody>\n",
       "</table>\n"
      ],
      "text/latex": [
       "A data.frame: 6 × 11\n",
       "\\begin{tabular}{r|lllllllllll}\n",
       " V1 & V2 & V3 & V4 & V5 & V6 & V7 & V8 & V9 & V10 & V11\\\\\n",
       " <int> & <dbl> & <dbl> & <dbl> & <dbl> & <dbl> & <dbl> & <dbl> & <dbl> & <dbl> & <int>\\\\\n",
       "\\hline\n",
       "\t 1 & 1.52101 & 13.64 & 4.49 & 1.10 & 71.78 & 0.06 & 8.75 & 0 & 0.00 & 1\\\\\n",
       "\t 2 & 1.51761 & 13.89 & 3.60 & 1.36 & 72.73 & 0.48 & 7.83 & 0 & 0.00 & 1\\\\\n",
       "\t 3 & 1.51618 & 13.53 & 3.55 & 1.54 & 72.99 & 0.39 & 7.78 & 0 & 0.00 & 1\\\\\n",
       "\t 4 & 1.51766 & 13.21 & 3.69 & 1.29 & 72.61 & 0.57 & 8.22 & 0 & 0.00 & 1\\\\\n",
       "\t 5 & 1.51742 & 13.27 & 3.62 & 1.24 & 73.08 & 0.55 & 8.07 & 0 & 0.00 & 1\\\\\n",
       "\t 6 & 1.51596 & 12.79 & 3.61 & 1.62 & 72.97 & 0.64 & 8.07 & 0 & 0.26 & 1\\\\\n",
       "\\end{tabular}\n"
      ],
      "text/markdown": [
       "\n",
       "A data.frame: 6 × 11\n",
       "\n",
       "| V1 &lt;int&gt; | V2 &lt;dbl&gt; | V3 &lt;dbl&gt; | V4 &lt;dbl&gt; | V5 &lt;dbl&gt; | V6 &lt;dbl&gt; | V7 &lt;dbl&gt; | V8 &lt;dbl&gt; | V9 &lt;dbl&gt; | V10 &lt;dbl&gt; | V11 &lt;int&gt; |\n",
       "|---|---|---|---|---|---|---|---|---|---|---|\n",
       "| 1 | 1.52101 | 13.64 | 4.49 | 1.10 | 71.78 | 0.06 | 8.75 | 0 | 0.00 | 1 |\n",
       "| 2 | 1.51761 | 13.89 | 3.60 | 1.36 | 72.73 | 0.48 | 7.83 | 0 | 0.00 | 1 |\n",
       "| 3 | 1.51618 | 13.53 | 3.55 | 1.54 | 72.99 | 0.39 | 7.78 | 0 | 0.00 | 1 |\n",
       "| 4 | 1.51766 | 13.21 | 3.69 | 1.29 | 72.61 | 0.57 | 8.22 | 0 | 0.00 | 1 |\n",
       "| 5 | 1.51742 | 13.27 | 3.62 | 1.24 | 73.08 | 0.55 | 8.07 | 0 | 0.00 | 1 |\n",
       "| 6 | 1.51596 | 12.79 | 3.61 | 1.62 | 72.97 | 0.64 | 8.07 | 0 | 0.26 | 1 |\n",
       "\n"
      ],
      "text/plain": [
       "  V1 V2      V3    V4   V5   V6    V7   V8   V9 V10  V11\n",
       "1 1  1.52101 13.64 4.49 1.10 71.78 0.06 8.75 0  0.00 1  \n",
       "2 2  1.51761 13.89 3.60 1.36 72.73 0.48 7.83 0  0.00 1  \n",
       "3 3  1.51618 13.53 3.55 1.54 72.99 0.39 7.78 0  0.00 1  \n",
       "4 4  1.51766 13.21 3.69 1.29 72.61 0.57 8.22 0  0.00 1  \n",
       "5 5  1.51742 13.27 3.62 1.24 73.08 0.55 8.07 0  0.00 1  \n",
       "6 6  1.51596 12.79 3.61 1.62 72.97 0.64 8.07 0  0.26 1  "
      ]
     },
     "metadata": {},
     "output_type": "display_data"
    }
   ],
   "source": [
    "glass_data = read.csv(\"/dsa/data/all_datasets/glass/glass.txt\",header=FALSE,sep=',')\n",
    "head(glass_data)"
   ]
  },
  {
   "cell_type": "code",
   "execution_count": 50,
   "metadata": {},
   "outputs": [],
   "source": [
    "# The data file doesn't have headers. So read the column names into a vector and add column names to the glass dataset.\n",
    "header = c(\"Id\", \"Refractive_Index\",\"Sodium\",\"Magnesium\",\"Aluminium\",\"Silicon\",\"Potassium\",\"Calcium\",\"Barium\",\"Iron\",\"Type\")\n",
    "names(glass_data)=header"
   ]
  },
  {
   "cell_type": "code",
   "execution_count": 51,
   "metadata": {},
   "outputs": [
    {
     "data": {
      "text/html": [
       "<table>\n",
       "<caption>A data.frame: 6 × 11</caption>\n",
       "<thead>\n",
       "\t<tr><th scope=col>Id</th><th scope=col>Refractive_Index</th><th scope=col>Sodium</th><th scope=col>Magnesium</th><th scope=col>Aluminium</th><th scope=col>Silicon</th><th scope=col>Potassium</th><th scope=col>Calcium</th><th scope=col>Barium</th><th scope=col>Iron</th><th scope=col>Type</th></tr>\n",
       "\t<tr><th scope=col>&lt;int&gt;</th><th scope=col>&lt;dbl&gt;</th><th scope=col>&lt;dbl&gt;</th><th scope=col>&lt;dbl&gt;</th><th scope=col>&lt;dbl&gt;</th><th scope=col>&lt;dbl&gt;</th><th scope=col>&lt;dbl&gt;</th><th scope=col>&lt;dbl&gt;</th><th scope=col>&lt;dbl&gt;</th><th scope=col>&lt;dbl&gt;</th><th scope=col>&lt;int&gt;</th></tr>\n",
       "</thead>\n",
       "<tbody>\n",
       "\t<tr><td>1</td><td>1.52101</td><td>13.64</td><td>4.49</td><td>1.10</td><td>71.78</td><td>0.06</td><td>8.75</td><td>0</td><td>0.00</td><td>1</td></tr>\n",
       "\t<tr><td>2</td><td>1.51761</td><td>13.89</td><td>3.60</td><td>1.36</td><td>72.73</td><td>0.48</td><td>7.83</td><td>0</td><td>0.00</td><td>1</td></tr>\n",
       "\t<tr><td>3</td><td>1.51618</td><td>13.53</td><td>3.55</td><td>1.54</td><td>72.99</td><td>0.39</td><td>7.78</td><td>0</td><td>0.00</td><td>1</td></tr>\n",
       "\t<tr><td>4</td><td>1.51766</td><td>13.21</td><td>3.69</td><td>1.29</td><td>72.61</td><td>0.57</td><td>8.22</td><td>0</td><td>0.00</td><td>1</td></tr>\n",
       "\t<tr><td>5</td><td>1.51742</td><td>13.27</td><td>3.62</td><td>1.24</td><td>73.08</td><td>0.55</td><td>8.07</td><td>0</td><td>0.00</td><td>1</td></tr>\n",
       "\t<tr><td>6</td><td>1.51596</td><td>12.79</td><td>3.61</td><td>1.62</td><td>72.97</td><td>0.64</td><td>8.07</td><td>0</td><td>0.26</td><td>1</td></tr>\n",
       "</tbody>\n",
       "</table>\n"
      ],
      "text/latex": [
       "A data.frame: 6 × 11\n",
       "\\begin{tabular}{r|lllllllllll}\n",
       " Id & Refractive\\_Index & Sodium & Magnesium & Aluminium & Silicon & Potassium & Calcium & Barium & Iron & Type\\\\\n",
       " <int> & <dbl> & <dbl> & <dbl> & <dbl> & <dbl> & <dbl> & <dbl> & <dbl> & <dbl> & <int>\\\\\n",
       "\\hline\n",
       "\t 1 & 1.52101 & 13.64 & 4.49 & 1.10 & 71.78 & 0.06 & 8.75 & 0 & 0.00 & 1\\\\\n",
       "\t 2 & 1.51761 & 13.89 & 3.60 & 1.36 & 72.73 & 0.48 & 7.83 & 0 & 0.00 & 1\\\\\n",
       "\t 3 & 1.51618 & 13.53 & 3.55 & 1.54 & 72.99 & 0.39 & 7.78 & 0 & 0.00 & 1\\\\\n",
       "\t 4 & 1.51766 & 13.21 & 3.69 & 1.29 & 72.61 & 0.57 & 8.22 & 0 & 0.00 & 1\\\\\n",
       "\t 5 & 1.51742 & 13.27 & 3.62 & 1.24 & 73.08 & 0.55 & 8.07 & 0 & 0.00 & 1\\\\\n",
       "\t 6 & 1.51596 & 12.79 & 3.61 & 1.62 & 72.97 & 0.64 & 8.07 & 0 & 0.26 & 1\\\\\n",
       "\\end{tabular}\n"
      ],
      "text/markdown": [
       "\n",
       "A data.frame: 6 × 11\n",
       "\n",
       "| Id &lt;int&gt; | Refractive_Index &lt;dbl&gt; | Sodium &lt;dbl&gt; | Magnesium &lt;dbl&gt; | Aluminium &lt;dbl&gt; | Silicon &lt;dbl&gt; | Potassium &lt;dbl&gt; | Calcium &lt;dbl&gt; | Barium &lt;dbl&gt; | Iron &lt;dbl&gt; | Type &lt;int&gt; |\n",
       "|---|---|---|---|---|---|---|---|---|---|---|\n",
       "| 1 | 1.52101 | 13.64 | 4.49 | 1.10 | 71.78 | 0.06 | 8.75 | 0 | 0.00 | 1 |\n",
       "| 2 | 1.51761 | 13.89 | 3.60 | 1.36 | 72.73 | 0.48 | 7.83 | 0 | 0.00 | 1 |\n",
       "| 3 | 1.51618 | 13.53 | 3.55 | 1.54 | 72.99 | 0.39 | 7.78 | 0 | 0.00 | 1 |\n",
       "| 4 | 1.51766 | 13.21 | 3.69 | 1.29 | 72.61 | 0.57 | 8.22 | 0 | 0.00 | 1 |\n",
       "| 5 | 1.51742 | 13.27 | 3.62 | 1.24 | 73.08 | 0.55 | 8.07 | 0 | 0.00 | 1 |\n",
       "| 6 | 1.51596 | 12.79 | 3.61 | 1.62 | 72.97 | 0.64 | 8.07 | 0 | 0.26 | 1 |\n",
       "\n"
      ],
      "text/plain": [
       "  Id Refractive_Index Sodium Magnesium Aluminium Silicon Potassium Calcium\n",
       "1 1  1.52101          13.64  4.49      1.10      71.78   0.06      8.75   \n",
       "2 2  1.51761          13.89  3.60      1.36      72.73   0.48      7.83   \n",
       "3 3  1.51618          13.53  3.55      1.54      72.99   0.39      7.78   \n",
       "4 4  1.51766          13.21  3.69      1.29      72.61   0.57      8.22   \n",
       "5 5  1.51742          13.27  3.62      1.24      73.08   0.55      8.07   \n",
       "6 6  1.51596          12.79  3.61      1.62      72.97   0.64      8.07   \n",
       "  Barium Iron Type\n",
       "1 0      0.00 1   \n",
       "2 0      0.00 1   \n",
       "3 0      0.00 1   \n",
       "4 0      0.00 1   \n",
       "5 0      0.00 1   \n",
       "6 0      0.26 1   "
      ]
     },
     "metadata": {},
     "output_type": "display_data"
    }
   ],
   "source": [
    "head(glass_data)"
   ]
  },
  {
   "cell_type": "code",
   "execution_count": 52,
   "metadata": {},
   "outputs": [
    {
     "name": "stdout",
     "output_type": "stream",
     "text": [
      "'data.frame':\t214 obs. of  11 variables:\n",
      " $ Id              : int  1 2 3 4 5 6 7 8 9 10 ...\n",
      " $ Refractive_Index: num  1.52 1.52 1.52 1.52 1.52 ...\n",
      " $ Sodium          : num  13.6 13.9 13.5 13.2 13.3 ...\n",
      " $ Magnesium       : num  4.49 3.6 3.55 3.69 3.62 3.61 3.6 3.61 3.58 3.6 ...\n",
      " $ Aluminium       : num  1.1 1.36 1.54 1.29 1.24 1.62 1.14 1.05 1.37 1.36 ...\n",
      " $ Silicon         : num  71.8 72.7 73 72.6 73.1 ...\n",
      " $ Potassium       : num  0.06 0.48 0.39 0.57 0.55 0.64 0.58 0.57 0.56 0.57 ...\n",
      " $ Calcium         : num  8.75 7.83 7.78 8.22 8.07 8.07 8.17 8.24 8.3 8.4 ...\n",
      " $ Barium          : num  0 0 0 0 0 0 0 0 0 0 ...\n",
      " $ Iron            : num  0 0 0 0 0 0.26 0 0 0 0.11 ...\n",
      " $ Type            : Factor w/ 6 levels \"1\",\"2\",\"3\",\"5\",..: 1 1 1 1 1 1 1 1 1 1 ...\n"
     ]
    }
   ],
   "source": [
    "# Convert Type variable to factor type. \n",
    "glass_data$Type=as.factor(glass_data$Type)\n",
    "str(glass_data)"
   ]
  },
  {
   "cell_type": "markdown",
   "metadata": {},
   "source": [
    "<span style=\"color:#1d80ba; font-size:14px; font-weight:700\">Activity 7:</span> Use ggplot to plot the variables `Refractive_Index` and `Sodium` of glass_data with `Type` variable supplied to color and shape parameters."
   ]
  },
  {
   "cell_type": "code",
   "execution_count": 53,
   "metadata": {},
   "outputs": [
    {
     "data": {
      "image/png": "[encoded data removed]",
      "text/plain": [
       "plot without title"
      ]
     },
     "metadata": {},
     "output_type": "display_data"
    }
   ],
   "source": [
    "# Your code for Activity 7 goes here.\n",
    "\n",
    "plot <- ggplot(glass_data, aes(x=Refractive_Index, y=Sodium)) + \n",
    "        geom_point(aes(colour=Type, shape=Type))\n",
    "\n",
    "plot"
   ]
  },
  {
   "cell_type": "markdown",
   "metadata": {},
   "source": [
    "<span style=\"color:#1d80ba; font-size:14px; font-weight:700\">Activity 8:</span> Split the glass_data into train and test subsets. \n",
    "`glass_train_data` should have 70% data and glass_test_data should have rest 30% of data. \n",
    "Set seed as 123."
   ]
  },
  {
   "cell_type": "code",
   "execution_count": 55,
   "metadata": {},
   "outputs": [],
   "source": [
    "library(devtools)\n",
    "packageurl <- \"https://cran.r-project.org/src/contrib/Archive/caTools/caTools_1.16.tar.gz\"\n",
    "install.packages(packageurl, repos=NULL, type=\"source\")\n",
    "library(caTools)"
   ]
  },
  {
   "cell_type": "code",
   "execution_count": 56,
   "metadata": {},
   "outputs": [],
   "source": [
    "# Your code for Activity 8 goes here.\n",
    "# install.packages('caTools')\n",
    "library(caTools)\n",
    "set.seed(123) # set.seed() will help us to reproduce the results.\n",
    "\n",
    "split <- sample.split(glass_data, SplitRatio=0.7)\n",
    "\n",
    "# Train data will have the rest 70% of data\n",
    "glass_train_data  = subset(glass_data, split==TRUE)\n",
    "\n",
    "# Test data will have the rest 30% of data\n",
    "glass_test_data  = subset(glass_data, split==FALSE)"
   ]
  },
  {
   "cell_type": "code",
   "execution_count": 57,
   "metadata": {},
   "outputs": [
    {
     "data": {
      "text/html": [
       "<ol class=list-inline>\n",
       "\t<li>'Id'</li>\n",
       "\t<li>'Refractive_Index'</li>\n",
       "\t<li>'Sodium'</li>\n",
       "\t<li>'Magnesium'</li>\n",
       "\t<li>'Aluminium'</li>\n",
       "\t<li>'Silicon'</li>\n",
       "\t<li>'Potassium'</li>\n",
       "\t<li>'Calcium'</li>\n",
       "\t<li>'Barium'</li>\n",
       "\t<li>'Iron'</li>\n",
       "\t<li>'Type'</li>\n",
       "</ol>\n"
      ],
      "text/latex": [
       "\\begin{enumerate*}\n",
       "\\item 'Id'\n",
       "\\item 'Refractive\\_Index'\n",
       "\\item 'Sodium'\n",
       "\\item 'Magnesium'\n",
       "\\item 'Aluminium'\n",
       "\\item 'Silicon'\n",
       "\\item 'Potassium'\n",
       "\\item 'Calcium'\n",
       "\\item 'Barium'\n",
       "\\item 'Iron'\n",
       "\\item 'Type'\n",
       "\\end{enumerate*}\n"
      ],
      "text/markdown": [
       "1. 'Id'\n",
       "2. 'Refractive_Index'\n",
       "3. 'Sodium'\n",
       "4. 'Magnesium'\n",
       "5. 'Aluminium'\n",
       "6. 'Silicon'\n",
       "7. 'Potassium'\n",
       "8. 'Calcium'\n",
       "9. 'Barium'\n",
       "10. 'Iron'\n",
       "11. 'Type'\n",
       "\n",
       "\n"
      ],
      "text/plain": [
       " [1] \"Id\"               \"Refractive_Index\" \"Sodium\"           \"Magnesium\"       \n",
       " [5] \"Aluminium\"        \"Silicon\"          \"Potassium\"        \"Calcium\"         \n",
       " [9] \"Barium\"           \"Iron\"             \"Type\"            "
      ]
     },
     "metadata": {},
     "output_type": "display_data"
    }
   ],
   "source": [
    "colnames(glass_train_data)"
   ]
  },
  {
   "cell_type": "markdown",
   "metadata": {},
   "source": [
    "<span style=\"color:#1d80ba; font-size:14px; font-weight:700\">Activity 9:</span> Fit a Linear Discriminant Analysis model on glass_train_data using all independent variables except Id to predict Type variable. Name this model glass_lda_fit."
   ]
  },
  {
   "cell_type": "code",
   "execution_count": 58,
   "metadata": {},
   "outputs": [],
   "source": [
    "# Your code for Activity 9 goes here.\n",
    "\n",
    "library(MASS)\n",
    "\n",
    "glass_lda_fit <- lda(Type ~ Refractive_Index + Sodium + Magnesium + Aluminium + Silicon + \n",
    "                     Potassium + Calcium + Barium + Iron, data=glass_train_data)\n",
    "\n"
   ]
  },
  {
   "cell_type": "code",
   "execution_count": 59,
   "metadata": {},
   "outputs": [
    {
     "data": {
      "text/html": [
       "<dl class=dl-horizontal>\n",
       "\t<dt>1</dt>\n",
       "\t\t<dd>45</dd>\n",
       "\t<dt>2</dt>\n",
       "\t\t<dd>49</dd>\n",
       "\t<dt>3</dt>\n",
       "\t\t<dd>10</dd>\n",
       "\t<dt>5</dt>\n",
       "\t\t<dd>8</dd>\n",
       "\t<dt>6</dt>\n",
       "\t\t<dd>6</dd>\n",
       "\t<dt>7</dt>\n",
       "\t\t<dd>18</dd>\n",
       "</dl>\n"
      ],
      "text/latex": [
       "\\begin{description*}\n",
       "\\item[1] 45\n",
       "\\item[2] 49\n",
       "\\item[3] 10\n",
       "\\item[5] 8\n",
       "\\item[6] 6\n",
       "\\item[7] 18\n",
       "\\end{description*}\n"
      ],
      "text/markdown": [
       "1\n",
       ":   452\n",
       ":   493\n",
       ":   105\n",
       ":   86\n",
       ":   67\n",
       ":   18\n",
       "\n"
      ],
      "text/plain": [
       " 1  2  3  5  6  7 \n",
       "45 49 10  8  6 18 "
      ]
     },
     "metadata": {},
     "output_type": "display_data"
    }
   ],
   "source": [
    "# <lda_model>$count will give the counts for each class in the data\n",
    "glass_lda_fit$count"
   ]
  },
  {
   "cell_type": "code",
   "execution_count": 60,
   "metadata": {},
   "outputs": [
    {
     "data": {
      "text/html": [
       "<ol class=list-inline>\n",
       "\t<li>10.4602069632374</li>\n",
       "\t<li>4.05849655984642</li>\n",
       "\t<li>2.63989465889262</li>\n",
       "\t<li>1.4998316240624</li>\n",
       "\t<li>1.27875915727111</li>\n",
       "</ol>\n"
      ],
      "text/latex": [
       "\\begin{enumerate*}\n",
       "\\item 10.4602069632374\n",
       "\\item 4.05849655984642\n",
       "\\item 2.63989465889262\n",
       "\\item 1.4998316240624\n",
       "\\item 1.27875915727111\n",
       "\\end{enumerate*}\n"
      ],
      "text/markdown": [
       "1. 10.4602069632374\n",
       "2. 4.05849655984642\n",
       "3. 2.63989465889262\n",
       "4. 1.4998316240624\n",
       "5. 1.27875915727111\n",
       "\n",
       "\n"
      ],
      "text/plain": [
       "[1] 10.460207  4.058497  2.639895  1.499832  1.278759"
      ]
     },
     "metadata": {},
     "output_type": "display_data"
    }
   ],
   "source": [
    "# the singular values (svd) gives the ratio of the between and within-group standard deviations of the linear \n",
    "# discriminant variables.\n",
    "glass_lda_fit$svd"
   ]
  },
  {
   "cell_type": "code",
   "execution_count": 61,
   "metadata": {},
   "outputs": [
    {
     "data": {
      "text/html": [
       "<ol class=list-inline>\n",
       "\t<li>0.800168636419326</li>\n",
       "\t<li>0.120456803433177</li>\n",
       "\t<li>0.0509652506469798</li>\n",
       "\t<li>0.0164507606150614</li>\n",
       "\t<li>0.0119585488854557</li>\n",
       "</ol>\n"
      ],
      "text/latex": [
       "\\begin{enumerate*}\n",
       "\\item 0.800168636419326\n",
       "\\item 0.120456803433177\n",
       "\\item 0.0509652506469798\n",
       "\\item 0.0164507606150614\n",
       "\\item 0.0119585488854557\n",
       "\\end{enumerate*}\n"
      ],
      "text/markdown": [
       "1. 0.800168636419326\n",
       "2. 0.120456803433177\n",
       "3. 0.0509652506469798\n",
       "4. 0.0164507606150614\n",
       "5. 0.0119585488854557\n",
       "\n",
       "\n"
      ],
      "text/plain": [
       "[1] 0.80016864 0.12045680 0.05096525 0.01645076 0.01195855"
      ]
     },
     "metadata": {},
     "output_type": "display_data"
    }
   ],
   "source": [
    "# normalized proportions.\n",
    "prop = glass_lda_fit$svd^2/sum(glass_lda_fit$svd^2)\n",
    "prop\n",
    "\n",
    "# Based on values displayed below, 1st LDA can explain more than 79% percent \n",
    "# of between-group variance in this dataset."
   ]
  },
  {
   "cell_type": "markdown",
   "metadata": {},
   "source": [
    "<span style=\"color:#1d80ba; font-size:14px; font-weight:700\">Activity 10:</span> Predict the glass type in glass_test_data using the model glass_lda_fit built above."
   ]
  },
  {
   "cell_type": "code",
   "execution_count": 62,
   "metadata": {},
   "outputs": [],
   "source": [
    "# Your code for Activity 10 goes here.\n",
    "\n",
    "pred <- predict(glass_lda_fit, glass_test_data)\n"
   ]
  },
  {
   "cell_type": "markdown",
   "metadata": {},
   "source": [
    "<span style=\"color:#1d80ba; font-size:14px; font-weight:700\">Activity 11:</span> Calculate the accuracy of the model using the confusion matrix. "
   ]
  },
  {
   "cell_type": "code",
   "execution_count": 67,
   "metadata": {},
   "outputs": [
    {
     "data": {
      "text/plain": [
       "   \n",
       "     1  2  3  5  6  7\n",
       "  1 21  8  3  0  0  0\n",
       "  2  4 16  4  2  0  0\n",
       "  3  0  0  0  0  0  0\n",
       "  5  0  2  0  3  0  1\n",
       "  6  0  1  0  0  3  0\n",
       "  7  0  0  0  0  0 10"
      ]
     },
     "metadata": {},
     "output_type": "display_data"
    }
   ],
   "source": [
    "# Your code for Activity 11 goes here.\n",
    "\n",
    "# Build a confusion matrix using 2-way table.\n",
    "\n",
    "conf_table <- table(pred$class, glass_test_data$Type)\n",
    "conf_table"
   ]
  },
  {
   "cell_type": "code",
   "execution_count": 70,
   "metadata": {},
   "outputs": [
    {
     "data": {
      "text/html": [
       "0.67948717948718"
      ],
      "text/latex": [
       "0.67948717948718"
      ],
      "text/markdown": [
       "0.67948717948718"
      ],
      "text/plain": [
       "[1] 0.6794872"
      ]
     },
     "metadata": {},
     "output_type": "display_data"
    }
   ],
   "source": [
    "# Accuracy of the model. \n",
    "\n",
    "\n",
    "(21+16+0+3+3+10)/(21+8+3+4+16+4+2+2+3+1+1+3+10)\n"
   ]
  },
  {
   "cell_type": "markdown",
   "metadata": {},
   "source": [
    "LDA did not do a decent job in classifying `glass` Types. \n",
    "Apply SVM on the same data to see if there would be any improvement in the classification accuracy.\n",
    "\n",
    "<span style=\"color:#1d80ba; font-size:14px; font-weight:700\">Activity 12:</span>\n",
    "Fit a SVM model on glass_train_data using all independent variables except `Id` to predict `Type` variable. \n",
    "Name this model glass_svm_fit. \n",
    "Make sure to use a **nonlinear kernel**."
   ]
  },
  {
   "cell_type": "code",
   "execution_count": 72,
   "metadata": {},
   "outputs": [
    {
     "data": {
      "text/plain": [
       "\n",
       "Call:\n",
       "svm(formula = Type ~ Refractive_Index + Sodium + Magnesium + Aluminium + \n",
       "    Silicon + Potassium + Calcium + Barium + Iron, data = glass_train_data, \n",
       "    kernel = \"radial\", cost = 10, scale = FALSE)\n",
       "\n",
       "\n",
       "Parameters:\n",
       "   SVM-Type:  C-classification \n",
       " SVM-Kernel:  radial \n",
       "       cost:  10 \n",
       "\n",
       "Number of Support Vectors:  110\n",
       "\n",
       " ( 38 39 10 8 5 10 )\n",
       "\n",
       "\n",
       "Number of Classes:  6 \n",
       "\n",
       "Levels: \n",
       " 1 2 3 5 6 7\n",
       "\n",
       "\n"
      ]
     },
     "metadata": {},
     "output_type": "display_data"
    }
   ],
   "source": [
    "# Your code for Activity 12 goes here.\n",
    "\n",
    "library(\"e1071\")\n",
    "\n",
    "glass_svm_fit <- svm(Type ~ Refractive_Index + Sodium + Magnesium + Aluminium + Silicon + \n",
    "                     Potassium + Calcium + Barium + Iron, data=glass_train_data, kernel=\"radial\", \n",
    "                    cost = 10, scale=FALSE)\n",
    "\n",
    "summary(glass_svm_fit)\n"
   ]
  },
  {
   "cell_type": "markdown",
   "metadata": {},
   "source": [
    "<span style=\"color:#1d80ba; font-size:14px; font-weight:700\">Activity 13:</span> Predict the glass type in glass_test_data using the SVM model glass_svm_fit built above. Use the confusion matrix function of caret package to find the accuracy of the model."
   ]
  },
  {
   "cell_type": "code",
   "execution_count": 76,
   "metadata": {},
   "outputs": [
    {
     "data": {
      "text/plain": [
       "       class\n",
       "predict  1  2  3  5  6  7\n",
       "      1 21  9  6  0  0  0\n",
       "      2  4 16  1  1  2  2\n",
       "      3  0  0  0  0  0  0\n",
       "      5  0  1  0  4  0  0\n",
       "      6  0  1  0  0  1  0\n",
       "      7  0  0  0  0  0  9"
      ]
     },
     "metadata": {},
     "output_type": "display_data"
    },
    {
     "data": {
      "text/plain": [
       "Confusion Matrix and Statistics\n",
       "\n",
       "          Reference\n",
       "Prediction  1  2  3  5  6  7\n",
       "         1 21  9  6  0  0  0\n",
       "         2  4 16  1  1  2  2\n",
       "         3  0  0  0  0  0  0\n",
       "         5  0  1  0  4  0  0\n",
       "         6  0  1  0  0  1  0\n",
       "         7  0  0  0  0  0  9\n",
       "\n",
       "Overall Statistics\n",
       "                                         \n",
       "               Accuracy : 0.6538         \n",
       "                 95% CI : (0.5376, 0.758)\n",
       "    No Information Rate : 0.3462         \n",
       "    P-Value [Acc > NIR] : 3.043e-08      \n",
       "                                         \n",
       "                  Kappa : 0.5161         \n",
       "                                         \n",
       " Mcnemar's Test P-Value : NA             \n",
       "\n",
       "Statistics by Class:\n",
       "\n",
       "                     Class: 1 Class: 2 Class: 3 Class: 5 Class: 6 Class: 7\n",
       "Sensitivity            0.8400   0.5926  0.00000  0.80000  0.33333   0.8182\n",
       "Specificity            0.7170   0.8039  1.00000  0.98630  0.98667   1.0000\n",
       "Pos Pred Value         0.5833   0.6154      NaN  0.80000  0.50000   1.0000\n",
       "Neg Pred Value         0.9048   0.7885  0.91026  0.98630  0.97368   0.9710\n",
       "Prevalence             0.3205   0.3462  0.08974  0.06410  0.03846   0.1410\n",
       "Detection Rate         0.2692   0.2051  0.00000  0.05128  0.01282   0.1154\n",
       "Detection Prevalence   0.4615   0.3333  0.00000  0.06410  0.02564   0.1154\n",
       "Balanced Accuracy      0.7785   0.6983  0.50000  0.89315  0.66000   0.9091"
      ]
     },
     "metadata": {},
     "output_type": "display_data"
    }
   ],
   "source": [
    "# Your code for Activity 13 goes here.\n",
    "\n",
    "library(caret)\n",
    "\n",
    "# show the confusion matrix\n",
    "\n",
    "pred=predict(glass_svm_fit, glass_test_data)\n",
    "conftable_rbf=table(predict=pred, class=glass_test_data$Type)\n",
    "conftable_rbf\n",
    "\n",
    "confusionMatrix(data=pred, glass_test_data$Type)\n",
    "\n"
   ]
  },
  {
   "cell_type": "markdown",
   "metadata": {},
   "source": [
    "# Save your notebook!"
   ]
  }
 ],
 "metadata": {
  "kernelspec": {
   "display_name": "R",
   "language": "R",
   "name": "ir"
  },
  "language_info": {
   "codemirror_mode": "r",
   "file_extension": ".r",
   "mimetype": "text/x-r-source",
   "name": "R",
   "pygments_lexer": "r",
   "version": "3.5.1"
  }
 },
 "nbformat": 4,
 "nbformat_minor": 1
}
