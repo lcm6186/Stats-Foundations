{
 "cells": [
  {
   "cell_type": "markdown",
   "metadata": {},
   "source": [
    "## Classification Trees"
   ]
  },
  {
   "cell_type": "markdown",
   "metadata": {},
   "source": [
    "In a classification tree we predict that each observation belongs to the most commonly occurring class of training observations in the region to which it belongs.\n",
    "\n",
    "The task of growing (inducing) a classification tree is typically recursive; that is we load data into a root node and successively split that node into two children, then those children each into two children, and so on.\n",
    "This is referred to as _recursive binary splitting_ to grow a classification tree. \n",
    "The critical technique of learning the model parameters is the analysis of classification error rate per node. \n",
    "Since we plan to assign an observation in a given region to the most commonly occurring class of training observations in that region, the classification error rate is simply the fraction of the training observations in that region that do not belong to the most common class. \n",
    "\n",
    "Dig deeper: https://www.analyticsvidhya.com/blog/2016/04/complete-tutorial-tree-based-modeling-scratch-in-python/"
   ]
  },
  {
   "cell_type": "markdown",
   "metadata": {},
   "source": [
    "We can define the classification error as such:\n",
    "\n",
    "$$E = 1 - \\max_k(\\hat{p}_{mk})$$\n",
    "\n",
    "Here $\\hat{p}_{mk}$ represents the proportion of training observations in the $mth$ region that are from the $kth$ class. \n",
    "However, it turns out that classification error is not sufficiently sensitive for tree-growing, \n",
    "and in practice two other measures are preferable."
   ]
  },
  {
   "cell_type": "markdown",
   "metadata": {},
   "source": [
    "##### Gini index\n",
    "\n",
    "$$ G = \\sum_{k=1}^K\\hat{p}_{mk}(1-\\hat{p}_{mk})\\ ,$$\n",
    "\n",
    "The Gini index is a measure of total variance across the $K$ classes. \n",
    "It is not hard to see that the Gini index takes on a small value if all of the $\\hat{p}_{mk}$'s are close to zero or one. \n",
    "For this reason the Gini index is referred to as a measure of **node purity** - \n",
    "a small value indicates that a node contains predominantly observations from a single class."
   ]
  },
  {
   "cell_type": "markdown",
   "metadata": {},
   "source": [
    "##### Cross-entropy\n",
    "\n",
    "Cross-entropy is similar to Gini index, substituting $log\\  \\hat{p}_{mk}$ for $(1-\\hat{p}_{mk})$.\n",
    "\n",
    "$$D = -\\sum_{k=1}^K \\hat{p}_{mk}\\ log\\  \\hat{p}_{mk}$$\n",
    "\n",
    "Since 0 ≤ $\\hat{p}_{mk}$ ≤ 1, it follows that 0 ≤ − $\\hat{p}_{mk}$ log $\\hat{p}_{mk}$. \n",
    "One can show that the cross-entropy will take on a value near zero if the $\\hat{p}mk$’s are all near zero or near one. \n",
    "Therefore, like the Gini index, the cross-entropy will take on a small value if the $m^{th}$ node is pure.\n",
    "\n",
    "When building a classification tree, either the Gini index or the cross-entropy are typically used to evaluate the quality of a particular split, \n",
    "since these two approaches are more sensitive to node purity than is the classification error rate."
   ]
  },
  {
   "cell_type": "markdown",
   "metadata": {},
   "source": [
    "### Fitting a Classification Tree\n",
    "\n",
    "Decision trees can be constructed even in the presence of qualitative predictor variables. \n",
    "For instance, in the Carseat data below, some of the predictors, such as `ShelveLoc` and `Urban`\n",
    "are qualitative. \n",
    "Therefore, a split on one of these variables amounts to assigning some of the qualitative values \n",
    "to one branch and assigning the remaining to the other branch."
   ]
  },
  {
   "cell_type": "markdown",
   "metadata": {},
   "source": [
    "We first use classification trees to analyze the <span style=\"color:#a5541a\">Carseats</span> data set. \n",
    "In this data, <span style=\"color:#a5541a\">Sales</span> is a continuous variable, and so we begin by recoding it as a binary variable. \n",
    "We use the `ifelse()` function to create a variable, called **High**, \n",
    "which takes on a value of **Yes** if the `Sales` variable exceeds 8, \n",
    "and takes on a value of **No** otherwise."
   ]
  },
  {
   "cell_type": "code",
   "execution_count": 1,
   "metadata": {},
   "outputs": [
    {
     "name": "stderr",
     "output_type": "stream",
     "text": [
      "Updating HTML index of packages in '.Library'\n",
      "Making 'packages.html' ... done\n"
     ]
    }
   ],
   "source": [
    "install.packages(\"ISLR\")\n",
    "library(ISLR)\n",
    "attach(Carseats)\n",
    "High=ifelse(Sales <= 8, \"No\", \"Yes\")"
   ]
  },
  {
   "cell_type": "markdown",
   "metadata": {},
   "source": [
    "Finally, we use the <span style=\"color:#a5541a\">data.frame()</span> function to merge <span style=\"color:#a5541a\">High</span> with the rest of the <span style=\"color:#a5541a\">Carseats</span> data."
   ]
  },
  {
   "cell_type": "code",
   "execution_count": 2,
   "metadata": {},
   "outputs": [
    {
     "name": "stdout",
     "output_type": "stream",
     "text": [
      "'data.frame':\t400 obs. of  12 variables:\n",
      " $ Sales      : num  9.5 11.22 10.06 7.4 4.15 ...\n",
      " $ CompPrice  : num  138 111 113 117 141 124 115 136 132 132 ...\n",
      " $ Income     : num  73 48 35 100 64 113 105 81 110 113 ...\n",
      " $ Advertising: num  11 16 10 4 3 13 0 15 0 0 ...\n",
      " $ Population : num  276 260 269 466 340 501 45 425 108 131 ...\n",
      " $ Price      : num  120 83 80 97 128 72 108 120 124 124 ...\n",
      " $ ShelveLoc  : Factor w/ 3 levels \"Bad\",\"Good\",\"Medium\": 1 2 3 3 1 1 3 2 3 3 ...\n",
      " $ Age        : num  42 65 59 55 38 78 71 67 76 76 ...\n",
      " $ Education  : num  17 10 12 14 13 16 15 10 10 17 ...\n",
      " $ Urban      : Factor w/ 2 levels \"No\",\"Yes\": 2 2 2 2 2 1 2 2 1 1 ...\n",
      " $ US         : Factor w/ 2 levels \"No\",\"Yes\": 2 2 2 2 1 2 1 2 1 2 ...\n",
      " $ High       : Factor w/ 2 levels \"No\",\"Yes\": 2 2 2 1 1 2 1 2 1 1 ...\n"
     ]
    }
   ],
   "source": [
    "Carseats = data.frame(Carseats, High)\n",
    "str(Carseats)"
   ]
  },
  {
   "cell_type": "markdown",
   "metadata": {},
   "source": [
    "We now use the `rpart()` (recursive partition) function to fit a classification tree in order to predict **High** using all variables except `Sales`."
   ]
  },
  {
   "cell_type": "code",
   "execution_count": 3,
   "metadata": {},
   "outputs": [],
   "source": [
    "library(rpart)\n",
    "rpart_tree <- rpart(High~.-Sales, method=\"anova\", data=Carseats)"
   ]
  },
  {
   "cell_type": "markdown",
   "metadata": {},
   "source": [
    "The <span style=\"color:#a5541a\">summary()</span> function lists the variables that are used as internal nodes in the tree, the number of terminal nodes, and the (training) error rate."
   ]
  },
  {
   "cell_type": "code",
   "execution_count": 4,
   "metadata": {
    "scrolled": true
   },
   "outputs": [
    {
     "name": "stdout",
     "output_type": "stream",
     "text": [
      "Call:\n",
      "rpart(formula = High ~ . - Sales, data = Carseats, method = \"anova\")\n",
      "  n= 400 \n",
      "\n",
      "           CP nsplit rel error    xerror       xstd\n",
      "1  0.14981343      0 1.0000000 1.0040242 0.01842455\n",
      "2  0.08232006      1 0.8501866 0.8604726 0.03967745\n",
      "3  0.05374168      2 0.7678665 0.8073603 0.04645067\n",
      "4  0.04002485      3 0.7141248 0.7766622 0.04898223\n",
      "5  0.03784177      4 0.6741000 0.7999538 0.05295736\n",
      "6  0.03473658      6 0.5984164 0.7793612 0.05310501\n",
      "7  0.02168947      7 0.5636799 0.7833881 0.05890881\n",
      "8  0.02067219      9 0.5203009 0.7681170 0.06108037\n",
      "9  0.01721821     10 0.4996287 0.7806636 0.06301789\n",
      "10 0.01291856     11 0.4824105 0.7668835 0.06293827\n",
      "11 0.01170753     12 0.4694920 0.7443636 0.06150470\n",
      "12 0.01000000     13 0.4577844 0.7554123 0.06220813\n",
      "\n",
      "Variable importance\n",
      "      Price   ShelveLoc   CompPrice Advertising         Age      Income \n",
      "         32          23          12          11          10           8 \n",
      " Population   Education       Urban \n",
      "          3           1           1 \n",
      "\n",
      "Node number 1: 400 observations,    complexity param=0.1498134\n",
      "  mean=1.41, MSE=0.2419 \n",
      "  left son=2 (315 obs) right son=3 (85 obs)\n",
      "  Primary splits:\n",
      "      ShelveLoc   splits as  LRL,       improve=0.14981340, (0 missing)\n",
      "      Price       < 92.5  to the right, improve=0.10057810, (0 missing)\n",
      "      Advertising < 6.5   to the left,  improve=0.08928264, (0 missing)\n",
      "      Age         < 61.5  to the right, improve=0.04787331, (0 missing)\n",
      "      Income      < 60.5  to the left,  improve=0.03745883, (0 missing)\n",
      "\n",
      "Node number 2: 315 observations,    complexity param=0.08232006\n",
      "  mean=1.311111, MSE=0.214321 \n",
      "  left son=4 (269 obs) right son=5 (46 obs)\n",
      "  Primary splits:\n",
      "      Price       < 92.5  to the right, improve=0.11798490, (0 missing)\n",
      "      Advertising < 7.5   to the left,  improve=0.08467180, (0 missing)\n",
      "      ShelveLoc   splits as  L-R,       improve=0.05587163, (0 missing)\n",
      "      Age         < 50.5  to the right, improve=0.04717672, (0 missing)\n",
      "      Income      < 60.5  to the left,  improve=0.04432240, (0 missing)\n",
      "  Surrogate splits:\n",
      "      CompPrice < 95.5  to the right, agree=0.873, adj=0.13, (0 split)\n",
      "\n",
      "Node number 3: 85 observations,    complexity param=0.04002485\n",
      "  mean=1.776471, MSE=0.173564 \n",
      "  left son=6 (12 obs) right son=7 (73 obs)\n",
      "  Primary splits:\n",
      "      Price       < 142.5 to the right, improve=0.26251070, (0 missing)\n",
      "      US          splits as  LR,        improve=0.17326850, (0 missing)\n",
      "      Income      < 35    to the left,  improve=0.15350950, (0 missing)\n",
      "      Advertising < 6     to the left,  improve=0.12675430, (0 missing)\n",
      "      Education   < 15.5  to the left,  improve=0.08696084, (0 missing)\n",
      "  Surrogate splits:\n",
      "      CompPrice < 154.5 to the right, agree=0.882, adj=0.167, (0 split)\n",
      "\n",
      "Node number 4: 269 observations,    complexity param=0.05374168\n",
      "  mean=1.245353, MSE=0.185155 \n",
      "  left son=8 (224 obs) right son=9 (45 obs)\n",
      "  Primary splits:\n",
      "      Advertising < 13.5  to the left,  improve=0.10440450, (0 missing)\n",
      "      Age         < 49.5  to the right, improve=0.08115373, (0 missing)\n",
      "      ShelveLoc   splits as  L-R,       improve=0.07050408, (0 missing)\n",
      "      CompPrice   < 124.5 to the left,  improve=0.06776184, (0 missing)\n",
      "      Price       < 126.5 to the right, improve=0.05667976, (0 missing)\n",
      "\n",
      "Node number 5: 46 observations,    complexity param=0.02067219\n",
      "  mean=1.695652, MSE=0.2117202 \n",
      "  left son=10 (10 obs) right son=11 (36 obs)\n",
      "  Primary splits:\n",
      "      Income      < 57    to the left,  improve=0.20538190, (0 missing)\n",
      "      ShelveLoc   splits as  L-R,       improve=0.16376010, (0 missing)\n",
      "      Price       < 80.5  to the right, improve=0.07128933, (0 missing)\n",
      "      Advertising < 9.5   to the left,  improve=0.07128933, (0 missing)\n",
      "      Age         < 64.5  to the right, improve=0.06021505, (0 missing)\n",
      "\n",
      "Node number 6: 12 observations\n",
      "  mean=1.25, MSE=0.1875 \n",
      "\n",
      "Node number 7: 73 observations,    complexity param=0.01721821\n",
      "  mean=1.863014, MSE=0.1182211 \n",
      "  left son=14 (13 obs) right son=15 (60 obs)\n",
      "  Primary splits:\n",
      "      Income      < 34.5  to the left,  improve=0.19304840, (0 missing)\n",
      "      US          splits as  LR,        improve=0.17566300, (0 missing)\n",
      "      Advertising < 0.5   to the left,  improve=0.13169520, (0 missing)\n",
      "      Age         < 61.5  to the right, improve=0.11979880, (0 missing)\n",
      "      Price       < 109.5 to the right, improve=0.09876543, (0 missing)\n",
      "\n",
      "Node number 8: 224 observations,    complexity param=0.03784177\n",
      "  mean=1.183036, MSE=0.1495336 \n",
      "  left son=16 (96 obs) right son=17 (128 obs)\n",
      "  Primary splits:\n",
      "      CompPrice   < 124.5 to the left,  improve=0.07287085, (0 missing)\n",
      "      Age         < 49.5  to the right, improve=0.05911859, (0 missing)\n",
      "      ShelveLoc   splits as  L-R,       improve=0.05455403, (0 missing)\n",
      "      Price       < 126.5 to the right, improve=0.04828148, (0 missing)\n",
      "      Advertising < 6.5   to the left,  improve=0.03539690, (0 missing)\n",
      "  Surrogate splits:\n",
      "      Price      < 115.5 to the left,  agree=0.741, adj=0.396, (0 split)\n",
      "      Age        < 50.5  to the right, agree=0.634, adj=0.146, (0 split)\n",
      "      Population < 405   to the right, agree=0.629, adj=0.135, (0 split)\n",
      "      Education  < 11.5  to the left,  agree=0.585, adj=0.031, (0 split)\n",
      "      Income     < 22.5  to the left,  agree=0.580, adj=0.021, (0 split)\n",
      "\n",
      "Node number 9: 45 observations,    complexity param=0.03473658\n",
      "  mean=1.555556, MSE=0.2469136 \n",
      "  left son=18 (20 obs) right son=19 (25 obs)\n",
      "  Primary splits:\n",
      "      Age       < 54.5  to the right, improve=0.3025000, (0 missing)\n",
      "      CompPrice < 121.5 to the left,  improve=0.2083333, (0 missing)\n",
      "      ShelveLoc splits as  L-R,       improve=0.1462857, (0 missing)\n",
      "      Income    < 99.5  to the left,  improve=0.1372857, (0 missing)\n",
      "      Price     < 127   to the right, improve=0.1320043, (0 missing)\n",
      "  Surrogate splits:\n",
      "      Population  < 363.5 to the left,  agree=0.667, adj=0.25, (0 split)\n",
      "      Income      < 39    to the left,  agree=0.644, adj=0.20, (0 split)\n",
      "      Advertising < 17.5  to the left,  agree=0.644, adj=0.20, (0 split)\n",
      "      CompPrice   < 106.5 to the left,  agree=0.622, adj=0.15, (0 split)\n",
      "      Price       < 135.5 to the right, agree=0.622, adj=0.15, (0 split)\n",
      "\n",
      "Node number 10: 10 observations\n",
      "  mean=1.3, MSE=0.21 \n",
      "\n",
      "Node number 11: 36 observations\n",
      "  mean=1.805556, MSE=0.1566358 \n",
      "\n",
      "Node number 14: 13 observations\n",
      "  mean=1.538462, MSE=0.2485207 \n",
      "\n",
      "Node number 15: 60 observations\n",
      "  mean=1.933333, MSE=0.06222222 \n",
      "\n",
      "Node number 16: 96 observations\n",
      "  mean=1.0625, MSE=0.05859375 \n",
      "\n",
      "Node number 17: 128 observations,    complexity param=0.03784177\n",
      "  mean=1.273438, MSE=0.1986694 \n",
      "  left son=34 (107 obs) right son=35 (21 obs)\n",
      "  Primary splits:\n",
      "      Price     < 109.5 to the right, improve=0.19199180, (0 missing)\n",
      "      ShelveLoc splits as  L-R,       improve=0.12426470, (0 missing)\n",
      "      Age       < 49.5  to the right, improve=0.05063101, (0 missing)\n",
      "      Income    < 108.5 to the right, improve=0.03538278, (0 missing)\n",
      "      CompPrice < 143.5 to the left,  improve=0.03425096, (0 missing)\n",
      "\n",
      "Node number 18: 20 observations,    complexity param=0.01291856\n",
      "  mean=1.25, MSE=0.1875 \n",
      "  left son=36 (10 obs) right son=37 (10 obs)\n",
      "  Primary splits:\n",
      "      CompPrice   < 122.5 to the left,  improve=0.33333330, (0 missing)\n",
      "      Price       < 125   to the right, improve=0.22222220, (0 missing)\n",
      "      Advertising < 16.5  to the right, improve=0.17948720, (0 missing)\n",
      "      Income      < 71.5  to the left,  improve=0.09157509, (0 missing)\n",
      "      Population  < 357.5 to the left,  improve=0.05555556, (0 missing)\n",
      "  Surrogate splits:\n",
      "      Income      < 41.5  to the left,  agree=0.70, adj=0.4, (0 split)\n",
      "      Population  < 357.5 to the left,  agree=0.70, adj=0.4, (0 split)\n",
      "      Price       < 104.5 to the left,  agree=0.70, adj=0.4, (0 split)\n",
      "      Advertising < 16.5  to the right, agree=0.65, adj=0.3, (0 split)\n",
      "      Urban       splits as  RL,        agree=0.65, adj=0.3, (0 split)\n",
      "\n",
      "Node number 19: 25 observations\n",
      "  mean=1.8, MSE=0.16 \n",
      "\n",
      "Node number 34: 107 observations,    complexity param=0.02168947\n",
      "  mean=1.186916, MSE=0.1519783 \n",
      "  left son=68 (65 obs) right son=69 (42 obs)\n",
      "  Primary splits:\n",
      "      Price     < 126.5 to the right, improve=0.09114648, (0 missing)\n",
      "      CompPrice < 147.5 to the left,  improve=0.06868014, (0 missing)\n",
      "      ShelveLoc splits as  L-R,       improve=0.06802898, (0 missing)\n",
      "      Age       < 49.5  to the right, improve=0.06597782, (0 missing)\n",
      "      Income    < 60.5  to the left,  improve=0.02467719, (0 missing)\n",
      "  Surrogate splits:\n",
      "      CompPrice   < 129.5 to the right, agree=0.664, adj=0.143, (0 split)\n",
      "      Advertising < 3.5   to the right, agree=0.664, adj=0.143, (0 split)\n",
      "      Population  < 53.5  to the right, agree=0.645, adj=0.095, (0 split)\n",
      "      Age         < 77.5  to the left,  agree=0.636, adj=0.071, (0 split)\n",
      "      US          splits as  RL,        agree=0.626, adj=0.048, (0 split)\n",
      "\n",
      "Node number 35: 21 observations\n",
      "  mean=1.714286, MSE=0.2040816 \n",
      "\n",
      "Node number 36: 10 observations\n",
      "  mean=1, MSE=0 \n",
      "\n",
      "Node number 37: 10 observations\n",
      "  mean=1.5, MSE=0.25 \n",
      "\n",
      "Node number 68: 65 observations,    complexity param=0.01170753\n",
      "  mean=1.092308, MSE=0.08378698 \n",
      "  left son=136 (50 obs) right son=137 (15 obs)\n",
      "  Primary splits:\n",
      "      CompPrice  < 147.5 to the left,  improve=0.20800380, (0 missing)\n",
      "      Population < 398   to the left,  improve=0.07913885, (0 missing)\n",
      "      Price      < 144.5 to the right, improve=0.05952873, (0 missing)\n",
      "      ShelveLoc  splits as  L-R,       improve=0.05202996, (0 missing)\n",
      "      Income     < 83.5  to the left,  improve=0.03531434, (0 missing)\n",
      "  Surrogate splits:\n",
      "      Price      < 158.5 to the left,  agree=0.815, adj=0.200, (0 split)\n",
      "      Population < 59    to the right, agree=0.785, adj=0.067, (0 split)\n",
      "\n",
      "Node number 69: 42 observations,    complexity param=0.02168947\n",
      "  mean=1.333333, MSE=0.2222222 \n",
      "  left son=138 (22 obs) right son=139 (20 obs)\n",
      "  Primary splits:\n",
      "      Age         < 49.5  to the right, improve=0.29090910, (0 missing)\n",
      "      CompPrice   < 137.5 to the left,  improve=0.11250000, (0 missing)\n",
      "      Advertising < 5.5   to the left,  improve=0.10000000, (0 missing)\n",
      "      ShelveLoc   splits as  L-R,       improve=0.07656250, (0 missing)\n",
      "      Population  < 382   to the right, improve=0.04595588, (0 missing)\n",
      "  Surrogate splits:\n",
      "      Income      < 46.5  to the left,  agree=0.595, adj=0.15, (0 split)\n",
      "      Education   < 12.5  to the left,  agree=0.595, adj=0.15, (0 split)\n",
      "      CompPrice   < 131.5 to the right, agree=0.571, adj=0.10, (0 split)\n",
      "      Advertising < 5.5   to the left,  agree=0.571, adj=0.10, (0 split)\n",
      "      Population  < 221.5 to the left,  agree=0.571, adj=0.10, (0 split)\n",
      "\n",
      "Node number 136: 50 observations\n",
      "  mean=1.02, MSE=0.0196 \n",
      "\n",
      "Node number 137: 15 observations\n",
      "  mean=1.333333, MSE=0.2222222 \n",
      "\n",
      "Node number 138: 22 observations\n",
      "  mean=1.090909, MSE=0.08264463 \n",
      "\n",
      "Node number 139: 20 observations\n",
      "  mean=1.6, MSE=0.24 \n",
      "\n"
     ]
    }
   ],
   "source": [
    "summary(rpart_tree)"
   ]
  },
  {
   "cell_type": "markdown",
   "metadata": {},
   "source": [
    "We use the plot() function to display the tree structure, \n",
    "and the text() function to display the node labels. \n",
    "\n",
    "The argument `pretty=0` instructs R to include the category names for any qualitative predictors, \n",
    "rather than simply displaying a letter for each category."
   ]
  },
  {
   "cell_type": "code",
   "execution_count": 5,
   "metadata": {},
   "outputs": [
    {
     "data": {
      "image/png": "[encoded data removed]",
      "text/plain": [
       "plot without title"
      ]
     },
     "metadata": {},
     "output_type": "display_data"
    }
   ],
   "source": [
    "plot(rpart_tree)\n",
    "text(rpart_tree, pretty=0)"
   ]
  },
  {
   "cell_type": "markdown",
   "metadata": {},
   "source": [
    "The most important indicator of `Sales` appears to be shelving location, \n",
    "since the first branch differentiates `Good` locations from `Bad` and `Medium` locations. \n",
    "\n",
    "If we just type the name of the tree object, R prints output corresponding to each branch of the tree. \n",
    "R displays the split criterion (e.g. `Price<92.5`), \n",
    "the number of observations in that branch, \n",
    "the deviance, \n",
    "the overall prediction for the branch (Yes or No), \n",
    "and the fraction of observations in that branch that take on values of Yes and No. \n",
    "Branches that lead to terminal nodes are indicated using asterisks."
   ]
  },
  {
   "cell_type": "code",
   "execution_count": 6,
   "metadata": {},
   "outputs": [
    {
     "data": {
      "text/plain": [
       "n= 400 \n",
       "\n",
       "node), split, n, deviance, yval\n",
       "      * denotes terminal node\n",
       "\n",
       "  1) root 400 96.760000 1.410000  \n",
       "    2) ShelveLoc=Bad,Medium 315 67.511110 1.311111  \n",
       "      4) Price>=92.5 269 49.806690 1.245353  \n",
       "        8) Advertising< 13.5 224 33.495540 1.183036  \n",
       "         16) CompPrice< 124.5 96  5.625000 1.062500 *\n",
       "         17) CompPrice>=124.5 128 25.429690 1.273438  \n",
       "           34) Price>=109.5 107 16.261680 1.186916  \n",
       "             68) Price>=126.5 65  5.446154 1.092308  \n",
       "              136) CompPrice< 147.5 50  0.980000 1.020000 *\n",
       "              137) CompPrice>=147.5 15  3.333333 1.333333 *\n",
       "             69) Price< 126.5 42  9.333333 1.333333  \n",
       "              138) Age>=49.5 22  1.818182 1.090909 *\n",
       "              139) Age< 49.5 20  4.800000 1.600000 *\n",
       "           35) Price< 109.5 21  4.285714 1.714286 *\n",
       "        9) Advertising>=13.5 45 11.111110 1.555556  \n",
       "         18) Age>=54.5 20  3.750000 1.250000  \n",
       "           36) CompPrice< 122.5 10  0.000000 1.000000 *\n",
       "           37) CompPrice>=122.5 10  2.500000 1.500000 *\n",
       "         19) Age< 54.5 25  4.000000 1.800000 *\n",
       "      5) Price< 92.5 46  9.739130 1.695652  \n",
       "       10) Income< 57 10  2.100000 1.300000 *\n",
       "       11) Income>=57 36  5.638889 1.805556 *\n",
       "    3) ShelveLoc=Good 85 14.752940 1.776471  \n",
       "      6) Price>=142.5 12  2.250000 1.250000 *\n",
       "      7) Price< 142.5 73  8.630137 1.863014  \n",
       "       14) Income< 34.5 13  3.230769 1.538462 *\n",
       "       15) Income>=34.5 60  3.733333 1.933333 *"
      ]
     },
     "metadata": {},
     "output_type": "display_data"
    }
   ],
   "source": [
    "rpart_tree"
   ]
  },
  {
   "cell_type": "markdown",
   "metadata": {},
   "source": [
    "#### Using a decision treee\n",
    "\n",
    "When we need to estimate the test error.\n",
    "We split the observations into a training set and a test set, \n",
    "build the tree using the training set, and evaluate its performance on the test data.\n",
    "The `predict()` function can be used for this purpose. \n",
    "In the case of a classification tree, the argument `type=\"class\"` instructs R to return the actual class prediction."
   ]
  },
  {
   "cell_type": "code",
   "execution_count": 7,
   "metadata": {},
   "outputs": [],
   "source": [
    "set.seed (2)\n",
    "train = sample(1:nrow(Carseats), 200)\n",
    "Carseats.test = Carseats[-train,]\n",
    "High.test = High[-train]"
   ]
  },
  {
   "cell_type": "code",
   "execution_count": 8,
   "metadata": {},
   "outputs": [
    {
     "data": {
      "text/plain": [
       "     High.test\n",
       "yhat  No Yes\n",
       "  No  90  20\n",
       "  Yes 26  64"
      ]
     },
     "metadata": {},
     "output_type": "display_data"
    }
   ],
   "source": [
    "rpart_tree <- rpart(High~.-Sales, data=Carseats, subset=train)\n",
    "\n",
    "yhat = predict(rpart_tree, Carseats.test,type =\"class\")\n",
    "\n",
    "table(yhat, High.test)"
   ]
  },
  {
   "cell_type": "markdown",
   "metadata": {},
   "source": [
    "**Note:** The table command here produces are confusion matrix, a contingency table between expected and predicted values.\n",
    "\n",
    "Next, we consider whether pruning the tree might lead to improved results. \n",
    "The function `prune()` performs cross-validation in order to determine the optimal level of tree complexity. \n",
    "Cost complexity pruning is used in order to select a sequence of trees for consideration. \n",
    "We use the argument `FUN=prune.misclass` in order to indicate that we want the classification error rate to guide the cross-validation and pruning process. \n",
    "\n",
    "The `cv.tree()` function reports the number of terminal nodes of each tree considered (size),\n",
    "as well as the corresponding error rate and the value of the cost-complexity parameter used \n",
    "(k, which corresponds to α in (8.4))."
   ]
  },
  {
   "cell_type": "code",
   "execution_count": 9,
   "metadata": {},
   "outputs": [],
   "source": [
    "?prune"
   ]
  },
  {
   "cell_type": "markdown",
   "metadata": {},
   "source": [
    "The next cell takes a little bit of time to execute!"
   ]
  },
  {
   "cell_type": "code",
   "execution_count": 10,
   "metadata": {},
   "outputs": [
    {
     "name": "stderr",
     "output_type": "stream",
     "text": [
      "Loading required package: lattice\n",
      "Loading required package: ggplot2\n"
     ]
    },
    {
     "data": {
      "text/plain": [
       "CART \n",
       "\n",
       "400 samples\n",
       " 11 predictor\n",
       "  2 classes: 'No', 'Yes' \n",
       "\n",
       "No pre-processing\n",
       "Resampling: Bootstrapped (25 reps) \n",
       "Summary of sample sizes: 400, 400, 400, 400, 400, 400, ... \n",
       "Resampling results across tuning parameters:\n",
       "\n",
       "  cp    Accuracy   Kappa      \n",
       "  0.01  0.7306143  0.442903612\n",
       "  0.02  0.7327365  0.445600116\n",
       "  0.03  0.7181414  0.410436906\n",
       "  0.04  0.7166029  0.405432257\n",
       "  0.05  0.7088003  0.385859587\n",
       "  0.06  0.6981716  0.359629366\n",
       "  0.07  0.6942653  0.348517501\n",
       "  0.08  0.6879326  0.340698256\n",
       "  0.09  0.6838841  0.331136390\n",
       "  0.10  0.6774273  0.317588573\n",
       "  0.11  0.6702727  0.297160167\n",
       "  0.12  0.6669832  0.282019224\n",
       "  0.13  0.6647914  0.277074964\n",
       "  0.14  0.6628692  0.271977250\n",
       "  0.15  0.6638883  0.270372221\n",
       "  0.16  0.6638883  0.268629349\n",
       "  0.17  0.6638883  0.268629349\n",
       "  0.18  0.6633554  0.258957865\n",
       "  0.19  0.6633554  0.258957865\n",
       "  0.20  0.6633554  0.258957865\n",
       "  0.21  0.6633554  0.258957865\n",
       "  0.22  0.6633554  0.258957865\n",
       "  0.23  0.6588297  0.242123069\n",
       "  0.24  0.6472435  0.212406087\n",
       "  0.25  0.6442090  0.202471748\n",
       "  0.26  0.6442090  0.202471748\n",
       "  0.27  0.6442090  0.202471748\n",
       "  0.28  0.6248188  0.146435184\n",
       "  0.29  0.6240080  0.138819061\n",
       "  0.30  0.6086958  0.092473972\n",
       "  0.31  0.6056384  0.079943493\n",
       "  0.32  0.6022582  0.069863940\n",
       "  0.33  0.5973294  0.050902870\n",
       "  0.34  0.5930256  0.040265938\n",
       "  0.35  0.5887590  0.027426432\n",
       "  0.36  0.5887590  0.027426432\n",
       "  0.37  0.5887590  0.027426432\n",
       "  0.38  0.5887590  0.027426432\n",
       "  0.39  0.5815996  0.008744844\n",
       "  0.40  0.5789853  0.000000000\n",
       "  0.41  0.5789853  0.000000000\n",
       "  0.42  0.5789853  0.000000000\n",
       "  0.43  0.5789853  0.000000000\n",
       "  0.44  0.5789853  0.000000000\n",
       "  0.45  0.5789853  0.000000000\n",
       "  0.46  0.5789853  0.000000000\n",
       "  0.47  0.5789853  0.000000000\n",
       "  0.48  0.5789853  0.000000000\n",
       "  0.49  0.5789853  0.000000000\n",
       "  0.50  0.5789853  0.000000000\n",
       "\n",
       "Accuracy was used to select the optimal model using the largest value.\n",
       "The final value used for the model was cp = 0.02."
      ]
     },
     "metadata": {},
     "output_type": "display_data"
    }
   ],
   "source": [
    "library(caret)\n",
    "library(e1071)\n",
    "\n",
    "set.seed (3)\n",
    "cpGrid = expand.grid(.cp = seq(0.01,0.5,0.01))\n",
    "\n",
    "train(High~.-Sales, data = Carseats, method = \"rpart\", tuneGrid = cpGrid)"
   ]
  },
  {
   "cell_type": "code",
   "execution_count": 11,
   "metadata": {},
   "outputs": [
    {
     "data": {
      "text/plain": [
       "     High.test\n",
       "yhat   No Yes\n",
       "  No  116  84\n",
       "  Yes   0   0"
      ]
     },
     "metadata": {},
     "output_type": "display_data"
    }
   ],
   "source": [
    "rpart_tree <- rpart(High~.-Sales, data=Carseats, method=\"class\", cp = 0.5, subset=train)\n",
    "\n",
    "yhat = predict(rpart_tree, newdata = Carseats.test, type = \"class\")\n",
    "\n",
    "table(yhat, High.test)"
   ]
  },
  {
   "cell_type": "markdown",
   "metadata": {},
   "source": [
    "The accuracy of the model didn't change.\n",
    "Pruning did not alter the model accuracy. \n",
    "\n",
    "# Save your notebook!"
   ]
  }
 ],
 "metadata": {
  "kernelspec": {
   "display_name": "R",
   "language": "R",
   "name": "ir"
  },
  "language_info": {
   "codemirror_mode": "r",
   "file_extension": ".r",
   "mimetype": "text/x-r-source",
   "name": "R",
   "pygments_lexer": "r",
   "version": "3.5.1"
  }
 },
 "nbformat": 4,
 "nbformat_minor": 2
}
