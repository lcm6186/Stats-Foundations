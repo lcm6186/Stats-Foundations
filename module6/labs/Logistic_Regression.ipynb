{
 "cells": [
  {
   "cell_type": "markdown",
   "metadata": {},
   "source": [
    "<span style=\"color:#2e8dc9; font-size:28px; font-weight:700\">   Logistic Regression Revisited</span>"
   ]
  },
  {
   "cell_type": "markdown",
   "metadata": {},
   "source": [
    "The linear regression model discussed in module 5 assumes that the response variable $Y$ is \n",
    "quantitative (continuous numerical value). \n",
    "However, what happens if the response variable is qualitative (categorical). \n",
    "For example, eye color is qualitative taking values blue, brown, green, etc. \n",
    "The process of predicting qualitative responses is known as **classification**, as you have been learning.\n",
    "\n",
    "Often the methods used for classification first predict the probability of each of the \n",
    "categories of a qualitative variable, as the basis for making the classification. \n",
    "In this sense, they also behave like regression methods.\n",
    "\n",
    "An example classification problem could be an online banking service that must be able \n",
    "to determine whether or not a transaction being performed on the site is fraudulent, \n",
    "on the basis of the user’s IP address, past transaction history etc. \n",
    "In this notebook we will continue our discussion on Logistic Regression. \n",
    "We will refer to both our `Heart Disease` and then, primarily, the `Default` data set. \n",
    "For the `Default` data, we are interested in predicting whether an individual will \n",
    "default on his or her credit card payment, on the basis of annual income and monthly credit card balance."
   ]
  },
  {
   "cell_type": "markdown",
   "metadata": {},
   "source": [
    "<span style=\"color:#e5065c; font-size:18px; font-weight:700\">  Why not Linear Regression?"
   ]
  },
  {
   "cell_type": "markdown",
   "metadata": {},
   "source": [
    "It is stated Linear Regression is not an ideal choice predicting a categorical variable. \n",
    "Suppose that we are trying to predict the medical condition of a patient in the emergency room on the basis of her symptoms. \n",
    "There are three possible diagnoses: stroke, drug overdose, and epileptic seizure. \n",
    "We could consider encoding these values as a quantitative response variable, $Y$ , as follows:\n",
    "\n",
    "$$Y=\\begin{gather*}\n",
    "\\begin{cases}\n",
    "1,\\ if\\ Stroke;\\\\\n",
    "2,\\ if\\ Drug\\ Overdose;\\\\\n",
    "3,\\ if\\ Epileptic\\ Seizure.\\\\\n",
    "\\end{cases}\n",
    "\\end{gather*}$$"
   ]
  },
  {
   "cell_type": "markdown",
   "metadata": {},
   "source": [
    "Using this coding, least squares could be used to fit a linear regression model to predict Y \n",
    "on the basis of a set of predictors $X_1, . . .,X_p$. \n",
    "Unfortunately, this coding implies an ordering on the outcomes, \n",
    "putting drug overdose in between stroke and epileptic seizure, \n",
    "and insisting that the difference between stroke and drug overdose is the same \n",
    "as the difference between drug overdose and epileptic seizure. \n",
    "In practice there is no particular reason that this needs to be the case. \n",
    "For instance, one could choose an equally reasonable coding,\n",
    "\n",
    "$$Y=\\begin{gather*}\n",
    "\\begin{cases}\n",
    "1,\\ if\\ Epileptic\\ Seizure.\\\\\n",
    "2,\\ if\\ Stroke;\\\\\n",
    "3,\\ if\\ Drug\\ Overdose;\\\\\n",
    "\\end{cases}\n",
    "\\end{gather*}$$"
   ]
  },
  {
   "cell_type": "markdown",
   "metadata": {},
   "source": [
    "which would imply a totally different relationship among the three conditions. \n",
    "\n",
    "Each of these codings would produce fundamentally different linear models that would \n",
    "ultimately lead to different sets of predictions on test observations. \n",
    "In general there is no natural way to convert a qualitative response variable with more than two \n",
    "levels into a quantitative response that is ready for linear regression.\n",
    "\n",
    "If there are only two possibilities for the patient’s medical condition: stroke and drug overdose. \n",
    "We could then potentially use the dummy variable approach to code the response as follows:\n",
    "\n",
    "$$Y=\\begin{gather*}\n",
    "\\begin{cases}\n",
    "1,\\ if\\ Stroke;\\\\\n",
    "2,\\ if\\ Drug\\ Overdose;\\\\\n",
    "\\end{cases}\n",
    "\\end{gather*}$$\n",
    "\n",
    "\n",
    "We could then fit a linear regression to this binary response, and predict drug overdose \n",
    "if $\\hat{Y}$ >0.5 and stroke otherwise. \n",
    "In the binary case it is not hard to show that even if we flip the above coding, \n",
    "linear regression will produce the same final predictions. \n",
    "For a binary response with a 0/1 coding as above, regression by least squares does make sense."
   ]
  },
  {
   "cell_type": "markdown",
   "metadata": {},
   "source": [
    "#### Below is a pictorial illustration of why linear regression is a bad choice for categorical variables. \n",
    "\n",
    "<img src=\"../images/linear_vs_logistic_regression.JPG\">"
   ]
  },
  {
   "cell_type": "markdown",
   "metadata": {
    "collapsed": true
   },
   "source": [
    "The picture on the left is the estimated probability of using linear regression. \n",
    "Some estimated probabilities are negative! \n",
    "The orange ticks indicate the 0/1 values coded for default (No or Yes). \n",
    "The right plot is the predicted probabilities of default using logistic regression. \n",
    "All probabilities lie between 0 and 1.\n",
    "\n",
    "Considering the data set, the response will be either Yes or No. \n",
    "Rather than modeling this response Y directly, \n",
    "logistic regression models the probability that Y belongs to a particular category. \n",
    "\n",
    "For example, the probability of **default given balance** can be written as\n",
    "\n",
    "$$P(default = Yes\\ |\\ balance).$$\n",
    "\n",
    "The values of $P(default = Yes\\ |\\ balance)$, which we abbreviate `P(default|balance)`, will range between 0 and 1. \n",
    "Then for any given value of balance, a prediction can be made for default."
   ]
  },
  {
   "cell_type": "markdown",
   "metadata": {},
   "source": [
    "<span style=\"color:#e5065c; font-size:18px; font-weight:700\"> Logistic Model\n",
    "\n",
    "The relationship we are interested in the above plot is between $P(Y = 1\\ |\\ X)$ \n",
    "(call this a function of X, $p(x)$) and X (predict Y=1 for a given value of X). \n",
    "The problem in using the linear regression equation $p(X) = \\beta_0$ + $\\beta_1 X$ \n",
    "is for balances close to zero we predict a negative probability of _default_. \n",
    "If we were to predict for very large balances, we would get values bigger than 1. \n",
    "The predictions are not sensible, since true probability must fall between 0 and 1. \n",
    "This problem is not unique to the credit default data. \n",
    "Any time a straight line is fit to a binary response that is coded as 0 or 1, \n",
    "in principle we can always predict p (X) < 0 for some values of X and p (X) > 1 \n",
    "for others (unless the range of X is limited).\n",
    "\n",
    "To avoid this problem, we must model $p(X)$ using a function that gives outputs between 0 and 1 for all posible values of X. \n",
    "In logistic regression, we use the logistic function shown below \n",
    "\n",
    "$$p(X) = \\frac{e^{\\beta_0+\\beta_1X}}{1 + e^{\\beta_0+\\beta_1X}}$$"
   ]
  },
  {
   "cell_type": "markdown",
   "metadata": {},
   "source": [
    "To fit the above model, we use a method called Maximum Likelihood. \n",
    "After manipulating the above equation a little bit we find that \n",
    "\n",
    "$$\\frac{p(X)}{1 − p(X)} = e^{\\beta_0+\\beta_1X}$$\n",
    "\n",
    "The logistic function above will always produce an S-shaped curve as shown in right hand side plot, \n",
    "and so regardless of the value of X, we will obtain a sensible prediction. \n",
    "For low balances we now predict the probability of default as close to, \n",
    "but never below, zero. \n",
    "Likewise, for high balances we predict a default probability close to, \n",
    "but never above, one. \n"
   ]
  },
  {
   "cell_type": "markdown",
   "metadata": {},
   "source": [
    "The quantity $p(X)/[1−p(X)]$ is called the odds, and can take on any value between 0 and ∞. \n",
    "Values of the odds close to 0 and ∞ indicate very low and very high probabilities of default in our example, respectively. \n",
    "For example, on average 1 in 5 people with an odds of 1/4 will default, \n",
    "since p(X) = 0.2 implies an odds of $\\frac{0.2}{1−0.2} = 1/4$. \n",
    "Likewise on average nine out of every ten people with an odds of 9 will default, \n",
    "since p (X) = 0.9 implies an odds of $\\frac{0.9}{1−0.9} = 9$.\n",
    "\n",
    "By taking the logarithm of both sides of the above equation, we arrive at \n",
    "\n",
    "$$log\\bigg(\\frac{p(X)}{1 − p(X)}\\bigg) = \\beta_0 + \\beta_1X$$\n",
    "\n",
    "The left-hand side is called the log-odds or logit. \n",
    "In a linear regression model, $\\beta_1$ gives the average change in Y associated with a one-unit increase in X. \n",
    "In contrast, in a logistic regression model, increasing X by one unit changes the log odds by $\\beta_1$, \n",
    "or equivalently it multiplies the odds by ${e^{\\beta_1}}$\n"
   ]
  },
  {
   "cell_type": "markdown",
   "metadata": {},
   "source": [
    "<span style=\"color:#e5065c; font-size:18px; font-weight:700\"> Estimating the Regression Coefficients\n",
    "\n",
    "Maximum likelihood is used to estimate coefficients. \n",
    "The basic intuition behind using maximum likelihood to fit a logistic regression model is as follows: \n",
    "We seek estimates for $\\beta_0$ and $\\beta_1$ such that the predicted probability $\\hat{p}(x_i)$ \n",
    "of _default_ for each individual, corresponds as closely as possible to the individual’s observed default status. \n",
    "In other words, we try to find $\\hat{\\beta_0}$ and $\\hat{\\beta_1}$ such that \n",
    "plugging these estimates into the model for p (X), i.e.\n",
    "\n",
    "$$p(X) = \\frac{e^{\\beta_0+\\beta_1X}}{1 + e^{\\beta_0+\\beta_1X}}$$"
   ]
  },
  {
   "cell_type": "markdown",
   "metadata": {},
   "source": [
    "This yields a number close to one for all individuals who defaulted, \n",
    "and a number close to zero for all individuals who did not. \n",
    "The estimates $\\hat{\\beta_0}$ and $\\hat{\\beta_1}$ are chosen to maximize this likelihood function.\n",
    "\n",
    "The table below shows the coefficient estimates and related information that result from fitting a \n",
    "logistic regression model on the Default data in order to predict the probability of `default=Yes` using balance.\n",
    "\n",
    "<table>\n",
    "    <tr>\n",
    "        <th></th>\n",
    "        <th>Coefficient Std.</th>\n",
    "        <th>error</th>\n",
    "        <th>Z-statistic</th>\n",
    "        <th>P-value</th>\n",
    "    </tr>\n",
    "    <tr>\n",
    "        <td>Intercept</td>\n",
    "        <td>-10.6513</td>\n",
    "        <td>0.3612</td>\n",
    "        <td>-29.5</td>\n",
    "        <td> &lt;0.0001</td>\n",
    "    </tr>\n",
    "    <tr>\n",
    "        <td>Balance</td>\n",
    "        <td>0.0055</td>\n",
    "        <td>0.0002</td>\n",
    "        <td>24.9</td>\n",
    "        <td>&lt;0.0001</td>\n",
    "    </tr>\n",
    "</table>\n",
    "        \n",
    "We see that $\\hat{\\beta_1} = 0.0055$ this indicates that an increase in balance is associated \n",
    "with an increase in the probability of default. \n",
    "To be precise, a one unit increase in balance is associated with an increase in the log odds \n",
    "of default by 0.0055 units."
   ]
  },
  {
   "cell_type": "markdown",
   "metadata": {},
   "source": [
    "<span style=\"color:#e5065c; font-size:18px; font-weight:700\"> Making Predictions\n",
    "\n",
    "Once the coefficients have been estimated, \n",
    "you compute the probability of default for any given credit card balance. \n",
    "For example, using the coefficient estimates given in the above table, \n",
    "we predict that the _default_ probability for an individual with a balance of $1,000 is \n",
    "\n",
    "$$p(X) = \\frac{e^{\\beta_0+\\beta_1X}}{1 + e^{\\beta_0+\\beta_1X}} = \\frac{e^{-10.6513+0.0055*1000}}{1 + e^{-10.6513+0.0055*1000}} = 0.00576$$\n",
    "\n",
    "which is below $1%$. In contrast, the predicted probability of default for an individual with \n",
    "a balance of $2,000 is much higher, and equals 0.586 or 58.6%."
   ]
  },
  {
   "cell_type": "markdown",
   "metadata": {},
   "source": [
    "One can use qualitative predictors with the logistic regression model using the dummy variable approach. \n",
    "As an example, the Default data set contains the qualitative variable student. \n",
    "To fit the model we simply create a dummy variable that takes on a value of 1 for students and 0 for non-students. The logistic regression model that results from predicting probability of default from student status can be seen below...\n",
    "\n",
    "\n",
    "\n",
    "<table>\n",
    "    <tr>\n",
    "        <th></th>\n",
    "        <th>Coefficient Std.</th>\n",
    "        <th>error</th>\n",
    "        <th>Z-statistic</th>\n",
    "        <th>P-value</th>\n",
    "    </tr>\n",
    "    <tr>\n",
    "        <td>Intercept</td>\n",
    "        <td>-3.5041</td>\n",
    "        <td>0.0707</td>\n",
    "        <td>-49.55</td>\n",
    "        <td> &lt;0.0001</td>\n",
    "    </tr>\n",
    "    <tr>\n",
    "        <td>Balance</td>\n",
    "        <td>0.4049</td>\n",
    "        <td>0.1150</td>\n",
    "        <td>3.52</td>\n",
    "        <td>&lt;0.0004</td>\n",
    "    </tr>\n",
    "</table>\n"
   ]
  },
  {
   "cell_type": "markdown",
   "metadata": {},
   "source": [
    "The coefficient associated with the dummy variable is positive and the associated p-value is statistically significant. \n",
    "This indicates that students tend to have higher default probabilities than non-students.\n",
    "\n",
    "$$\\hat{P}(default=Yes\\ |\\ student=Yes) =  \\frac{e^{-3.5041+0.4049*1}}{1 + e^{-3.5041+0.4049*1}} = 0.0431$$\n",
    "\n",
    "$$\\hat{P}(default=Yes\\ |\\ student=No) =  \\frac{e^{-3.5041+0.4049*0}}{1 + e^{-3.5041+0.4049*0}} = 0.0292$$\n"
   ]
  },
  {
   "cell_type": "markdown",
   "metadata": {},
   "source": [
    "<span style=\"color:#e5065c; font-size:18px; font-weight:700\"> Multiple Logistic Regression"
   ]
  },
  {
   "cell_type": "markdown",
   "metadata": {},
   "source": [
    "We now consider the problem of predicting a binary response using multiple predictors. By analogy with the extension from simple to multiple linear regression in module 5, we can generalize the equation for the odds as follows:\n",
    "\n",
    "$$log\\bigg(\\frac{p(X)}{1 − p(X)}\\bigg) = \\beta_0 + \\beta_1X_1 + · · · + \\beta_pX_p$$ where X = (X1, . . .,Xp) are p predictors\n",
    "\n",
    "And the logistic function equation can be written as... \n",
    "\n",
    "$$p(X) = \\frac{e^{\\beta_0+\\beta_1X_1+···+\\beta_pX_p}}{1 + e^{\\beta_0+\\beta_1X_1+···+\\beta_pX_p}}$$"
   ]
  },
  {
   "cell_type": "markdown",
   "metadata": {},
   "source": [
    "<span style=\"color:#e5065c; font-size:18px; font-weight:700\"> Logistic Regression for >2 Response Classes"
   ]
  },
  {
   "cell_type": "markdown",
   "metadata": {},
   "source": [
    "When the response variable has multiple categories like the medical condition example,\n",
    "with levels _stroke_, _drug overdose_, and _epileptic seizure_, we would like to model \n",
    "both `P (Y = stroke|X)` and P `(Y = drug overdose|X)`, \n",
    "with the remaining `P (Y = epileptic seizure|X) = 1 − P (Y = stroke|X) − P (Y = drug overdose|X)`. \n",
    "The logistic regression model discussed before has a multiple-class extensions, \n",
    "but in practice they are not used often for multiple class situations because there are \n",
    "other popular approaches for multiple-class classification, such as Linear Discriminant Analysis (LDA). "
   ]
  },
  {
   "cell_type": "markdown",
   "metadata": {},
   "source": [
    "<span style=\"color:#e5065c; font-size:18px; font-weight:700\"> Fitting a logistic regression model"
   ]
  },
  {
   "cell_type": "markdown",
   "metadata": {},
   "source": [
    "Now we will fit a logistic regression model on Stock Market Data in ISLR package. \n",
    "This data set consists of percentage returns for the S&P 500 stock index over 1,250 days, \n",
    "from the beginning of 2001 until the end of 2005. \n",
    "For each date, the percentage returns for each of the five previous trading days, \n",
    "Lag1 through Lag5 are recorded. \n",
    "The Volume (the number of shares traded on the previous day, in billions), \n",
    "Today (the percentage return on the date in question) and \n",
    "Direction (whether the market was Up or Down on this date) are also recorded."
   ]
  },
  {
   "cell_type": "code",
   "execution_count": 2,
   "metadata": {},
   "outputs": [
    {
     "name": "stderr",
     "output_type": "stream",
     "text": [
      "Updating HTML index of packages in '.Library'\n",
      "Making 'packages.html' ... done\n"
     ]
    },
    {
     "data": {
      "text/html": [
       "<ol class=list-inline>\n",
       "\t<li>'Year'</li>\n",
       "\t<li>'Lag1'</li>\n",
       "\t<li>'Lag2'</li>\n",
       "\t<li>'Lag3'</li>\n",
       "\t<li>'Lag4'</li>\n",
       "\t<li>'Lag5'</li>\n",
       "\t<li>'Volume'</li>\n",
       "\t<li>'Today'</li>\n",
       "\t<li>'Direction'</li>\n",
       "</ol>\n"
      ],
      "text/latex": [
       "\\begin{enumerate*}\n",
       "\\item 'Year'\n",
       "\\item 'Lag1'\n",
       "\\item 'Lag2'\n",
       "\\item 'Lag3'\n",
       "\\item 'Lag4'\n",
       "\\item 'Lag5'\n",
       "\\item 'Volume'\n",
       "\\item 'Today'\n",
       "\\item 'Direction'\n",
       "\\end{enumerate*}\n"
      ],
      "text/markdown": [
       "1. 'Year'\n",
       "2. 'Lag1'\n",
       "3. 'Lag2'\n",
       "4. 'Lag3'\n",
       "5. 'Lag4'\n",
       "6. 'Lag5'\n",
       "7. 'Volume'\n",
       "8. 'Today'\n",
       "9. 'Direction'\n",
       "\n",
       "\n"
      ],
      "text/plain": [
       "[1] \"Year\"      \"Lag1\"      \"Lag2\"      \"Lag3\"      \"Lag4\"      \"Lag5\"     \n",
       "[7] \"Volume\"    \"Today\"     \"Direction\""
      ]
     },
     "metadata": {},
     "output_type": "display_data"
    }
   ],
   "source": [
    "install.packages(\"ISLR\")\n",
    "library(ISLR)\n",
    "\n",
    "# Check the names of columns present in the dataset.\n",
    "names(Smarket)"
   ]
  },
  {
   "cell_type": "code",
   "execution_count": 3,
   "metadata": {},
   "outputs": [
    {
     "data": {
      "text/html": [
       "<ol class=list-inline>\n",
       "\t<li>1250</li>\n",
       "\t<li>9</li>\n",
       "</ol>\n"
      ],
      "text/latex": [
       "\\begin{enumerate*}\n",
       "\\item 1250\n",
       "\\item 9\n",
       "\\end{enumerate*}\n"
      ],
      "text/markdown": [
       "1. 1250\n",
       "2. 9\n",
       "\n",
       "\n"
      ],
      "text/plain": [
       "[1] 1250    9"
      ]
     },
     "metadata": {},
     "output_type": "display_data"
    }
   ],
   "source": [
    "# Check the dimensions of the data.\n",
    "dim(Smarket)"
   ]
  },
  {
   "cell_type": "code",
   "execution_count": 4,
   "metadata": {},
   "outputs": [
    {
     "data": {
      "text/plain": [
       "      Year           Lag1                Lag2                Lag3          \n",
       " Min.   :2001   Min.   :-4.922000   Min.   :-4.922000   Min.   :-4.922000  \n",
       " 1st Qu.:2002   1st Qu.:-0.639500   1st Qu.:-0.639500   1st Qu.:-0.640000  \n",
       " Median :2003   Median : 0.039000   Median : 0.039000   Median : 0.038500  \n",
       " Mean   :2003   Mean   : 0.003834   Mean   : 0.003919   Mean   : 0.001716  \n",
       " 3rd Qu.:2004   3rd Qu.: 0.596750   3rd Qu.: 0.596750   3rd Qu.: 0.596750  \n",
       " Max.   :2005   Max.   : 5.733000   Max.   : 5.733000   Max.   : 5.733000  \n",
       "      Lag4                Lag5              Volume           Today          \n",
       " Min.   :-4.922000   Min.   :-4.92200   Min.   :0.3561   Min.   :-4.922000  \n",
       " 1st Qu.:-0.640000   1st Qu.:-0.64000   1st Qu.:1.2574   1st Qu.:-0.639500  \n",
       " Median : 0.038500   Median : 0.03850   Median :1.4229   Median : 0.038500  \n",
       " Mean   : 0.001636   Mean   : 0.00561   Mean   :1.4783   Mean   : 0.003138  \n",
       " 3rd Qu.: 0.596750   3rd Qu.: 0.59700   3rd Qu.:1.6417   3rd Qu.: 0.596750  \n",
       " Max.   : 5.733000   Max.   : 5.73300   Max.   :3.1525   Max.   : 5.733000  \n",
       " Direction \n",
       " Down:602  \n",
       " Up  :648  \n",
       "           \n",
       "           \n",
       "           \n",
       "           "
      ]
     },
     "metadata": {},
     "output_type": "display_data"
    }
   ],
   "source": [
    "summary(Smarket)"
   ]
  },
  {
   "cell_type": "code",
   "execution_count": 5,
   "metadata": {},
   "outputs": [
    {
     "data": {
      "text/html": [
       "<table>\n",
       "<caption>A matrix: 8 × 8 of type dbl</caption>\n",
       "<thead>\n",
       "\t<tr><th></th><th scope=col>Year</th><th scope=col>Lag1</th><th scope=col>Lag2</th><th scope=col>Lag3</th><th scope=col>Lag4</th><th scope=col>Lag5</th><th scope=col>Volume</th><th scope=col>Today</th></tr>\n",
       "</thead>\n",
       "<tbody>\n",
       "\t<tr><th scope=row>Year</th><td>1.00000000</td><td> 0.029699649</td><td> 0.030596422</td><td> 0.033194581</td><td> 0.035688718</td><td> 0.029787995</td><td> 0.53900647</td><td> 0.030095229</td></tr>\n",
       "\t<tr><th scope=row>Lag1</th><td>0.02969965</td><td> 1.000000000</td><td>-0.026294328</td><td>-0.010803402</td><td>-0.002985911</td><td>-0.005674606</td><td> 0.04090991</td><td>-0.026155045</td></tr>\n",
       "\t<tr><th scope=row>Lag2</th><td>0.03059642</td><td>-0.026294328</td><td> 1.000000000</td><td>-0.025896670</td><td>-0.010853533</td><td>-0.003557949</td><td>-0.04338321</td><td>-0.010250033</td></tr>\n",
       "\t<tr><th scope=row>Lag3</th><td>0.03319458</td><td>-0.010803402</td><td>-0.025896670</td><td> 1.000000000</td><td>-0.024051036</td><td>-0.018808338</td><td>-0.04182369</td><td>-0.002447647</td></tr>\n",
       "\t<tr><th scope=row>Lag4</th><td>0.03568872</td><td>-0.002985911</td><td>-0.010853533</td><td>-0.024051036</td><td> 1.000000000</td><td>-0.027083641</td><td>-0.04841425</td><td>-0.006899527</td></tr>\n",
       "\t<tr><th scope=row>Lag5</th><td>0.02978799</td><td>-0.005674606</td><td>-0.003557949</td><td>-0.018808338</td><td>-0.027083641</td><td> 1.000000000</td><td>-0.02200231</td><td>-0.034860083</td></tr>\n",
       "\t<tr><th scope=row>Volume</th><td>0.53900647</td><td> 0.040909908</td><td>-0.043383215</td><td>-0.041823686</td><td>-0.048414246</td><td>-0.022002315</td><td> 1.00000000</td><td> 0.014591823</td></tr>\n",
       "\t<tr><th scope=row>Today</th><td>0.03009523</td><td>-0.026155045</td><td>-0.010250033</td><td>-0.002447647</td><td>-0.006899527</td><td>-0.034860083</td><td> 0.01459182</td><td> 1.000000000</td></tr>\n",
       "</tbody>\n",
       "</table>\n"
      ],
      "text/latex": [
       "A matrix: 8 × 8 of type dbl\n",
       "\\begin{tabular}{r|llllllll}\n",
       "  & Year & Lag1 & Lag2 & Lag3 & Lag4 & Lag5 & Volume & Today\\\\\n",
       "\\hline\n",
       "\tYear & 1.00000000 &  0.029699649 &  0.030596422 &  0.033194581 &  0.035688718 &  0.029787995 &  0.53900647 &  0.030095229\\\\\n",
       "\tLag1 & 0.02969965 &  1.000000000 & -0.026294328 & -0.010803402 & -0.002985911 & -0.005674606 &  0.04090991 & -0.026155045\\\\\n",
       "\tLag2 & 0.03059642 & -0.026294328 &  1.000000000 & -0.025896670 & -0.010853533 & -0.003557949 & -0.04338321 & -0.010250033\\\\\n",
       "\tLag3 & 0.03319458 & -0.010803402 & -0.025896670 &  1.000000000 & -0.024051036 & -0.018808338 & -0.04182369 & -0.002447647\\\\\n",
       "\tLag4 & 0.03568872 & -0.002985911 & -0.010853533 & -0.024051036 &  1.000000000 & -0.027083641 & -0.04841425 & -0.006899527\\\\\n",
       "\tLag5 & 0.02978799 & -0.005674606 & -0.003557949 & -0.018808338 & -0.027083641 &  1.000000000 & -0.02200231 & -0.034860083\\\\\n",
       "\tVolume & 0.53900647 &  0.040909908 & -0.043383215 & -0.041823686 & -0.048414246 & -0.022002315 &  1.00000000 &  0.014591823\\\\\n",
       "\tToday & 0.03009523 & -0.026155045 & -0.010250033 & -0.002447647 & -0.006899527 & -0.034860083 &  0.01459182 &  1.000000000\\\\\n",
       "\\end{tabular}\n"
      ],
      "text/markdown": [
       "\n",
       "A matrix: 8 × 8 of type dbl\n",
       "\n",
       "| <!--/--> | Year | Lag1 | Lag2 | Lag3 | Lag4 | Lag5 | Volume | Today |\n",
       "|---|---|---|---|---|---|---|---|---|\n",
       "| Year | 1.00000000 |  0.029699649 |  0.030596422 |  0.033194581 |  0.035688718 |  0.029787995 |  0.53900647 |  0.030095229 |\n",
       "| Lag1 | 0.02969965 |  1.000000000 | -0.026294328 | -0.010803402 | -0.002985911 | -0.005674606 |  0.04090991 | -0.026155045 |\n",
       "| Lag2 | 0.03059642 | -0.026294328 |  1.000000000 | -0.025896670 | -0.010853533 | -0.003557949 | -0.04338321 | -0.010250033 |\n",
       "| Lag3 | 0.03319458 | -0.010803402 | -0.025896670 |  1.000000000 | -0.024051036 | -0.018808338 | -0.04182369 | -0.002447647 |\n",
       "| Lag4 | 0.03568872 | -0.002985911 | -0.010853533 | -0.024051036 |  1.000000000 | -0.027083641 | -0.04841425 | -0.006899527 |\n",
       "| Lag5 | 0.02978799 | -0.005674606 | -0.003557949 | -0.018808338 | -0.027083641 |  1.000000000 | -0.02200231 | -0.034860083 |\n",
       "| Volume | 0.53900647 |  0.040909908 | -0.043383215 | -0.041823686 | -0.048414246 | -0.022002315 |  1.00000000 |  0.014591823 |\n",
       "| Today | 0.03009523 | -0.026155045 | -0.010250033 | -0.002447647 | -0.006899527 | -0.034860083 |  0.01459182 |  1.000000000 |\n",
       "\n"
      ],
      "text/plain": [
       "       Year       Lag1         Lag2         Lag3         Lag4        \n",
       "Year   1.00000000  0.029699649  0.030596422  0.033194581  0.035688718\n",
       "Lag1   0.02969965  1.000000000 -0.026294328 -0.010803402 -0.002985911\n",
       "Lag2   0.03059642 -0.026294328  1.000000000 -0.025896670 -0.010853533\n",
       "Lag3   0.03319458 -0.010803402 -0.025896670  1.000000000 -0.024051036\n",
       "Lag4   0.03568872 -0.002985911 -0.010853533 -0.024051036  1.000000000\n",
       "Lag5   0.02978799 -0.005674606 -0.003557949 -0.018808338 -0.027083641\n",
       "Volume 0.53900647  0.040909908 -0.043383215 -0.041823686 -0.048414246\n",
       "Today  0.03009523 -0.026155045 -0.010250033 -0.002447647 -0.006899527\n",
       "       Lag5         Volume      Today       \n",
       "Year    0.029787995  0.53900647  0.030095229\n",
       "Lag1   -0.005674606  0.04090991 -0.026155045\n",
       "Lag2   -0.003557949 -0.04338321 -0.010250033\n",
       "Lag3   -0.018808338 -0.04182369 -0.002447647\n",
       "Lag4   -0.027083641 -0.04841425 -0.006899527\n",
       "Lag5    1.000000000 -0.02200231 -0.034860083\n",
       "Volume -0.022002315  1.00000000  0.014591823\n",
       "Today  -0.034860083  0.01459182  1.000000000"
      ]
     },
     "metadata": {},
     "output_type": "display_data"
    }
   ],
   "source": [
    "# The Direction variable is qualitative. cor() accepts numeric values only. \n",
    "#    So exclude Direction from the input to cor function\n",
    "cor(Smarket[,-9])"
   ]
  },
  {
   "cell_type": "markdown",
   "metadata": {},
   "source": [
    "The correlations between the lag variables and today’s returns are close to zero. \n",
    "In other words, there appears to be little correlation between today’s returns and previous days’ returns. \n",
    "The only substantial correlation is between Year and Volume. \n",
    "By plotting the data we see that Volume is increasing over time. \n",
    "In other words, the average number of shares traded daily increased from 2001 to 2005."
   ]
  },
  {
   "cell_type": "code",
   "execution_count": 6,
   "metadata": {},
   "outputs": [
    {
     "data": {
      "image/png": "[encoded data removed]",
      "text/plain": [
       "plot without title"
      ]
     },
     "metadata": {},
     "output_type": "display_data"
    }
   ],
   "source": [
    "# Telling R that we are going to use Smarket dataset in this data. You can refer to columns in Smarket without referring to the\n",
    "# Smarket everytime.\n",
    "attach(Smarket)\n",
    "plot(Volume)"
   ]
  },
  {
   "cell_type": "markdown",
   "metadata": {},
   "source": [
    "`Smarket` has data spanning across years 2001 to 2005. \n",
    "We can subset the data into training and testing sets. \n",
    "We will create a vector corresponding to the observations from 2001 through 2004, holding true values;\n",
    "then false values for the year 2005.\n",
    "Then, use this vector to create two datasets of observations one with data from 2001 to 2004 and the other one containing 2005 data..."
   ]
  },
  {
   "cell_type": "code",
   "execution_count": 7,
   "metadata": {},
   "outputs": [
    {
     "data": {
      "text/html": [
       "<ol class=list-inline>\n",
       "\t<li>252</li>\n",
       "\t<li>9</li>\n",
       "</ol>\n"
      ],
      "text/latex": [
       "\\begin{enumerate*}\n",
       "\\item 252\n",
       "\\item 9\n",
       "\\end{enumerate*}\n"
      ],
      "text/markdown": [
       "1. 252\n",
       "2. 9\n",
       "\n",
       "\n"
      ],
      "text/plain": [
       "[1] 252   9"
      ]
     },
     "metadata": {},
     "output_type": "display_data"
    }
   ],
   "source": [
    "# The object train is a vector of 1,250 elements. The elements of the \n",
    "# vector that correspond to observations that occurred before 2005 are \n",
    "# set to TRUE as they satisfy the condition \"Year<2005\". \n",
    "# whereas those that correspond to observations in 2005 are set to FALSE. \n",
    "train = Year<2005\n",
    "\n",
    "# train is a Boolean vector, since its elements are TRUE and FALSE. \n",
    "# So, the TRUE and FALSE values corresponding to each row\n",
    "# will let you subset rows or columns of a matrix. For instance, the \n",
    "#  command Smarket[!train,] would pick out a submatrix of the\n",
    "# stock market dataset, corresponding to observations in 2005, since \n",
    "#  those are the ones for which the elements of train are \n",
    "# FALSE and `!` operator will reverse the elements of train vector.\n",
    "Smarket.2005= Smarket[!train,]\n",
    "\n",
    "# Check the dimensions of Smarket.2005\n",
    "dim(Smarket.2005)\n",
    "\n",
    "# Save the Direction values corresponding to 2005 dates.\n",
    "Direction.2005 = Direction[!train]"
   ]
  },
  {
   "cell_type": "markdown",
   "metadata": {},
   "source": [
    "We can then fit a logistic regression model using only the subset of the observations that correspond to dates before 2005, using the subset argument."
   ]
  },
  {
   "cell_type": "code",
   "execution_count": 8,
   "metadata": {},
   "outputs": [],
   "source": [
    "# subset argument below is providing the condition for what data to be selected from Smarket. \n",
    "# If you are not sure what's happening run below table command. \n",
    "glm.fit = glm(Direction~Lag1+Lag2+Lag3+Lag4+Lag5+Volume, data=Smarket, family=binomial, subset=train)\n",
    "\n",
    "# The glm() function fits generalized glm() linear models, a class of models that includes logistic regression. \n",
    "\n",
    "# We must pass in the argument `family=binomial` in order to tell R to run a logistic regression, rather than \n",
    "# some other type of generalized linear model.\n",
    "\n",
    "# Predicted probabilities of the stock market for each of the days in \n",
    "# the test set that is, for the days in 2005\n",
    "glm.probs = predict(glm.fit, Smarket.2005, type=\"response\")\n",
    "\n",
    "# The predict() function can be used to predict the probability that the market will go up, given values \n",
    "# of the predictors. The type=\"response\" option tells R to output probabilities of the form P(Y = 1|X), \n",
    "# as opposed to other information such as the logit. If no data set is supplied to the predict() function, \n",
    "# then the probabilities are computed for the training data that was used to fit the logistic regression model."
   ]
  },
  {
   "cell_type": "code",
   "execution_count": 9,
   "metadata": {},
   "outputs": [
    {
     "data": {
      "text/plain": [
       "\n",
       "Call:\n",
       "glm(formula = Direction ~ Lag1 + Lag2 + Lag3 + Lag4 + Lag5 + \n",
       "    Volume, family = binomial, data = Smarket, subset = train)\n",
       "\n",
       "Deviance Residuals: \n",
       "   Min      1Q  Median      3Q     Max  \n",
       "-1.302  -1.190   1.079   1.160   1.350  \n",
       "\n",
       "Coefficients:\n",
       "             Estimate Std. Error z value Pr(>|z|)\n",
       "(Intercept)  0.191213   0.333690   0.573    0.567\n",
       "Lag1        -0.054178   0.051785  -1.046    0.295\n",
       "Lag2        -0.045805   0.051797  -0.884    0.377\n",
       "Lag3         0.007200   0.051644   0.139    0.889\n",
       "Lag4         0.006441   0.051706   0.125    0.901\n",
       "Lag5        -0.004223   0.051138  -0.083    0.934\n",
       "Volume      -0.116257   0.239618  -0.485    0.628\n",
       "\n",
       "(Dispersion parameter for binomial family taken to be 1)\n",
       "\n",
       "    Null deviance: 1383.3  on 997  degrees of freedom\n",
       "Residual deviance: 1381.1  on 991  degrees of freedom\n",
       "AIC: 1395.1\n",
       "\n",
       "Number of Fisher Scoring iterations: 3\n"
      ]
     },
     "metadata": {},
     "output_type": "display_data"
    }
   ],
   "source": [
    "summary(glm.fit)"
   ]
  },
  {
   "cell_type": "markdown",
   "metadata": {},
   "source": [
    "None of the predictors are good enough to predict the direction of the stock market. "
   ]
  },
  {
   "cell_type": "code",
   "execution_count": 10,
   "metadata": {},
   "outputs": [
    {
     "data": {
      "text/plain": [
       "\n",
       "2001 2002 2003 2004 \n",
       " 242  252  252  252 "
      ]
     },
     "metadata": {},
     "output_type": "display_data"
    }
   ],
   "source": [
    "# Subset the data for years from 2001 through 2004 using train vector. Use table function to see the\n",
    "# distribution of Year values in the subset.\n",
    "table(subset(Smarket, train)$Year)"
   ]
  },
  {
   "cell_type": "markdown",
   "metadata": {},
   "source": [
    "We trained the model using only the dates before 2005, \n",
    "and the fitted model is tested on data with dates in 2005. \n",
    "The predictions for 2005 are in glm.probs. \n",
    "Compare them to the actual movements of the market over that time period."
   ]
  },
  {
   "cell_type": "code",
   "execution_count": 11,
   "metadata": {},
   "outputs": [
    {
     "data": {
      "text/plain": [
       "        Direction.2005\n",
       "glm.pred Down Up\n",
       "    Down   77 97\n",
       "    Up     34 44"
      ]
     },
     "metadata": {},
     "output_type": "display_data"
    }
   ],
   "source": [
    "# Create a vector glm.pred of size 252 to store the predictions. \n",
    "# Assign the value `down` initially for entire vector \n",
    "glm.pred=rep(\"Down\" ,252)\n",
    "\n",
    "# Update the predictions in glm.pred to 'up' if predicted probability is greater than 0.5\n",
    "glm.pred[glm.probs >0.5]=\"Up\"\n",
    "\n",
    "# table() function can be used to produce a confusion matrix in order to determine how many observations \n",
    "# were correctly or incorrectly classified.\n",
    "table(glm.pred, Direction.2005)"
   ]
  },
  {
   "cell_type": "markdown",
   "metadata": {},
   "source": [
    "Use the names() function to find out what other pieces of information are stored in glm.fit..."
   ]
  },
  {
   "cell_type": "code",
   "execution_count": 12,
   "metadata": {},
   "outputs": [
    {
     "data": {
      "text/html": [
       "<ol class=list-inline>\n",
       "\t<li>'coefficients'</li>\n",
       "\t<li>'residuals'</li>\n",
       "\t<li>'fitted.values'</li>\n",
       "\t<li>'effects'</li>\n",
       "\t<li>'R'</li>\n",
       "\t<li>'rank'</li>\n",
       "\t<li>'qr'</li>\n",
       "\t<li>'family'</li>\n",
       "\t<li>'linear.predictors'</li>\n",
       "\t<li>'deviance'</li>\n",
       "\t<li>'aic'</li>\n",
       "\t<li>'null.deviance'</li>\n",
       "\t<li>'iter'</li>\n",
       "\t<li>'weights'</li>\n",
       "\t<li>'prior.weights'</li>\n",
       "\t<li>'df.residual'</li>\n",
       "\t<li>'df.null'</li>\n",
       "\t<li>'y'</li>\n",
       "\t<li>'converged'</li>\n",
       "\t<li>'boundary'</li>\n",
       "\t<li>'model'</li>\n",
       "\t<li>'call'</li>\n",
       "\t<li>'formula'</li>\n",
       "\t<li>'terms'</li>\n",
       "\t<li>'data'</li>\n",
       "\t<li>'offset'</li>\n",
       "\t<li>'control'</li>\n",
       "\t<li>'method'</li>\n",
       "\t<li>'contrasts'</li>\n",
       "\t<li>'xlevels'</li>\n",
       "</ol>\n"
      ],
      "text/latex": [
       "\\begin{enumerate*}\n",
       "\\item 'coefficients'\n",
       "\\item 'residuals'\n",
       "\\item 'fitted.values'\n",
       "\\item 'effects'\n",
       "\\item 'R'\n",
       "\\item 'rank'\n",
       "\\item 'qr'\n",
       "\\item 'family'\n",
       "\\item 'linear.predictors'\n",
       "\\item 'deviance'\n",
       "\\item 'aic'\n",
       "\\item 'null.deviance'\n",
       "\\item 'iter'\n",
       "\\item 'weights'\n",
       "\\item 'prior.weights'\n",
       "\\item 'df.residual'\n",
       "\\item 'df.null'\n",
       "\\item 'y'\n",
       "\\item 'converged'\n",
       "\\item 'boundary'\n",
       "\\item 'model'\n",
       "\\item 'call'\n",
       "\\item 'formula'\n",
       "\\item 'terms'\n",
       "\\item 'data'\n",
       "\\item 'offset'\n",
       "\\item 'control'\n",
       "\\item 'method'\n",
       "\\item 'contrasts'\n",
       "\\item 'xlevels'\n",
       "\\end{enumerate*}\n"
      ],
      "text/markdown": [
       "1. 'coefficients'\n",
       "2. 'residuals'\n",
       "3. 'fitted.values'\n",
       "4. 'effects'\n",
       "5. 'R'\n",
       "6. 'rank'\n",
       "7. 'qr'\n",
       "8. 'family'\n",
       "9. 'linear.predictors'\n",
       "10. 'deviance'\n",
       "11. 'aic'\n",
       "12. 'null.deviance'\n",
       "13. 'iter'\n",
       "14. 'weights'\n",
       "15. 'prior.weights'\n",
       "16. 'df.residual'\n",
       "17. 'df.null'\n",
       "18. 'y'\n",
       "19. 'converged'\n",
       "20. 'boundary'\n",
       "21. 'model'\n",
       "22. 'call'\n",
       "23. 'formula'\n",
       "24. 'terms'\n",
       "25. 'data'\n",
       "26. 'offset'\n",
       "27. 'control'\n",
       "28. 'method'\n",
       "29. 'contrasts'\n",
       "30. 'xlevels'\n",
       "\n",
       "\n"
      ],
      "text/plain": [
       " [1] \"coefficients\"      \"residuals\"         \"fitted.values\"    \n",
       " [4] \"effects\"           \"R\"                 \"rank\"             \n",
       " [7] \"qr\"                \"family\"            \"linear.predictors\"\n",
       "[10] \"deviance\"          \"aic\"               \"null.deviance\"    \n",
       "[13] \"iter\"              \"weights\"           \"prior.weights\"    \n",
       "[16] \"df.residual\"       \"df.null\"           \"y\"                \n",
       "[19] \"converged\"         \"boundary\"          \"model\"            \n",
       "[22] \"call\"              \"formula\"           \"terms\"            \n",
       "[25] \"data\"              \"offset\"            \"control\"          \n",
       "[28] \"method\"            \"contrasts\"         \"xlevels\"          "
      ]
     },
     "metadata": {},
     "output_type": "display_data"
    }
   ],
   "source": [
    "names(glm.fit)"
   ]
  },
  {
   "cell_type": "code",
   "execution_count": 13,
   "metadata": {},
   "outputs": [
    {
     "data": {
      "text/html": [
       "<dl class=dl-horizontal>\n",
       "\t<dt>(Intercept)</dt>\n",
       "\t\t<dd>0.191212620958068</dd>\n",
       "\t<dt>Lag1</dt>\n",
       "\t\t<dd>-0.0541782916586355</dd>\n",
       "\t<dt>Lag2</dt>\n",
       "\t\t<dd>-0.0458053340263535</dd>\n",
       "\t<dt>Lag3</dt>\n",
       "\t\t<dd>0.0072001179475506</dd>\n",
       "\t<dt>Lag4</dt>\n",
       "\t\t<dd>0.00644087521838716</dd>\n",
       "\t<dt>Lag5</dt>\n",
       "\t\t<dd>-0.00422267216734054</dd>\n",
       "\t<dt>Volume</dt>\n",
       "\t\t<dd>-0.116256960117208</dd>\n",
       "</dl>\n"
      ],
      "text/latex": [
       "\\begin{description*}\n",
       "\\item[(Intercept)] 0.191212620958068\n",
       "\\item[Lag1] -0.0541782916586355\n",
       "\\item[Lag2] -0.0458053340263535\n",
       "\\item[Lag3] 0.0072001179475506\n",
       "\\item[Lag4] 0.00644087521838716\n",
       "\\item[Lag5] -0.00422267216734054\n",
       "\\item[Volume] -0.116256960117208\n",
       "\\end{description*}\n"
      ],
      "text/markdown": [
       "(Intercept)\n",
       ":   0.191212620958068Lag1\n",
       ":   -0.0541782916586355Lag2\n",
       ":   -0.0458053340263535Lag3\n",
       ":   0.0072001179475506Lag4\n",
       ":   0.00644087521838716Lag5\n",
       ":   -0.00422267216734054Volume\n",
       ":   -0.116256960117208\n",
       "\n"
      ],
      "text/plain": [
       " (Intercept)         Lag1         Lag2         Lag3         Lag4         Lag5 \n",
       " 0.191212621 -0.054178292 -0.045805334  0.007200118  0.006440875 -0.004222672 \n",
       "      Volume \n",
       "-0.116256960 "
      ]
     },
     "metadata": {},
     "output_type": "display_data"
    }
   ],
   "source": [
    "# Use the coef() function in order to access just the coefficients for this fitted model\n",
    "coef(glm.fit)"
   ]
  },
  {
   "cell_type": "code",
   "execution_count": 14,
   "metadata": {},
   "outputs": [
    {
     "name": "stderr",
     "output_type": "stream",
     "text": [
      "Waiting for profiling to be done...\n"
     ]
    },
    {
     "data": {
      "text/html": [
       "<table>\n",
       "<caption>A matrix: 7 × 2 of type dbl</caption>\n",
       "<thead>\n",
       "\t<tr><th></th><th scope=col>2.5 %</th><th scope=col>97.5 %</th></tr>\n",
       "</thead>\n",
       "<tbody>\n",
       "\t<tr><th scope=row>(Intercept)</th><td>-0.46299074</td><td>0.84720504</td></tr>\n",
       "\t<tr><th scope=row>Lag1</th><td>-0.15617317</td><td>0.04713105</td></tr>\n",
       "\t<tr><th scope=row>Lag2</th><td>-0.14777249</td><td>0.05558532</td></tr>\n",
       "\t<tr><th scope=row>Lag3</th><td>-0.09416336</td><td>0.10859586</td></tr>\n",
       "\t<tr><th scope=row>Lag4</th><td>-0.09506013</td><td>0.10793957</td></tr>\n",
       "\t<tr><th scope=row>Lag5</th><td>-0.10464869</td><td>0.09612802</td></tr>\n",
       "\t<tr><th scope=row>Volume</th><td>-0.58733257</td><td>0.35363815</td></tr>\n",
       "</tbody>\n",
       "</table>\n"
      ],
      "text/latex": [
       "A matrix: 7 × 2 of type dbl\n",
       "\\begin{tabular}{r|ll}\n",
       "  & 2.5 \\% & 97.5 \\%\\\\\n",
       "\\hline\n",
       "\t(Intercept) & -0.46299074 & 0.84720504\\\\\n",
       "\tLag1 & -0.15617317 & 0.04713105\\\\\n",
       "\tLag2 & -0.14777249 & 0.05558532\\\\\n",
       "\tLag3 & -0.09416336 & 0.10859586\\\\\n",
       "\tLag4 & -0.09506013 & 0.10793957\\\\\n",
       "\tLag5 & -0.10464869 & 0.09612802\\\\\n",
       "\tVolume & -0.58733257 & 0.35363815\\\\\n",
       "\\end{tabular}\n"
      ],
      "text/markdown": [
       "\n",
       "A matrix: 7 × 2 of type dbl\n",
       "\n",
       "| <!--/--> | 2.5 % | 97.5 % |\n",
       "|---|---|---|\n",
       "| (Intercept) | -0.46299074 | 0.84720504 |\n",
       "| Lag1 | -0.15617317 | 0.04713105 |\n",
       "| Lag2 | -0.14777249 | 0.05558532 |\n",
       "| Lag3 | -0.09416336 | 0.10859586 |\n",
       "| Lag4 | -0.09506013 | 0.10793957 |\n",
       "| Lag5 | -0.10464869 | 0.09612802 |\n",
       "| Volume | -0.58733257 | 0.35363815 |\n",
       "\n"
      ],
      "text/plain": [
       "            2.5 %       97.5 %    \n",
       "(Intercept) -0.46299074 0.84720504\n",
       "Lag1        -0.15617317 0.04713105\n",
       "Lag2        -0.14777249 0.05558532\n",
       "Lag3        -0.09416336 0.10859586\n",
       "Lag4        -0.09506013 0.10793957\n",
       "Lag5        -0.10464869 0.09612802\n",
       "Volume      -0.58733257 0.35363815"
      ]
     },
     "metadata": {},
     "output_type": "display_data"
    }
   ],
   "source": [
    "confint(glm.fit)\n",
    "\n",
    "# confint() computes confidence intervals\n",
    "\n",
    "# The \"Waiting for profiling to be done...\" message is telling you that it's calculating a profile likelihood ratio \n",
    "# confidence interval."
   ]
  },
  {
   "cell_type": "code",
   "execution_count": 15,
   "metadata": {},
   "outputs": [
    {
     "data": {
      "text/html": [
       "0.48015873015873"
      ],
      "text/latex": [
       "0.48015873015873"
      ],
      "text/markdown": [
       "0.48015873015873"
      ],
      "text/plain": [
       "[1] 0.4801587"
      ]
     },
     "metadata": {},
     "output_type": "display_data"
    },
    {
     "data": {
      "text/html": [
       "0.51984126984127"
      ],
      "text/latex": [
       "0.51984126984127"
      ],
      "text/markdown": [
       "0.51984126984127"
      ],
      "text/plain": [
       "[1] 0.5198413"
      ]
     },
     "metadata": {},
     "output_type": "display_data"
    }
   ],
   "source": [
    "mean(glm.pred==Direction.2005)\n",
    "mean(glm.pred!= Direction.2005)"
   ]
  },
  {
   "cell_type": "markdown",
   "metadata": {},
   "source": [
    "The `!=` notation means **not equal** to and so the last command computes the test set error rate. \n",
    "The test error rate is 52%, which is worse than random guessing. \n",
    "Therefore, we will remove the variables that appear not to be helpful in predicting Direction. \n",
    "Using predictors that have no relationship with the response variable tends to cause a \n",
    "deterioration in the test error rate, \n",
    "since such predictors cause an increase in variance without a corresponding decrease in bias.\n",
    "\n",
    "We will refit the logistic regression using just `Lag1` and `Lag2` which have better P-values compared to rest. "
   ]
  },
  {
   "cell_type": "code",
   "execution_count": 16,
   "metadata": {},
   "outputs": [
    {
     "data": {
      "text/plain": [
       "        Direction.2005\n",
       "glm.pred Down  Up\n",
       "    Down   35  35\n",
       "    Up     76 106"
      ]
     },
     "metadata": {},
     "output_type": "display_data"
    }
   ],
   "source": [
    "glm.fit=glm(Direction~Lag1+Lag2, data=Smarket, family=binomial, subset =train)\n",
    "glm.probs = predict(glm.fit, Smarket.2005, type=\"response\")\n",
    "\n",
    "glm.pred=rep(\"Down\", 252)\n",
    "glm.pred[glm.probs >0.5]=\"Up\"\n",
    "\n",
    "table(glm.pred, Direction.2005)"
   ]
  },
  {
   "cell_type": "code",
   "execution_count": 17,
   "metadata": {},
   "outputs": [
    {
     "data": {
      "text/html": [
       "0.55952380952381"
      ],
      "text/latex": [
       "0.55952380952381"
      ],
      "text/markdown": [
       "0.55952380952381"
      ],
      "text/plain": [
       "[1] 0.5595238"
      ]
     },
     "metadata": {},
     "output_type": "display_data"
    }
   ],
   "source": [
    "mean(glm.pred == Direction.2005)"
   ]
  },
  {
   "cell_type": "code",
   "execution_count": 18,
   "metadata": {},
   "outputs": [
    {
     "data": {
      "text/html": [
       "0.582417582417582"
      ],
      "text/latex": [
       "0.582417582417582"
      ],
      "text/markdown": [
       "0.582417582417582"
      ],
      "text/plain": [
       "[1] 0.5824176"
      ]
     },
     "metadata": {},
     "output_type": "display_data"
    }
   ],
   "source": [
    "106/(106+76)"
   ]
  },
  {
   "cell_type": "markdown",
   "metadata": {},
   "source": [
    "The results look good compared to the previous model. \n",
    "56% of the daily movements have been correctly predicted. \n",
    "The confusion matrix suggests that on days when logistic regression predicts that the market will decline, \n",
    "it is only correct 50% of the time. \n",
    "However, on days when it predicts an increase in the market, it has a 58% accuracy rate."
   ]
  },
  {
   "cell_type": "markdown",
   "metadata": {},
   "source": [
    "# Save your notebook!"
   ]
  }
 ],
 "metadata": {
  "kernelspec": {
   "display_name": "R",
   "language": "R",
   "name": "ir"
  },
  "language_info": {
   "codemirror_mode": "r",
   "file_extension": ".r",
   "mimetype": "text/x-r-source",
   "name": "R",
   "pygments_lexer": "r",
   "version": "3.5.1"
  }
 },
 "nbformat": 4,
 "nbformat_minor": 1
}
