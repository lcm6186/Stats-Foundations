{
 "cells": [
  {
   "cell_type": "code",
   "execution_count": null,
   "metadata": {},
   "outputs": [],
   "source": [
    "install.packages(\"dbscan\")\n",
    "library(dbscan)\n",
    "install.packages(\"fpc\")\n",
    "install.packages(\"factoextra\")"
   ]
  },
  {
   "cell_type": "markdown",
   "metadata": {},
   "source": [
    "## Hierarchical Clustering\n",
    "\n",
    "In this practice, we will apply hierarchical clustering to the same data sets as we did in [k-means clustering practice](KMeans_Clustering.ipynb). Take a look at that practice first, if you haven't done so yet. "
   ]
  },
  {
   "cell_type": "code",
   "execution_count": null,
   "metadata": {},
   "outputs": [],
   "source": [
    "# read data from the file\n",
    "points_data1 <- read.csv(\"/dsa/data/all_datasets/toydata/data1.csv\",header=TRUE)\n",
    "\n",
    "str(points_data1)\n",
    "# Visualize the data\n",
    "library(ggplot2)\n",
    "plot1 <- ggplot(points_data1, aes(X, Y)) + geom_point(colour=\"black\")\n",
    "plot1"
   ]
  },
  {
   "cell_type": "code",
   "execution_count": null,
   "metadata": {},
   "outputs": [],
   "source": [
    "# Let's apply hierarchical clustering to this data set\n",
    "set.seed(42)\n",
    "hc_clust11 <- hclust(dist(points_data1[, 1:2]), method=\"complete\")\n",
    "plot(hc_clust11)"
   ]
  },
  {
   "cell_type": "markdown",
   "metadata": {},
   "source": [
    "In a dendrogram, the height gives a good idea about how \"far\" the clusters are in terms of dissimilarity. Above, it seems like there are two clusters in this data set based on the heights of the tree branches. Let's cut it at two clusters and visualize them."
   ]
  },
  {
   "cell_type": "code",
   "execution_count": null,
   "metadata": {},
   "outputs": [],
   "source": [
    "# cut the tree at two clusters; it returns labels for each point.\n",
    "cut2 = cutree(hc_clust11, 2)\n",
    "# use labels to visualize hclust clusters\n",
    "plot1 <- ggplot(points_data1, aes(X, Y)) + geom_point(aes(colour=factor(cut2))) + theme(legend.position=\"top\")\n",
    "plot1"
   ]
  },
  {
   "cell_type": "markdown",
   "metadata": {},
   "source": [
    "We can do the same by using *eclust* function of **factoextra** library like following:"
   ]
  },
  {
   "cell_type": "code",
   "execution_count": null,
   "metadata": {},
   "outputs": [],
   "source": [
    "\n",
    "library(factoextra)\n",
    "# run k-means on this data and visualize \n",
    "km <- eclust(points_data1[, 1:2], \"kmeans\", k=2, nstart=20, graph=FALSE)\n",
    "fviz_cluster(km, geom=\"point\", frame=FALSE)"
   ]
  },
  {
   "cell_type": "code",
   "execution_count": null,
   "metadata": {},
   "outputs": [],
   "source": [
    "# run hclust on this data and visualize \n",
    "hc <- eclust(points_data1[, 1:2], \"hclust\", k=2, method=\"complete\", graph=FALSE) \n",
    "# plot clusters\n",
    "fviz_cluster(hc, geom=\"point\", frame=FALSE)"
   ]
  },
  {
   "cell_type": "code",
   "execution_count": null,
   "metadata": {},
   "outputs": [],
   "source": [
    "# also plot the dendrogram\n",
    "fviz_dend(hc, rect = TRUE, show_labels = FALSE) "
   ]
  },
  {
   "cell_type": "code",
   "execution_count": null,
   "metadata": {
    "scrolled": true
   },
   "outputs": [],
   "source": [
    "# Let's compare the cluster assignments to the actual class labels\n",
    "table(cut2, points_data1$class)\n",
    "# or \n",
    "table(hc$cluster, points_data1$class)"
   ]
  },
  {
   "cell_type": "markdown",
   "metadata": {},
   "source": [
    "Let's see how it looks like for three clusters. \n",
    "\n",
    "## <span style=\"background:yellow\">YOUR TURN</span>\n",
    "\n",
    "\n",
    "**Activity 1: ** Fit a hierarchical clustering model using eclust in factoextra package. Plot the clusters and dendogram."
   ]
  },
  {
   "cell_type": "code",
   "execution_count": null,
   "metadata": {},
   "outputs": [],
   "source": [
    "# run hclust on this data and visualize \n",
    "hc2 <- eclust(points_data1[, 1:2], \"hclust\", k=3, method=\"complete\", graph=FALSE) \n",
    "# plot clusters\n",
    "fviz_cluster(hc2, geom=\"point\", frame=FALSE)\n",
    "# Dendrogram\n",
    "fviz_dend(hc2, rect = TRUE, show_labels = FALSE) "
   ]
  },
  {
   "cell_type": "markdown",
   "metadata": {},
   "source": [
    "Three clusters don't make much sense as can be seen from the branch heights. Here, we can use **NbClust** just as in the \n",
    "[k-means clustering practice](KMeans_Clustering.ipynb) to find out at what level we should cut the tree. \n",
    "\n",
    "Let's apply it to the second data set. **Now it's your turn:**"
   ]
  },
  {
   "cell_type": "code",
   "execution_count": null,
   "metadata": {
    "scrolled": true
   },
   "outputs": [],
   "source": [
    "# read data from the file \n",
    "points_data2 <- read.csv(\"/dsa/data/all_datasets/toydata/data2.csv\",header=TRUE)\n",
    "\n",
    "# Visualize the data\n",
    "plot2 <- ggplot(points_data2, aes(X, Y)) + geom_point(colour=\"black\")\n",
    "plot2"
   ]
  },
  {
   "cell_type": "markdown",
   "metadata": {},
   "source": [
    "## <span style=\"background:yellow\">YOUR TURN</span>\n",
    "\n",
    "**Activity 2: ** Repeat activity 1 with points_data2 dataset. Fit a hierarchical clustering model with two clusters using eclust in factoextra package. Plot the clusters and dendogram."
   ]
  },
  {
   "cell_type": "code",
   "execution_count": null,
   "metadata": {
    "scrolled": true
   },
   "outputs": [],
   "source": [
    "# run hclust on this data and visualize \n",
    "hc3 <- eclust(points_data2[, 1:2], \"hclust\", k=2, method=\"complete\", graph=FALSE) \n",
    "# plot clusters\n",
    "fviz_cluster(hc3, geom=\"point\", frame=FALSE)\n",
    "# Dendrogram\n",
    "fviz_dend(hc3, rect = TRUE, show_labels = FALSE) "
   ]
  },
  {
   "cell_type": "markdown",
   "metadata": {},
   "source": [
    "Let's  see how well it does; compute the confusion given the actual labels. \n",
    "\n",
    "## <span style=\"background:yellow\">YOUR TURN</span>\n",
    "\n",
    "\n",
    "**Activity 3: ** Compute the confusion given the actual labels."
   ]
  },
  {
   "cell_type": "code",
   "execution_count": null,
   "metadata": {},
   "outputs": [],
   "source": [
    "table(hc3$cluster, points_data2$class)"
   ]
  },
  {
   "cell_type": "markdown",
   "metadata": {},
   "source": [
    "Let's try the same approach for the third data set. From [k-means clustering practice](KMeans_Clustering.ipynb), \n",
    "we know that best number of clusters is either 3 or 6 depending on our choice of scale. Let's see how hclust does for those numbers. **Now it's your turn:**"
   ]
  },
  {
   "cell_type": "code",
   "execution_count": null,
   "metadata": {},
   "outputs": [],
   "source": [
    "# read data from file\n",
    "points_data3 <- read.csv(\"/dsa/data/all_datasets/toydata/data3.csv\",header=TRUE)\n",
    "plot3 <- ggplot(points_data3, aes(X, Y)) + geom_point(colour=\"black\")\n",
    "plot3"
   ]
  },
  {
   "cell_type": "markdown",
   "metadata": {},
   "source": [
    "## <span style=\"background:yellow\">YOUR TURN</span>\n",
    "\n",
    "**Activity 4: ** Repeat activity 1 with points_data3 dataset. Fit a hierarchical clustering model with 3 clusters using eclust in factoextra package. Plot the clusters and dendogram."
   ]
  },
  {
   "cell_type": "code",
   "execution_count": null,
   "metadata": {
    "scrolled": true
   },
   "outputs": [],
   "source": [
    "# run hclust on this data and visualize \n",
    "hc4 <- eclust(points_data3[, 1:2], \"hclust\", k=3, method=\"complete\", graph=FALSE) \n",
    "# plot clusters\n",
    "fviz_cluster(hc4, geom=\"point\", frame=FALSE)\n",
    "# Dendrogram\n",
    "fviz_dend(hc4, rect = TRUE, show_labels = FALSE) "
   ]
  },
  {
   "cell_type": "markdown",
   "metadata": {},
   "source": [
    "**Activity 5: ** Fit a hierarchical clustering model on points_data3 with 6 clusters using eclust in factoextra package. Plot the clusters and dendogram."
   ]
  },
  {
   "cell_type": "code",
   "execution_count": null,
   "metadata": {
    "scrolled": true
   },
   "outputs": [],
   "source": [
    "# run hclust on this data and visualize \n",
    "hc5 <- eclust(points_data3[, 1:2], \"hclust\", k=6, method=\"complete\", graph=FALSE) \n",
    "# plot clusters\n",
    "fviz_cluster(hc5, geom=\"point\", frame=FALSE)\n",
    "# Dendrogram\n",
    "fviz_dend(hc5, rect = TRUE, show_labels = FALSE) "
   ]
  },
  {
   "cell_type": "markdown",
   "metadata": {},
   "source": [
    "Judging from the branch heights, both 3 and 6 look like reasonable numbers for number of clusters. 4 is not bad either. "
   ]
  }
 ],
 "metadata": {
  "kernelspec": {
   "display_name": "R",
   "language": "R",
   "name": "ir"
  },
  "language_info": {
   "codemirror_mode": "r",
   "file_extension": ".r",
   "mimetype": "text/x-r-source",
   "name": "R",
   "pygments_lexer": "r",
   "version": "3.5.1"
  }
 },
 "nbformat": 4,
 "nbformat_minor": 1
}
