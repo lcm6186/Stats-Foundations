{
 "cells": [
  {
   "cell_type": "markdown",
   "metadata": {},
   "source": [
    "<span style=\"color:#51a2d6; font-size:24px; font-weight:700\"> Supervised vs. Unsupervised Learning\n",
    "\n",
    "\n",
    "Most of the machine learning algorithms fall into one of two categories: supervised or unsupervised. \n",
    "The algorithms we have discussed so far in this course fall under supervised learning domain. \n",
    "For each observation measurement $x_i$, where $i = 1, . . . , n$ there is an associated response measurement $y_i$. \n",
    "The model is fit such that it relates the response to the independent variables, \n",
    "so that it can accurately predict the response for future observations. \n",
    "Classical statistical learning methods such as linear regression and logistic regression \n",
    "as well as modern approaches such as boosting, and support vector machines, \n",
    "operate in the supervised learning domain.\n",
    "\n"
   ]
  },
  {
   "cell_type": "markdown",
   "metadata": {},
   "source": [
    "On the other hand, in unsupervised learning there are n observations $x_i$ \n",
    "where $i=1, . . . , n$ but no associated response $y_i$. \n",
    "It is not possible to fit a linear regression model or any other models we learned already, \n",
    "since there is no response variable to predict. \n",
    "The situation is referred to as unsupervised because we lack a response variable (knowledge) \n",
    "that can supervise the model's learning.\n",
    "\n",
    "So, what kind of analysis can be done here? \n",
    "One can try to understand the relationships between the variables, or between the observations. \n",
    "Concept of cluster analysis, or clustering can be applied. \n",
    "The goal of cluster analysis is to ascertain, on the basis of $x_1$, . . . , $x_n$, \n",
    "whether the observations can form relatively distinct groups.\n"
   ]
  },
  {
   "cell_type": "markdown",
   "metadata": {},
   "source": [
    "\n",
    "For example, \n",
    "in a market segmentation study we can try to cluster the customers on the basis of the variables measured, \n",
    "in order to identify distinct groups of potential customers. \n",
    "Identifying such groups can be of interest because it might be that the groups differ with \n",
    "respect to some property of interest, such as spending habits.\n",
    "\n",
    "The image below shows a clustering data set involving three groups. \n",
    "Each group is shown using a different colored symbol. \n",
    "The left image shows three groups that are well-separated. \n",
    "In this kind of setting, a clustering approach should successfully identify the three groups. \n",
    "In the right image, there is some overlap among the groups, wherein the clustering task is more challenging.\n",
    "\n",
    "<img src=\"../images/cluster1.JPG\">\n",
    "\n"
   ]
  },
  {
   "cell_type": "markdown",
   "metadata": {},
   "source": [
    "One cannot expect a clustering method to assign all of the overlapping points to their correct group. \n",
    "In the example shown above there are only two variables. \n",
    "So one can simply visually inspect the scatterplots of the observations in order to identify clusters. \n",
    "But in reality, data is high-dimensional, having many more than two variables. \n",
    "In those cases, it's not easy to plot the observations.\n",
    "\n",
    "**Note:**\n",
    "When performing clustering (unsupervised machine learning) on data such as shown on the right, there is no _correct answer_.\n",
    "There are only some answers that are better or worse than others."
   ]
  },
  {
   "cell_type": "markdown",
   "metadata": {},
   "source": [
    "<span style=\"color:#ce7721; font-size:20px; font-weight:700\"> K-Means Clustering</span>\n",
    "\n",
    "Here the observations are partitioned into a pre-specified number of **K** distinct, non-overlapping clusters. \n",
    "Once the desired number of clusters K is specified, \n",
    "K-means algorithm will assign each observation to exactly one of the K clusters. \n",
    "The observations satisfy the following two conditions:\n",
    "\n",
    "    i) Each observation belongs to at least one of the K clusters.\n",
    "    ii) The clusters are non-overlapping. No observation belongs to more than one cluster\n",
    "\n",
    "For instance, if the $i$th observation is in the $k$th cluster, then $i \\in C_k$ (Note: $\\in$ means \"is an element of\"). \n",
    "The idea behind K-means clustering is that a good clustering is one for which \n",
    "the within-cluster variation is as small as possible. \n",
    "The within-cluster variation for cluster $C_k$ is a measure W($C_k$) of the amount \n",
    "by which the observations within a cluster differ from each other. \n",
    "Hence, we want to solve the problem in the below equation:\n",
    "\n",
    "$$\\underset{C1,...,CK}{\\mathrm{minimize}} \\bigg\\{\\sum_{k=1}^{K} W(C_k) \\bigg\\} \\quad \\quad \\quad \\quad - (1)$$"
   ]
  },
  {
   "cell_type": "markdown",
   "metadata": {},
   "source": [
    "Simply, it says that we want to partition the observations into _K_ clusters \n",
    "such that the total within-cluster variation, summed over all _K_ clusters, is as small as possible. \n",
    "In order to make it actionable we need to define the within-cluster variation. \n",
    "There are many possible ways to define this concept, \n",
    "but by far the most common choice involves squared Euclidean distance.\n",
    "That is, we define\n",
    "\n",
    "\n",
    "$$W(C_k) = \\frac{1}{|{C_k}|} \\sum_{i,\\ {i'} \\in C_k} \\sum_{j=1}^P({x_{ij}}-{x_{i'j}})^2  \\quad \\quad \\quad \\quad - (2)$$\n",
    "\n",
    "\n",
    "where |$C_k$| denotes the number of observations in the $k$th cluster. \n",
    "In other words, the within-cluster variation for the $k$th cluster is the sum of all of the \n",
    "pairwise squared Euclidean distances between the observations in the kth cluster, \n",
    "divided by the total number of observations in the kth cluster. "
   ]
  },
  {
   "cell_type": "markdown",
   "metadata": {},
   "source": [
    "Combining (1) and (2) gives the optimization problem that defines K-means clustering,\n",
    "\n",
    "$$\\underset{C1,...,CK}{\\mathrm{minimize}} \\bigg\\{\\sum_{k=1}^{K} \\frac{1}{|{C_k}|} \\sum_{i,\\ {i'} \\in C_k} \\sum_{j=1}^P({x_{ij}}-{x_{i'j}})^2\\bigg\\}  \\quad \\quad \\quad \\quad - (3)$$\n",
    "\n",
    "We need an algorithm to solve the above equation (3) that is, \n",
    "a method to partition the observations into K clusters such that the objective of (3) is minimized.\n",
    "It could be a very difficult problem to solve, \n",
    "since there are almost $K^n$ ways to partition $n$ observations into $K$ clusters. \n",
    "This is a huge number unless $K$ and $n$ are tiny. \n",
    "Fortunately, a very simple algorithm exists to provide a local optimum to \n",
    "the K-means optimization problem, which is laid out below..."
   ]
  },
  {
   "cell_type": "markdown",
   "metadata": {},
   "source": [
    "-----\n",
    "<span style=\"color:#1576b2; font-size:16px; font-weight:700\"> Algorithm : K-Means Clustering</span>\n",
    "\n",
    "-------\n",
    "1. Randomly assign a number, from 1 to K, to each of the observations. These serve as initial cluster assignments for the observations.\n",
    "\n",
    "2. Iterate until the cluster assignments stop changing:\n",
    "    \n",
    "    a. For each of the K clusters, compute the cluster centroid. The $k$th cluster centroid is the vector of the p feature means for the observations in the kth cluster.  \n",
    "    b. Assign each observation to the cluster whose centroid is closest (where closest is defined using Euclidean distance).\n",
    "----\n",
    "\n",
    "In Step 2(a) the cluster means for each feature are the constants that minimize the sum-of-squared deviations. \n",
    "In Step 2(b) observations are reallocated. \n",
    "This means that as the algorithm is run, \n",
    "the clustering obtained will continually improve until the result no longer changes. \n",
    "The objective of (3) will never increase. \n",
    "When the result no longer changes, a local optimum has been reached. \n",
    "K-means clustering derives its name from the fact that in Step 2 (a), \n",
    "the cluster centroids are computed as the mean of the observations assigned to each cluster. \n",
    "Because the K-means algorithm finds a local rather than a global optimum,\n",
    "the results obtained will depend on the initial (random) cluster assignment of each observation in Step 1 of Algorithm 1. \n",
    "For this reason, it is important to run the algorithm multiple times from different random initial configurations. Then one selects the best solution, for which the objective (3) is smallest."
   ]
  },
  {
   "cell_type": "markdown",
   "metadata": {},
   "source": [
    "The figure below shows the progression of the algorithm on the toy example\n",
    "\n",
    "<img src=\"../images/kmeans.JPG\">\n",
    "\n",
    "The top left image shows initial observations. \n",
    "Top center image shows step 1 of the algorithm where each observation is randomly assigned to a cluster. \n",
    "The top right image shows step 2(a) of an iteration where cluster centroids are computed. \n",
    "Centroids are shown as large colored disks. \n",
    "In beginning centroids are almost overlapping because the initial cluster assignments were chosen at random. \n",
    "The bottom left image shows is step 2(b) of the iteration, each observation is assigned to the nearest centroid. \n",
    "The bottom center image shows step 2(a) of next iteration, leading to new cluster centroids. \n",
    "The bottom right image shows the results obtained after ten iterations."
   ]
  },
  {
   "cell_type": "markdown",
   "metadata": {},
   "source": [
    "----\n",
    "The `kmeans()` function performs K-means clustering in R. \n",
    "We begin with a simple simulated set of observations where there are two clusters in the data. \n",
    "The first 25 observations have a mean shift relative to the next 25 observations."
   ]
  },
  {
   "cell_type": "code",
   "execution_count": 1,
   "metadata": {},
   "outputs": [],
   "source": [
    "# Set the seed to reproduce the results\n",
    "set.seed(4)\n",
    "\n",
    "# Generate a random normal distribution of 100 values. Generate a matrix out of this normal distribution.\n",
    "x = matrix(rnorm(50 * 2), ncol = 2)\n",
    "\n",
    "# Add 3 to rows 1 to 25 in first column of the matrix\n",
    "x[1:25, 1] = x[1:25, 1] + 3\n",
    "\n",
    "# Subtract 4 from rows 1 to 25 in second column of the matrix\n",
    "x[1:25, 2] = x[1:25, 2] - 4"
   ]
  },
  {
   "cell_type": "markdown",
   "metadata": {},
   "source": [
    "We will perform K-means clustering with $K = 2$. \n",
    "nstart=20 implies multiple initial cluster assignments."
   ]
  },
  {
   "cell_type": "code",
   "execution_count": 2,
   "metadata": {},
   "outputs": [],
   "source": [
    "km.fit = kmeans(x, centers = 2, nstart = 20)\n",
    "\n",
    "# The centers argument: either the number of clusters (e.g., k) or a set of initial (distinct) cluster \n",
    "# centers. If a number, a random set of (distinct) rows in x is chosen as the initial centers.\n",
    "\n",
    "# The nstart argument: if centers (see above) is a number, nstart tells the number of random sets to be chosen\n",
    "\n",
    "# To run the kmeans() function in R with multiple initial cluster assignments, we use the nstart argument. \n",
    "# If a value of nstart greater than one is used, then K-means clustering will be performed using multiple \n",
    "# random assignments (as described in Step 1 of the algorithm above), and the kmeans() function will report \n",
    "# only the best results."
   ]
  },
  {
   "cell_type": "markdown",
   "metadata": {},
   "source": [
    "The cluster assignments of the 50 observations are contained in km.fit$cluster..."
   ]
  },
  {
   "cell_type": "code",
   "execution_count": 3,
   "metadata": {},
   "outputs": [
    {
     "data": {
      "text/html": [
       "<ol class=list-inline>\n",
       "\t<li>1</li>\n",
       "\t<li>1</li>\n",
       "\t<li>1</li>\n",
       "\t<li>1</li>\n",
       "\t<li>1</li>\n",
       "\t<li>1</li>\n",
       "\t<li>1</li>\n",
       "\t<li>1</li>\n",
       "\t<li>1</li>\n",
       "\t<li>1</li>\n",
       "\t<li>1</li>\n",
       "\t<li>1</li>\n",
       "\t<li>1</li>\n",
       "\t<li>1</li>\n",
       "\t<li>1</li>\n",
       "\t<li>1</li>\n",
       "\t<li>1</li>\n",
       "\t<li>1</li>\n",
       "\t<li>1</li>\n",
       "\t<li>1</li>\n",
       "\t<li>1</li>\n",
       "\t<li>1</li>\n",
       "\t<li>1</li>\n",
       "\t<li>1</li>\n",
       "\t<li>1</li>\n",
       "\t<li>2</li>\n",
       "\t<li>2</li>\n",
       "\t<li>2</li>\n",
       "\t<li>2</li>\n",
       "\t<li>2</li>\n",
       "\t<li>2</li>\n",
       "\t<li>2</li>\n",
       "\t<li>2</li>\n",
       "\t<li>2</li>\n",
       "\t<li>2</li>\n",
       "\t<li>2</li>\n",
       "\t<li>2</li>\n",
       "\t<li>2</li>\n",
       "\t<li>2</li>\n",
       "\t<li>2</li>\n",
       "\t<li>2</li>\n",
       "\t<li>2</li>\n",
       "\t<li>2</li>\n",
       "\t<li>2</li>\n",
       "\t<li>2</li>\n",
       "\t<li>2</li>\n",
       "\t<li>2</li>\n",
       "\t<li>2</li>\n",
       "\t<li>2</li>\n",
       "\t<li>2</li>\n",
       "</ol>\n"
      ],
      "text/latex": [
       "\\begin{enumerate*}\n",
       "\\item 1\n",
       "\\item 1\n",
       "\\item 1\n",
       "\\item 1\n",
       "\\item 1\n",
       "\\item 1\n",
       "\\item 1\n",
       "\\item 1\n",
       "\\item 1\n",
       "\\item 1\n",
       "\\item 1\n",
       "\\item 1\n",
       "\\item 1\n",
       "\\item 1\n",
       "\\item 1\n",
       "\\item 1\n",
       "\\item 1\n",
       "\\item 1\n",
       "\\item 1\n",
       "\\item 1\n",
       "\\item 1\n",
       "\\item 1\n",
       "\\item 1\n",
       "\\item 1\n",
       "\\item 1\n",
       "\\item 2\n",
       "\\item 2\n",
       "\\item 2\n",
       "\\item 2\n",
       "\\item 2\n",
       "\\item 2\n",
       "\\item 2\n",
       "\\item 2\n",
       "\\item 2\n",
       "\\item 2\n",
       "\\item 2\n",
       "\\item 2\n",
       "\\item 2\n",
       "\\item 2\n",
       "\\item 2\n",
       "\\item 2\n",
       "\\item 2\n",
       "\\item 2\n",
       "\\item 2\n",
       "\\item 2\n",
       "\\item 2\n",
       "\\item 2\n",
       "\\item 2\n",
       "\\item 2\n",
       "\\item 2\n",
       "\\end{enumerate*}\n"
      ],
      "text/markdown": [
       "1. 1\n",
       "2. 1\n",
       "3. 1\n",
       "4. 1\n",
       "5. 1\n",
       "6. 1\n",
       "7. 1\n",
       "8. 1\n",
       "9. 1\n",
       "10. 1\n",
       "11. 1\n",
       "12. 1\n",
       "13. 1\n",
       "14. 1\n",
       "15. 1\n",
       "16. 1\n",
       "17. 1\n",
       "18. 1\n",
       "19. 1\n",
       "20. 1\n",
       "21. 1\n",
       "22. 1\n",
       "23. 1\n",
       "24. 1\n",
       "25. 1\n",
       "26. 2\n",
       "27. 2\n",
       "28. 2\n",
       "29. 2\n",
       "30. 2\n",
       "31. 2\n",
       "32. 2\n",
       "33. 2\n",
       "34. 2\n",
       "35. 2\n",
       "36. 2\n",
       "37. 2\n",
       "38. 2\n",
       "39. 2\n",
       "40. 2\n",
       "41. 2\n",
       "42. 2\n",
       "43. 2\n",
       "44. 2\n",
       "45. 2\n",
       "46. 2\n",
       "47. 2\n",
       "48. 2\n",
       "49. 2\n",
       "50. 2\n",
       "\n",
       "\n"
      ],
      "text/plain": [
       " [1] 1 1 1 1 1 1 1 1 1 1 1 1 1 1 1 1 1 1 1 1 1 1 1 1 1 2 2 2 2 2 2 2 2 2 2 2 2 2\n",
       "[39] 2 2 2 2 2 2 2 2 2 2 2 2"
      ]
     },
     "metadata": {},
     "output_type": "display_data"
    }
   ],
   "source": [
    "km.fit$cluster"
   ]
  },
  {
   "cell_type": "markdown",
   "metadata": {},
   "source": [
    "The K-means clustering perfectly separated the observations into two clusters \n",
    "even though we did not supply any group information to `kmeans()`. \n",
    "We can plot the data, with each observation colored according to its cluster assignment."
   ]
  },
  {
   "cell_type": "code",
   "execution_count": 4,
   "metadata": {},
   "outputs": [
    {
     "data": {
      "image/png": "[encoded data removed]",
      "text/plain": [
       "Plot with title “K-Means Clustering Results with K=2”"
      ]
     },
     "metadata": {},
     "output_type": "display_data"
    }
   ],
   "source": [
    "plot(x, col = (km.fit$cluster + 1) , main = \"K-Means Clustering Results with K=2\", xlab = \"\", ylab = \"\", \n",
    "     pch = 20, cex = 2)"
   ]
  },
  {
   "cell_type": "markdown",
   "metadata": {},
   "source": [
    "Now, let's apply K-means clustering algorithm on $x$ and divide it into 3 clusters... "
   ]
  },
  {
   "cell_type": "code",
   "execution_count": 5,
   "metadata": {},
   "outputs": [
    {
     "data": {
      "text/plain": [
       "K-means clustering with 3 clusters of sizes 25, 11, 14\n",
       "\n",
       "Cluster means:\n",
       "        [,1]        [,2]\n",
       "1  3.4968274 -3.88442866\n",
       "2  0.8968634  0.05541174\n",
       "3 -0.7532448 -0.39907658\n",
       "\n",
       "Clustering vector:\n",
       " [1] 1 1 1 1 1 1 1 1 1 1 1 1 1 1 1 1 1 1 1 1 1 1 1 1 1 3 2 2 3 2 2 2 3 3 2 3 3 2\n",
       "[39] 3 3 2 3 2 3 3 3 2 3 2 3\n",
       "\n",
       "Within cluster sum of squares by cluster:\n",
       "[1] 33.865779 14.391060  9.796515\n",
       " (between_SS / total_SS =  85.5 %)\n",
       "\n",
       "Available components:\n",
       "\n",
       "[1] \"cluster\"      \"centers\"      \"totss\"        \"withinss\"     \"tot.withinss\"\n",
       "[6] \"betweenss\"    \"size\"         \"iter\"         \"ifault\"      "
      ]
     },
     "metadata": {},
     "output_type": "display_data"
    }
   ],
   "source": [
    "set.seed (4)\n",
    "km.fit = kmeans(x,3,nstart = 20)\n",
    "\n",
    "# Clustering results\n",
    "km.fit"
   ]
  },
  {
   "cell_type": "markdown",
   "metadata": {},
   "source": [
    "We can plot the data, with each observation colored according to its cluster assignment."
   ]
  },
  {
   "cell_type": "code",
   "execution_count": 6,
   "metadata": {},
   "outputs": [
    {
     "data": {
      "image/png": "[encoded data removed]",
      "text/plain": [
       "Plot with title “K-Means Clustering Results with K=3”"
      ]
     },
     "metadata": {},
     "output_type": "display_data"
    }
   ],
   "source": [
    "plot(x, col=(km.fit$cluster+1), main=\"K-Means Clustering Results with K=3\", xlab =\"\", ylab=\"\", pch =20, cex =2)"
   ]
  },
  {
   "cell_type": "markdown",
   "metadata": {},
   "source": [
    "##### `kmeans()` with multiple initial cluster assignments explained...\n",
    "\n",
    "Here we compare using nstart=1 to nstart=20"
   ]
  },
  {
   "cell_type": "code",
   "execution_count": 7,
   "metadata": {},
   "outputs": [
    {
     "data": {
      "text/html": [
       "65.4430664129526"
      ],
      "text/latex": [
       "65.4430664129526"
      ],
      "text/markdown": [
       "65.4430664129526"
      ],
      "text/plain": [
       "[1] 65.44307"
      ]
     },
     "metadata": {},
     "output_type": "display_data"
    }
   ],
   "source": [
    "set.seed(3)\n",
    "km.fit = kmeans(x,3,nstart = 1)\n",
    "km.fit$tot.withinss"
   ]
  },
  {
   "cell_type": "code",
   "execution_count": 8,
   "metadata": {},
   "outputs": [
    {
     "data": {
      "text/html": [
       "58.0533547258864"
      ],
      "text/latex": [
       "58.0533547258864"
      ],
      "text/markdown": [
       "58.0533547258864"
      ],
      "text/plain": [
       "[1] 58.05335"
      ]
     },
     "metadata": {},
     "output_type": "display_data"
    }
   ],
   "source": [
    "set.seed(3)\n",
    "km.fit = kmeans(x,3,nstart = 20)\n",
    "km.fit$tot.withinss"
   ]
  },
  {
   "cell_type": "markdown",
   "metadata": {},
   "source": [
    "So, `km.fit$tot.withinss` is the total within-cluster sum of squares, \n",
    "which we seek to minimize by performing K-means clustering. \n",
    "The individual within-cluster sum-of-squares are contained in the vector `km.fit$withinss`. \n",
    "It is strongly recommended to always run K-means clustering with a large value of nstart, \n",
    "such as 20 or 50, since otherwise an undesirable local optimum may be obtained. \n",
    "In addition to using multiple initial cluster assignments, \n",
    "it is also **important to set a random seed using the `set.seed()` function**. \n",
    "This way, the **initial cluster assignments in Step 1 can be replicated**, and the K-means output will be fully reproducible."
   ]
  },
  {
   "cell_type": "markdown",
   "metadata": {},
   "source": [
    "# Save your notebook!"
   ]
  }
 ],
 "metadata": {
  "kernelspec": {
   "display_name": "R",
   "language": "R",
   "name": "ir"
  },
  "language_info": {
   "codemirror_mode": "r",
   "file_extension": ".r",
   "mimetype": "text/x-r-source",
   "name": "R",
   "pygments_lexer": "r",
   "version": "3.5.1"
  }
 },
 "nbformat": 4,
 "nbformat_minor": 1
}
