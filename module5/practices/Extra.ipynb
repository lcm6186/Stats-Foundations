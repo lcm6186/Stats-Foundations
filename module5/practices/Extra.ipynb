{
 "cells": [
  {
   "cell_type": "markdown",
   "metadata": {},
   "source": [
    "### Multivariate Regression\n",
    "\n",
    "In this practice, we will use the same white wine quality data set to create a multivariate model. Let's read the data from 'wine quality/winequality-white.csv'."
   ]
  },
  {
   "cell_type": "code",
   "execution_count": null,
   "metadata": {},
   "outputs": [],
   "source": [
    "wq <- read.csv(\"/dsa/data/all_datasets/wine quality/winequality-white.csv\", sep=\";\",header=TRUE)\n",
    "head(wq)\n",
    "str(wq)"
   ]
  },
  {
   "cell_type": "markdown",
   "metadata": {},
   "source": [
    "Let's look at the correlations to see if any variables are closely correlated. "
   ]
  },
  {
   "cell_type": "code",
   "execution_count": null,
   "metadata": {},
   "outputs": [],
   "source": [
    "cor(wq[,8:12])\n",
    "# alcohol and density -0.78"
   ]
  },
  {
   "cell_type": "markdown",
   "metadata": {},
   "source": [
    "Let's remove the quality column because it's subjective opinion of tasters; and then try to predict alcohol and density from the rest of the variables."
   ]
  },
  {
   "cell_type": "code",
   "execution_count": null,
   "metadata": {},
   "outputs": [],
   "source": [
    "wq$quality <- NULL\n",
    "str(wq)"
   ]
  },
  {
   "cell_type": "code",
   "execution_count": null,
   "metadata": {},
   "outputs": [],
   "source": [
    "# Now bind alcohol and density, and fit a model; make sure alcohol and density are not in the independent variables.\n",
    "ad <- cbind(<what goes in here>)\n",
    "wq_mreg <- lm(<what goes in here>, data=wq)\n",
    "summary(wq_mreg)"
   ]
  },
  {
   "cell_type": "code",
   "execution_count": null,
   "metadata": {},
   "outputs": [],
   "source": [
    "# Let's see a summary of the fit\n",
    "summary(manova(wq_mreg))"
   ]
  }
 ],
 "metadata": {
  "kernelspec": {
   "display_name": "R",
   "language": "R",
   "name": "ir"
  },
  "language_info": {
   "codemirror_mode": "r",
   "file_extension": ".r",
   "mimetype": "text/x-r-source",
   "name": "R",
   "pygments_lexer": "r",
   "version": "3.5.1"
  }
 },
 "nbformat": 4,
 "nbformat_minor": 1
}
