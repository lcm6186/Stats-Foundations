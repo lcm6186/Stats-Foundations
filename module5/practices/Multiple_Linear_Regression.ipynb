{
 "cells": [
  {
   "cell_type": "markdown",
   "metadata": {},
   "source": [
    "<span style=\"color:#04c921; font-size:24px; font-weight:700\"> Multiple Linear Regression</span>\n",
    "\n",
    "In this practice, we will use the same data set as in simple linear regression practice. We will add more variables to models to see if we can have a better linear model. "
   ]
  },
  {
   "cell_type": "markdown",
   "metadata": {},
   "source": [
    "#### Read the data\n",
    "\n",
    "Load the framingham dataset in directory '/datasets/framingham/'. The following few lines are the same as in simple linear regression practice; we are creating the same data here. "
   ]
  },
  {
   "cell_type": "code",
   "execution_count": 1,
   "metadata": {},
   "outputs": [],
   "source": [
    "framingham_data <- read.csv(\"/dsa/data/all_datasets/framingham/framingham.csv\")"
   ]
  },
  {
   "cell_type": "code",
   "execution_count": 2,
   "metadata": {},
   "outputs": [],
   "source": [
    "framingham_data[\"pulseP\"] <- framingham_data$sysBP - framingham_data$diaBP\n",
    "\n",
    "framingham_data_male   <- subset(framingham_data, male==1 & age > 18 & BPMeds == 0, select=c(2,11:14,17))\n",
    "framingham_data_female <- subset(framingham_data, male==0 & age > 18 & BPMeds == 0, select=c(2,11:14,17))"
   ]
  },
  {
   "cell_type": "code",
   "execution_count": 3,
   "metadata": {},
   "outputs": [
    {
     "data": {
      "text/html": [
       "<table>\n",
       "<caption>A data.frame: 6 × 6</caption>\n",
       "<thead>\n",
       "\t<tr><th></th><th scope=col>age</th><th scope=col>sysBP</th><th scope=col>diaBP</th><th scope=col>BMI</th><th scope=col>heartRate</th><th scope=col>pulseP</th></tr>\n",
       "\t<tr><th></th><th scope=col>&lt;int&gt;</th><th scope=col>&lt;dbl&gt;</th><th scope=col>&lt;dbl&gt;</th><th scope=col>&lt;dbl&gt;</th><th scope=col>&lt;int&gt;</th><th scope=col>&lt;dbl&gt;</th></tr>\n",
       "</thead>\n",
       "<tbody>\n",
       "\t<tr><th scope=row>1</th><td>39</td><td>106.0</td><td> 70</td><td>26.97</td><td>80</td><td>36.0</td></tr>\n",
       "\t<tr><th scope=row>3</th><td>48</td><td>127.5</td><td> 80</td><td>25.34</td><td>75</td><td>47.5</td></tr>\n",
       "\t<tr><th scope=row>9</th><td>52</td><td>141.5</td><td> 89</td><td>26.36</td><td>76</td><td>52.5</td></tr>\n",
       "\t<tr><th scope=row>10</th><td>43</td><td>162.0</td><td>107</td><td>23.61</td><td>93</td><td>55.0</td></tr>\n",
       "\t<tr><th scope=row>13</th><td>46</td><td>142.0</td><td> 94</td><td>26.31</td><td>98</td><td>48.0</td></tr>\n",
       "\t<tr><th scope=row>17</th><td>48</td><td>138.0</td><td> 90</td><td>22.37</td><td>64</td><td>48.0</td></tr>\n",
       "</tbody>\n",
       "</table>\n"
      ],
      "text/latex": [
       "A data.frame: 6 × 6\n",
       "\\begin{tabular}{r|llllll}\n",
       "  & age & sysBP & diaBP & BMI & heartRate & pulseP\\\\\n",
       "  & <int> & <dbl> & <dbl> & <dbl> & <int> & <dbl>\\\\\n",
       "\\hline\n",
       "\t1 & 39 & 106.0 &  70 & 26.97 & 80 & 36.0\\\\\n",
       "\t3 & 48 & 127.5 &  80 & 25.34 & 75 & 47.5\\\\\n",
       "\t9 & 52 & 141.5 &  89 & 26.36 & 76 & 52.5\\\\\n",
       "\t10 & 43 & 162.0 & 107 & 23.61 & 93 & 55.0\\\\\n",
       "\t13 & 46 & 142.0 &  94 & 26.31 & 98 & 48.0\\\\\n",
       "\t17 & 48 & 138.0 &  90 & 22.37 & 64 & 48.0\\\\\n",
       "\\end{tabular}\n"
      ],
      "text/markdown": [
       "\n",
       "A data.frame: 6 × 6\n",
       "\n",
       "| <!--/--> | age &lt;int&gt; | sysBP &lt;dbl&gt; | diaBP &lt;dbl&gt; | BMI &lt;dbl&gt; | heartRate &lt;int&gt; | pulseP &lt;dbl&gt; |\n",
       "|---|---|---|---|---|---|---|\n",
       "| 1 | 39 | 106.0 |  70 | 26.97 | 80 | 36.0 |\n",
       "| 3 | 48 | 127.5 |  80 | 25.34 | 75 | 47.5 |\n",
       "| 9 | 52 | 141.5 |  89 | 26.36 | 76 | 52.5 |\n",
       "| 10 | 43 | 162.0 | 107 | 23.61 | 93 | 55.0 |\n",
       "| 13 | 46 | 142.0 |  94 | 26.31 | 98 | 48.0 |\n",
       "| 17 | 48 | 138.0 |  90 | 22.37 | 64 | 48.0 |\n",
       "\n"
      ],
      "text/plain": [
       "   age sysBP diaBP BMI   heartRate pulseP\n",
       "1  39  106.0  70   26.97 80        36.0  \n",
       "3  48  127.5  80   25.34 75        47.5  \n",
       "9  52  141.5  89   26.36 76        52.5  \n",
       "10 43  162.0 107   23.61 93        55.0  \n",
       "13 46  142.0  94   26.31 98        48.0  \n",
       "17 48  138.0  90   22.37 64        48.0  "
      ]
     },
     "metadata": {},
     "output_type": "display_data"
    }
   ],
   "source": [
    "head(framingham_data_male)"
   ]
  },
  {
   "cell_type": "markdown",
   "metadata": {},
   "source": [
    "<span style=\"color:#1d80ba; font-size:14px; font-weight:700\">Activity 1:</span> Fit a multiple regression model to predict pulseP using age add BMI. "
   ]
  },
  {
   "cell_type": "code",
   "execution_count": 6,
   "metadata": {
    "scrolled": true
   },
   "outputs": [
    {
     "data": {
      "text/plain": [
       "\n",
       "Call:\n",
       "lm(formula = pulseP ~ age + BMI, data = framingham_data_female)\n",
       "\n",
       "Residuals:\n",
       "    Min      1Q  Median      3Q     Max \n",
       "-34.179  -8.623  -1.283   6.603  91.553 \n",
       "\n",
       "Coefficients:\n",
       "            Estimate Std. Error t value Pr(>|t|)    \n",
       "(Intercept) -2.37378    2.06408  -1.150     0.25    \n",
       "age          0.78774    0.03311  23.789  < 2e-16 ***\n",
       "BMI          0.52565    0.06374   8.246 2.73e-16 ***\n",
       "---\n",
       "Signif. codes:  0 ‘***’ 0.001 ‘**’ 0.01 ‘*’ 0.05 ‘.’ 0.1 ‘ ’ 1\n",
       "\n",
       "Residual standard error: 13.1 on 2277 degrees of freedom\n",
       "  (13 observations deleted due to missingness)\n",
       "Multiple R-squared:  0.2477,\tAdjusted R-squared:  0.2471 \n",
       "F-statistic: 374.9 on 2 and 2277 DF,  p-value: < 2.2e-16\n"
      ]
     },
     "metadata": {},
     "output_type": "display_data"
    },
    {
     "data": {
      "text/plain": [
       "\n",
       "Call:\n",
       "lm(formula = pulseP ~ age + BMI + heartRate, data = framingham_data_female)\n",
       "\n",
       "Residuals:\n",
       "    Min      1Q  Median      3Q     Max \n",
       "-35.227  -8.704  -1.157   6.607  90.056 \n",
       "\n",
       "Coefficients:\n",
       "             Estimate Std. Error t value Pr(>|t|)    \n",
       "(Intercept) -11.20639    2.63871  -4.247 2.25e-05 ***\n",
       "age           0.79015    0.03292  24.003  < 2e-16 ***\n",
       "BMI           0.50019    0.06354   7.872 5.37e-15 ***\n",
       "heartRate     0.12134    0.02279   5.323 1.12e-07 ***\n",
       "---\n",
       "Signif. codes:  0 ‘***’ 0.001 ‘**’ 0.01 ‘*’ 0.05 ‘.’ 0.1 ‘ ’ 1\n",
       "\n",
       "Residual standard error: 13.03 on 2276 degrees of freedom\n",
       "  (13 observations deleted due to missingness)\n",
       "Multiple R-squared:  0.257,\tAdjusted R-squared:  0.256 \n",
       "F-statistic: 262.4 on 3 and 2276 DF,  p-value: < 2.2e-16\n"
      ]
     },
     "metadata": {},
     "output_type": "display_data"
    }
   ],
   "source": [
    "# Fill the partially complete code and execute it..\n",
    "pp_female1 <- lm(pulseP ~ age + BMI, data=framingham_data_female)\n",
    "summary(pp_female1)\n",
    "\n",
    "# add heartRate to pp_male1 model and create new model named pp_male2. \n",
    "pp_female2 <- lm(pulseP ~ age + BMI + heartRate, data=framingham_data_female)\n",
    "summary(pp_female2)"
   ]
  },
  {
   "cell_type": "markdown",
   "metadata": {},
   "source": [
    "As we can see, the $R^2$ slightly increases with adding a new variable to the model. Let's do the same for males. "
   ]
  },
  {
   "cell_type": "code",
   "execution_count": 7,
   "metadata": {
    "scrolled": true
   },
   "outputs": [
    {
     "data": {
      "text/plain": [
       "\n",
       "Call:\n",
       "lm(formula = pulseP ~ age + BMI, data = framingham_data_male)\n",
       "\n",
       "Residuals:\n",
       "    Min      1Q  Median      3Q     Max \n",
       "-28.407  -7.906  -1.154   5.576  70.409 \n",
       "\n",
       "Coefficients:\n",
       "            Estimate Std. Error t value Pr(>|t|)    \n",
       "(Intercept) 19.41515    2.68002   7.244 6.47e-13 ***\n",
       "age          0.44985    0.03240  13.883  < 2e-16 ***\n",
       "BMI          0.22087    0.08097   2.728  0.00644 ** \n",
       "---\n",
       "Signif. codes:  0 ‘***’ 0.001 ‘**’ 0.01 ‘*’ 0.05 ‘.’ 0.1 ‘ ’ 1\n",
       "\n",
       "Residual standard error: 11.6 on 1762 degrees of freedom\n",
       "  (5 observations deleted due to missingness)\n",
       "Multiple R-squared:  0.1016,\tAdjusted R-squared:  0.1006 \n",
       "F-statistic: 99.68 on 2 and 1762 DF,  p-value: < 2.2e-16\n"
      ]
     },
     "metadata": {},
     "output_type": "display_data"
    },
    {
     "data": {
      "text/plain": [
       "\n",
       "Call:\n",
       "lm(formula = pulseP ~ age + BMI + heartRate, data = framingham_data_male)\n",
       "\n",
       "Residuals:\n",
       "    Min      1Q  Median      3Q     Max \n",
       "-29.297  -7.790  -1.062   5.604  71.141 \n",
       "\n",
       "Coefficients:\n",
       "            Estimate Std. Error t value Pr(>|t|)    \n",
       "(Intercept) 10.28534    3.08322   3.336 0.000868 ***\n",
       "age          0.45157    0.03201  14.106  < 2e-16 ***\n",
       "BMI          0.16487    0.08032   2.053 0.040245 *  \n",
       "heartRate    0.14137    0.02348   6.020 2.12e-09 ***\n",
       "---\n",
       "Signif. codes:  0 ‘***’ 0.001 ‘**’ 0.01 ‘*’ 0.05 ‘.’ 0.1 ‘ ’ 1\n",
       "\n",
       "Residual standard error: 11.44 on 1760 degrees of freedom\n",
       "  (6 observations deleted due to missingness)\n",
       "Multiple R-squared:  0.1182,\tAdjusted R-squared:  0.1167 \n",
       "F-statistic: 78.62 on 3 and 1760 DF,  p-value: < 2.2e-16\n"
      ]
     },
     "metadata": {},
     "output_type": "display_data"
    }
   ],
   "source": [
    "pp_male1 <- lm(pulseP ~ age + BMI, data=framingham_data_male)\n",
    "summary(pp_male1)\n",
    "\n",
    "# add heartRate to pp_female model and create new model named pp_female2. \n",
    "pp_male2 <- lm(pulseP ~ age + BMI + heartRate, data=framingham_data_male)\n",
    "summary(pp_male2)"
   ]
  },
  {
   "cell_type": "markdown",
   "metadata": {},
   "source": [
    "For males, we can not model the pulse pressure that well, $R^2$ does not get any better."
   ]
  },
  {
   "cell_type": "markdown",
   "metadata": {},
   "source": [
    "#### House sales data\n",
    "Let's look at another data set: house sales in King county."
   ]
  },
  {
   "cell_type": "code",
   "execution_count": 8,
   "metadata": {
    "scrolled": true
   },
   "outputs": [
    {
     "name": "stdout",
     "output_type": "stream",
     "text": [
      "'data.frame':\t21613 obs. of  21 variables:\n",
      " $ id           : num  7.13e+09 6.41e+09 5.63e+09 2.49e+09 1.95e+09 ...\n",
      " $ date         : Factor w/ 372 levels \"20140502T000000\",..: 165 221 291 221 284 11 57 252 340 306 ...\n",
      " $ price        : num  221900 538000 180000 604000 510000 ...\n",
      " $ bedrooms     : int  3 3 2 4 3 4 3 3 3 3 ...\n",
      " $ bathrooms    : num  1 2.25 1 3 2 4.5 2.25 1.5 1 2.5 ...\n",
      " $ sqft_living  : int  1180 2570 770 1960 1680 5420 1715 1060 1780 1890 ...\n",
      " $ sqft_lot     : int  5650 7242 10000 5000 8080 101930 6819 9711 7470 6560 ...\n",
      " $ floors       : num  1 2 1 1 1 1 2 1 1 2 ...\n",
      " $ waterfront   : int  0 0 0 0 0 0 0 0 0 0 ...\n",
      " $ view         : int  0 0 0 0 0 0 0 0 0 0 ...\n",
      " $ condition    : int  3 3 3 5 3 3 3 3 3 3 ...\n",
      " $ grade        : int  7 7 6 7 8 11 7 7 7 7 ...\n",
      " $ sqft_above   : int  1180 2170 770 1050 1680 3890 1715 1060 1050 1890 ...\n",
      " $ sqft_basement: int  0 400 0 910 0 1530 0 0 730 0 ...\n",
      " $ yr_built     : int  1955 1951 1933 1965 1987 2001 1995 1963 1960 2003 ...\n",
      " $ yr_renovated : int  0 1991 0 0 0 0 0 0 0 0 ...\n",
      " $ zipcode      : int  98178 98125 98028 98136 98074 98053 98003 98198 98146 98038 ...\n",
      " $ lat          : num  47.5 47.7 47.7 47.5 47.6 ...\n",
      " $ long         : num  -122 -122 -122 -122 -122 ...\n",
      " $ sqft_living15: int  1340 1690 2720 1360 1800 4760 2238 1650 1780 2390 ...\n",
      " $ sqft_lot15   : int  5650 7639 8062 5000 7503 101930 6819 9711 8113 7570 ...\n"
     ]
    }
   ],
   "source": [
    "housing_data <- read.csv(\"/dsa/data/all_datasets/house_sales_in_king_county/kc_house_data.csv\",header=TRUE)\n",
    "str(housing_data)"
   ]
  },
  {
   "cell_type": "markdown",
   "metadata": {},
   "source": [
    "<span style=\"color:#1d80ba; font-size:14px; font-weight:700\">Activity 2:</span> Fit a linear regression model to predict the house sale price using sqft_living.  "
   ]
  },
  {
   "cell_type": "code",
   "execution_count": 9,
   "metadata": {},
   "outputs": [
    {
     "data": {
      "text/plain": [
       "\n",
       "Call:\n",
       "lm(formula = price ~ sqft_living, data = housing_data)\n",
       "\n",
       "Residuals:\n",
       "     Min       1Q   Median       3Q      Max \n",
       "-1476062  -147486   -24043   106182  4362067 \n",
       "\n",
       "Coefficients:\n",
       "              Estimate Std. Error t value Pr(>|t|)    \n",
       "(Intercept) -43580.743   4402.690  -9.899   <2e-16 ***\n",
       "sqft_living    280.624      1.936 144.920   <2e-16 ***\n",
       "---\n",
       "Signif. codes:  0 ‘***’ 0.001 ‘**’ 0.01 ‘*’ 0.05 ‘.’ 0.1 ‘ ’ 1\n",
       "\n",
       "Residual standard error: 261500 on 21611 degrees of freedom\n",
       "Multiple R-squared:  0.4929,\tAdjusted R-squared:  0.4928 \n",
       "F-statistic: 2.1e+04 on 1 and 21611 DF,  p-value: < 2.2e-16\n"
      ]
     },
     "metadata": {},
     "output_type": "display_data"
    }
   ],
   "source": [
    "# Fill in the partially complete code and execute the code..\n",
    "\n",
    "houseprice_reg <- lm(price ~ sqft_living, data=housing_data)\n",
    "summary(houseprice_reg)"
   ]
  },
  {
   "cell_type": "markdown",
   "metadata": {},
   "source": [
    "As we can see, sqft_living is a good predictor for the price. Let's see if we can improve this model with additional variables."
   ]
  },
  {
   "cell_type": "code",
   "execution_count": 11,
   "metadata": {
    "scrolled": true
   },
   "outputs": [
    {
     "data": {
      "text/plain": [
       "\n",
       "Call:\n",
       "lm(formula = price ~ sqft_living + bedrooms, data = housing_data)\n",
       "\n",
       "Residuals:\n",
       "     Min       1Q   Median       3Q      Max \n",
       "-1650867  -143866   -23143   102344  4179850 \n",
       "\n",
       "Coefficients:\n",
       "              Estimate Std. Error t value Pr(>|t|)    \n",
       "(Intercept)  79469.359   6604.764   12.03   <2e-16 ***\n",
       "sqft_living    313.949      2.337  134.31   <2e-16 ***\n",
       "bedrooms    -57066.759   2308.223  -24.72   <2e-16 ***\n",
       "---\n",
       "Signif. codes:  0 ‘***’ 0.001 ‘**’ 0.01 ‘*’ 0.05 ‘.’ 0.1 ‘ ’ 1\n",
       "\n",
       "Residual standard error: 257800 on 21610 degrees of freedom\n",
       "Multiple R-squared:  0.5068,\tAdjusted R-squared:  0.5068 \n",
       "F-statistic: 1.11e+04 on 2 and 21610 DF,  p-value: < 2.2e-16\n"
      ]
     },
     "metadata": {},
     "output_type": "display_data"
    }
   ],
   "source": [
    "# add the second variable: bedrooms\n",
    "houseprice_reg2 <- lm(price ~ sqft_living + bedrooms, data=housing_data)\n",
    "summary(houseprice_reg2)\n",
    "\n"
   ]
  },
  {
   "cell_type": "code",
   "execution_count": 12,
   "metadata": {},
   "outputs": [
    {
     "data": {
      "text/plain": [
       "\n",
       "Call:\n",
       "lm(formula = price ~ sqft_living + bedrooms + sqft_lot, data = housing_data)\n",
       "\n",
       "Residuals:\n",
       "     Min       1Q   Median       3Q      Max \n",
       "-1578538  -143639   -22850   102992  4149420 \n",
       "\n",
       "Coefficients:\n",
       "              Estimate Std. Error t value Pr(>|t|)    \n",
       "(Intercept)  8.278e+04  6.604e+03  12.536   <2e-16 ***\n",
       "sqft_living  3.179e+02  2.376e+00 133.801   <2e-16 ***\n",
       "bedrooms    -5.880e+04  2.312e+03 -25.428   <2e-16 ***\n",
       "sqft_lot    -3.818e-01  4.307e-02  -8.866   <2e-16 ***\n",
       "---\n",
       "Signif. codes:  0 ‘***’ 0.001 ‘**’ 0.01 ‘*’ 0.05 ‘.’ 0.1 ‘ ’ 1\n",
       "\n",
       "Residual standard error: 257400 on 21609 degrees of freedom\n",
       "Multiple R-squared:  0.5086,\tAdjusted R-squared:  0.5085 \n",
       "F-statistic:  7455 on 3 and 21609 DF,  p-value: < 2.2e-16\n"
      ]
     },
     "metadata": {},
     "output_type": "display_data"
    }
   ],
   "source": [
    "# add the third variable: sqft_lot\n",
    "\n",
    "houseprice_reg3 <- lm(price ~ sqft_living + bedrooms + sqft_lot, data=housing_data)\n",
    "summary(houseprice_reg3)"
   ]
  },
  {
   "cell_type": "code",
   "execution_count": 13,
   "metadata": {},
   "outputs": [
    {
     "data": {
      "text/plain": [
       "\n",
       "Call:\n",
       "lm(formula = price ~ sqft_living + bedrooms + sqft_lot + floors, \n",
       "    data = housing_data)\n",
       "\n",
       "Residuals:\n",
       "     Min       1Q   Median       3Q      Max \n",
       "-1577821  -143544   -22590   102907  4150548 \n",
       "\n",
       "Coefficients:\n",
       "              Estimate Std. Error t value Pr(>|t|)    \n",
       "(Intercept)  8.175e+04  7.674e+03  10.653   <2e-16 ***\n",
       "sqft_living  3.177e+02  2.510e+00 126.577   <2e-16 ***\n",
       "bedrooms    -5.877e+04  2.315e+03 -25.391   <2e-16 ***\n",
       "sqft_lot    -3.810e-01  4.319e-02  -8.820   <2e-16 ***\n",
       "floors       9.216e+02  3.479e+03   0.265    0.791    \n",
       "---\n",
       "Signif. codes:  0 ‘***’ 0.001 ‘**’ 0.01 ‘*’ 0.05 ‘.’ 0.1 ‘ ’ 1\n",
       "\n",
       "Residual standard error: 257400 on 21608 degrees of freedom\n",
       "Multiple R-squared:  0.5086,\tAdjusted R-squared:  0.5085 \n",
       "F-statistic:  5591 on 4 and 21608 DF,  p-value: < 2.2e-16\n"
      ]
     },
     "metadata": {},
     "output_type": "display_data"
    }
   ],
   "source": [
    "# add the fourth variable: floors\n",
    "\n",
    "houseprice_reg4 <- lm(price ~ sqft_living + bedrooms + sqft_lot + floors, data=housing_data)\n",
    "summary(houseprice_reg4)"
   ]
  },
  {
   "cell_type": "code",
   "execution_count": 14,
   "metadata": {},
   "outputs": [
    {
     "data": {
      "text/plain": [
       "\n",
       "Call:\n",
       "lm(formula = price ~ sqft_living + bedrooms + sqft_lot + floors + \n",
       "    bathrooms, data = housing_data)\n",
       "\n",
       "Residuals:\n",
       "     Min       1Q   Median       3Q      Max \n",
       "-1573404  -143855   -22380   102493  4148365 \n",
       "\n",
       "Coefficients:\n",
       "              Estimate Std. Error t value Pr(>|t|)    \n",
       "(Intercept)  8.066e+04  7.696e+03  10.481   <2e-16 ***\n",
       "sqft_living  3.143e+02  3.132e+00 100.355   <2e-16 ***\n",
       "bedrooms    -5.953e+04  2.351e+03 -25.319   <2e-16 ***\n",
       "sqft_lot    -3.788e-01  4.320e-02  -8.769   <2e-16 ***\n",
       "floors      -1.758e+03  3.776e+03  -0.466   0.6415    \n",
       "bathrooms    6.958e+03  3.809e+03   1.827   0.0678 .  \n",
       "---\n",
       "Signif. codes:  0 ‘***’ 0.001 ‘**’ 0.01 ‘*’ 0.05 ‘.’ 0.1 ‘ ’ 1\n",
       "\n",
       "Residual standard error: 257400 on 21607 degrees of freedom\n",
       "Multiple R-squared:  0.5087,\tAdjusted R-squared:  0.5086 \n",
       "F-statistic:  4474 on 5 and 21607 DF,  p-value: < 2.2e-16\n"
      ]
     },
     "metadata": {},
     "output_type": "display_data"
    }
   ],
   "source": [
    "# add the fifth variable: bathrooms\n",
    "\n",
    "houseprice_reg5 <- lm(price ~ sqft_living + bedrooms + sqft_lot + floors + bathrooms, data=housing_data)\n",
    "summary(houseprice_reg5)"
   ]
  },
  {
   "cell_type": "markdown",
   "metadata": {},
   "source": [
    "Adding number of bedrooms as another variable helped to improve the model, but other additional variables \n",
    "(lot's square footage, number of floors, number of bathrooms) did not improve the model at all. Let's try \n",
    " couple of variables that should make a real difference: waterfront and view."
   ]
  },
  {
   "cell_type": "code",
   "execution_count": 15,
   "metadata": {},
   "outputs": [
    {
     "data": {
      "text/plain": [
       "\n",
       "Call:\n",
       "lm(formula = price ~ sqft_living + bedrooms + waterfront + view, \n",
       "    data = housing_data)\n",
       "\n",
       "Residuals:\n",
       "     Min       1Q   Median       3Q      Max \n",
       "-1621141  -134217   -18156   102136  4250015 \n",
       "\n",
       "Coefficients:\n",
       "              Estimate Std. Error t value Pr(>|t|)    \n",
       "(Intercept)  77980.705   6249.236   12.48   <2e-16 ***\n",
       "sqft_living    283.846      2.312  122.75   <2e-16 ***\n",
       "bedrooms    -44339.059   2197.772  -20.18   <2e-16 ***\n",
       "waterfront  556063.278  20957.060   26.53   <2e-16 ***\n",
       "view         72563.936   2460.963   29.49   <2e-16 ***\n",
       "---\n",
       "Signif. codes:  0 ‘***’ 0.001 ‘**’ 0.01 ‘*’ 0.05 ‘.’ 0.1 ‘ ’ 1\n",
       "\n",
       "Residual standard error: 243800 on 21608 degrees of freedom\n",
       "Multiple R-squared:  0.559,\tAdjusted R-squared:  0.5589 \n",
       "F-statistic:  6846 on 4 and 21608 DF,  p-value: < 2.2e-16\n"
      ]
     },
     "metadata": {},
     "output_type": "display_data"
    }
   ],
   "source": [
    "# add waterfront and view along with sqft_living and bedrooms\n",
    "houseprice_reg6 <- lm(price ~ sqft_living + bedrooms + waterfront + view, data=housing_data)\n",
    "summary(houseprice_reg6)"
   ]
  },
  {
   "cell_type": "markdown",
   "metadata": {},
   "source": [
    "$R^2$ jumped to **0.56**; this is a better model for price of the house. The other variables (lat, long, zip code, etc.) \n",
    "    are not really expected to make a difference because we don't expect a **linear** relationship between a house's \n",
    "    price and its zip code unless zip codes are demographically meaningful. Let's try and see."
   ]
  },
  {
   "cell_type": "code",
   "execution_count": 16,
   "metadata": {},
   "outputs": [
    {
     "data": {
      "text/plain": [
       "\n",
       "Call:\n",
       "lm(formula = price ~ sqft_living + bedrooms + zipcode, data = housing_data)\n",
       "\n",
       "Residuals:\n",
       "     Min       1Q   Median       3Q      Max \n",
       "-1708120  -141128   -22303   100870  4111227 \n",
       "\n",
       "Coefficients:\n",
       "              Estimate Std. Error t value Pr(>|t|)    \n",
       "(Intercept) -5.708e+07  3.263e+06  -17.50   <2e-16 ***\n",
       "sqft_living  3.196e+02  2.343e+00  136.38   <2e-16 ***\n",
       "bedrooms    -5.518e+04  2.295e+03  -24.05   <2e-16 ***\n",
       "zipcode      5.827e+02  3.325e+01   17.52   <2e-16 ***\n",
       "---\n",
       "Signif. codes:  0 ‘***’ 0.001 ‘**’ 0.01 ‘*’ 0.05 ‘.’ 0.1 ‘ ’ 1\n",
       "\n",
       "Residual standard error: 256000 on 21609 degrees of freedom\n",
       "Multiple R-squared:  0.5137,\tAdjusted R-squared:  0.5136 \n",
       "F-statistic:  7609 on 3 and 21609 DF,  p-value: < 2.2e-16\n"
      ]
     },
     "metadata": {},
     "output_type": "display_data"
    }
   ],
   "source": [
    "# add zipcode to houseprice_reg6 along with sqft_living + bedrooms + waterfront + view\n",
    "houseprice_reg7 <- lm(price ~ sqft_living + bedrooms + zipcode, data=housing_data)\n",
    "summary(houseprice_reg7)"
   ]
  },
  {
   "cell_type": "markdown",
   "metadata": {},
   "source": [
    "As we expected, zipcode does not make much of a difference. How about latitude or longitude ? Depending on the geographic location of the King county, it might make a difference. Let's see."
   ]
  },
  {
   "cell_type": "code",
   "execution_count": 20,
   "metadata": {},
   "outputs": [
    {
     "data": {
      "text/plain": [
       "\n",
       "Call:\n",
       "lm(formula = price ~ sqft_living + bedrooms + waterfront + view + \n",
       "    lat, data = housing_data)\n",
       "\n",
       "Residuals:\n",
       "     Min       1Q   Median       3Q      Max \n",
       "-1610741  -111403   -13816    79353  4280057 \n",
       "\n",
       "Coefficients:\n",
       "              Estimate Std. Error t value Pr(>|t|)    \n",
       "(Intercept) -3.409e+07  5.215e+05  -65.38   <2e-16 ***\n",
       "sqft_living  2.738e+02  2.118e+00  129.32   <2e-16 ***\n",
       "bedrooms    -3.773e+04  2.010e+03  -18.77   <2e-16 ***\n",
       "waterfront   5.810e+05  1.915e+04   30.34   <2e-16 ***\n",
       "view         7.341e+04  2.248e+03   32.66   <2e-16 ***\n",
       "lat          7.185e+05  1.096e+04   65.53   <2e-16 ***\n",
       "---\n",
       "Signif. codes:  0 ‘***’ 0.001 ‘**’ 0.01 ‘*’ 0.05 ‘.’ 0.1 ‘ ’ 1\n",
       "\n",
       "Residual standard error: 222700 on 21607 degrees of freedom\n",
       "Multiple R-squared:  0.6321,\tAdjusted R-squared:  0.632 \n",
       "F-statistic:  7424 on 5 and 21607 DF,  p-value: < 2.2e-16\n"
      ]
     },
     "metadata": {},
     "output_type": "display_data"
    },
    {
     "data": {
      "text/plain": [
       "\n",
       "Call:\n",
       "lm(formula = price ~ sqft_living + bedrooms + waterfront + view + \n",
       "    long, data = housing_data)\n",
       "\n",
       "Residuals:\n",
       "     Min       1Q   Median       3Q      Max \n",
       "-1681578  -128313   -11827   106163  4089392 \n",
       "\n",
       "Coefficients:\n",
       "              Estimate Std. Error t value Pr(>|t|)    \n",
       "(Intercept) -4.057e+07  1.478e+06  -27.46   <2e-16 ***\n",
       "sqft_living  2.995e+02  2.343e+00  127.83   <2e-16 ***\n",
       "bedrooms    -4.609e+04  2.161e+03  -21.32   <2e-16 ***\n",
       "waterfront   5.506e+05  2.060e+04   26.73   <2e-16 ***\n",
       "view         6.286e+04  2.445e+03   25.72   <2e-16 ***\n",
       "long        -3.324e+05  1.208e+04  -27.51   <2e-16 ***\n",
       "---\n",
       "Signif. codes:  0 ‘***’ 0.001 ‘**’ 0.01 ‘*’ 0.05 ‘.’ 0.1 ‘ ’ 1\n",
       "\n",
       "Residual standard error: 239700 on 21607 degrees of freedom\n",
       "Multiple R-squared:  0.5739,\tAdjusted R-squared:  0.5738 \n",
       "F-statistic:  5820 on 5 and 21607 DF,  p-value: < 2.2e-16\n"
      ]
     },
     "metadata": {},
     "output_type": "display_data"
    }
   ],
   "source": [
    "# Test both Lat and Long\n",
    "# add lat with sqft_living + bedrooms + waterfront + view\n",
    "\n",
    "houseprice_reg8 <- lm(price ~ sqft_living + bedrooms + waterfront + view + lat, data=housing_data)\n",
    "summary(houseprice_reg8)\n",
    "\n",
    "# add long with sqft_living + bedrooms + waterfront + view\n",
    "\n",
    "houseprice_reg9 <- lm(price ~ sqft_living + bedrooms + waterfront + view + long, data=housing_data)\n",
    "summary(houseprice_reg9)"
   ]
  },
  {
   "cell_type": "markdown",
   "metadata": {},
   "source": [
    "Latitude made a big difference! $R^2$ is **0.63**.\n",
    "Let's find out why. Take a look at [King county map](https://www.google.com/maps/place/King+County,+WA/@47.4319563,-122.3574591,9z/data=!3m1!4b1!4m5!3m4!1s0x54905c8c832d7837:0xe280ab6b8b64e03e!8m2!3d47.5480339!4d-121.9836029).\n",
    "Now it should be clear why an east-to-west change in location has an effect on the house price."
   ]
  },
  {
   "cell_type": "markdown",
   "metadata": {},
   "source": [
    "# Save your notebook!"
   ]
  }
 ],
 "metadata": {
  "kernelspec": {
   "display_name": "R",
   "language": "R",
   "name": "ir"
  },
  "language_info": {
   "codemirror_mode": "r",
   "file_extension": ".r",
   "mimetype": "text/x-r-source",
   "name": "R",
   "pygments_lexer": "r",
   "version": "3.5.1"
  }
 },
 "nbformat": 4,
 "nbformat_minor": 1
}
