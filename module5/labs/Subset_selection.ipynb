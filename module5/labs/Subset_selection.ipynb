{
 "cells": [
  {
   "cell_type": "markdown",
   "metadata": {},
   "source": [
    "# Linear Model Selection and Regularization"
   ]
  },
  {
   "cell_type": "markdown",
   "metadata": {},
   "source": [
    "In the regression setting, the standard linear model\n",
    "\n",
    "$$ Y = \\beta_0 + \\beta_1X_1 + \\beta_2X_2+...+ \\beta_pX_p + \\epsilon \\quad\\quad\\quad - \\quad(1) $$\n",
    "\n",
    "is commonly used to describe the relationship between a response $Y$ and a set of variables $X_1$, $X_2$, ..., $X_p$. \n",
    "One typically fits this model using least squares.\n",
    "\n",
    "There are approaches for extending the linear model framework to non linear models.\n",
    "A simple linear model can be improved, by replacing plain least squares fitting with some alternative fitting procedures. \n",
    "Alternative fitting procedures can yield better prediction accuracy and model interpretability."
   ]
  },
  {
   "cell_type": "markdown",
   "metadata": {},
   "source": [
    "-----\n",
    "\n",
    "<i>Prediction Accuracy:</i> \n",
    "Provided that the true relationship between the response and the predictors is approximately linear, the least squares estimates will have low bias. \n",
    "If $n>>p$ — that is, if $n$, the number of observations, is much larger than $p$, the number of variables — then the least squares estimates tend to also have low variance, and hence will perform well on test observations. \n",
    "However, if $n$ is not much larger than $p$, then there can be a lot of variability in the least squares fit,\n",
    "resulting in overfitting and consequently poor predictions on future observations not used in model training. \n",
    "And if $p > n$, then there is no longer a unique least squares coefficient estimate: \n",
    "the variance is infinite so the method cannot be used at all. \n",
    "\n",
    "By constraining or shrinking the estimated coefficients, \n",
    "we can often substantially reduce the variance at the cost of a negligible increase in bias. \n",
    "This can lead to substantial improvements in the accuracy with which we can predict the response for observations not used in model training.\n",
    "\n",
    "<i>Model Interpretability:</i> Irrelevant variables used in a multiple regression model leads to unnecessary complexity in the resulting model. \n",
    "By removing these variables—that is, by setting the corresponding coefficient estimates to zero we can obtain a model that is more easily interpreted.\n",
    "There are few approaches for automatically performing feature selection or variable selection for excluding irrelevant variables from a multiple regression model."
   ]
  },
  {
   "cell_type": "markdown",
   "metadata": {},
   "source": [
    "----\n",
    "\n",
    "* <i>Subset Selection:</i> This approach involves identifying a subset of the $p$ predictors that we believe to be related to the response. We then fit a model using least squares on the reduced set of variables.\n",
    "\n",
    "* <i>Shrinkage: </i> This approach involves fitting a model involving all $p$ predictors. However, the estimated coefficients are shrunken towards zero relative to the least squares estimates. This shrinkage (also known as regularization) has the effect of reducing variance where some of the coefficients may be estimated to be exactly zero. Hence, shrinkage methods can also perform variable selection.\n",
    "\n",
    "* <i>Dimension Reduction:</i> Dimension reduction involves projecting the $p$ predictors into a <i>M</i>-dimensional subspace, where $M < p$. This is achieved by computing $M$ different linear combinations, or projections, of the variables. Then these $M$ projections are used as predictors to fit a linear regression model by least squares."
   ]
  },
  {
   "cell_type": "markdown",
   "metadata": {},
   "source": [
    "### <span style=\"color:#4774bc\">Subset Selection</span> \n",
    "\n",
    "We will look into methods for selecting subsets of predictors. To perform best subset selection, we fit a separate least squares regression for each possible combination of the p predictors. That is, we fit all p models that contain exactly one predictor, all ${p \\choose 2} = p(p-1)/2$ models that contain exactly two predictors, and so forth. We then look at all of the resulting\n",
    "models, with the goal of identifying the one that is best. \n",
    "\n",
    "-----\n",
    "<span style=\"color:#4774bc\">Algorithm 1: </span> <i>Best subset selection</i>\n",
    "\n",
    "------\n",
    "\n",
    "- Let $M_0$ denote the null model , which contains no predictors. This model simply predicts the sample mean for each observation.\n",
    "\n",
    "- For $k$ = 1, 2, 3,...,$p$:\n",
    "    * Fit all ${p \\choose k}$ models that contain exactly $k$ predictors.\n",
    "    \n",
    "    * Pick the best among these ${p \\choose k}$ models, and call it $M_k$. Here _best_ is defined as having the smallest RSS, or equivalently largest $R^2$.\n",
    "    \n",
    "- Select a single best model from among $M_0$, . . . ,$M_p$ using crossvalidated prediction error, $C_p$ (AIC), BIC, or adjusted $R^2$.\n",
    "-----\n",
    "\n",
    "\n",
    "\n",
    "In above algorithm, Step 2 identifies the best model (on the training data) for each subset size, in order to reduce the problem from one of $2^p$ possible models to one of $p + 1$ possible models. we must simply choose among these $p + 1$ options. This task must be performed with care, because the $RSS$ of these $p + 1$ models decreases monotonically, and the $R^2$ increases\n",
    "monotonically, as the number of features included in the models increases. Therefore, if we use these statistics to select the best model, then we will always end up with a model involving all of the variables. The problem is that a low $RSS$ or a high $R^2$ indicates a model with a low training error, whereas we wish to choose a model that has a low test error. Therefore, in Step 3, we use cross-validated prediction error, $C_p$, $BIC$, or adjusted $R^2$ in order to select among $M_0$, $M_1$, . . . ,$M_p$.\n",
    "\n",
    "Although best subset selection here is discussed for least squares regression, the same ideas apply to other types of models, such as logistic regression. In the case of logistic regression, instead of ordering models by $RSS$ in Step 2 of Algorithm 1, we instead use the deviance, a measure deviance that plays the role of $RSS$ for a broader class of models. The deviance is\n",
    "negative two times the maximized log-likelihood; the smaller the deviance, the better the fit. While best subset selection is a simple and conceptually appealing approach, it suffers from computational limitations. The number of possible models that must be considered grows rapidly as $p$ increases."
   ]
  },
  {
   "cell_type": "markdown",
   "metadata": {},
   "source": [
    "### <span style=\"color:#4774bc\">Stepwise Selection</span>\n",
    "\n",
    "For computational reasons, best subset selection cannot be applied with very large p. Also when p is large, search space is larger too. The higher the chance of finding models that look good on the training data, even though they might not have any predictive power on future data.\n",
    "\n",
    "#### <span style=\"color:#4774bc\">Forward Stepwise Selection</span>\n",
    "\n",
    "Forward stepwise selection is a computationally efficient alternative to best subset selection. While the best subset selection procedure considers all 2p possible models containing subsets of the p predictors, forward stepwise considers a much smaller set of models. Forward stepwise selection begins with a model containing no predictors, and then adds predictors to the model, one-at-a-time, until all of the predictors are in the model. In particular, at each step the variable that gives the greatest additional improvement to the fit is added to the model.\n",
    "\n",
    "-----\n",
    "<span style=\"color:#4774bc\">Algorithm 2: </span> <i>Forward stepwise selection</i>\n",
    "\n",
    "------\n",
    "\n",
    "- Let $M_0$ denote the null model, which contains no predictors.\n",
    "- For k=0, ..., p-1:\n",
    "    * Consider all $p − k$ models that augment the predictors in $M_k$ with one additional predictor.\n",
    "    * Choose the $best$ among these $p − k$ models, and call it $M_{k+1}$. Here $best$ is defined as having smallest $RSS$ or highest $R^2$. \n",
    "- Select a single best model from among $M_0$, . . . ,$M_p$ using crossvalidated prediction error, $C_p$ (AIC), BIC, or adjusted $R^2$.\n",
    "----\n",
    "\n",
    "\n",
    "Stepwise selection involves fitting one null model, along with $p − k$ models in the $kth$ iteration, for $k$ = 0, . . . , $p\\  −\\ 1$. This amounts to a total of 1 + $\\sum_{k=0}^{p-1}(p-k) = 1+p(p+1)/2$ models. When p = 20, forward stepwise selection requires fitting only 211 models. \n",
    "\n",
    "Though forward stepwise tends to do well in practice, it is not guaranteed to find the best possible model out of all $2p$ models containing subsets of the $p$ predictors. For instance, suppose that in a given data set with $p = 3$ predictors, the best possible one-variable model contains $X_1$, and the best possible two-variable model instead contains $X_2$ and $X_3$. Then forward stepwise selection will fail to select the best possible two-variable model, because $M_1$ will contain $X_1$, so $M_2$ must also contain $X_1$ together with one additional variable.\n",
    "\n"
   ]
  },
  {
   "cell_type": "markdown",
   "metadata": {},
   "source": [
    "#### <span style=\"color:#4774bc\">Backward Stepwise Selection</span>\n",
    "\n",
    "Like forward stepwise selection, backward stepwise selection provides an efficient alternative to best subset selection. However, unlike forward stepwise selection, it begins with the full least squares model containing all p predictors, and then iteratively removes the least useful predictor, one-at-a-time.\n",
    "\n",
    "Like forward stepwise selection, the backward selection approach searches through only $1+p(p+1)/2$ models, and so can be applied in settings where $p$ is too large to apply best subset selection. Also like forward stepwise selection, backward stepwise selection is not guaranteed to yield the best model containing a subset of the $p$ predictors.\n",
    "\n",
    "Backward selection requires that the number of samples $n$ is larger than the number of variables $p$ (so that the full model can be fit). In contrast, forward stepwise can be used even when $n < p$, and so is the only viable subset method when $p$ is very large.\n",
    "\n",
    "-----"
   ]
  },
  {
   "cell_type": "markdown",
   "metadata": {},
   "source": [
    "We will apply the best subset selection approach to the Hitters data. We wish to predict a baseball player’s Salary on the basis of various statistics associated with performance in the previous year. Salary variable is missing for some of the players. Use the is.na() function to identify the missing observations as it returns a vector of the same length as the input vector, with a TRUE for any elements that are missing, and a FALSE for non-missing elements. The sum() function can then be used to count all of the missing elements. "
   ]
  },
  {
   "cell_type": "code",
   "execution_count": 3,
   "metadata": {
    "scrolled": true
   },
   "outputs": [
    {
     "name": "stderr",
     "output_type": "stream",
     "text": [
      "Updating HTML index of packages in '.Library'\n",
      "Making 'packages.html' ... done\n"
     ]
    },
    {
     "data": {
      "text/html": [
       "<ol class=list-inline>\n",
       "\t<li>'AtBat'</li>\n",
       "\t<li>'Hits'</li>\n",
       "\t<li>'HmRun'</li>\n",
       "\t<li>'Runs'</li>\n",
       "\t<li>'RBI'</li>\n",
       "\t<li>'Walks'</li>\n",
       "\t<li>'Years'</li>\n",
       "\t<li>'CAtBat'</li>\n",
       "\t<li>'CHits'</li>\n",
       "\t<li>'CHmRun'</li>\n",
       "\t<li>'CRuns'</li>\n",
       "\t<li>'CRBI'</li>\n",
       "\t<li>'CWalks'</li>\n",
       "\t<li>'League'</li>\n",
       "\t<li>'Division'</li>\n",
       "\t<li>'PutOuts'</li>\n",
       "\t<li>'Assists'</li>\n",
       "\t<li>'Errors'</li>\n",
       "\t<li>'Salary'</li>\n",
       "\t<li>'NewLeague'</li>\n",
       "</ol>\n"
      ],
      "text/latex": [
       "\\begin{enumerate*}\n",
       "\\item 'AtBat'\n",
       "\\item 'Hits'\n",
       "\\item 'HmRun'\n",
       "\\item 'Runs'\n",
       "\\item 'RBI'\n",
       "\\item 'Walks'\n",
       "\\item 'Years'\n",
       "\\item 'CAtBat'\n",
       "\\item 'CHits'\n",
       "\\item 'CHmRun'\n",
       "\\item 'CRuns'\n",
       "\\item 'CRBI'\n",
       "\\item 'CWalks'\n",
       "\\item 'League'\n",
       "\\item 'Division'\n",
       "\\item 'PutOuts'\n",
       "\\item 'Assists'\n",
       "\\item 'Errors'\n",
       "\\item 'Salary'\n",
       "\\item 'NewLeague'\n",
       "\\end{enumerate*}\n"
      ],
      "text/markdown": [
       "1. 'AtBat'\n",
       "2. 'Hits'\n",
       "3. 'HmRun'\n",
       "4. 'Runs'\n",
       "5. 'RBI'\n",
       "6. 'Walks'\n",
       "7. 'Years'\n",
       "8. 'CAtBat'\n",
       "9. 'CHits'\n",
       "10. 'CHmRun'\n",
       "11. 'CRuns'\n",
       "12. 'CRBI'\n",
       "13. 'CWalks'\n",
       "14. 'League'\n",
       "15. 'Division'\n",
       "16. 'PutOuts'\n",
       "17. 'Assists'\n",
       "18. 'Errors'\n",
       "19. 'Salary'\n",
       "20. 'NewLeague'\n",
       "\n",
       "\n"
      ],
      "text/plain": [
       " [1] \"AtBat\"     \"Hits\"      \"HmRun\"     \"Runs\"      \"RBI\"       \"Walks\"    \n",
       " [7] \"Years\"     \"CAtBat\"    \"CHits\"     \"CHmRun\"    \"CRuns\"     \"CRBI\"     \n",
       "[13] \"CWalks\"    \"League\"    \"Division\"  \"PutOuts\"   \"Assists\"   \"Errors\"   \n",
       "[19] \"Salary\"    \"NewLeague\""
      ]
     },
     "metadata": {},
     "output_type": "display_data"
    }
   ],
   "source": [
    "# install.packages(\"ISLR\", repo=\"https://cran.cnr.berkeley.edu/\")\n",
    "install.packages(\"ISLR\")\n",
    "library(ISLR)\n",
    "names(Hitters)"
   ]
  },
  {
   "cell_type": "code",
   "execution_count": 4,
   "metadata": {},
   "outputs": [
    {
     "data": {
      "text/html": [
       "<ol class=list-inline>\n",
       "\t<li>322</li>\n",
       "\t<li>20</li>\n",
       "</ol>\n"
      ],
      "text/latex": [
       "\\begin{enumerate*}\n",
       "\\item 322\n",
       "\\item 20\n",
       "\\end{enumerate*}\n"
      ],
      "text/markdown": [
       "1. 322\n",
       "2. 20\n",
       "\n",
       "\n"
      ],
      "text/plain": [
       "[1] 322  20"
      ]
     },
     "metadata": {},
     "output_type": "display_data"
    }
   ],
   "source": [
    "dim(Hitters)"
   ]
  },
  {
   "cell_type": "code",
   "execution_count": 5,
   "metadata": {},
   "outputs": [
    {
     "data": {
      "text/html": [
       "59"
      ],
      "text/latex": [
       "59"
      ],
      "text/markdown": [
       "59"
      ],
      "text/plain": [
       "[1] 59"
      ]
     },
     "metadata": {},
     "output_type": "display_data"
    }
   ],
   "source": [
    "sum(is.na(Hitters$Salary))"
   ]
  },
  {
   "cell_type": "markdown",
   "metadata": {},
   "source": [
    "Hence we see that Salary is missing for 59 players. The na.omit() function removes all of the rows that have missing values in any variable."
   ]
  },
  {
   "cell_type": "code",
   "execution_count": 6,
   "metadata": {},
   "outputs": [
    {
     "data": {
      "text/html": [
       "<ol class=list-inline>\n",
       "\t<li>263</li>\n",
       "\t<li>20</li>\n",
       "</ol>\n"
      ],
      "text/latex": [
       "\\begin{enumerate*}\n",
       "\\item 263\n",
       "\\item 20\n",
       "\\end{enumerate*}\n"
      ],
      "text/markdown": [
       "1. 263\n",
       "2. 20\n",
       "\n",
       "\n"
      ],
      "text/plain": [
       "[1] 263  20"
      ]
     },
     "metadata": {},
     "output_type": "display_data"
    }
   ],
   "source": [
    "Hitters = na.omit(Hitters)\n",
    "dim(Hitters)"
   ]
  },
  {
   "cell_type": "code",
   "execution_count": 7,
   "metadata": {},
   "outputs": [
    {
     "data": {
      "text/html": [
       "0"
      ],
      "text/latex": [
       "0"
      ],
      "text/markdown": [
       "0"
      ],
      "text/plain": [
       "[1] 0"
      ]
     },
     "metadata": {},
     "output_type": "display_data"
    }
   ],
   "source": [
    "sum(is.na(Hitters))"
   ]
  },
  {
   "cell_type": "markdown",
   "metadata": {},
   "source": [
    "The <span style=\"color:#a5541a\">regsubsets()</span> function (part of the <span style=\"color:#a5541a\">leaps</span> library) performs best subset selection by identifying the best model that contains a given number of predictors, where best is quantified using RSS. The syntax is the same as for <span style=\"color:#a5541a\">lm()</span>. The <span style=\"color:#a5541a\">summary()</span> command outputs the best set of variables for each model size."
   ]
  },
  {
   "cell_type": "code",
   "execution_count": 8,
   "metadata": {},
   "outputs": [
    {
     "name": "stderr",
     "output_type": "stream",
     "text": [
      "Updating HTML index of packages in '.Library'\n",
      "Making 'packages.html' ... done\n"
     ]
    },
    {
     "data": {
      "text/plain": [
       "Subset selection object\n",
       "Call: regsubsets.formula(Salary ~ ., Hitters)\n",
       "19 Variables  (and intercept)\n",
       "           Forced in Forced out\n",
       "AtBat          FALSE      FALSE\n",
       "Hits           FALSE      FALSE\n",
       "HmRun          FALSE      FALSE\n",
       "Runs           FALSE      FALSE\n",
       "RBI            FALSE      FALSE\n",
       "Walks          FALSE      FALSE\n",
       "Years          FALSE      FALSE\n",
       "CAtBat         FALSE      FALSE\n",
       "CHits          FALSE      FALSE\n",
       "CHmRun         FALSE      FALSE\n",
       "CRuns          FALSE      FALSE\n",
       "CRBI           FALSE      FALSE\n",
       "CWalks         FALSE      FALSE\n",
       "LeagueN        FALSE      FALSE\n",
       "DivisionW      FALSE      FALSE\n",
       "PutOuts        FALSE      FALSE\n",
       "Assists        FALSE      FALSE\n",
       "Errors         FALSE      FALSE\n",
       "NewLeagueN     FALSE      FALSE\n",
       "1 subsets of each size up to 8\n",
       "Selection Algorithm: exhaustive\n",
       "         AtBat Hits HmRun Runs RBI Walks Years CAtBat CHits CHmRun CRuns CRBI\n",
       "1  ( 1 ) \" \"   \" \"  \" \"   \" \"  \" \" \" \"   \" \"   \" \"    \" \"   \" \"    \" \"   \"*\" \n",
       "2  ( 1 ) \" \"   \"*\"  \" \"   \" \"  \" \" \" \"   \" \"   \" \"    \" \"   \" \"    \" \"   \"*\" \n",
       "3  ( 1 ) \" \"   \"*\"  \" \"   \" \"  \" \" \" \"   \" \"   \" \"    \" \"   \" \"    \" \"   \"*\" \n",
       "4  ( 1 ) \" \"   \"*\"  \" \"   \" \"  \" \" \" \"   \" \"   \" \"    \" \"   \" \"    \" \"   \"*\" \n",
       "5  ( 1 ) \"*\"   \"*\"  \" \"   \" \"  \" \" \" \"   \" \"   \" \"    \" \"   \" \"    \" \"   \"*\" \n",
       "6  ( 1 ) \"*\"   \"*\"  \" \"   \" \"  \" \" \"*\"   \" \"   \" \"    \" \"   \" \"    \" \"   \"*\" \n",
       "7  ( 1 ) \" \"   \"*\"  \" \"   \" \"  \" \" \"*\"   \" \"   \"*\"    \"*\"   \"*\"    \" \"   \" \" \n",
       "8  ( 1 ) \"*\"   \"*\"  \" \"   \" \"  \" \" \"*\"   \" \"   \" \"    \" \"   \"*\"    \"*\"   \" \" \n",
       "         CWalks LeagueN DivisionW PutOuts Assists Errors NewLeagueN\n",
       "1  ( 1 ) \" \"    \" \"     \" \"       \" \"     \" \"     \" \"    \" \"       \n",
       "2  ( 1 ) \" \"    \" \"     \" \"       \" \"     \" \"     \" \"    \" \"       \n",
       "3  ( 1 ) \" \"    \" \"     \" \"       \"*\"     \" \"     \" \"    \" \"       \n",
       "4  ( 1 ) \" \"    \" \"     \"*\"       \"*\"     \" \"     \" \"    \" \"       \n",
       "5  ( 1 ) \" \"    \" \"     \"*\"       \"*\"     \" \"     \" \"    \" \"       \n",
       "6  ( 1 ) \" \"    \" \"     \"*\"       \"*\"     \" \"     \" \"    \" \"       \n",
       "7  ( 1 ) \" \"    \" \"     \"*\"       \"*\"     \" \"     \" \"    \" \"       \n",
       "8  ( 1 ) \"*\"    \" \"     \"*\"       \"*\"     \" \"     \" \"    \" \"       "
      ]
     },
     "metadata": {},
     "output_type": "display_data"
    }
   ],
   "source": [
    "# install.packages(\"leaps\", repo=\"https://cran.cnr.berkeley.edu/\")\n",
    "install.packages(\"leaps\")\n",
    "library(leaps)\n",
    "regfit.full = regsubsets(Salary~.,Hitters)\n",
    "summary(regfit.full)"
   ]
  },
  {
   "cell_type": "markdown",
   "metadata": {},
   "source": [
    "An asterisk indicates that a given variable is included in the corresponding model. For instance, this output indicates that the best two-variable model contains only <span style=\"color:#a5541a\">Hits</span> and <span style=\"color:#a5541a\">CRBI</span>. By default, <span style=\"color:#a5541a\">regsubsets()</span> only reports results up to the best eight-variable model. But the <span style=\"color:#a5541a\">nvmax</span> option can be used in order to return as many variables as are desired. Here we fit up to a 19-variable model."
   ]
  },
  {
   "cell_type": "code",
   "execution_count": 9,
   "metadata": {},
   "outputs": [],
   "source": [
    "regfit.full = regsubsets(Salary~.,data=Hitters,nvmax=19)\n",
    "reg.summary = summary(regfit.full)"
   ]
  },
  {
   "cell_type": "code",
   "execution_count": 11,
   "metadata": {
    "scrolled": true
   },
   "outputs": [
    {
     "data": {
      "text/plain": [
       "Subset selection object\n",
       "Call: regsubsets.formula(Salary ~ ., data = Hitters, nvmax = 19)\n",
       "19 Variables  (and intercept)\n",
       "           Forced in Forced out\n",
       "AtBat          FALSE      FALSE\n",
       "Hits           FALSE      FALSE\n",
       "HmRun          FALSE      FALSE\n",
       "Runs           FALSE      FALSE\n",
       "RBI            FALSE      FALSE\n",
       "Walks          FALSE      FALSE\n",
       "Years          FALSE      FALSE\n",
       "CAtBat         FALSE      FALSE\n",
       "CHits          FALSE      FALSE\n",
       "CHmRun         FALSE      FALSE\n",
       "CRuns          FALSE      FALSE\n",
       "CRBI           FALSE      FALSE\n",
       "CWalks         FALSE      FALSE\n",
       "LeagueN        FALSE      FALSE\n",
       "DivisionW      FALSE      FALSE\n",
       "PutOuts        FALSE      FALSE\n",
       "Assists        FALSE      FALSE\n",
       "Errors         FALSE      FALSE\n",
       "NewLeagueN     FALSE      FALSE\n",
       "1 subsets of each size up to 19\n",
       "Selection Algorithm: exhaustive\n",
       "          AtBat Hits HmRun Runs RBI Walks Years CAtBat CHits CHmRun CRuns CRBI\n",
       "1  ( 1 )  \" \"   \" \"  \" \"   \" \"  \" \" \" \"   \" \"   \" \"    \" \"   \" \"    \" \"   \"*\" \n",
       "2  ( 1 )  \" \"   \"*\"  \" \"   \" \"  \" \" \" \"   \" \"   \" \"    \" \"   \" \"    \" \"   \"*\" \n",
       "3  ( 1 )  \" \"   \"*\"  \" \"   \" \"  \" \" \" \"   \" \"   \" \"    \" \"   \" \"    \" \"   \"*\" \n",
       "4  ( 1 )  \" \"   \"*\"  \" \"   \" \"  \" \" \" \"   \" \"   \" \"    \" \"   \" \"    \" \"   \"*\" \n",
       "5  ( 1 )  \"*\"   \"*\"  \" \"   \" \"  \" \" \" \"   \" \"   \" \"    \" \"   \" \"    \" \"   \"*\" \n",
       "6  ( 1 )  \"*\"   \"*\"  \" \"   \" \"  \" \" \"*\"   \" \"   \" \"    \" \"   \" \"    \" \"   \"*\" \n",
       "7  ( 1 )  \" \"   \"*\"  \" \"   \" \"  \" \" \"*\"   \" \"   \"*\"    \"*\"   \"*\"    \" \"   \" \" \n",
       "8  ( 1 )  \"*\"   \"*\"  \" \"   \" \"  \" \" \"*\"   \" \"   \" \"    \" \"   \"*\"    \"*\"   \" \" \n",
       "9  ( 1 )  \"*\"   \"*\"  \" \"   \" \"  \" \" \"*\"   \" \"   \"*\"    \" \"   \" \"    \"*\"   \"*\" \n",
       "10  ( 1 ) \"*\"   \"*\"  \" \"   \" \"  \" \" \"*\"   \" \"   \"*\"    \" \"   \" \"    \"*\"   \"*\" \n",
       "11  ( 1 ) \"*\"   \"*\"  \" \"   \" \"  \" \" \"*\"   \" \"   \"*\"    \" \"   \" \"    \"*\"   \"*\" \n",
       "12  ( 1 ) \"*\"   \"*\"  \" \"   \"*\"  \" \" \"*\"   \" \"   \"*\"    \" \"   \" \"    \"*\"   \"*\" \n",
       "13  ( 1 ) \"*\"   \"*\"  \" \"   \"*\"  \" \" \"*\"   \" \"   \"*\"    \" \"   \" \"    \"*\"   \"*\" \n",
       "14  ( 1 ) \"*\"   \"*\"  \"*\"   \"*\"  \" \" \"*\"   \" \"   \"*\"    \" \"   \" \"    \"*\"   \"*\" \n",
       "15  ( 1 ) \"*\"   \"*\"  \"*\"   \"*\"  \" \" \"*\"   \" \"   \"*\"    \"*\"   \" \"    \"*\"   \"*\" \n",
       "16  ( 1 ) \"*\"   \"*\"  \"*\"   \"*\"  \"*\" \"*\"   \" \"   \"*\"    \"*\"   \" \"    \"*\"   \"*\" \n",
       "17  ( 1 ) \"*\"   \"*\"  \"*\"   \"*\"  \"*\" \"*\"   \" \"   \"*\"    \"*\"   \" \"    \"*\"   \"*\" \n",
       "18  ( 1 ) \"*\"   \"*\"  \"*\"   \"*\"  \"*\" \"*\"   \"*\"   \"*\"    \"*\"   \" \"    \"*\"   \"*\" \n",
       "19  ( 1 ) \"*\"   \"*\"  \"*\"   \"*\"  \"*\" \"*\"   \"*\"   \"*\"    \"*\"   \"*\"    \"*\"   \"*\" \n",
       "          CWalks LeagueN DivisionW PutOuts Assists Errors NewLeagueN\n",
       "1  ( 1 )  \" \"    \" \"     \" \"       \" \"     \" \"     \" \"    \" \"       \n",
       "2  ( 1 )  \" \"    \" \"     \" \"       \" \"     \" \"     \" \"    \" \"       \n",
       "3  ( 1 )  \" \"    \" \"     \" \"       \"*\"     \" \"     \" \"    \" \"       \n",
       "4  ( 1 )  \" \"    \" \"     \"*\"       \"*\"     \" \"     \" \"    \" \"       \n",
       "5  ( 1 )  \" \"    \" \"     \"*\"       \"*\"     \" \"     \" \"    \" \"       \n",
       "6  ( 1 )  \" \"    \" \"     \"*\"       \"*\"     \" \"     \" \"    \" \"       \n",
       "7  ( 1 )  \" \"    \" \"     \"*\"       \"*\"     \" \"     \" \"    \" \"       \n",
       "8  ( 1 )  \"*\"    \" \"     \"*\"       \"*\"     \" \"     \" \"    \" \"       \n",
       "9  ( 1 )  \"*\"    \" \"     \"*\"       \"*\"     \" \"     \" \"    \" \"       \n",
       "10  ( 1 ) \"*\"    \" \"     \"*\"       \"*\"     \"*\"     \" \"    \" \"       \n",
       "11  ( 1 ) \"*\"    \"*\"     \"*\"       \"*\"     \"*\"     \" \"    \" \"       \n",
       "12  ( 1 ) \"*\"    \"*\"     \"*\"       \"*\"     \"*\"     \" \"    \" \"       \n",
       "13  ( 1 ) \"*\"    \"*\"     \"*\"       \"*\"     \"*\"     \"*\"    \" \"       \n",
       "14  ( 1 ) \"*\"    \"*\"     \"*\"       \"*\"     \"*\"     \"*\"    \" \"       \n",
       "15  ( 1 ) \"*\"    \"*\"     \"*\"       \"*\"     \"*\"     \"*\"    \" \"       \n",
       "16  ( 1 ) \"*\"    \"*\"     \"*\"       \"*\"     \"*\"     \"*\"    \" \"       \n",
       "17  ( 1 ) \"*\"    \"*\"     \"*\"       \"*\"     \"*\"     \"*\"    \"*\"       \n",
       "18  ( 1 ) \"*\"    \"*\"     \"*\"       \"*\"     \"*\"     \"*\"    \"*\"       \n",
       "19  ( 1 ) \"*\"    \"*\"     \"*\"       \"*\"     \"*\"     \"*\"    \"*\"       "
      ]
     },
     "metadata": {},
     "output_type": "display_data"
    }
   ],
   "source": [
    "reg.summary"
   ]
  },
  {
   "cell_type": "markdown",
   "metadata": {},
   "source": [
    "The <span style=\"color:#a5541a\">summary()</span> function also returns $R^2$, $RSS$, adjusted $R^2$, $C_p$, and $BIC$. We can examine these to try to select the best overall model."
   ]
  },
  {
   "cell_type": "code",
   "execution_count": 10,
   "metadata": {},
   "outputs": [
    {
     "data": {
      "text/html": [
       "<ol class=list-inline>\n",
       "\t<li>'which'</li>\n",
       "\t<li>'rsq'</li>\n",
       "\t<li>'rss'</li>\n",
       "\t<li>'adjr2'</li>\n",
       "\t<li>'cp'</li>\n",
       "\t<li>'bic'</li>\n",
       "\t<li>'outmat'</li>\n",
       "\t<li>'obj'</li>\n",
       "</ol>\n"
      ],
      "text/latex": [
       "\\begin{enumerate*}\n",
       "\\item 'which'\n",
       "\\item 'rsq'\n",
       "\\item 'rss'\n",
       "\\item 'adjr2'\n",
       "\\item 'cp'\n",
       "\\item 'bic'\n",
       "\\item 'outmat'\n",
       "\\item 'obj'\n",
       "\\end{enumerate*}\n"
      ],
      "text/markdown": [
       "1. 'which'\n",
       "2. 'rsq'\n",
       "3. 'rss'\n",
       "4. 'adjr2'\n",
       "5. 'cp'\n",
       "6. 'bic'\n",
       "7. 'outmat'\n",
       "8. 'obj'\n",
       "\n",
       "\n"
      ],
      "text/plain": [
       "[1] \"which\"  \"rsq\"    \"rss\"    \"adjr2\"  \"cp\"     \"bic\"    \"outmat\" \"obj\"   "
      ]
     },
     "metadata": {},
     "output_type": "display_data"
    }
   ],
   "source": [
    "names(reg.summary)"
   ]
  },
  {
   "cell_type": "markdown",
   "metadata": {},
   "source": [
    "For instance, we see that the $R^2$ statistic increases from 32%, when only one variable is included in the model, to almost 55%, when all variables are included. As expected, the $R^2$ statistic increases monotonically as more variables are included."
   ]
  },
  {
   "cell_type": "code",
   "execution_count": 12,
   "metadata": {},
   "outputs": [
    {
     "data": {
      "text/html": [
       "<ol class=list-inline>\n",
       "\t<li>0.321450088667894</li>\n",
       "\t<li>0.425223746466778</li>\n",
       "\t<li>0.451429415717957</li>\n",
       "\t<li>0.475406653394787</li>\n",
       "\t<li>0.490803615963518</li>\n",
       "\t<li>0.508714557358996</li>\n",
       "\t<li>0.514122682361273</li>\n",
       "\t<li>0.528556860302574</li>\n",
       "\t<li>0.534612447792431</li>\n",
       "\t<li>0.540494950940798</li>\n",
       "\t<li>0.54261532542542</li>\n",
       "\t<li>0.543630208632163</li>\n",
       "\t<li>0.544457014231977</li>\n",
       "\t<li>0.545216356301489</li>\n",
       "\t<li>0.545469230681164</li>\n",
       "\t<li>0.54576555748528</li>\n",
       "\t<li>0.545951808076699</li>\n",
       "\t<li>0.546094522341906</li>\n",
       "\t<li>0.546115861912532</li>\n",
       "</ol>\n"
      ],
      "text/latex": [
       "\\begin{enumerate*}\n",
       "\\item 0.321450088667894\n",
       "\\item 0.425223746466778\n",
       "\\item 0.451429415717957\n",
       "\\item 0.475406653394787\n",
       "\\item 0.490803615963518\n",
       "\\item 0.508714557358996\n",
       "\\item 0.514122682361273\n",
       "\\item 0.528556860302574\n",
       "\\item 0.534612447792431\n",
       "\\item 0.540494950940798\n",
       "\\item 0.54261532542542\n",
       "\\item 0.543630208632163\n",
       "\\item 0.544457014231977\n",
       "\\item 0.545216356301489\n",
       "\\item 0.545469230681164\n",
       "\\item 0.54576555748528\n",
       "\\item 0.545951808076699\n",
       "\\item 0.546094522341906\n",
       "\\item 0.546115861912532\n",
       "\\end{enumerate*}\n"
      ],
      "text/markdown": [
       "1. 0.321450088667894\n",
       "2. 0.425223746466778\n",
       "3. 0.451429415717957\n",
       "4. 0.475406653394787\n",
       "5. 0.490803615963518\n",
       "6. 0.508714557358996\n",
       "7. 0.514122682361273\n",
       "8. 0.528556860302574\n",
       "9. 0.534612447792431\n",
       "10. 0.540494950940798\n",
       "11. 0.54261532542542\n",
       "12. 0.543630208632163\n",
       "13. 0.544457014231977\n",
       "14. 0.545216356301489\n",
       "15. 0.545469230681164\n",
       "16. 0.54576555748528\n",
       "17. 0.545951808076699\n",
       "18. 0.546094522341906\n",
       "19. 0.546115861912532\n",
       "\n",
       "\n"
      ],
      "text/plain": [
       " [1] 0.3214501 0.4252237 0.4514294 0.4754067 0.4908036 0.5087146 0.5141227\n",
       " [8] 0.5285569 0.5346124 0.5404950 0.5426153 0.5436302 0.5444570 0.5452164\n",
       "[15] 0.5454692 0.5457656 0.5459518 0.5460945 0.5461159"
      ]
     },
     "metadata": {},
     "output_type": "display_data"
    }
   ],
   "source": [
    "reg.summary$rsq"
   ]
  },
  {
   "cell_type": "markdown",
   "metadata": {},
   "source": [
    "Plotting $RSS$, adjusted $R^2$, $C_p$, and $BIC$ for all of the models at once will help us decide which model to select. Note the <span style=\"color:#a5541a\">type=\"l\"</span> option tells R to connect the plotted points with lines."
   ]
  },
  {
   "cell_type": "code",
   "execution_count": 13,
   "metadata": {
    "scrolled": true
   },
   "outputs": [
    {
     "data": {
      "image/png": "[encoded data removed]",
      "text/plain": [
       "plot without title"
      ]
     },
     "metadata": {},
     "output_type": "display_data"
    }
   ],
   "source": [
    "par(mfrow = c(2,2))\n",
    "plot(reg.summary$rss, xlab=\"Number of Variables\", ylab=\"RSS\", type=\"l\")\n",
    "plot(reg.summary$adjr2, xlab=\"Number of Variables\", ylab=\"Adjusted RSq\", type=\"l\")"
   ]
  },
  {
   "cell_type": "markdown",
   "metadata": {},
   "source": [
    "The <span style=\"color:#a5541a\">points()</span> command works like the <span style=\"color:#a5541a\">plot()</span> command, except that it puts points on a plot that has already been created, instead of creating a new plot. The <span style=\"color:#a5541a\">which.max()</span> function can be used to identify the location of the maximum point of a vector. We will now plot a red dot to indicate the model with the largest adjusted $R^2$ statistic."
   ]
  },
  {
   "cell_type": "code",
   "execution_count": 14,
   "metadata": {},
   "outputs": [
    {
     "data": {
      "text/html": [
       "11"
      ],
      "text/latex": [
       "11"
      ],
      "text/markdown": [
       "11"
      ],
      "text/plain": [
       "[1] 11"
      ]
     },
     "metadata": {},
     "output_type": "display_data"
    }
   ],
   "source": [
    "which.max(reg.summary$adjr2)"
   ]
  },
  {
   "cell_type": "code",
   "execution_count": 15,
   "metadata": {
    "scrolled": true
   },
   "outputs": [
    {
     "data": {
      "image/png": "[encoded data removed]",
      "text/plain": [
       "plot without title"
      ]
     },
     "metadata": {},
     "output_type": "display_data"
    }
   ],
   "source": [
    "par(mfrow = c(2,2))\n",
    "plot(reg.summary$rss, xlab=\"Number of Variables\", ylab=\"RSS\", type=\"l\")\n",
    "plot(reg.summary$adjr2, xlab=\"Number of Variables\", ylab=\"Adjusted RSq\", type=\"l\")\n",
    "points(11, reg.summary$adjr2[11], col=\"red\", cex=2, pch=20)"
   ]
  },
  {
   "cell_type": "markdown",
   "metadata": {},
   "source": [
    "In a similar fashion we can plot the $C_p$ and $BIC$ statistics, and indicate the models with the smallest statistic using <span style=\"color:#a5541a\">which.min()</span>."
   ]
  },
  {
   "cell_type": "code",
   "execution_count": 16,
   "metadata": {},
   "outputs": [
    {
     "data": {
      "text/html": [
       "10"
      ],
      "text/latex": [
       "10"
      ],
      "text/markdown": [
       "10"
      ],
      "text/plain": [
       "[1] 10"
      ]
     },
     "metadata": {},
     "output_type": "display_data"
    }
   ],
   "source": [
    "which.min(reg.summary$cp)"
   ]
  },
  {
   "cell_type": "code",
   "execution_count": 17,
   "metadata": {},
   "outputs": [
    {
     "data": {
      "image/png": "[encoded data removed]",
      "text/plain": [
       "plot without title"
      ]
     },
     "metadata": {},
     "output_type": "display_data"
    }
   ],
   "source": [
    "plot(reg.summary$cp, xlab =\"Number of Variables\", ylab=\"Cp\", type='l')\n",
    "points(10, reg.summary$cp[10], col=\"red\", cex =2, pch=20)"
   ]
  },
  {
   "cell_type": "code",
   "execution_count": 18,
   "metadata": {},
   "outputs": [
    {
     "data": {
      "text/html": [
       "6"
      ],
      "text/latex": [
       "6"
      ],
      "text/markdown": [
       "6"
      ],
      "text/plain": [
       "[1] 6"
      ]
     },
     "metadata": {},
     "output_type": "display_data"
    }
   ],
   "source": [
    "which.min(reg.summary$bic)"
   ]
  },
  {
   "cell_type": "code",
   "execution_count": 19,
   "metadata": {},
   "outputs": [
    {
     "data": {
      "image/png": "[encoded data removed]",
      "text/plain": [
       "plot without title"
      ]
     },
     "metadata": {},
     "output_type": "display_data"
    }
   ],
   "source": [
    "plot(reg.summary$bic, xlab=\"Number of Variables\", ylab=\"BIC\", type='l')\n",
    "points(6, reg.summary$bic[6], col=\"red\", cex=2, pch=20)"
   ]
  },
  {
   "cell_type": "markdown",
   "metadata": {},
   "source": [
    "The <span style=\"color:#a5541a\">regsubsets()</span> function has a built-in <span style=\"color:#a5541a\">plot()</span> command which can be used to display the selected variables for the best model with a given number of predictors, ranked according to the BIC, $C_p$, adjusted $R^2$, or AIC. To find out more about this function, type <span style=\"color:#a5541a\">?plot.regsubsets</span>."
   ]
  },
  {
   "cell_type": "code",
   "execution_count": 20,
   "metadata": {},
   "outputs": [
    {
     "data": {
      "image/png": "[encoded data removed]",
      "text/plain": [
       "plot without title"
      ]
     },
     "metadata": {},
     "output_type": "display_data"
    },
    {
     "data": {
      "image/png": "[encoded data removed]",
      "text/plain": [
       "plot without title"
      ]
     },
     "metadata": {},
     "output_type": "display_data"
    },
    {
     "data": {
      "image/png": "[encoded data removed]",
      "text/plain": [
       "plot without title"
      ]
     },
     "metadata": {},
     "output_type": "display_data"
    },
    {
     "data": {
      "image/png": "[encoded data removed]",
      "text/plain": [
       "plot without title"
      ]
     },
     "metadata": {},
     "output_type": "display_data"
    }
   ],
   "source": [
    "plot(regfit.full, scale = \"r2\")\n",
    "plot(regfit.full, scale = \"adjr2\")\n",
    "plot(regfit.full, scale = \"Cp\")\n",
    "plot(regfit.full, scale = \"bic\")"
   ]
  },
  {
   "cell_type": "markdown",
   "metadata": {},
   "source": [
    "The top row of each plot contains a black square for each variable selected according to the optimal model associated with that statistic. For instance, we see that several models share a BIC close to −150. However, the model with the lowest BIC is the six-variable model that contains only <span style=\"color:#a5541a\">AtBat</span>, <span style=\"color:#a5541a\">Hits</span>, <span style=\"color:#a5541a\">Walks</span>, <span style=\"color:#a5541a\">CRBI</span>, <span style=\"color:#a5541a\">DivisionW</span>, and <span style=\"color:#a5541a\">PutOuts</span>. We can use the <span style=\"color:#a5541a\">coef()</span> function to see the coefficient estimates associated with this model."
   ]
  },
  {
   "cell_type": "code",
   "execution_count": 21,
   "metadata": {},
   "outputs": [
    {
     "data": {
      "text/html": [
       "<dl class=dl-horizontal>\n",
       "\t<dt>(Intercept)</dt>\n",
       "\t\t<dd>91.5117981171539</dd>\n",
       "\t<dt>AtBat</dt>\n",
       "\t\t<dd>-1.86858923135561</dd>\n",
       "\t<dt>Hits</dt>\n",
       "\t\t<dd>7.60439763117204</dd>\n",
       "\t<dt>Walks</dt>\n",
       "\t\t<dd>3.69764677424139</dd>\n",
       "\t<dt>CRBI</dt>\n",
       "\t\t<dd>0.643016935097332</dd>\n",
       "\t<dt>DivisionW</dt>\n",
       "\t\t<dd>-122.95153377292</dd>\n",
       "\t<dt>PutOuts</dt>\n",
       "\t\t<dd>0.264307605461511</dd>\n",
       "</dl>\n"
      ],
      "text/latex": [
       "\\begin{description*}\n",
       "\\item[(Intercept)] 91.5117981171539\n",
       "\\item[AtBat] -1.86858923135561\n",
       "\\item[Hits] 7.60439763117204\n",
       "\\item[Walks] 3.69764677424139\n",
       "\\item[CRBI] 0.643016935097332\n",
       "\\item[DivisionW] -122.95153377292\n",
       "\\item[PutOuts] 0.264307605461511\n",
       "\\end{description*}\n"
      ],
      "text/markdown": [
       "(Intercept)\n",
       ":   91.5117981171539AtBat\n",
       ":   -1.86858923135561Hits\n",
       ":   7.60439763117204Walks\n",
       ":   3.69764677424139CRBI\n",
       ":   0.643016935097332DivisionW\n",
       ":   -122.95153377292PutOuts\n",
       ":   0.264307605461511\n",
       "\n"
      ],
      "text/plain": [
       " (Intercept)        AtBat         Hits        Walks         CRBI    DivisionW \n",
       "  91.5117981   -1.8685892    7.6043976    3.6976468    0.6430169 -122.9515338 \n",
       "     PutOuts \n",
       "   0.2643076 "
      ]
     },
     "metadata": {},
     "output_type": "display_data"
    }
   ],
   "source": [
    "coef(regfit.full, 6)"
   ]
  },
  {
   "cell_type": "markdown",
   "metadata": {},
   "source": [
    "<span style=\"color:#4774bc\">Forward and Backward Stepwise Selection</span>"
   ]
  },
  {
   "cell_type": "markdown",
   "metadata": {},
   "source": [
    "We can also use the <span style=\"color:#a5541a\">regsubsets()</span> function to perform forward stepwise or backward stepwise selection, using the argument <span style=\"color:#a5541a\">method=\"forward\"</span> or <span style=\"color:#a5541a\">method=\"backward\"</span>."
   ]
  },
  {
   "cell_type": "code",
   "execution_count": 22,
   "metadata": {
    "scrolled": true
   },
   "outputs": [
    {
     "data": {
      "text/plain": [
       "Subset selection object\n",
       "Call: regsubsets.formula(Salary ~ ., data = Hitters, nvmax = 19, method = \"forward\")\n",
       "19 Variables  (and intercept)\n",
       "           Forced in Forced out\n",
       "AtBat          FALSE      FALSE\n",
       "Hits           FALSE      FALSE\n",
       "HmRun          FALSE      FALSE\n",
       "Runs           FALSE      FALSE\n",
       "RBI            FALSE      FALSE\n",
       "Walks          FALSE      FALSE\n",
       "Years          FALSE      FALSE\n",
       "CAtBat         FALSE      FALSE\n",
       "CHits          FALSE      FALSE\n",
       "CHmRun         FALSE      FALSE\n",
       "CRuns          FALSE      FALSE\n",
       "CRBI           FALSE      FALSE\n",
       "CWalks         FALSE      FALSE\n",
       "LeagueN        FALSE      FALSE\n",
       "DivisionW      FALSE      FALSE\n",
       "PutOuts        FALSE      FALSE\n",
       "Assists        FALSE      FALSE\n",
       "Errors         FALSE      FALSE\n",
       "NewLeagueN     FALSE      FALSE\n",
       "1 subsets of each size up to 19\n",
       "Selection Algorithm: forward\n",
       "          AtBat Hits HmRun Runs RBI Walks Years CAtBat CHits CHmRun CRuns CRBI\n",
       "1  ( 1 )  \" \"   \" \"  \" \"   \" \"  \" \" \" \"   \" \"   \" \"    \" \"   \" \"    \" \"   \"*\" \n",
       "2  ( 1 )  \" \"   \"*\"  \" \"   \" \"  \" \" \" \"   \" \"   \" \"    \" \"   \" \"    \" \"   \"*\" \n",
       "3  ( 1 )  \" \"   \"*\"  \" \"   \" \"  \" \" \" \"   \" \"   \" \"    \" \"   \" \"    \" \"   \"*\" \n",
       "4  ( 1 )  \" \"   \"*\"  \" \"   \" \"  \" \" \" \"   \" \"   \" \"    \" \"   \" \"    \" \"   \"*\" \n",
       "5  ( 1 )  \"*\"   \"*\"  \" \"   \" \"  \" \" \" \"   \" \"   \" \"    \" \"   \" \"    \" \"   \"*\" \n",
       "6  ( 1 )  \"*\"   \"*\"  \" \"   \" \"  \" \" \"*\"   \" \"   \" \"    \" \"   \" \"    \" \"   \"*\" \n",
       "7  ( 1 )  \"*\"   \"*\"  \" \"   \" \"  \" \" \"*\"   \" \"   \" \"    \" \"   \" \"    \" \"   \"*\" \n",
       "8  ( 1 )  \"*\"   \"*\"  \" \"   \" \"  \" \" \"*\"   \" \"   \" \"    \" \"   \" \"    \"*\"   \"*\" \n",
       "9  ( 1 )  \"*\"   \"*\"  \" \"   \" \"  \" \" \"*\"   \" \"   \"*\"    \" \"   \" \"    \"*\"   \"*\" \n",
       "10  ( 1 ) \"*\"   \"*\"  \" \"   \" \"  \" \" \"*\"   \" \"   \"*\"    \" \"   \" \"    \"*\"   \"*\" \n",
       "11  ( 1 ) \"*\"   \"*\"  \" \"   \" \"  \" \" \"*\"   \" \"   \"*\"    \" \"   \" \"    \"*\"   \"*\" \n",
       "12  ( 1 ) \"*\"   \"*\"  \" \"   \"*\"  \" \" \"*\"   \" \"   \"*\"    \" \"   \" \"    \"*\"   \"*\" \n",
       "13  ( 1 ) \"*\"   \"*\"  \" \"   \"*\"  \" \" \"*\"   \" \"   \"*\"    \" \"   \" \"    \"*\"   \"*\" \n",
       "14  ( 1 ) \"*\"   \"*\"  \"*\"   \"*\"  \" \" \"*\"   \" \"   \"*\"    \" \"   \" \"    \"*\"   \"*\" \n",
       "15  ( 1 ) \"*\"   \"*\"  \"*\"   \"*\"  \" \" \"*\"   \" \"   \"*\"    \"*\"   \" \"    \"*\"   \"*\" \n",
       "16  ( 1 ) \"*\"   \"*\"  \"*\"   \"*\"  \"*\" \"*\"   \" \"   \"*\"    \"*\"   \" \"    \"*\"   \"*\" \n",
       "17  ( 1 ) \"*\"   \"*\"  \"*\"   \"*\"  \"*\" \"*\"   \" \"   \"*\"    \"*\"   \" \"    \"*\"   \"*\" \n",
       "18  ( 1 ) \"*\"   \"*\"  \"*\"   \"*\"  \"*\" \"*\"   \"*\"   \"*\"    \"*\"   \" \"    \"*\"   \"*\" \n",
       "19  ( 1 ) \"*\"   \"*\"  \"*\"   \"*\"  \"*\" \"*\"   \"*\"   \"*\"    \"*\"   \"*\"    \"*\"   \"*\" \n",
       "          CWalks LeagueN DivisionW PutOuts Assists Errors NewLeagueN\n",
       "1  ( 1 )  \" \"    \" \"     \" \"       \" \"     \" \"     \" \"    \" \"       \n",
       "2  ( 1 )  \" \"    \" \"     \" \"       \" \"     \" \"     \" \"    \" \"       \n",
       "3  ( 1 )  \" \"    \" \"     \" \"       \"*\"     \" \"     \" \"    \" \"       \n",
       "4  ( 1 )  \" \"    \" \"     \"*\"       \"*\"     \" \"     \" \"    \" \"       \n",
       "5  ( 1 )  \" \"    \" \"     \"*\"       \"*\"     \" \"     \" \"    \" \"       \n",
       "6  ( 1 )  \" \"    \" \"     \"*\"       \"*\"     \" \"     \" \"    \" \"       \n",
       "7  ( 1 )  \"*\"    \" \"     \"*\"       \"*\"     \" \"     \" \"    \" \"       \n",
       "8  ( 1 )  \"*\"    \" \"     \"*\"       \"*\"     \" \"     \" \"    \" \"       \n",
       "9  ( 1 )  \"*\"    \" \"     \"*\"       \"*\"     \" \"     \" \"    \" \"       \n",
       "10  ( 1 ) \"*\"    \" \"     \"*\"       \"*\"     \"*\"     \" \"    \" \"       \n",
       "11  ( 1 ) \"*\"    \"*\"     \"*\"       \"*\"     \"*\"     \" \"    \" \"       \n",
       "12  ( 1 ) \"*\"    \"*\"     \"*\"       \"*\"     \"*\"     \" \"    \" \"       \n",
       "13  ( 1 ) \"*\"    \"*\"     \"*\"       \"*\"     \"*\"     \"*\"    \" \"       \n",
       "14  ( 1 ) \"*\"    \"*\"     \"*\"       \"*\"     \"*\"     \"*\"    \" \"       \n",
       "15  ( 1 ) \"*\"    \"*\"     \"*\"       \"*\"     \"*\"     \"*\"    \" \"       \n",
       "16  ( 1 ) \"*\"    \"*\"     \"*\"       \"*\"     \"*\"     \"*\"    \" \"       \n",
       "17  ( 1 ) \"*\"    \"*\"     \"*\"       \"*\"     \"*\"     \"*\"    \"*\"       \n",
       "18  ( 1 ) \"*\"    \"*\"     \"*\"       \"*\"     \"*\"     \"*\"    \"*\"       \n",
       "19  ( 1 ) \"*\"    \"*\"     \"*\"       \"*\"     \"*\"     \"*\"    \"*\"       "
      ]
     },
     "metadata": {},
     "output_type": "display_data"
    }
   ],
   "source": [
    "regfit.fwd=regsubsets(Salary~., data=Hitters, nvmax=19, method=\"forward\")\n",
    "summary(regfit.fwd)"
   ]
  },
  {
   "cell_type": "code",
   "execution_count": 23,
   "metadata": {
    "scrolled": true
   },
   "outputs": [
    {
     "data": {
      "text/plain": [
       "Subset selection object\n",
       "Call: regsubsets.formula(Salary ~ ., data = Hitters, nvmax = 19, method = \"backward\")\n",
       "19 Variables  (and intercept)\n",
       "           Forced in Forced out\n",
       "AtBat          FALSE      FALSE\n",
       "Hits           FALSE      FALSE\n",
       "HmRun          FALSE      FALSE\n",
       "Runs           FALSE      FALSE\n",
       "RBI            FALSE      FALSE\n",
       "Walks          FALSE      FALSE\n",
       "Years          FALSE      FALSE\n",
       "CAtBat         FALSE      FALSE\n",
       "CHits          FALSE      FALSE\n",
       "CHmRun         FALSE      FALSE\n",
       "CRuns          FALSE      FALSE\n",
       "CRBI           FALSE      FALSE\n",
       "CWalks         FALSE      FALSE\n",
       "LeagueN        FALSE      FALSE\n",
       "DivisionW      FALSE      FALSE\n",
       "PutOuts        FALSE      FALSE\n",
       "Assists        FALSE      FALSE\n",
       "Errors         FALSE      FALSE\n",
       "NewLeagueN     FALSE      FALSE\n",
       "1 subsets of each size up to 19\n",
       "Selection Algorithm: backward\n",
       "          AtBat Hits HmRun Runs RBI Walks Years CAtBat CHits CHmRun CRuns CRBI\n",
       "1  ( 1 )  \" \"   \" \"  \" \"   \" \"  \" \" \" \"   \" \"   \" \"    \" \"   \" \"    \"*\"   \" \" \n",
       "2  ( 1 )  \" \"   \"*\"  \" \"   \" \"  \" \" \" \"   \" \"   \" \"    \" \"   \" \"    \"*\"   \" \" \n",
       "3  ( 1 )  \" \"   \"*\"  \" \"   \" \"  \" \" \" \"   \" \"   \" \"    \" \"   \" \"    \"*\"   \" \" \n",
       "4  ( 1 )  \"*\"   \"*\"  \" \"   \" \"  \" \" \" \"   \" \"   \" \"    \" \"   \" \"    \"*\"   \" \" \n",
       "5  ( 1 )  \"*\"   \"*\"  \" \"   \" \"  \" \" \"*\"   \" \"   \" \"    \" \"   \" \"    \"*\"   \" \" \n",
       "6  ( 1 )  \"*\"   \"*\"  \" \"   \" \"  \" \" \"*\"   \" \"   \" \"    \" \"   \" \"    \"*\"   \" \" \n",
       "7  ( 1 )  \"*\"   \"*\"  \" \"   \" \"  \" \" \"*\"   \" \"   \" \"    \" \"   \" \"    \"*\"   \" \" \n",
       "8  ( 1 )  \"*\"   \"*\"  \" \"   \" \"  \" \" \"*\"   \" \"   \" \"    \" \"   \" \"    \"*\"   \"*\" \n",
       "9  ( 1 )  \"*\"   \"*\"  \" \"   \" \"  \" \" \"*\"   \" \"   \"*\"    \" \"   \" \"    \"*\"   \"*\" \n",
       "10  ( 1 ) \"*\"   \"*\"  \" \"   \" \"  \" \" \"*\"   \" \"   \"*\"    \" \"   \" \"    \"*\"   \"*\" \n",
       "11  ( 1 ) \"*\"   \"*\"  \" \"   \" \"  \" \" \"*\"   \" \"   \"*\"    \" \"   \" \"    \"*\"   \"*\" \n",
       "12  ( 1 ) \"*\"   \"*\"  \" \"   \"*\"  \" \" \"*\"   \" \"   \"*\"    \" \"   \" \"    \"*\"   \"*\" \n",
       "13  ( 1 ) \"*\"   \"*\"  \" \"   \"*\"  \" \" \"*\"   \" \"   \"*\"    \" \"   \" \"    \"*\"   \"*\" \n",
       "14  ( 1 ) \"*\"   \"*\"  \"*\"   \"*\"  \" \" \"*\"   \" \"   \"*\"    \" \"   \" \"    \"*\"   \"*\" \n",
       "15  ( 1 ) \"*\"   \"*\"  \"*\"   \"*\"  \" \" \"*\"   \" \"   \"*\"    \"*\"   \" \"    \"*\"   \"*\" \n",
       "16  ( 1 ) \"*\"   \"*\"  \"*\"   \"*\"  \"*\" \"*\"   \" \"   \"*\"    \"*\"   \" \"    \"*\"   \"*\" \n",
       "17  ( 1 ) \"*\"   \"*\"  \"*\"   \"*\"  \"*\" \"*\"   \" \"   \"*\"    \"*\"   \" \"    \"*\"   \"*\" \n",
       "18  ( 1 ) \"*\"   \"*\"  \"*\"   \"*\"  \"*\" \"*\"   \"*\"   \"*\"    \"*\"   \" \"    \"*\"   \"*\" \n",
       "19  ( 1 ) \"*\"   \"*\"  \"*\"   \"*\"  \"*\" \"*\"   \"*\"   \"*\"    \"*\"   \"*\"    \"*\"   \"*\" \n",
       "          CWalks LeagueN DivisionW PutOuts Assists Errors NewLeagueN\n",
       "1  ( 1 )  \" \"    \" \"     \" \"       \" \"     \" \"     \" \"    \" \"       \n",
       "2  ( 1 )  \" \"    \" \"     \" \"       \" \"     \" \"     \" \"    \" \"       \n",
       "3  ( 1 )  \" \"    \" \"     \" \"       \"*\"     \" \"     \" \"    \" \"       \n",
       "4  ( 1 )  \" \"    \" \"     \" \"       \"*\"     \" \"     \" \"    \" \"       \n",
       "5  ( 1 )  \" \"    \" \"     \" \"       \"*\"     \" \"     \" \"    \" \"       \n",
       "6  ( 1 )  \" \"    \" \"     \"*\"       \"*\"     \" \"     \" \"    \" \"       \n",
       "7  ( 1 )  \"*\"    \" \"     \"*\"       \"*\"     \" \"     \" \"    \" \"       \n",
       "8  ( 1 )  \"*\"    \" \"     \"*\"       \"*\"     \" \"     \" \"    \" \"       \n",
       "9  ( 1 )  \"*\"    \" \"     \"*\"       \"*\"     \" \"     \" \"    \" \"       \n",
       "10  ( 1 ) \"*\"    \" \"     \"*\"       \"*\"     \"*\"     \" \"    \" \"       \n",
       "11  ( 1 ) \"*\"    \"*\"     \"*\"       \"*\"     \"*\"     \" \"    \" \"       \n",
       "12  ( 1 ) \"*\"    \"*\"     \"*\"       \"*\"     \"*\"     \" \"    \" \"       \n",
       "13  ( 1 ) \"*\"    \"*\"     \"*\"       \"*\"     \"*\"     \"*\"    \" \"       \n",
       "14  ( 1 ) \"*\"    \"*\"     \"*\"       \"*\"     \"*\"     \"*\"    \" \"       \n",
       "15  ( 1 ) \"*\"    \"*\"     \"*\"       \"*\"     \"*\"     \"*\"    \" \"       \n",
       "16  ( 1 ) \"*\"    \"*\"     \"*\"       \"*\"     \"*\"     \"*\"    \" \"       \n",
       "17  ( 1 ) \"*\"    \"*\"     \"*\"       \"*\"     \"*\"     \"*\"    \"*\"       \n",
       "18  ( 1 ) \"*\"    \"*\"     \"*\"       \"*\"     \"*\"     \"*\"    \"*\"       \n",
       "19  ( 1 ) \"*\"    \"*\"     \"*\"       \"*\"     \"*\"     \"*\"    \"*\"       "
      ]
     },
     "metadata": {},
     "output_type": "display_data"
    }
   ],
   "source": [
    "regfit.bwd=regsubsets(Salary~., data=Hitters, nvmax=19, method=\"backward\")\n",
    "summary(regfit.bwd)"
   ]
  },
  {
   "cell_type": "markdown",
   "metadata": {},
   "source": [
    "For instance, we see that using forward stepwise selection, the best onevariable model contains only <span style=\"color:#a5541a\">CRBI</span>, and the best two-variable model additionally includes <span style=\"color:#a5541a\">Hits</span>. For this data, the best one-variable through six variable models are each identical for best subset and forward selection. However, the best seven-variable models identified by forward stepwise selection,\n",
    "backward stepwise selection, and best subset selection are different"
   ]
  },
  {
   "cell_type": "code",
   "execution_count": 24,
   "metadata": {},
   "outputs": [
    {
     "data": {
      "text/html": [
       "<dl class=dl-horizontal>\n",
       "\t<dt>(Intercept)</dt>\n",
       "\t\t<dd>79.4509472435319</dd>\n",
       "\t<dt>Hits</dt>\n",
       "\t\t<dd>1.28335125463328</dd>\n",
       "\t<dt>Walks</dt>\n",
       "\t\t<dd>3.22742638972714</dd>\n",
       "\t<dt>CAtBat</dt>\n",
       "\t\t<dd>-0.375235019565453</dd>\n",
       "\t<dt>CHits</dt>\n",
       "\t\t<dd>1.49570730989869</dd>\n",
       "\t<dt>CHmRun</dt>\n",
       "\t\t<dd>1.44205381889666</dd>\n",
       "\t<dt>DivisionW</dt>\n",
       "\t\t<dd>-129.986643165116</dd>\n",
       "\t<dt>PutOuts</dt>\n",
       "\t\t<dd>0.236681317525621</dd>\n",
       "</dl>\n"
      ],
      "text/latex": [
       "\\begin{description*}\n",
       "\\item[(Intercept)] 79.4509472435319\n",
       "\\item[Hits] 1.28335125463328\n",
       "\\item[Walks] 3.22742638972714\n",
       "\\item[CAtBat] -0.375235019565453\n",
       "\\item[CHits] 1.49570730989869\n",
       "\\item[CHmRun] 1.44205381889666\n",
       "\\item[DivisionW] -129.986643165116\n",
       "\\item[PutOuts] 0.236681317525621\n",
       "\\end{description*}\n"
      ],
      "text/markdown": [
       "(Intercept)\n",
       ":   79.4509472435319Hits\n",
       ":   1.28335125463328Walks\n",
       ":   3.22742638972714CAtBat\n",
       ":   -0.375235019565453CHits\n",
       ":   1.49570730989869CHmRun\n",
       ":   1.44205381889666DivisionW\n",
       ":   -129.986643165116PutOuts\n",
       ":   0.236681317525621\n",
       "\n"
      ],
      "text/plain": [
       " (Intercept)         Hits        Walks       CAtBat        CHits       CHmRun \n",
       "  79.4509472    1.2833513    3.2274264   -0.3752350    1.4957073    1.4420538 \n",
       "   DivisionW      PutOuts \n",
       "-129.9866432    0.2366813 "
      ]
     },
     "metadata": {},
     "output_type": "display_data"
    }
   ],
   "source": [
    "coef(regfit.full, 7)"
   ]
  },
  {
   "cell_type": "code",
   "execution_count": 25,
   "metadata": {},
   "outputs": [
    {
     "data": {
      "text/html": [
       "<dl class=dl-horizontal>\n",
       "\t<dt>(Intercept)</dt>\n",
       "\t\t<dd>109.787306240078</dd>\n",
       "\t<dt>AtBat</dt>\n",
       "\t\t<dd>-1.95888512315655</dd>\n",
       "\t<dt>Hits</dt>\n",
       "\t\t<dd>7.44987721841218</dd>\n",
       "\t<dt>Walks</dt>\n",
       "\t\t<dd>4.91314009272066</dd>\n",
       "\t<dt>CRBI</dt>\n",
       "\t\t<dd>0.853762209061578</dd>\n",
       "\t<dt>CWalks</dt>\n",
       "\t\t<dd>-0.305307000381738</dd>\n",
       "\t<dt>DivisionW</dt>\n",
       "\t\t<dd>-127.122392777488</dd>\n",
       "\t<dt>PutOuts</dt>\n",
       "\t\t<dd>0.253340431147386</dd>\n",
       "</dl>\n"
      ],
      "text/latex": [
       "\\begin{description*}\n",
       "\\item[(Intercept)] 109.787306240078\n",
       "\\item[AtBat] -1.95888512315655\n",
       "\\item[Hits] 7.44987721841218\n",
       "\\item[Walks] 4.91314009272066\n",
       "\\item[CRBI] 0.853762209061578\n",
       "\\item[CWalks] -0.305307000381738\n",
       "\\item[DivisionW] -127.122392777488\n",
       "\\item[PutOuts] 0.253340431147386\n",
       "\\end{description*}\n"
      ],
      "text/markdown": [
       "(Intercept)\n",
       ":   109.787306240078AtBat\n",
       ":   -1.95888512315655Hits\n",
       ":   7.44987721841218Walks\n",
       ":   4.91314009272066CRBI\n",
       ":   0.853762209061578CWalks\n",
       ":   -0.305307000381738DivisionW\n",
       ":   -127.122392777488PutOuts\n",
       ":   0.253340431147386\n",
       "\n"
      ],
      "text/plain": [
       " (Intercept)        AtBat         Hits        Walks         CRBI       CWalks \n",
       " 109.7873062   -1.9588851    7.4498772    4.9131401    0.8537622   -0.3053070 \n",
       "   DivisionW      PutOuts \n",
       "-127.1223928    0.2533404 "
      ]
     },
     "metadata": {},
     "output_type": "display_data"
    }
   ],
   "source": [
    "coef(regfit.fwd, 7)"
   ]
  },
  {
   "cell_type": "code",
   "execution_count": 26,
   "metadata": {},
   "outputs": [
    {
     "data": {
      "text/html": [
       "<dl class=dl-horizontal>\n",
       "\t<dt>(Intercept)</dt>\n",
       "\t\t<dd>105.648748778828</dd>\n",
       "\t<dt>AtBat</dt>\n",
       "\t\t<dd>-1.97628381026618</dd>\n",
       "\t<dt>Hits</dt>\n",
       "\t\t<dd>6.75749144281392</dd>\n",
       "\t<dt>Walks</dt>\n",
       "\t\t<dd>6.05586912154598</dd>\n",
       "\t<dt>CRuns</dt>\n",
       "\t\t<dd>1.12930946903271</dd>\n",
       "\t<dt>CWalks</dt>\n",
       "\t\t<dd>-0.71633458662198</dd>\n",
       "\t<dt>DivisionW</dt>\n",
       "\t\t<dd>-116.16921690431</dd>\n",
       "\t<dt>PutOuts</dt>\n",
       "\t\t<dd>0.302884743257576</dd>\n",
       "</dl>\n"
      ],
      "text/latex": [
       "\\begin{description*}\n",
       "\\item[(Intercept)] 105.648748778828\n",
       "\\item[AtBat] -1.97628381026618\n",
       "\\item[Hits] 6.75749144281392\n",
       "\\item[Walks] 6.05586912154598\n",
       "\\item[CRuns] 1.12930946903271\n",
       "\\item[CWalks] -0.71633458662198\n",
       "\\item[DivisionW] -116.16921690431\n",
       "\\item[PutOuts] 0.302884743257576\n",
       "\\end{description*}\n"
      ],
      "text/markdown": [
       "(Intercept)\n",
       ":   105.648748778828AtBat\n",
       ":   -1.97628381026618Hits\n",
       ":   6.75749144281392Walks\n",
       ":   6.05586912154598CRuns\n",
       ":   1.12930946903271CWalks\n",
       ":   -0.71633458662198DivisionW\n",
       ":   -116.16921690431PutOuts\n",
       ":   0.302884743257576\n",
       "\n"
      ],
      "text/plain": [
       " (Intercept)        AtBat         Hits        Walks        CRuns       CWalks \n",
       " 105.6487488   -1.9762838    6.7574914    6.0558691    1.1293095   -0.7163346 \n",
       "   DivisionW      PutOuts \n",
       "-116.1692169    0.3028847 "
      ]
     },
     "metadata": {},
     "output_type": "display_data"
    }
   ],
   "source": [
    "coef(regfit.bwd, 7)"
   ]
  },
  {
   "cell_type": "markdown",
   "metadata": {},
   "source": [
    "### <span style=\"color:#4774bc\">Choosing the Optimal Model </span>\n",
    "\n",
    "Best subset selection, forward selection, and backward selection result in the creation of a set of models, each of which contains a subset of the $p$ predictors. We need a way to determine which of these models is best. As discussed before, the model containing all of the predictors will always have the smallest $RSS$ and the largest $R^2$, since these quantities are related to the training error. Instead, we wish to choose a model with a low test error. \n",
    "\n",
    "The training error can be a poor estimate of the test error. Therefore, $RSS$ and $R^2$ are not suitable for selecting the best model among a collection of models with different numbers of predictors. In order to select the best model with respect to test error, we need to estimate this test error.\n",
    "\n",
    "#### <span style=\"color:#4774bc\"> $C_p$, AIC, BIC, and Adjusted $R^2$ </span>\n",
    "\n",
    "\n",
    "The training set $MSE$ is generally an underestimate of the test $MSE$. (Recall that $MSE = RSS/n$.) This is because when we fit a model to the training data using least squares, we specifically estimate the regression coefficients such that the training $RSS$ (but not the test $RSS$) is as small as possible. In particular, the training error will decrease as more variables are included in the model, but the test error may not. Therefore, training set $RSS$ and training set $R^2$ cannot be used to select from among a set of models with different numbers of variables.\n",
    "\n",
    "A number of techniques for adjusting the training error for the model size are available. These approaches can be used to select among a set of models with different numbers of variables. We will discuss four such approaches: $C_p$, <i>Akaike information criterion (AIC)</i>, <i>Bayesian information criterion (BIC)</i>, and <i>adjusted $R^2$</i>.\n",
    "\n",
    "-----\n",
    "\n",
    "<span style=\"color:#4774bc\"> $C_p$:</span> For a fitted least squares model containing d predictors, the $C_p$ estimate of test $MSE$ is computed using the equation\n",
    "\n",
    "$$ C_p = \\frac{1}{n}(RSS+2d\\hat{\\sigma}^2) \\quad\\quad\\quad - \\quad(1) $$\n",
    "\n",
    "where $\\hat{\\sigma}^2$ is an estimate of the variance of the error $\\epsilon$ associated with each response measurement in (1). Essentially, the $C_p$ statistic adds a penalty of $2d\\hat{\\sigma}^2$ to the training $RSS$ in order to adjust for the fact that the training error tends to underestimate the test error. Clearly, the penalty increases as the number of predictors in the model increases. This is intended to adjust for the corresponding decrease in training RSS.\n",
    "\n",
    "\n",
    "**$C_p$:** Mallow's $C_p$ is sometimes defined as ${C'}_p$ = RSS/$\\hat{\\sigma}^2 + 2d − n$. This is equivalent to the definition given above in the sense that $C_p$ = $\\hat{\\sigma}^2(C_p + n)$, and so the model with smallest $C_p$ also has smallest ${C'}_p$\n",
    "\n",
    "-----\n",
    "\n",
    "\n",
    "<span style=\"color:#4774bc\"> $AIC$:</span> The AIC criterion is defined for a large class of models fit by maximum likelihood. In the case of the model (1) with Gaussian errors, maximum likelihood and least squares are the same thing. In this case AIC is given by \n",
    "\n",
    "$$ AIC = \\frac{1}{n\\hat{\\sigma}^2}(RSS+2d\\hat{\\sigma}^2) $$\n",
    "\n",
    "Hence for least squares models, $C_p$ and $AIC$ are proportional to each other\n",
    "\n",
    "----\n",
    "\n",
    "<span style=\"color:#4774bc\"> $BIC$:</span> BIC is derived from a Bayesian point of view, but ends up looking similar to $C_p$ (and $AIC$) as well. For the least squares model with d predictors, the $BIC$ is, up to irrelevant constants, given by\n",
    "\n",
    "$$BIC = \\frac{1}{n} (RSS+log(n)d\\hat{\\sigma}^2)$$\n",
    "\n",
    "Like $C_p$, the $BIC$ will tend to take on a small value for a model with a low test error, and so generally we select the model that has the lowest $BIC$ value. Notice that $BIC$ replaces the $2d\\hat{\\sigma}^2$ used by $C_p$ with a log(n)d$\\hat{\\sigma}^2$\n",
    "term, where $n$ is the number of observations. Since $logn > 2$ for any $n > 7$, the $BIC$ statistic generally places a heavier penalty on models with many variables, and hence results in the selection of smaller models than $C_p$.\n",
    "\n",
    "\n",
    "----\n",
    "\n",
    "\n",
    "<span style=\"color:#4774bc\">Adjusted $R^2: $</span> The adjusted R2 statistic is another popular approach for selecting among\n",
    "a set of models that contain different numbers of variables. The usual $R^2$ is defined as 1 − RSS/TSS, where TSS = $\\sum{(y_i − \\bar{y})}^2$ is the total sum of squares for the response. Since $RSS$ always decreases as more variables are added to the model, the $R^2$ always increases as more variables are added. For a least squares model with d variables, the adjusted $R^2$ statistic is calculated as\n",
    "\n",
    "$$Adjusted\\ R^2 = 1-\\frac{RSS/(n-d-1)}{TSS/(n-1)}$$\n",
    "\n",
    "Unlike $C_p$, $AIC$, and $BIC$, for which a small value indicates a model with a low test error, a large value of adjusted $R^2$ indicates a model with a small test error. Maximizing the adjusted $R^2$ is equivalent to minimizing $\\frac{RSS}{n-d-1}$. While RSS always decreases as the number of variables in the model increases, $\\frac{RSS}{n-d-1}$ may increase or decrease, due to the presence of d in the denominator. \n",
    "\n",
    "The intuition behind the adjusted $R^2$ is that once all of the correct variables have been included in the model, adding additional noise variables will lead to only a very small decrease in RSS. Since adding noise variables leads to an increase in d, such variables will lead to an increase in $\\frac{RSS}{n-d-1}$ and consequently a decrease in the adjusted R2. Therefore, in theory, the model with the largest adjusted $R^2$ will have only correct variables and no noise variables."
   ]
  },
  {
   "cell_type": "markdown",
   "metadata": {
    "collapsed": true
   },
   "source": [
    "<span style=\"color:#4774bc\">Choosing Among Models Using the Validation Set Approach and Cross-Validation</span>\n",
    "\n",
    "We have seen that it is possible to choose among a set of models of different sizes using $C_p$, BIC, and adjusted $R^2$. We will now consider how to do this using the validation set and cross-validation approaches.\n",
    "\n",
    "In order for these approaches to yield accurate estimates of the test error, we must use only the training observations to perform all aspects of model-fitting including variable selection. We begin by splitting the observations into a training set and a test set. We do this by creating a random vector, <span style=\"color:#a5541a\">train</span>, of elements equal to <span style=\"color:#a5541a\">TRUE</span> if the corresponding observation is in the training set, and <span style=\"color:#a5541a\">FALSE</span> otherwise. The vector test has a <span style=\"color:#a5541a\">TRUE</span> if the observation is in the test set, and a <span style=\"color:#a5541a\">FALSE</span> otherwise."
   ]
  },
  {
   "cell_type": "code",
   "execution_count": 27,
   "metadata": {},
   "outputs": [],
   "source": [
    "set.seed(1)\n",
    "train=sample(c(TRUE, FALSE), nrow(Hitters), rep=TRUE)\n",
    "test=(!train)"
   ]
  },
  {
   "cell_type": "markdown",
   "metadata": {},
   "source": [
    "Now, we apply <span style=\"color:#a5541a\">regsubsets()</span> to the training set in order to perform best subset selection."
   ]
  },
  {
   "cell_type": "code",
   "execution_count": 28,
   "metadata": {},
   "outputs": [],
   "source": [
    "regfit.best=regsubsets(Salary~., data=Hitters[train,], nvmax =19)"
   ]
  },
  {
   "cell_type": "markdown",
   "metadata": {},
   "source": [
    "Notice that we subset the <span style=\"color:#a5541a\">Hitters</span> data frame directly in the call in order to access only the training subset of the data, using the expression <span style=\"color:#a5541a\">Hitters[train,]</span>. We now compute the validation set error for the best model of each model size. We first make a model matrix from the test data."
   ]
  },
  {
   "cell_type": "code",
   "execution_count": 29,
   "metadata": {},
   "outputs": [],
   "source": [
    "test.mat=model.matrix(Salary~.,data=Hitters[test,])"
   ]
  },
  {
   "cell_type": "markdown",
   "metadata": {},
   "source": [
    "The <span style=\"color:#a5541a\">model.matrix()</span> function is used in many regression packages for building an \"X\" matrix from data. Now we run a loop, and for each size <span style=\"color:#a5541a\">i</span>, we extract the coefficients from <span style=\"color:#a5541a\">regfit.best</span> for the best model of that size, multiply them into the appropriate columns of the test model matrix to form the predictions, and compute the test MSE."
   ]
  },
  {
   "cell_type": "code",
   "execution_count": 30,
   "metadata": {},
   "outputs": [],
   "source": [
    "val.errors=rep(NA, 19)\n",
    "for(i in 1:19)\n",
    "{\n",
    "    coefi=coef(regfit.best, id=i)\n",
    "    pred=test.mat[,names(coefi)]%*%coefi\n",
    "    val.errors[i]=mean((Hitters$Salary[test]-pred)^2)\n",
    "}"
   ]
  },
  {
   "cell_type": "markdown",
   "metadata": {},
   "source": [
    "We find that the best model is the one that contains ten variables."
   ]
  },
  {
   "cell_type": "code",
   "execution_count": 31,
   "metadata": {},
   "outputs": [
    {
     "data": {
      "text/html": [
       "<ol class=list-inline>\n",
       "\t<li>220968.010570781</li>\n",
       "\t<li>169157.080938694</li>\n",
       "\t<li>178518.155945132</li>\n",
       "\t<li>163426.079195481</li>\n",
       "\t<li>168418.096758255</li>\n",
       "\t<li>171270.594721366</li>\n",
       "\t<li>162377.082699745</li>\n",
       "\t<li>157909.280553932</li>\n",
       "\t<li>154055.716825013</li>\n",
       "\t<li>148162.052539399</li>\n",
       "\t<li>151156.401317955</li>\n",
       "\t<li>151742.451908185</li>\n",
       "\t<li>152214.450874715</li>\n",
       "\t<li>157358.654080678</li>\n",
       "\t<li>158541.407297311</li>\n",
       "\t<li>158743.3209425</li>\n",
       "\t<li>159972.673927589</li>\n",
       "\t<li>159859.793366072</li>\n",
       "\t<li>160105.640513861</li>\n",
       "</ol>\n"
      ],
      "text/latex": [
       "\\begin{enumerate*}\n",
       "\\item 220968.010570781\n",
       "\\item 169157.080938694\n",
       "\\item 178518.155945132\n",
       "\\item 163426.079195481\n",
       "\\item 168418.096758255\n",
       "\\item 171270.594721366\n",
       "\\item 162377.082699745\n",
       "\\item 157909.280553932\n",
       "\\item 154055.716825013\n",
       "\\item 148162.052539399\n",
       "\\item 151156.401317955\n",
       "\\item 151742.451908185\n",
       "\\item 152214.450874715\n",
       "\\item 157358.654080678\n",
       "\\item 158541.407297311\n",
       "\\item 158743.3209425\n",
       "\\item 159972.673927589\n",
       "\\item 159859.793366072\n",
       "\\item 160105.640513861\n",
       "\\end{enumerate*}\n"
      ],
      "text/markdown": [
       "1. 220968.010570781\n",
       "2. 169157.080938694\n",
       "3. 178518.155945132\n",
       "4. 163426.079195481\n",
       "5. 168418.096758255\n",
       "6. 171270.594721366\n",
       "7. 162377.082699745\n",
       "8. 157909.280553932\n",
       "9. 154055.716825013\n",
       "10. 148162.052539399\n",
       "11. 151156.401317955\n",
       "12. 151742.451908185\n",
       "13. 152214.450874715\n",
       "14. 157358.654080678\n",
       "15. 158541.407297311\n",
       "16. 158743.3209425\n",
       "17. 159972.673927589\n",
       "18. 159859.793366072\n",
       "19. 160105.640513861\n",
       "\n",
       "\n"
      ],
      "text/plain": [
       " [1] 220968.0 169157.1 178518.2 163426.1 168418.1 171270.6 162377.1 157909.3\n",
       " [9] 154055.7 148162.1 151156.4 151742.5 152214.5 157358.7 158541.4 158743.3\n",
       "[17] 159972.7 159859.8 160105.6"
      ]
     },
     "metadata": {},
     "output_type": "display_data"
    }
   ],
   "source": [
    "val.errors"
   ]
  },
  {
   "cell_type": "code",
   "execution_count": 32,
   "metadata": {},
   "outputs": [
    {
     "data": {
      "text/html": [
       "10"
      ],
      "text/latex": [
       "10"
      ],
      "text/markdown": [
       "10"
      ],
      "text/plain": [
       "[1] 10"
      ]
     },
     "metadata": {},
     "output_type": "display_data"
    }
   ],
   "source": [
    "which.min(val.errors)"
   ]
  },
  {
   "cell_type": "code",
   "execution_count": 33,
   "metadata": {},
   "outputs": [
    {
     "data": {
      "text/html": [
       "<dl class=dl-horizontal>\n",
       "\t<dt>(Intercept)</dt>\n",
       "\t\t<dd>-80.2751498545584</dd>\n",
       "\t<dt>AtBat</dt>\n",
       "\t\t<dd>-1.46838155352597</dd>\n",
       "\t<dt>Hits</dt>\n",
       "\t\t<dd>7.16253138932867</dd>\n",
       "\t<dt>Walks</dt>\n",
       "\t\t<dd>3.64303449365111</dd>\n",
       "\t<dt>CAtBat</dt>\n",
       "\t\t<dd>-0.185569803428967</dd>\n",
       "\t<dt>CHits</dt>\n",
       "\t\t<dd>1.10532384927797</dd>\n",
       "\t<dt>CHmRun</dt>\n",
       "\t\t<dd>1.38448634401015</dd>\n",
       "\t<dt>CWalks</dt>\n",
       "\t\t<dd>-0.74831695417675</dd>\n",
       "\t<dt>LeagueN</dt>\n",
       "\t\t<dd>84.5576102976496</dd>\n",
       "\t<dt>DivisionW</dt>\n",
       "\t\t<dd>-53.0289658320235</dd>\n",
       "\t<dt>PutOuts</dt>\n",
       "\t\t<dd>0.238166218963617</dd>\n",
       "</dl>\n"
      ],
      "text/latex": [
       "\\begin{description*}\n",
       "\\item[(Intercept)] -80.2751498545584\n",
       "\\item[AtBat] -1.46838155352597\n",
       "\\item[Hits] 7.16253138932867\n",
       "\\item[Walks] 3.64303449365111\n",
       "\\item[CAtBat] -0.185569803428967\n",
       "\\item[CHits] 1.10532384927797\n",
       "\\item[CHmRun] 1.38448634401015\n",
       "\\item[CWalks] -0.74831695417675\n",
       "\\item[LeagueN] 84.5576102976496\n",
       "\\item[DivisionW] -53.0289658320235\n",
       "\\item[PutOuts] 0.238166218963617\n",
       "\\end{description*}\n"
      ],
      "text/markdown": [
       "(Intercept)\n",
       ":   -80.2751498545584AtBat\n",
       ":   -1.46838155352597Hits\n",
       ":   7.16253138932867Walks\n",
       ":   3.64303449365111CAtBat\n",
       ":   -0.185569803428967CHits\n",
       ":   1.10532384927797CHmRun\n",
       ":   1.38448634401015CWalks\n",
       ":   -0.74831695417675LeagueN\n",
       ":   84.5576102976496DivisionW\n",
       ":   -53.0289658320235PutOuts\n",
       ":   0.238166218963617\n",
       "\n"
      ],
      "text/plain": [
       "(Intercept)       AtBat        Hits       Walks      CAtBat       CHits \n",
       "-80.2751499  -1.4683816   7.1625314   3.6430345  -0.1855698   1.1053238 \n",
       "     CHmRun      CWalks     LeagueN   DivisionW     PutOuts \n",
       "  1.3844863  -0.7483170  84.5576103 -53.0289658   0.2381662 "
      ]
     },
     "metadata": {},
     "output_type": "display_data"
    }
   ],
   "source": [
    "coef(regfit.best, 10)"
   ]
  },
  {
   "cell_type": "markdown",
   "metadata": {},
   "source": [
    "This was a little tedious, partly because there is no <span style=\"color:#a5541a\">predict()</span> method for <span style=\"color:#a5541a\">regsubsets()</span>. Since we will be using this function again, we can capture our steps above and write our own predict method."
   ]
  },
  {
   "cell_type": "code",
   "execution_count": 34,
   "metadata": {},
   "outputs": [],
   "source": [
    "predict.regsubsets=function(object, newdata, id,...)\n",
    "{\n",
    "    form=as.formula(object$call[[2]])\n",
    "    mat=model.matrix(form, newdata)\n",
    "    coefi=coef(object, id=id)\n",
    "    xvars=names(coefi)\n",
    "    mat[,xvars]%*%coefi\n",
    "}"
   ]
  },
  {
   "cell_type": "markdown",
   "metadata": {},
   "source": [
    "Our function pretty much mimics what we did above. The only complex part is how we extracted the formula used in the call to regsubsets(). We demonstrate how we use this function below, when we do cross-validation. \n",
    "\n",
    "Finally, we perform best subset selection on the full data set, and select the best ten-variable model. It is important that we make use of the full data set in order to obtain more accurate coefficient estimates. Note that we perform best subset selection on the full data set and select the best ten variable model, rather than simply using the variables that were obtained from the training set, because the best ten-variable model on the full data set may differ from the corresponding model on the training set."
   ]
  },
  {
   "cell_type": "code",
   "execution_count": 35,
   "metadata": {},
   "outputs": [
    {
     "data": {
      "text/html": [
       "<dl class=dl-horizontal>\n",
       "\t<dt>(Intercept)</dt>\n",
       "\t\t<dd>162.535442040545</dd>\n",
       "\t<dt>AtBat</dt>\n",
       "\t\t<dd>-2.16865005340437</dd>\n",
       "\t<dt>Hits</dt>\n",
       "\t\t<dd>6.91801749476659</dd>\n",
       "\t<dt>Walks</dt>\n",
       "\t\t<dd>5.7732246470264</dd>\n",
       "\t<dt>CAtBat</dt>\n",
       "\t\t<dd>-0.130079783913646</dd>\n",
       "\t<dt>CRuns</dt>\n",
       "\t\t<dd>1.40824900877044</dd>\n",
       "\t<dt>CRBI</dt>\n",
       "\t\t<dd>0.774312153250204</dd>\n",
       "\t<dt>CWalks</dt>\n",
       "\t\t<dd>-0.830826351501743</dd>\n",
       "\t<dt>DivisionW</dt>\n",
       "\t\t<dd>-112.380057493543</dd>\n",
       "\t<dt>PutOuts</dt>\n",
       "\t\t<dd>0.297372596603942</dd>\n",
       "\t<dt>Assists</dt>\n",
       "\t\t<dd>0.283168028635278</dd>\n",
       "</dl>\n"
      ],
      "text/latex": [
       "\\begin{description*}\n",
       "\\item[(Intercept)] 162.535442040545\n",
       "\\item[AtBat] -2.16865005340437\n",
       "\\item[Hits] 6.91801749476659\n",
       "\\item[Walks] 5.7732246470264\n",
       "\\item[CAtBat] -0.130079783913646\n",
       "\\item[CRuns] 1.40824900877044\n",
       "\\item[CRBI] 0.774312153250204\n",
       "\\item[CWalks] -0.830826351501743\n",
       "\\item[DivisionW] -112.380057493543\n",
       "\\item[PutOuts] 0.297372596603942\n",
       "\\item[Assists] 0.283168028635278\n",
       "\\end{description*}\n"
      ],
      "text/markdown": [
       "(Intercept)\n",
       ":   162.535442040545AtBat\n",
       ":   -2.16865005340437Hits\n",
       ":   6.91801749476659Walks\n",
       ":   5.7732246470264CAtBat\n",
       ":   -0.130079783913646CRuns\n",
       ":   1.40824900877044CRBI\n",
       ":   0.774312153250204CWalks\n",
       ":   -0.830826351501743DivisionW\n",
       ":   -112.380057493543PutOuts\n",
       ":   0.297372596603942Assists\n",
       ":   0.283168028635278\n",
       "\n"
      ],
      "text/plain": [
       " (Intercept)        AtBat         Hits        Walks       CAtBat        CRuns \n",
       " 162.5354420   -2.1686501    6.9180175    5.7732246   -0.1300798    1.4082490 \n",
       "        CRBI       CWalks    DivisionW      PutOuts      Assists \n",
       "   0.7743122   -0.8308264 -112.3800575    0.2973726    0.2831680 "
      ]
     },
     "metadata": {},
     "output_type": "display_data"
    }
   ],
   "source": [
    "regfit.best=regsubsets(Salary~., data=Hitters, nvmax=19)\n",
    "coef(regfit.best, 10)"
   ]
  },
  {
   "cell_type": "markdown",
   "metadata": {},
   "source": [
    "In fact, we see that the best ten-variable model on the full data set has a different set of variables than the best ten-variable model on the training set.\n",
    "\n",
    "We now try to choose among the models of different sizes using crossvalidation. This approach is somewhat involved, as we must perform best subset selection within each of the k training sets. Despite this, we see that with its clever subsetting syntax, R makes this job quite easy. First, we create a vector that allocates each observation to one of k = 10 folds, and we create a matrix in which we will store the results."
   ]
  },
  {
   "cell_type": "code",
   "execution_count": 36,
   "metadata": {},
   "outputs": [],
   "source": [
    "k=10\n",
    "set.seed(1)\n",
    "folds=sample(1:k,nrow(Hitters), replace=TRUE)\n",
    "cv.errors=matrix(NA, k, 19, dimnames=list(NULL, paste(1:19)))"
   ]
  },
  {
   "cell_type": "markdown",
   "metadata": {},
   "source": [
    "Now we write a for loop that performs cross-validation. In the jth fold, the elements of <span style=\"color:#a5541a\">folds</span> that equal j are in the test set, and the remainder are in the training set. We make our predictions for each model size (using our new <span style=\"color:#a5541a\">predict()</span> method), compute the test errors on the appropriate subset, and store them in the appropriate slot in the matrix cv.errors."
   ]
  },
  {
   "cell_type": "code",
   "execution_count": 37,
   "metadata": {},
   "outputs": [],
   "source": [
    "for(j in 1:k)\n",
    "{\n",
    "    best.fit=regsubsets(Salary~., data=Hitters[folds!=j,], nvmax=19)\n",
    "    for(i in 1:19)\n",
    "    {\n",
    "        pred=predict(best.fit, Hitters[folds==j,], id=i)\n",
    "        cv.errors[j,i]=mean((Hitters$Salary[folds==j]-pred)^2)\n",
    "    }\n",
    "}"
   ]
  },
  {
   "cell_type": "markdown",
   "metadata": {},
   "source": [
    "This has given us a 10×19 matrix, of which the (i, j)th element corresponds to the test MSE for the ith cross-validation fold for the best j-variable model. We use the <span style=\"color:#a5541a\">apply()</span> function to average over the columns of this matrix in order to obtain a vector for which the jth element is the crossvalidation error for the j-variable model."
   ]
  },
  {
   "cell_type": "code",
   "execution_count": 38,
   "metadata": {},
   "outputs": [
    {
     "data": {
      "text/html": [
       "<dl class=dl-horizontal>\n",
       "\t<dt>1</dt>\n",
       "\t\t<dd>160093.486398318</dd>\n",
       "\t<dt>2</dt>\n",
       "\t\t<dd>140196.773091529</dd>\n",
       "\t<dt>3</dt>\n",
       "\t\t<dd>153116.968353284</dd>\n",
       "\t<dt>4</dt>\n",
       "\t\t<dd>151159.338649923</dd>\n",
       "\t<dt>5</dt>\n",
       "\t\t<dd>146841.301803275</dd>\n",
       "\t<dt>6</dt>\n",
       "\t\t<dd>138302.632366087</dd>\n",
       "\t<dt>7</dt>\n",
       "\t\t<dd>144346.225347738</dd>\n",
       "\t<dt>8</dt>\n",
       "\t\t<dd>130207.693625525</dd>\n",
       "\t<dt>9</dt>\n",
       "\t\t<dd>129459.613710927</dd>\n",
       "\t<dt>10</dt>\n",
       "\t\t<dd>125334.660569683</dd>\n",
       "\t<dt>11</dt>\n",
       "\t\t<dd>125153.816649585</dd>\n",
       "\t<dt>12</dt>\n",
       "\t\t<dd>128273.547905646</dd>\n",
       "\t<dt>13</dt>\n",
       "\t\t<dd>133461.030824061</dd>\n",
       "\t<dt>14</dt>\n",
       "\t\t<dd>133974.608481698</dd>\n",
       "\t<dt>15</dt>\n",
       "\t\t<dd>131825.723993328</dd>\n",
       "\t<dt>16</dt>\n",
       "\t\t<dd>131882.769468209</dd>\n",
       "\t<dt>17</dt>\n",
       "\t\t<dd>132750.868578319</dd>\n",
       "\t<dt>18</dt>\n",
       "\t\t<dd>133096.230787088</dd>\n",
       "\t<dt>19</dt>\n",
       "\t\t<dd>132804.718368856</dd>\n",
       "</dl>\n"
      ],
      "text/latex": [
       "\\begin{description*}\n",
       "\\item[1] 160093.486398318\n",
       "\\item[2] 140196.773091529\n",
       "\\item[3] 153116.968353284\n",
       "\\item[4] 151159.338649923\n",
       "\\item[5] 146841.301803275\n",
       "\\item[6] 138302.632366087\n",
       "\\item[7] 144346.225347738\n",
       "\\item[8] 130207.693625525\n",
       "\\item[9] 129459.613710927\n",
       "\\item[10] 125334.660569683\n",
       "\\item[11] 125153.816649585\n",
       "\\item[12] 128273.547905646\n",
       "\\item[13] 133461.030824061\n",
       "\\item[14] 133974.608481698\n",
       "\\item[15] 131825.723993328\n",
       "\\item[16] 131882.769468209\n",
       "\\item[17] 132750.868578319\n",
       "\\item[18] 133096.230787088\n",
       "\\item[19] 132804.718368856\n",
       "\\end{description*}\n"
      ],
      "text/markdown": [
       "1\n",
       ":   160093.4863983182\n",
       ":   140196.7730915293\n",
       ":   153116.9683532844\n",
       ":   151159.3386499235\n",
       ":   146841.3018032756\n",
       ":   138302.6323660877\n",
       ":   144346.2253477388\n",
       ":   130207.6936255259\n",
       ":   129459.61371092710\n",
       ":   125334.66056968311\n",
       ":   125153.81664958512\n",
       ":   128273.54790564613\n",
       ":   133461.03082406114\n",
       ":   133974.60848169815\n",
       ":   131825.72399332816\n",
       ":   131882.76946820917\n",
       ":   132750.86857831918\n",
       ":   133096.23078708819\n",
       ":   132804.718368856\n",
       "\n"
      ],
      "text/plain": [
       "       1        2        3        4        5        6        7        8 \n",
       "160093.5 140196.8 153117.0 151159.3 146841.3 138302.6 144346.2 130207.7 \n",
       "       9       10       11       12       13       14       15       16 \n",
       "129459.6 125334.7 125153.8 128273.5 133461.0 133974.6 131825.7 131882.8 \n",
       "      17       18       19 \n",
       "132750.9 133096.2 132804.7 "
      ]
     },
     "metadata": {},
     "output_type": "display_data"
    }
   ],
   "source": [
    "mean.cv.errors=apply(cv.errors, 2, mean)\n",
    "mean.cv.errors"
   ]
  },
  {
   "cell_type": "code",
   "execution_count": 39,
   "metadata": {},
   "outputs": [
    {
     "data": {
      "image/png": "[encoded data removed]",
      "text/plain": [
       "plot without title"
      ]
     },
     "metadata": {},
     "output_type": "display_data"
    }
   ],
   "source": [
    "par(mfrow=c(1,1))\n",
    "plot(mean.cv.errors, type='b')"
   ]
  },
  {
   "cell_type": "markdown",
   "metadata": {},
   "source": [
    "We see that cross-validation selects an 11-variable model. We now perform best subset selection on the full data set in order to obtain the 11-variable model."
   ]
  },
  {
   "cell_type": "code",
   "execution_count": 40,
   "metadata": {},
   "outputs": [
    {
     "data": {
      "text/html": [
       "<dl class=dl-horizontal>\n",
       "\t<dt>(Intercept)</dt>\n",
       "\t\t<dd>135.751219457458</dd>\n",
       "\t<dt>AtBat</dt>\n",
       "\t\t<dd>-2.12774819603869</dd>\n",
       "\t<dt>Hits</dt>\n",
       "\t\t<dd>6.92369939666552</dd>\n",
       "\t<dt>Walks</dt>\n",
       "\t\t<dd>5.62027551957861</dd>\n",
       "\t<dt>CAtBat</dt>\n",
       "\t\t<dd>-0.138991434861849</dd>\n",
       "\t<dt>CRuns</dt>\n",
       "\t\t<dd>1.45533103037942</dd>\n",
       "\t<dt>CRBI</dt>\n",
       "\t\t<dd>0.785252782049429</dd>\n",
       "\t<dt>CWalks</dt>\n",
       "\t\t<dd>-0.822855923951907</dd>\n",
       "\t<dt>LeagueN</dt>\n",
       "\t\t<dd>43.1116151638512</dd>\n",
       "\t<dt>DivisionW</dt>\n",
       "\t\t<dd>-111.14602518374</dd>\n",
       "\t<dt>PutOuts</dt>\n",
       "\t\t<dd>0.289408680295373</dd>\n",
       "\t<dt>Assists</dt>\n",
       "\t\t<dd>0.26882769003494</dd>\n",
       "</dl>\n"
      ],
      "text/latex": [
       "\\begin{description*}\n",
       "\\item[(Intercept)] 135.751219457458\n",
       "\\item[AtBat] -2.12774819603869\n",
       "\\item[Hits] 6.92369939666552\n",
       "\\item[Walks] 5.62027551957861\n",
       "\\item[CAtBat] -0.138991434861849\n",
       "\\item[CRuns] 1.45533103037942\n",
       "\\item[CRBI] 0.785252782049429\n",
       "\\item[CWalks] -0.822855923951907\n",
       "\\item[LeagueN] 43.1116151638512\n",
       "\\item[DivisionW] -111.14602518374\n",
       "\\item[PutOuts] 0.289408680295373\n",
       "\\item[Assists] 0.26882769003494\n",
       "\\end{description*}\n"
      ],
      "text/markdown": [
       "(Intercept)\n",
       ":   135.751219457458AtBat\n",
       ":   -2.12774819603869Hits\n",
       ":   6.92369939666552Walks\n",
       ":   5.62027551957861CAtBat\n",
       ":   -0.138991434861849CRuns\n",
       ":   1.45533103037942CRBI\n",
       ":   0.785252782049429CWalks\n",
       ":   -0.822855923951907LeagueN\n",
       ":   43.1116151638512DivisionW\n",
       ":   -111.14602518374PutOuts\n",
       ":   0.289408680295373Assists\n",
       ":   0.26882769003494\n",
       "\n"
      ],
      "text/plain": [
       " (Intercept)        AtBat         Hits        Walks       CAtBat        CRuns \n",
       " 135.7512195   -2.1277482    6.9236994    5.6202755   -0.1389914    1.4553310 \n",
       "        CRBI       CWalks      LeagueN    DivisionW      PutOuts      Assists \n",
       "   0.7852528   -0.8228559   43.1116152 -111.1460252    0.2894087    0.2688277 "
      ]
     },
     "metadata": {},
     "output_type": "display_data"
    }
   ],
   "source": [
    "reg.best=regsubsets(Salary~., data=Hitters, nvmax=19)\n",
    "coef(reg.best, 11)"
   ]
  },
  {
   "cell_type": "code",
   "execution_count": null,
   "metadata": {},
   "outputs": [],
   "source": []
  }
 ],
 "metadata": {
  "kernelspec": {
   "display_name": "R",
   "language": "R",
   "name": "ir"
  },
  "language_info": {
   "codemirror_mode": "r",
   "file_extension": ".r",
   "mimetype": "text/x-r-source",
   "name": "R",
   "pygments_lexer": "r",
   "version": "3.5.1"
  }
 },
 "nbformat": 4,
 "nbformat_minor": 2
}
