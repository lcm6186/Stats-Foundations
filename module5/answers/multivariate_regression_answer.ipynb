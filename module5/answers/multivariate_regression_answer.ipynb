{
 "cells": [
  {
   "cell_type": "markdown",
   "metadata": {},
   "source": [
    "### Multivariate Regression\n",
    "\n",
    "In this practice, we will use the same white wine quality data set to create a multivariate model. Let's read the data from 'wine quality/winequality-white.csv'."
   ]
  },
  {
   "cell_type": "code",
   "execution_count": 1,
   "metadata": {},
   "outputs": [
    {
     "data": {
      "text/html": [
       "<table>\n",
       "<thead><tr><th scope=col>fixed.acidity</th><th scope=col>volatile.acidity</th><th scope=col>citric.acid</th><th scope=col>residual.sugar</th><th scope=col>chlorides</th><th scope=col>free.sulfur.dioxide</th><th scope=col>total.sulfur.dioxide</th><th scope=col>density</th><th scope=col>pH</th><th scope=col>sulphates</th><th scope=col>alcohol</th><th scope=col>quality</th></tr></thead>\n",
       "<tbody>\n",
       "\t<tr><td>7.0   </td><td>0.27  </td><td>0.36  </td><td>20.7  </td><td>0.045 </td><td>45    </td><td>170   </td><td>1.0010</td><td>3.00  </td><td>0.45  </td><td> 8.8  </td><td>6     </td></tr>\n",
       "\t<tr><td>6.3   </td><td>0.30  </td><td>0.34  </td><td> 1.6  </td><td>0.049 </td><td>14    </td><td>132   </td><td>0.9940</td><td>3.30  </td><td>0.49  </td><td> 9.5  </td><td>6     </td></tr>\n",
       "\t<tr><td>8.1   </td><td>0.28  </td><td>0.40  </td><td> 6.9  </td><td>0.050 </td><td>30    </td><td> 97   </td><td>0.9951</td><td>3.26  </td><td>0.44  </td><td>10.1  </td><td>6     </td></tr>\n",
       "\t<tr><td>7.2   </td><td>0.23  </td><td>0.32  </td><td> 8.5  </td><td>0.058 </td><td>47    </td><td>186   </td><td>0.9956</td><td>3.19  </td><td>0.40  </td><td> 9.9  </td><td>6     </td></tr>\n",
       "\t<tr><td>7.2   </td><td>0.23  </td><td>0.32  </td><td> 8.5  </td><td>0.058 </td><td>47    </td><td>186   </td><td>0.9956</td><td>3.19  </td><td>0.40  </td><td> 9.9  </td><td>6     </td></tr>\n",
       "\t<tr><td>8.1   </td><td>0.28  </td><td>0.40  </td><td> 6.9  </td><td>0.050 </td><td>30    </td><td> 97   </td><td>0.9951</td><td>3.26  </td><td>0.44  </td><td>10.1  </td><td>6     </td></tr>\n",
       "</tbody>\n",
       "</table>\n"
      ],
      "text/latex": [
       "\\begin{tabular}{r|llllllllllll}\n",
       " fixed.acidity & volatile.acidity & citric.acid & residual.sugar & chlorides & free.sulfur.dioxide & total.sulfur.dioxide & density & pH & sulphates & alcohol & quality\\\\\n",
       "\\hline\n",
       "\t 7.0    & 0.27   & 0.36   & 20.7   & 0.045  & 45     & 170    & 1.0010 & 3.00   & 0.45   &  8.8   & 6     \\\\\n",
       "\t 6.3    & 0.30   & 0.34   &  1.6   & 0.049  & 14     & 132    & 0.9940 & 3.30   & 0.49   &  9.5   & 6     \\\\\n",
       "\t 8.1    & 0.28   & 0.40   &  6.9   & 0.050  & 30     &  97    & 0.9951 & 3.26   & 0.44   & 10.1   & 6     \\\\\n",
       "\t 7.2    & 0.23   & 0.32   &  8.5   & 0.058  & 47     & 186    & 0.9956 & 3.19   & 0.40   &  9.9   & 6     \\\\\n",
       "\t 7.2    & 0.23   & 0.32   &  8.5   & 0.058  & 47     & 186    & 0.9956 & 3.19   & 0.40   &  9.9   & 6     \\\\\n",
       "\t 8.1    & 0.28   & 0.40   &  6.9   & 0.050  & 30     &  97    & 0.9951 & 3.26   & 0.44   & 10.1   & 6     \\\\\n",
       "\\end{tabular}\n"
      ],
      "text/plain": [
       "  fixed.acidity volatile.acidity citric.acid residual.sugar chlorides\n",
       "1 7.0           0.27             0.36        20.7           0.045    \n",
       "2 6.3           0.30             0.34         1.6           0.049    \n",
       "3 8.1           0.28             0.40         6.9           0.050    \n",
       "4 7.2           0.23             0.32         8.5           0.058    \n",
       "5 7.2           0.23             0.32         8.5           0.058    \n",
       "6 8.1           0.28             0.40         6.9           0.050    \n",
       "  free.sulfur.dioxide total.sulfur.dioxide density pH   sulphates alcohol\n",
       "1 45                  170                  1.0010  3.00 0.45       8.8   \n",
       "2 14                  132                  0.9940  3.30 0.49       9.5   \n",
       "3 30                   97                  0.9951  3.26 0.44      10.1   \n",
       "4 47                  186                  0.9956  3.19 0.40       9.9   \n",
       "5 47                  186                  0.9956  3.19 0.40       9.9   \n",
       "6 30                   97                  0.9951  3.26 0.44      10.1   \n",
       "  quality\n",
       "1 6      \n",
       "2 6      \n",
       "3 6      \n",
       "4 6      \n",
       "5 6      \n",
       "6 6      "
      ]
     },
     "metadata": {},
     "output_type": "display_data"
    },
    {
     "name": "stdout",
     "output_type": "stream",
     "text": [
      "'data.frame':\t4898 obs. of  12 variables:\n",
      " $ fixed.acidity       : num  7 6.3 8.1 7.2 7.2 8.1 6.2 7 6.3 8.1 ...\n",
      " $ volatile.acidity    : num  0.27 0.3 0.28 0.23 0.23 0.28 0.32 0.27 0.3 0.22 ...\n",
      " $ citric.acid         : num  0.36 0.34 0.4 0.32 0.32 0.4 0.16 0.36 0.34 0.43 ...\n",
      " $ residual.sugar      : num  20.7 1.6 6.9 8.5 8.5 6.9 7 20.7 1.6 1.5 ...\n",
      " $ chlorides           : num  0.045 0.049 0.05 0.058 0.058 0.05 0.045 0.045 0.049 0.044 ...\n",
      " $ free.sulfur.dioxide : num  45 14 30 47 47 30 30 45 14 28 ...\n",
      " $ total.sulfur.dioxide: num  170 132 97 186 186 97 136 170 132 129 ...\n",
      " $ density             : num  1.001 0.994 0.995 0.996 0.996 ...\n",
      " $ pH                  : num  3 3.3 3.26 3.19 3.19 3.26 3.18 3 3.3 3.22 ...\n",
      " $ sulphates           : num  0.45 0.49 0.44 0.4 0.4 0.44 0.47 0.45 0.49 0.45 ...\n",
      " $ alcohol             : num  8.8 9.5 10.1 9.9 9.9 10.1 9.6 8.8 9.5 11 ...\n",
      " $ quality             : int  6 6 6 6 6 6 6 6 6 6 ...\n"
     ]
    }
   ],
   "source": [
    "wq <- read.csv(\"/dsa/data/all_datasets/wine quality/winequality-white.csv\",sep=\";\", header=TRUE)\n",
    "head(wq)\n",
    "str(wq)"
   ]
  },
  {
   "cell_type": "markdown",
   "metadata": {},
   "source": [
    "Let's look at the correlations to see if any variables are closely correlated. "
   ]
  },
  {
   "cell_type": "code",
   "execution_count": 2,
   "metadata": {},
   "outputs": [
    {
     "data": {
      "text/html": [
       "<table>\n",
       "<thead><tr><th></th><th scope=col>density</th><th scope=col>pH</th><th scope=col>sulphates</th><th scope=col>alcohol</th><th scope=col>quality</th></tr></thead>\n",
       "<tbody>\n",
       "\t<tr><th scope=row>density</th><td> 1.00000000</td><td>-0.09359149</td><td> 0.07449315</td><td>-0.78013762</td><td>-0.30712331</td></tr>\n",
       "\t<tr><th scope=row>pH</th><td>-0.09359149</td><td> 1.00000000</td><td> 0.15595150</td><td> 0.12143210</td><td> 0.09942725</td></tr>\n",
       "\t<tr><th scope=row>sulphates</th><td> 0.07449315</td><td> 0.15595150</td><td> 1.00000000</td><td>-0.01743277</td><td> 0.05367788</td></tr>\n",
       "\t<tr><th scope=row>alcohol</th><td>-0.78013762</td><td> 0.12143210</td><td>-0.01743277</td><td> 1.00000000</td><td> 0.43557472</td></tr>\n",
       "\t<tr><th scope=row>quality</th><td>-0.30712331</td><td> 0.09942725</td><td> 0.05367788</td><td> 0.43557472</td><td> 1.00000000</td></tr>\n",
       "</tbody>\n",
       "</table>\n"
      ],
      "text/latex": [
       "\\begin{tabular}{r|lllll}\n",
       "  & density & pH & sulphates & alcohol & quality\\\\\n",
       "\\hline\n",
       "\tdensity &  1.00000000 & -0.09359149 &  0.07449315 & -0.78013762 & -0.30712331\\\\\n",
       "\tpH & -0.09359149 &  1.00000000 &  0.15595150 &  0.12143210 &  0.09942725\\\\\n",
       "\tsulphates &  0.07449315 &  0.15595150 &  1.00000000 & -0.01743277 &  0.05367788\\\\\n",
       "\talcohol & -0.78013762 &  0.12143210 & -0.01743277 &  1.00000000 &  0.43557472\\\\\n",
       "\tquality & -0.30712331 &  0.09942725 &  0.05367788 &  0.43557472 &  1.00000000\\\\\n",
       "\\end{tabular}\n"
      ],
      "text/markdown": [
       "1. 1\n",
       "2. -0.0935914934552446\n",
       "3. 0.074493148511676\n",
       "4. -0.780137621425558\n",
       "5. -0.307123312734731\n",
       "6. -0.0935914934552446\n",
       "7. 1\n",
       "8. 0.155951497279652\n",
       "9. 0.121432098749129\n",
       "10. 0.0994272457366642\n",
       "11. 0.074493148511676\n",
       "12. 0.155951497279652\n",
       "13. 1\n",
       "14. -0.0174327718559518\n",
       "15. 0.0536778771327921\n",
       "16. -0.780137621425558\n",
       "17. 0.121432098749129\n",
       "18. -0.0174327718559518\n",
       "19. 1\n",
       "20. 0.435574715461373\n",
       "21. -0.307123312734731\n",
       "22. 0.0994272457366642\n",
       "23. 0.0536778771327921\n",
       "24. 0.435574715461373\n",
       "25. 1\n",
       "\n",
       "\n"
      ],
      "text/plain": [
       "          density     pH          sulphates   alcohol     quality    \n",
       "density    1.00000000 -0.09359149  0.07449315 -0.78013762 -0.30712331\n",
       "pH        -0.09359149  1.00000000  0.15595150  0.12143210  0.09942725\n",
       "sulphates  0.07449315  0.15595150  1.00000000 -0.01743277  0.05367788\n",
       "alcohol   -0.78013762  0.12143210 -0.01743277  1.00000000  0.43557472\n",
       "quality   -0.30712331  0.09942725  0.05367788  0.43557472  1.00000000"
      ]
     },
     "metadata": {},
     "output_type": "display_data"
    }
   ],
   "source": [
    "cor(wq[,8:12])\n",
    "# alcohol and density -0.78"
   ]
  },
  {
   "cell_type": "markdown",
   "metadata": {},
   "source": [
    "Let's remove the quality column because it's subjective opinion of tasters; and then try to predict alcohol and density from the rest of the variables."
   ]
  },
  {
   "cell_type": "code",
   "execution_count": 3,
   "metadata": {},
   "outputs": [
    {
     "name": "stdout",
     "output_type": "stream",
     "text": [
      "'data.frame':\t4898 obs. of  11 variables:\n",
      " $ fixed.acidity       : num  7 6.3 8.1 7.2 7.2 8.1 6.2 7 6.3 8.1 ...\n",
      " $ volatile.acidity    : num  0.27 0.3 0.28 0.23 0.23 0.28 0.32 0.27 0.3 0.22 ...\n",
      " $ citric.acid         : num  0.36 0.34 0.4 0.32 0.32 0.4 0.16 0.36 0.34 0.43 ...\n",
      " $ residual.sugar      : num  20.7 1.6 6.9 8.5 8.5 6.9 7 20.7 1.6 1.5 ...\n",
      " $ chlorides           : num  0.045 0.049 0.05 0.058 0.058 0.05 0.045 0.045 0.049 0.044 ...\n",
      " $ free.sulfur.dioxide : num  45 14 30 47 47 30 30 45 14 28 ...\n",
      " $ total.sulfur.dioxide: num  170 132 97 186 186 97 136 170 132 129 ...\n",
      " $ density             : num  1.001 0.994 0.995 0.996 0.996 ...\n",
      " $ pH                  : num  3 3.3 3.26 3.19 3.19 3.26 3.18 3 3.3 3.22 ...\n",
      " $ sulphates           : num  0.45 0.49 0.44 0.4 0.4 0.44 0.47 0.45 0.49 0.45 ...\n",
      " $ alcohol             : num  8.8 9.5 10.1 9.9 9.9 10.1 9.6 8.8 9.5 11 ...\n"
     ]
    }
   ],
   "source": [
    "wq$quality <- NULL\n",
    "str(wq)"
   ]
  },
  {
   "cell_type": "code",
   "execution_count": 4,
   "metadata": {},
   "outputs": [
    {
     "data": {
      "text/plain": [
       "Response Y1 :\n",
       "\n",
       "Call:\n",
       "lm(formula = Y1 ~ (fixed.acidity + volatile.acidity + citric.acid + \n",
       "    residual.sugar + chlorides + free.sulfur.dioxide + total.sulfur.dioxide + \n",
       "    density + pH + sulphates + alcohol) - alcohol - density, \n",
       "    data = wq)\n",
       "\n",
       "Residuals:\n",
       "    Min      1Q  Median      3Q     Max \n",
       "-3.2463 -0.6489 -0.0950  0.6104  5.2106 \n",
       "\n",
       "Coefficients:\n",
       "                       Estimate Std. Error t value Pr(>|t|)    \n",
       "(Intercept)           1.202e+01  4.073e-01  29.505  < 2e-16 ***\n",
       "fixed.acidity        -8.060e-02  1.889e-02  -4.267 2.02e-05 ***\n",
       "volatile.acidity      1.910e+00  1.419e-01  13.457  < 2e-16 ***\n",
       "citric.acid           6.314e-01  1.217e-01   5.188 2.21e-07 ***\n",
       "residual.sugar       -7.842e-02  3.039e-03 -25.803  < 2e-16 ***\n",
       "chlorides            -1.628e+01  6.481e-01 -25.117  < 2e-16 ***\n",
       "free.sulfur.dioxide   6.299e-03  1.061e-03   5.934 3.15e-09 ***\n",
       "total.sulfur.dioxide -9.668e-03  4.529e-04 -21.346  < 2e-16 ***\n",
       "pH                    1.836e-01  1.048e-01   1.753   0.0796 .  \n",
       "sulphates             1.706e-01  1.235e-01   1.381   0.1672    \n",
       "---\n",
       "Signif. codes:  0 ‘***’ 0.001 ‘**’ 0.01 ‘*’ 0.05 ‘.’ 0.1 ‘ ’ 1\n",
       "\n",
       "Residual standard error: 0.9598 on 4888 degrees of freedom\n",
       "Multiple R-squared:  0.3929,\tAdjusted R-squared:  0.3918 \n",
       "F-statistic: 351.5 on 9 and 4888 DF,  p-value: < 2.2e-16\n",
       "\n",
       "\n",
       "Response Y2 :\n",
       "\n",
       "Call:\n",
       "lm(formula = Y2 ~ (fixed.acidity + volatile.acidity + citric.acid + \n",
       "    residual.sugar + chlorides + free.sulfur.dioxide + total.sulfur.dioxide + \n",
       "    density + pH + sulphates + alcohol) - alcohol - density, \n",
       "    data = wq)\n",
       "\n",
       "Residuals:\n",
       "       Min         1Q     Median         3Q        Max \n",
       "-0.0059043 -0.0007599  0.0000501  0.0008077  0.0157067 \n",
       "\n",
       "Coefficients:\n",
       "                       Estimate Std. Error  t value Pr(>|t|)    \n",
       "(Intercept)           9.721e-01  5.172e-04 1879.676  < 2e-16 ***\n",
       "fixed.acidity         8.616e-04  2.399e-05   35.915  < 2e-16 ***\n",
       "volatile.acidity     -1.517e-03  1.802e-04   -8.419  < 2e-16 ***\n",
       "citric.acid          -3.714e-04  1.546e-04   -2.403   0.0163 *  \n",
       "residual.sugar        4.599e-04  3.859e-06  119.160  < 2e-16 ***\n",
       "chlorides             2.302e-02  8.230e-04   27.974  < 2e-16 ***\n",
       "free.sulfur.dioxide  -1.398e-05  1.348e-06  -10.370  < 2e-16 ***\n",
       "total.sulfur.dioxide  1.477e-05  5.751e-07   25.684  < 2e-16 ***\n",
       "pH                    3.261e-03  1.330e-04   24.517  < 2e-16 ***\n",
       "sulphates             1.219e-03  1.568e-04    7.775 9.11e-15 ***\n",
       "---\n",
       "Signif. codes:  0 ‘***’ 0.001 ‘**’ 0.01 ‘*’ 0.05 ‘.’ 0.1 ‘ ’ 1\n",
       "\n",
       "Residual standard error: 0.001219 on 4888 degrees of freedom\n",
       "Multiple R-squared:  0.8343,\tAdjusted R-squared:  0.834 \n",
       "F-statistic:  2734 on 9 and 4888 DF,  p-value: < 2.2e-16\n",
       "\n"
      ]
     },
     "metadata": {},
     "output_type": "display_data"
    }
   ],
   "source": [
    "# Now bind alcohol and density, and fit a model; make sure alcohol and density are not in the independent variables.\n",
    "ad <- cbind(wq$alcohol, wq$density)\n",
    "wq_mreg <- lm(ad ~ . -alcohol -density, data=wq)\n",
    "summary(wq_mreg)"
   ]
  },
  {
   "cell_type": "code",
   "execution_count": 5,
   "metadata": {},
   "outputs": [
    {
     "data": {
      "text/plain": [
       "                       Df  Pillai approx F num Df den Df    Pr(>F)    \n",
       "fixed.acidity           1 0.55775   3081.7      2   4887 < 2.2e-16 ***\n",
       "volatile.acidity        1 0.10708    293.0      2   4887 < 2.2e-16 ***\n",
       "citric.acid             1 0.11237    309.3      2   4887 < 2.2e-16 ***\n",
       "residual.sugar          1 0.91492  26277.9      2   4887 < 2.2e-16 ***\n",
       "chlorides               1 0.16899    496.9      2   4887 < 2.2e-16 ***\n",
       "free.sulfur.dioxide     1 0.01352     33.5      2   4887 3.599e-15 ***\n",
       "total.sulfur.dioxide    1 0.19437    589.5      2   4887 < 2.2e-16 ***\n",
       "pH                      1 0.42298   1791.2      2   4887 < 2.2e-16 ***\n",
       "sulphates               1 0.07230    190.4      2   4887 < 2.2e-16 ***\n",
       "Residuals            4888                                             \n",
       "---\n",
       "Signif. codes:  0 ‘***’ 0.001 ‘**’ 0.01 ‘*’ 0.05 ‘.’ 0.1 ‘ ’ 1"
      ]
     },
     "metadata": {},
     "output_type": "display_data"
    }
   ],
   "source": [
    "# Let's see a summary of the fit\n",
    "summary(manova(wq_mreg))"
   ]
  }
 ],
 "metadata": {
  "kernelspec": {
   "display_name": "R",
   "language": "R",
   "name": "ir"
  },
  "language_info": {
   "codemirror_mode": "r",
   "file_extension": ".r",
   "mimetype": "text/x-r-source",
   "name": "R",
   "pygments_lexer": "r",
   "version": "3.5.1"
  }
 },
 "nbformat": 4,
 "nbformat_minor": 1
}
