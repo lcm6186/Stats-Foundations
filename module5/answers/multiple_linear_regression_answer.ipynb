{
 "cells": [
  {
   "cell_type": "markdown",
   "metadata": {},
   "source": [
    "### Multiple Linear Regression\n",
    "\n",
    "In this practice, we will use the same data set as in simple linear regression practice. We will add more variables to models to see if we can have a better linear model. "
   ]
  },
  {
   "cell_type": "markdown",
   "metadata": {},
   "source": [
    "#### Read the data\n",
    "\n",
    "Load the framingham dataset in directory '/datasets/framingham/'. The following few lines are the same as in simple linear regression practice; we are creating the same data here. "
   ]
  },
  {
   "cell_type": "code",
   "execution_count": null,
   "metadata": {
    "collapsed": true
   },
   "outputs": [],
   "source": [
    "fr <- read.csv(\"/dsa/data/all_datasets/framingham/framingham.csv\")"
   ]
  },
  {
   "cell_type": "code",
   "execution_count": 2,
   "metadata": {},
   "outputs": [
    {
     "data": {
      "text/html": [
       "<table>\n",
       "<thead><tr><th></th><th scope=col>age</th><th scope=col>sysBP</th><th scope=col>diaBP</th><th scope=col>BMI</th><th scope=col>heartRate</th><th scope=col>pulseP</th></tr></thead>\n",
       "<tbody>\n",
       "\t<tr><th scope=row>1</th><td>39   </td><td>106.0</td><td> 70  </td><td>26.97</td><td>80   </td><td>36.0 </td></tr>\n",
       "\t<tr><th scope=row>3</th><td>48   </td><td>127.5</td><td> 80  </td><td>25.34</td><td>75   </td><td>47.5 </td></tr>\n",
       "\t<tr><th scope=row>9</th><td>52   </td><td>141.5</td><td> 89  </td><td>26.36</td><td>76   </td><td>52.5 </td></tr>\n",
       "\t<tr><th scope=row>10</th><td>43   </td><td>162.0</td><td>107  </td><td>23.61</td><td>93   </td><td>55.0 </td></tr>\n",
       "\t<tr><th scope=row>13</th><td>46   </td><td>142.0</td><td> 94  </td><td>26.31</td><td>98   </td><td>48.0 </td></tr>\n",
       "\t<tr><th scope=row>17</th><td>48   </td><td>138.0</td><td> 90  </td><td>22.37</td><td>64   </td><td>48.0 </td></tr>\n",
       "</tbody>\n",
       "</table>\n"
      ],
      "text/latex": [
       "\\begin{tabular}{r|llllll}\n",
       "  & age & sysBP & diaBP & BMI & heartRate & pulseP\\\\\n",
       "\\hline\n",
       "\t1 & 39    & 106.0 &  70   & 26.97 & 80    & 36.0 \\\\\n",
       "\t3 & 48    & 127.5 &  80   & 25.34 & 75    & 47.5 \\\\\n",
       "\t9 & 52    & 141.5 &  89   & 26.36 & 76    & 52.5 \\\\\n",
       "\t10 & 43    & 162.0 & 107   & 23.61 & 93    & 55.0 \\\\\n",
       "\t13 & 46    & 142.0 &  94   & 26.31 & 98    & 48.0 \\\\\n",
       "\t17 & 48    & 138.0 &  90   & 22.37 & 64    & 48.0 \\\\\n",
       "\\end{tabular}\n"
      ],
      "text/markdown": [
       "\n",
       "| <!--/--> | age | sysBP | diaBP | BMI | heartRate | pulseP | \n",
       "|---|---|---|---|---|---|\n",
       "| 1 | 39    | 106.0 |  70   | 26.97 | 80    | 36.0  | \n",
       "| 3 | 48    | 127.5 |  80   | 25.34 | 75    | 47.5  | \n",
       "| 9 | 52    | 141.5 |  89   | 26.36 | 76    | 52.5  | \n",
       "| 10 | 43    | 162.0 | 107   | 23.61 | 93    | 55.0  | \n",
       "| 13 | 46    | 142.0 |  94   | 26.31 | 98    | 48.0  | \n",
       "| 17 | 48    | 138.0 |  90   | 22.37 | 64    | 48.0  | \n",
       "\n",
       "\n"
      ],
      "text/plain": [
       "   age sysBP diaBP BMI   heartRate pulseP\n",
       "1  39  106.0  70   26.97 80        36.0  \n",
       "3  48  127.5  80   25.34 75        47.5  \n",
       "9  52  141.5  89   26.36 76        52.5  \n",
       "10 43  162.0 107   23.61 93        55.0  \n",
       "13 46  142.0  94   26.31 98        48.0  \n",
       "17 48  138.0  90   22.37 64        48.0  "
      ]
     },
     "metadata": {},
     "output_type": "display_data"
    }
   ],
   "source": [
    "framingham_data[\"pulseP\"] <- framingham_data$sysBP - framingham_data$diaBP\n",
    "\n",
    "framingham_data_male   <- subset(framingham_data, male==1 & age > 18 & BPMeds == 0, select=c(2,11:14,17))\n",
    "framingham_data_female <- subset(framingham_data, male==0 & age > 18 & BPMeds == 0, select=c(2,11:14,17))\n",
    "head(fr_male)"
   ]
  },
  {
   "cell_type": "markdown",
   "metadata": {},
   "source": [
    "**Activity 1:** Now, let's see if we can model pulse pressure with multiple independent variables. "
   ]
  },
  {
   "cell_type": "code",
   "execution_count": 3,
   "metadata": {},
   "outputs": [
    {
     "ename": "ERROR",
     "evalue": "Error in is.data.frame(data): object 'framingham_data_female' not found\n",
     "output_type": "error",
     "traceback": [
      "Error in is.data.frame(data): object 'framingham_data_female' not found\nTraceback:\n",
      "1. lm(pulseP ~ age + BMI, data = framingham_data_female)",
      "2. eval(mf, parent.frame())",
      "3. eval(mf, parent.frame())",
      "4. stats::model.frame(formula = pulseP ~ age + BMI, data = framingham_data_female, \n .     drop.unused.levels = TRUE)",
      "5. model.frame.default(formula = pulseP ~ age + BMI, data = framingham_data_female, \n .     drop.unused.levels = TRUE)",
      "6. is.data.frame(data)"
     ]
    }
   ],
   "source": [
    "# Fill the partially complete code and execute it..\n",
    "pp_female1 <- lm(pulseP ~ age + BMI, data=framingham_data_female)\n",
    "summary(pp_female1)\n",
    "\n",
    "# add heartRate to pp_female model and create new model named pp_female2. \n",
    "pp_female2 <- lm(pulseP ~ age + BMI + heartRate , data=framingham_data_female)\n",
    "summary(pp_female2)"
   ]
  },
  {
   "cell_type": "markdown",
   "metadata": {},
   "source": [
    "As we can see, the $R^2$ slightly increases with adding a new variable to the model. Let's do the same for males. "
   ]
  },
  {
   "cell_type": "code",
   "execution_count": null,
   "metadata": {},
   "outputs": [],
   "source": [
    "pp_male1 <- lm(pulseP ~ age + BMI, data=framingham_data_female)\n",
    "summary(pp_male1)\n",
    "\n",
    "pp_male2 <- lm(pulseP ~ age + BMI + heartRate , data=framingham_data_female)\n",
    "summary(pp_male2)\n"
   ]
  },
  {
   "cell_type": "markdown",
   "metadata": {},
   "source": [
    "For males, we can not model the pulse pressure all that well, $R^2$ does not get any better."
   ]
  },
  {
   "cell_type": "markdown",
   "metadata": {},
   "source": [
    "#### House sales data\n",
    "Let's look at another data set: house sales in King county."
   ]
  },
  {
   "cell_type": "code",
   "execution_count": null,
   "metadata": {},
   "outputs": [],
   "source": [
    "housing_data <- read.csv(\"/dsa/data/all_datasets/house_sales_in_king_county/kc_house_data.csv\",header=TRUE)\n",
    "str(housing_data)"
   ]
  },
  {
   "cell_type": "markdown",
   "metadata": {},
   "source": [
    "**Activity 2: ** Fit a linear regression model to predict the house sale price using sqft_living.  "
   ]
  },
  {
   "cell_type": "code",
   "execution_count": null,
   "metadata": {},
   "outputs": [],
   "source": [
    "# Fill in the partially complete code and execute the code..\n",
    "\n",
    "houseprice_reg1 <- lm(price ~ sqft_living, data=housing_data)\n",
    "summary(houseprice_reg1)"
   ]
  },
  {
   "cell_type": "markdown",
   "metadata": {},
   "source": [
    "As we can see, sqft_living is a good predictor for the price. Let's see if we can improve this model with additional variables."
   ]
  },
  {
   "cell_type": "code",
   "execution_count": null,
   "metadata": {},
   "outputs": [],
   "source": [
    "# add the second variable: bedrooms\n",
    "houseprice_reg12 <- lm(price ~ sqft_living + bedrooms, data=housing_data)\n",
    "summary(hhouseprice_reg2)"
   ]
  },
  {
   "cell_type": "code",
   "execution_count": null,
   "metadata": {
    "collapsed": true
   },
   "outputs": [],
   "source": [
    "# add the third variable: sqft_lot\n",
    "\n",
    "houseprice_reg3 <- lm(price ~ sqft_living + bedrooms + sqft_lot, data=housing_data)\n",
    "summary(houseprice_reg3)"
   ]
  },
  {
   "cell_type": "code",
   "execution_count": null,
   "metadata": {
    "collapsed": true
   },
   "outputs": [],
   "source": [
    "# add the fourth variable: floors\n",
    "\n",
    "houseprice_reg4 <- lm(price ~ sqft_living + bedrooms + sqft_lot + floors, data=housing_data)\n",
    "summary(houseprice_reg4)"
   ]
  },
  {
   "cell_type": "code",
   "execution_count": null,
   "metadata": {
    "collapsed": true
   },
   "outputs": [],
   "source": [
    "# add the fifth variable: bathrooms\n",
    "\n",
    "houseprice_reg5 <- lm(price ~ sqft_living + bedrooms + sqft_lot + floors + bathrooms, data=housing_data)\n",
    "summary(houseprice_reg5)"
   ]
  },
  {
   "cell_type": "markdown",
   "metadata": {},
   "source": [
    "Adding number of bedrooms as another variable helped to improve the model, but other additional variables\n",
    "(lot's square footage, number of floors, number of bathrooms) did not improve the model at all. Let's try \n",
    " couple of variables that should might make a difference: waterfront and view."
   ]
  },
  {
   "cell_type": "code",
   "execution_count": null,
   "metadata": {},
   "outputs": [],
   "source": [
    "houseprice_reg6 <- lm(price ~ sqft_living + bedrooms + waterfront + view, data=housing_data)\n",
    "summary(houseprice_reg6)"
   ]
  },
  {
   "cell_type": "markdown",
   "metadata": {},
   "source": [
    "$R^2$ jumped to **0.56**; this is a better model for predicting the price of the house. The other variables (lat, long, zip code, etc.) are not really expected to make a difference because we don't expect a **linear** relationship between a house's  price and its zip code unless zip codes are demographically meaningful. Let's try and see."
   ]
  },
  {
   "cell_type": "code",
   "execution_count": null,
   "metadata": {},
   "outputs": [],
   "source": [
    "# add zipcode to houseprice_reg6\n",
    "houseprice_reg7 <- lm(price ~ sqft_living + bedrooms + waterfront + view + zipcode, data=housing_data)\n",
    "summary(houseprice_reg)"
   ]
  },
  {
   "cell_type": "markdown",
   "metadata": {},
   "source": [
    "As we expected, zipcode does not make much of a difference. How about latitude or longitude ? Depending on the geographic location of the King county, it might make a difference."
   ]
  },
  {
   "cell_type": "code",
   "execution_count": null,
   "metadata": {},
   "outputs": [],
   "source": [
    "# add lat to the model houseprice_reg7\n",
    "houseprice_reg8 <- lm(price ~ sqft_living + bedrooms + waterfront + view + lat, data=housing_data)\n",
    "summary(houseprice_reg8)\n",
    "\n",
    "# add long to the model houseprice_reg8\n",
    "houseprice_reg9 <- lm(price ~ sqft_living + bedrooms + waterfront + view + long, data=housing_data)\n",
    "summary(houseprice_reg9)"
   ]
  },
  {
   "cell_type": "markdown",
   "metadata": {},
   "source": [
    "Latitude made a big difference! $R^2$ is **0.63**. Let's find out why. Take a look at [King county map](https://www.google.com/maps/place/King+County,+WA/@47.4319563,-122.3574591,9z/data=!3m1!4b1!4m5!3m4!1s0x54905c8c832d7837:0xe280ab6b8b64e03e!8m2!3d47.5480339!4d-121.9836029).\n",
    "Now it should be clear why an east-to-west change in location has an effect on the house price."
   ]
  }
 ],
 "metadata": {
  "kernelspec": {
   "display_name": "R",
   "language": "R",
   "name": "ir"
  },
  "language_info": {
   "codemirror_mode": "r",
   "file_extension": ".r",
   "mimetype": "text/x-r-source",
   "name": "R",
   "pygments_lexer": "r",
   "version": "3.4.0"
  }
 },
 "nbformat": 4,
 "nbformat_minor": 1
}
