{
 "cells": [
  {
   "cell_type": "markdown",
   "metadata": {},
   "source": [
    "# Intro to Statistics with `R`"
   ]
  },
  {
   "cell_type": "markdown",
   "metadata": {},
   "source": [
    "## Read in the Data"
   ]
  },
  {
   "cell_type": "code",
   "execution_count": 1,
   "metadata": {
    "collapsed": true
   },
   "outputs": [],
   "source": [
    "bikeshare_hour <- read.csv('/dsa/data/all_datasets/bikeshare/hour.csv')"
   ]
  },
  {
   "cell_type": "markdown",
   "metadata": {},
   "source": [
    "Now that the data is read in, how would you remove the `Id` column from the dataframe in `R`. Remember, `R` is very flexible so there are several ways to remove columns. Do the following:\n",
    "\n",
    "**Activity 1**: Find the dimensions (the number of rows and columns) of the data frame. *Hint: You will have to look up the function to do this as it was not mentioned in the lab*. "
   ]
  },
  {
   "cell_type": "code",
   "execution_count": 2,
   "metadata": {},
   "outputs": [
    {
     "data": {
      "text/html": [
       "<ol class=list-inline>\n",
       "\t<li>17379</li>\n",
       "\t<li>17</li>\n",
       "</ol>\n"
      ],
      "text/latex": [
       "\\begin{enumerate*}\n",
       "\\item 17379\n",
       "\\item 17\n",
       "\\end{enumerate*}\n"
      ],
      "text/markdown": [
       "1. 17379\n",
       "2. 17\n",
       "\n",
       "\n"
      ],
      "text/plain": [
       "[1] 17379    17"
      ]
     },
     "metadata": {},
     "output_type": "display_data"
    }
   ],
   "source": [
    "#' Code for Activity 1 goes here -----------------------\n",
    "dim(bikeshare_hour)"
   ]
  },
  {
   "cell_type": "markdown",
   "metadata": {},
   "source": [
    "**Activity 2**: Display the ***last*** 10 columns of the data frame."
   ]
  },
  {
   "cell_type": "code",
   "execution_count": 3,
   "metadata": {},
   "outputs": [
    {
     "data": {
      "text/html": [
       "<table>\n",
       "<thead><tr><th></th><th scope=col>instant</th><th scope=col>dteday</th><th scope=col>season</th><th scope=col>yr</th><th scope=col>mnth</th><th scope=col>hr</th><th scope=col>holiday</th><th scope=col>weekday</th><th scope=col>workingday</th><th scope=col>weathersit</th><th scope=col>temp</th><th scope=col>atemp</th><th scope=col>hum</th><th scope=col>windspeed</th><th scope=col>casual</th><th scope=col>registered</th><th scope=col>cnt</th></tr></thead>\n",
       "<tbody>\n",
       "\t<tr><th scope=row>17370</th><td>17370     </td><td>2012-12-31</td><td>1         </td><td>1         </td><td>12        </td><td>14        </td><td>0         </td><td>1         </td><td>1         </td><td>2         </td><td>0.28      </td><td>0.2727    </td><td>0.45      </td><td>0.2239    </td><td>62        </td><td>185       </td><td>247       </td></tr>\n",
       "\t<tr><th scope=row>17371</th><td>17371     </td><td>2012-12-31</td><td>1         </td><td>1         </td><td>12        </td><td>15        </td><td>0         </td><td>1         </td><td>1         </td><td>2         </td><td>0.28      </td><td>0.2879    </td><td>0.45      </td><td>0.1343    </td><td>69        </td><td>246       </td><td>315       </td></tr>\n",
       "\t<tr><th scope=row>17372</th><td>17372     </td><td>2012-12-31</td><td>1         </td><td>1         </td><td>12        </td><td>16        </td><td>0         </td><td>1         </td><td>1         </td><td>2         </td><td>0.26      </td><td>0.2576    </td><td>0.48      </td><td>0.1940    </td><td>30        </td><td>184       </td><td>214       </td></tr>\n",
       "\t<tr><th scope=row>17373</th><td>17373     </td><td>2012-12-31</td><td>1         </td><td>1         </td><td>12        </td><td>17        </td><td>0         </td><td>1         </td><td>1         </td><td>2         </td><td>0.26      </td><td>0.2879    </td><td>0.48      </td><td>0.0896    </td><td>14        </td><td>150       </td><td>164       </td></tr>\n",
       "\t<tr><th scope=row>17374</th><td>17374     </td><td>2012-12-31</td><td>1         </td><td>1         </td><td>12        </td><td>18        </td><td>0         </td><td>1         </td><td>1         </td><td>2         </td><td>0.26      </td><td>0.2727    </td><td>0.48      </td><td>0.1343    </td><td>10        </td><td>112       </td><td>122       </td></tr>\n",
       "\t<tr><th scope=row>17375</th><td>17375     </td><td>2012-12-31</td><td>1         </td><td>1         </td><td>12        </td><td>19        </td><td>0         </td><td>1         </td><td>1         </td><td>2         </td><td>0.26      </td><td>0.2576    </td><td>0.60      </td><td>0.1642    </td><td>11        </td><td>108       </td><td>119       </td></tr>\n",
       "\t<tr><th scope=row>17376</th><td>17376     </td><td>2012-12-31</td><td>1         </td><td>1         </td><td>12        </td><td>20        </td><td>0         </td><td>1         </td><td>1         </td><td>2         </td><td>0.26      </td><td>0.2576    </td><td>0.60      </td><td>0.1642    </td><td> 8        </td><td> 81       </td><td> 89       </td></tr>\n",
       "\t<tr><th scope=row>17377</th><td>17377     </td><td>2012-12-31</td><td>1         </td><td>1         </td><td>12        </td><td>21        </td><td>0         </td><td>1         </td><td>1         </td><td>1         </td><td>0.26      </td><td>0.2576    </td><td>0.60      </td><td>0.1642    </td><td> 7        </td><td> 83       </td><td> 90       </td></tr>\n",
       "\t<tr><th scope=row>17378</th><td>17378     </td><td>2012-12-31</td><td>1         </td><td>1         </td><td>12        </td><td>22        </td><td>0         </td><td>1         </td><td>1         </td><td>1         </td><td>0.26      </td><td>0.2727    </td><td>0.56      </td><td>0.1343    </td><td>13        </td><td> 48       </td><td> 61       </td></tr>\n",
       "\t<tr><th scope=row>17379</th><td>17379     </td><td>2012-12-31</td><td>1         </td><td>1         </td><td>12        </td><td>23        </td><td>0         </td><td>1         </td><td>1         </td><td>1         </td><td>0.26      </td><td>0.2727    </td><td>0.65      </td><td>0.1343    </td><td>12        </td><td> 37       </td><td> 49       </td></tr>\n",
       "</tbody>\n",
       "</table>\n"
      ],
      "text/latex": [
       "\\begin{tabular}{r|lllllllllllllllll}\n",
       "  & instant & dteday & season & yr & mnth & hr & holiday & weekday & workingday & weathersit & temp & atemp & hum & windspeed & casual & registered & cnt\\\\\n",
       "\\hline\n",
       "\t17370 & 17370      & 2012-12-31 & 1          & 1          & 12         & 14         & 0          & 1          & 1          & 2          & 0.28       & 0.2727     & 0.45       & 0.2239     & 62         & 185        & 247       \\\\\n",
       "\t17371 & 17371      & 2012-12-31 & 1          & 1          & 12         & 15         & 0          & 1          & 1          & 2          & 0.28       & 0.2879     & 0.45       & 0.1343     & 69         & 246        & 315       \\\\\n",
       "\t17372 & 17372      & 2012-12-31 & 1          & 1          & 12         & 16         & 0          & 1          & 1          & 2          & 0.26       & 0.2576     & 0.48       & 0.1940     & 30         & 184        & 214       \\\\\n",
       "\t17373 & 17373      & 2012-12-31 & 1          & 1          & 12         & 17         & 0          & 1          & 1          & 2          & 0.26       & 0.2879     & 0.48       & 0.0896     & 14         & 150        & 164       \\\\\n",
       "\t17374 & 17374      & 2012-12-31 & 1          & 1          & 12         & 18         & 0          & 1          & 1          & 2          & 0.26       & 0.2727     & 0.48       & 0.1343     & 10         & 112        & 122       \\\\\n",
       "\t17375 & 17375      & 2012-12-31 & 1          & 1          & 12         & 19         & 0          & 1          & 1          & 2          & 0.26       & 0.2576     & 0.60       & 0.1642     & 11         & 108        & 119       \\\\\n",
       "\t17376 & 17376      & 2012-12-31 & 1          & 1          & 12         & 20         & 0          & 1          & 1          & 2          & 0.26       & 0.2576     & 0.60       & 0.1642     &  8         &  81        &  89       \\\\\n",
       "\t17377 & 17377      & 2012-12-31 & 1          & 1          & 12         & 21         & 0          & 1          & 1          & 1          & 0.26       & 0.2576     & 0.60       & 0.1642     &  7         &  83        &  90       \\\\\n",
       "\t17378 & 17378      & 2012-12-31 & 1          & 1          & 12         & 22         & 0          & 1          & 1          & 1          & 0.26       & 0.2727     & 0.56       & 0.1343     & 13         &  48        &  61       \\\\\n",
       "\t17379 & 17379      & 2012-12-31 & 1          & 1          & 12         & 23         & 0          & 1          & 1          & 1          & 0.26       & 0.2727     & 0.65       & 0.1343     & 12         &  37        &  49       \\\\\n",
       "\\end{tabular}\n"
      ],
      "text/plain": [
       "      instant dteday     season yr mnth hr holiday weekday workingday\n",
       "17370 17370   2012-12-31 1      1  12   14 0       1       1         \n",
       "17371 17371   2012-12-31 1      1  12   15 0       1       1         \n",
       "17372 17372   2012-12-31 1      1  12   16 0       1       1         \n",
       "17373 17373   2012-12-31 1      1  12   17 0       1       1         \n",
       "17374 17374   2012-12-31 1      1  12   18 0       1       1         \n",
       "17375 17375   2012-12-31 1      1  12   19 0       1       1         \n",
       "17376 17376   2012-12-31 1      1  12   20 0       1       1         \n",
       "17377 17377   2012-12-31 1      1  12   21 0       1       1         \n",
       "17378 17378   2012-12-31 1      1  12   22 0       1       1         \n",
       "17379 17379   2012-12-31 1      1  12   23 0       1       1         \n",
       "      weathersit temp atemp  hum  windspeed casual registered cnt\n",
       "17370 2          0.28 0.2727 0.45 0.2239    62     185        247\n",
       "17371 2          0.28 0.2879 0.45 0.1343    69     246        315\n",
       "17372 2          0.26 0.2576 0.48 0.1940    30     184        214\n",
       "17373 2          0.26 0.2879 0.48 0.0896    14     150        164\n",
       "17374 2          0.26 0.2727 0.48 0.1343    10     112        122\n",
       "17375 2          0.26 0.2576 0.60 0.1642    11     108        119\n",
       "17376 2          0.26 0.2576 0.60 0.1642     8      81         89\n",
       "17377 1          0.26 0.2576 0.60 0.1642     7      83         90\n",
       "17378 1          0.26 0.2727 0.56 0.1343    13      48         61\n",
       "17379 1          0.26 0.2727 0.65 0.1343    12      37         49"
      ]
     },
     "metadata": {},
     "output_type": "display_data"
    }
   ],
   "source": [
    "#' Code for Activity 2 goes here -----------------------\n",
    "tail(bikeshare_hour,10)"
   ]
  },
  {
   "cell_type": "markdown",
   "metadata": {},
   "source": [
    "**Activity 3**: Run summary command learnt in lab and identify each variable if its categorical or numerical."
   ]
  },
  {
   "cell_type": "code",
   "execution_count": 4,
   "metadata": {},
   "outputs": [
    {
     "data": {
      "text/plain": [
       "    instant             dteday          season            yr        \n",
       " Min.   :    1   2011-01-01:   24   Min.   :1.000   Min.   :0.0000  \n",
       " 1st Qu.: 4346   2011-01-08:   24   1st Qu.:2.000   1st Qu.:0.0000  \n",
       " Median : 8690   2011-01-09:   24   Median :3.000   Median :1.0000  \n",
       " Mean   : 8690   2011-01-10:   24   Mean   :2.502   Mean   :0.5026  \n",
       " 3rd Qu.:13034   2011-01-13:   24   3rd Qu.:3.000   3rd Qu.:1.0000  \n",
       " Max.   :17379   2011-01-15:   24   Max.   :4.000   Max.   :1.0000  \n",
       "                 (Other)   :17235                                   \n",
       "      mnth              hr           holiday           weekday     \n",
       " Min.   : 1.000   Min.   : 0.00   Min.   :0.00000   Min.   :0.000  \n",
       " 1st Qu.: 4.000   1st Qu.: 6.00   1st Qu.:0.00000   1st Qu.:1.000  \n",
       " Median : 7.000   Median :12.00   Median :0.00000   Median :3.000  \n",
       " Mean   : 6.538   Mean   :11.55   Mean   :0.02877   Mean   :3.004  \n",
       " 3rd Qu.:10.000   3rd Qu.:18.00   3rd Qu.:0.00000   3rd Qu.:5.000  \n",
       " Max.   :12.000   Max.   :23.00   Max.   :1.00000   Max.   :6.000  \n",
       "                                                                   \n",
       "   workingday       weathersit         temp           atemp       \n",
       " Min.   :0.0000   Min.   :1.000   Min.   :0.020   Min.   :0.0000  \n",
       " 1st Qu.:0.0000   1st Qu.:1.000   1st Qu.:0.340   1st Qu.:0.3333  \n",
       " Median :1.0000   Median :1.000   Median :0.500   Median :0.4848  \n",
       " Mean   :0.6827   Mean   :1.425   Mean   :0.497   Mean   :0.4758  \n",
       " 3rd Qu.:1.0000   3rd Qu.:2.000   3rd Qu.:0.660   3rd Qu.:0.6212  \n",
       " Max.   :1.0000   Max.   :4.000   Max.   :1.000   Max.   :1.0000  \n",
       "                                                                  \n",
       "      hum           windspeed          casual         registered   \n",
       " Min.   :0.0000   Min.   :0.0000   Min.   :  0.00   Min.   :  0.0  \n",
       " 1st Qu.:0.4800   1st Qu.:0.1045   1st Qu.:  4.00   1st Qu.: 34.0  \n",
       " Median :0.6300   Median :0.1940   Median : 17.00   Median :115.0  \n",
       " Mean   :0.6272   Mean   :0.1901   Mean   : 35.68   Mean   :153.8  \n",
       " 3rd Qu.:0.7800   3rd Qu.:0.2537   3rd Qu.: 48.00   3rd Qu.:220.0  \n",
       " Max.   :1.0000   Max.   :0.8507   Max.   :367.00   Max.   :886.0  \n",
       "                                                                   \n",
       "      cnt       \n",
       " Min.   :  1.0  \n",
       " 1st Qu.: 40.0  \n",
       " Median :142.0  \n",
       " Mean   :189.5  \n",
       " 3rd Qu.:281.0  \n",
       " Max.   :977.0  \n",
       "                "
      ]
     },
     "metadata": {},
     "output_type": "display_data"
    }
   ],
   "source": [
    "# Code for Activity 3 goes here -----------------------\n",
    "summary(bikeshare_hour)"
   ]
  },
  {
   "cell_type": "markdown",
   "metadata": {},
   "source": [
    "Below is one of the ways that you can subset a data frame based. Run the code below to see what it returns."
   ]
  },
  {
   "cell_type": "code",
   "execution_count": 5,
   "metadata": {},
   "outputs": [
    {
     "data": {
      "text/html": [
       "<table>\n",
       "<thead><tr><th></th><th scope=col>instant</th><th scope=col>dteday</th><th scope=col>season</th><th scope=col>yr</th><th scope=col>mnth</th><th scope=col>hr</th><th scope=col>holiday</th><th scope=col>weekday</th><th scope=col>workingday</th><th scope=col>weathersit</th><th scope=col>temp</th><th scope=col>atemp</th><th scope=col>hum</th><th scope=col>windspeed</th><th scope=col>casual</th><th scope=col>registered</th><th scope=col>cnt</th></tr></thead>\n",
       "<tbody>\n",
       "\t<tr><th scope=row>15</th><td>15        </td><td>2011-01-01</td><td>1         </td><td>0         </td><td>1         </td><td>14        </td><td>0         </td><td>6         </td><td>0         </td><td>2         </td><td>0.46      </td><td>0.4545    </td><td>0.72      </td><td>0.2836    </td><td>35        </td><td> 71       </td><td>106       </td></tr>\n",
       "\t<tr><th scope=row>16</th><td>16        </td><td>2011-01-01</td><td>1         </td><td>0         </td><td>1         </td><td>15        </td><td>0         </td><td>6         </td><td>0         </td><td>2         </td><td>0.44      </td><td>0.4394    </td><td>0.77      </td><td>0.2985    </td><td>40        </td><td> 70       </td><td>110       </td></tr>\n",
       "\t<tr><th scope=row>54</th><td>54        </td><td>2011-01-03</td><td>1         </td><td>0         </td><td>1         </td><td> 8        </td><td>0         </td><td>1         </td><td>1         </td><td>1         </td><td>0.14      </td><td>0.1212    </td><td>0.50      </td><td>0.2836    </td><td> 1        </td><td>153       </td><td>154       </td></tr>\n",
       "\t<tr><th scope=row>63</th><td>63        </td><td>2011-01-03</td><td>1         </td><td>0         </td><td>1         </td><td>17        </td><td>0         </td><td>1         </td><td>1         </td><td>1         </td><td>0.24      </td><td>0.2273    </td><td>0.30      </td><td>0.2239    </td><td>11        </td><td>146       </td><td>157       </td></tr>\n",
       "\t<tr><th scope=row>64</th><td>64        </td><td>2011-01-03</td><td>1         </td><td>0         </td><td>1         </td><td>18        </td><td>0         </td><td>1         </td><td>1         </td><td>1         </td><td>0.24      </td><td>0.2576    </td><td>0.32      </td><td>0.1045    </td><td> 9        </td><td>148       </td><td>157       </td></tr>\n",
       "\t<tr><th scope=row>65</th><td>65        </td><td>2011-01-03</td><td>1         </td><td>0         </td><td>1         </td><td>19        </td><td>0         </td><td>1         </td><td>1         </td><td>1         </td><td>0.20      </td><td>0.2576    </td><td>0.47      </td><td>0.0000    </td><td> 8        </td><td>102       </td><td>110       </td></tr>\n",
       "</tbody>\n",
       "</table>\n"
      ],
      "text/latex": [
       "\\begin{tabular}{r|lllllllllllllllll}\n",
       "  & instant & dteday & season & yr & mnth & hr & holiday & weekday & workingday & weathersit & temp & atemp & hum & windspeed & casual & registered & cnt\\\\\n",
       "\\hline\n",
       "\t15 & 15         & 2011-01-01 & 1          & 0          & 1          & 14         & 0          & 6          & 0          & 2          & 0.46       & 0.4545     & 0.72       & 0.2836     & 35         &  71        & 106       \\\\\n",
       "\t16 & 16         & 2011-01-01 & 1          & 0          & 1          & 15         & 0          & 6          & 0          & 2          & 0.44       & 0.4394     & 0.77       & 0.2985     & 40         &  70        & 110       \\\\\n",
       "\t54 & 54         & 2011-01-03 & 1          & 0          & 1          &  8         & 0          & 1          & 1          & 1          & 0.14       & 0.1212     & 0.50       & 0.2836     &  1         & 153        & 154       \\\\\n",
       "\t63 & 63         & 2011-01-03 & 1          & 0          & 1          & 17         & 0          & 1          & 1          & 1          & 0.24       & 0.2273     & 0.30       & 0.2239     & 11         & 146        & 157       \\\\\n",
       "\t64 & 64         & 2011-01-03 & 1          & 0          & 1          & 18         & 0          & 1          & 1          & 1          & 0.24       & 0.2576     & 0.32       & 0.1045     &  9         & 148        & 157       \\\\\n",
       "\t65 & 65         & 2011-01-03 & 1          & 0          & 1          & 19         & 0          & 1          & 1          & 1          & 0.20       & 0.2576     & 0.47       & 0.0000     &  8         & 102        & 110       \\\\\n",
       "\\end{tabular}\n"
      ],
      "text/plain": [
       "   instant dteday     season yr mnth hr holiday weekday workingday weathersit\n",
       "15 15      2011-01-01 1      0  1    14 0       6       0          2         \n",
       "16 16      2011-01-01 1      0  1    15 0       6       0          2         \n",
       "54 54      2011-01-03 1      0  1     8 0       1       1          1         \n",
       "63 63      2011-01-03 1      0  1    17 0       1       1          1         \n",
       "64 64      2011-01-03 1      0  1    18 0       1       1          1         \n",
       "65 65      2011-01-03 1      0  1    19 0       1       1          1         \n",
       "   temp atemp  hum  windspeed casual registered cnt\n",
       "15 0.46 0.4545 0.72 0.2836    35      71        106\n",
       "16 0.44 0.4394 0.77 0.2985    40      70        110\n",
       "54 0.14 0.1212 0.50 0.2836     1     153        154\n",
       "63 0.24 0.2273 0.30 0.2239    11     146        157\n",
       "64 0.24 0.2576 0.32 0.1045     9     148        157\n",
       "65 0.20 0.2576 0.47 0.0000     8     102        110"
      ]
     },
     "metadata": {},
     "output_type": "display_data"
    }
   ],
   "source": [
    "head(bikeshare_hour[bikeshare_hour$cnt > 100,])"
   ]
  },
  {
   "cell_type": "markdown",
   "metadata": {},
   "source": [
    "So what is the most common type of weather that happens?\n",
    "\n",
    "**Activity 4**: Find out the most common type of weather that occurs in the dataset."
   ]
  },
  {
   "cell_type": "code",
   "execution_count": 1,
   "metadata": {
    "collapsed": true
   },
   "outputs": [],
   "source": [
    "help(table)"
   ]
  },
  {
   "cell_type": "code",
   "execution_count": 8,
   "metadata": {},
   "outputs": [
    {
     "data": {
      "text/plain": [
       "\n",
       "    1     2     3     4 \n",
       "11413  4544  1419     3 "
      ]
     },
     "metadata": {},
     "output_type": "display_data"
    },
    {
     "data": {
      "text/html": [
       "<strong>1:</strong> 1"
      ],
      "text/latex": [
       "\\textbf{1:} 1"
      ],
      "text/markdown": [
       "**1:** 1"
      ],
      "text/plain": [
       "1 \n",
       "1 "
      ]
     },
     "metadata": {},
     "output_type": "display_data"
    }
   ],
   "source": [
    "table(bikeshare_hour$weathersit)\n",
    "which.max(table(bikeshare_hour$weathersit))"
   ]
  },
  {
   "cell_type": "code",
   "execution_count": 6,
   "metadata": {},
   "outputs": [
    {
     "data": {
      "text/html": [
       "'1'"
      ],
      "text/latex": [
       "'1'"
      ],
      "text/markdown": [
       "'1'"
      ],
      "text/plain": [
       "[1] \"1\""
      ]
     },
     "metadata": {},
     "output_type": "display_data"
    }
   ],
   "source": [
    "# Code for Activity 4 goes here -----------------------\n",
    "names(which.max(table(bikeshare_hour$weathersit)))"
   ]
  },
  {
   "cell_type": "markdown",
   "metadata": {},
   "source": [
    "Let’s say, we want to check the significance of variable weekday for hypothesis testing .Assume that monday(weekday 1)  have more bike shares than average population bike shares\n",
    "\n",
    "To verify this assumption, let’s use z-test and see, if monday has more bike shares than the over all population.\n",
    "\n",
    "H0: There is no significant difference in the number of bike shares for Monday versus any other day of the week.\n",
    "\n",
    "H1: There is a better chance of monday having more bike shares than population bike shares.\n",
    "\n",
    "**Activity 5**: Test the hypothesis if the null hypothesis H0, is true or not. Calculate the z-score. "
   ]
  },
  {
   "cell_type": "code",
   "execution_count": 9,
   "metadata": {},
   "outputs": [
    {
     "name": "stdout",
     "output_type": "stream",
     "text": [
      "[1] \"sample mean :  183.744655102864\"\n",
      "[1] \"population mean :  189.463087634501\"\n",
      "[1] \"population variance :  32901.4611043111\"\n"
     ]
    },
    {
     "data": {
      "text/html": [
       "-0.0315260390471415"
      ],
      "text/latex": [
       "-0.0315260390471415"
      ],
      "text/markdown": [
       "-0.0315260390471415"
      ],
      "text/plain": [
       "[1] -0.03152604"
      ]
     },
     "metadata": {},
     "output_type": "display_data"
    }
   ],
   "source": [
    "# Code for Activity 5 goes here -----------------------\n",
    "monday <- subset(bikeshare_hour, weekday == 1)\n",
    "\n",
    "z.test = function(x, y, z){\n",
    " sample_mean = mean(x)\n",
    " print(paste(\"sample mean : \",sample_mean))\n",
    " pop_mean = mean(y)\n",
    " print(paste(\"population mean : \",pop_mean))\n",
    " pop_var = var(y)\n",
    " print(paste(\"population variance : \",pop_var))\n",
    " zscore = (sample_mean - pop_mean) / (sqrt(pop_var))\n",
    " return(zscore)\n",
    "}\n",
    "\n",
    "#call function\n",
    "z.test(monday$cnt, bikeshare_hour$cnt, bikeshare_hour)"
   ]
  },
  {
   "cell_type": "code",
   "execution_count": 10,
   "metadata": {},
   "outputs": [
    {
     "data": {
      "text/html": [
       "<table>\n",
       "<thead><tr><th scope=col>0</th><th scope=col>1</th><th scope=col>2</th><th scope=col>3</th><th scope=col>4</th><th scope=col>5</th><th scope=col>6</th></tr></thead>\n",
       "<tbody>\n",
       "\t<tr><td>177.4688</td><td>183.7447</td><td>191.2389</td><td>191.1305</td><td>196.4367</td><td>196.1359</td><td>190.2098</td></tr>\n",
       "</tbody>\n",
       "</table>\n"
      ],
      "text/latex": [
       "\\begin{tabular}{lllllll}\n",
       " 0 & 1 & 2 & 3 & 4 & 5 & 6\\\\\n",
       "\\hline\n",
       "\t 177.4688 & 183.7447 & 191.2389 & 191.1305 & 196.4367 & 196.1359 & 190.2098\\\\\n",
       "\\end{tabular}\n"
      ],
      "text/markdown": [
       "1. 177.468824940048\n",
       "2. 183.744655102864\n",
       "3. 191.238891153689\n",
       "4. 191.130505050505\n",
       "5. 196.436665317685\n",
       "6. 196.135906714918\n",
       "7. 190.209792993631\n",
       "\n",
       "\n"
      ],
      "text/plain": [
       "     0        1        2        3        4        5        6       \n",
       "[1,] 177.4688 183.7447 191.2389 191.1305 196.4367 196.1359 190.2098"
      ]
     },
     "metadata": {},
     "output_type": "display_data"
    }
   ],
   "source": [
    "t(tapply(bikeshare_hour$cnt,bikeshare_hour$weekday,mean))"
   ]
  },
  {
   "cell_type": "markdown",
   "metadata": {},
   "source": [
    "Will the day of the week really matters for number of bike shares that are happening. \n",
    "\n",
    "**Activity 6: ** Check for the dependence between weekday and cnt variables using a chi square independence test you came across in the lab."
   ]
  },
  {
   "cell_type": "code",
   "execution_count": null,
   "metadata": {
    "collapsed": true
   },
   "outputs": [],
   "source": [
    "# Code for Activity 6 goes here -----------------------\n",
    "chisq.test(c(bikeshare_hour$weekday,bikeshare_hour$cnt))"
   ]
  },
  {
   "cell_type": "markdown",
   "metadata": {},
   "source": [
    "Let's say we were interested in analyzing patters on weekdays and weekends. \n",
    "\n",
    "**Activity 7**: subset the data set into two different subsets for rows where the weekday = 1,2,3,4,5 for weekday and 0,6 for weekend."
   ]
  },
  {
   "cell_type": "code",
   "execution_count": null,
   "metadata": {
    "collapsed": true
   },
   "outputs": [],
   "source": [
    "#' Code for Activity 7 goes here -----------------------\n",
    "weekday = bikeshare_hour[bikeshare_hour$weekday %in% c(1,2,3,4,5),]\n",
    "weekend = bikeshare_hour[bikeshare_hour$weekday %in% c(0,6),]\n",
    "print(nrow(weekday))\n",
    "print(nrow(weekend))"
   ]
  },
  {
   "cell_type": "code",
   "execution_count": 2,
   "metadata": {},
   "outputs": [
    {
     "data": {
      "text/html": [
       "<table>\n",
       "<thead><tr><th></th><th scope=col>instant</th><th scope=col>dteday</th><th scope=col>season</th><th scope=col>yr</th><th scope=col>mnth</th><th scope=col>hr</th><th scope=col>holiday</th><th scope=col>weekday</th><th scope=col>workingday</th><th scope=col>weathersit</th><th scope=col>temp</th><th scope=col>atemp</th><th scope=col>hum</th><th scope=col>windspeed</th><th scope=col>casual</th><th scope=col>registered</th><th scope=col>cnt</th></tr></thead>\n",
       "<tbody>\n",
       "\t<tr><th scope=row>1</th><td>1         </td><td>2011-01-01</td><td>1         </td><td>0         </td><td>1         </td><td>0         </td><td>0         </td><td>6         </td><td>0         </td><td>1         </td><td>0.24      </td><td>0.2879    </td><td>0.81      </td><td>0         </td><td>3         </td><td>13        </td><td>16        </td></tr>\n",
       "\t<tr><th scope=row>2</th><td>2         </td><td>2011-01-01</td><td>1         </td><td>0         </td><td>1         </td><td>1         </td><td>0         </td><td>6         </td><td>0         </td><td>1         </td><td>0.22      </td><td>0.2727    </td><td>0.8       </td><td>0         </td><td>8         </td><td>32        </td><td>40        </td></tr>\n",
       "\t<tr><th scope=row>3</th><td>3         </td><td>2011-01-01</td><td>1         </td><td>0         </td><td>1         </td><td>2         </td><td>0         </td><td>6         </td><td>0         </td><td>1         </td><td>0.22      </td><td>0.2727    </td><td>0.8       </td><td>0         </td><td>5         </td><td>27        </td><td>32        </td></tr>\n",
       "\t<tr><th scope=row>4</th><td>4         </td><td>2011-01-01</td><td>1         </td><td>0         </td><td>1         </td><td>3         </td><td>0         </td><td>6         </td><td>0         </td><td>1         </td><td>0.24      </td><td>0.2879    </td><td>0.75      </td><td>0         </td><td>3         </td><td>10        </td><td>13        </td></tr>\n",
       "\t<tr><th scope=row>5</th><td>5         </td><td>2011-01-01</td><td>1         </td><td>0         </td><td>1         </td><td>4         </td><td>0         </td><td>6         </td><td>0         </td><td>1         </td><td>0.24      </td><td>0.2879    </td><td>0.75      </td><td>0         </td><td>0         </td><td>1         </td><td>1         </td></tr>\n",
       "\t<tr><th scope=row>6</th><td>6         </td><td>2011-01-01</td><td>1         </td><td>0         </td><td>1         </td><td>5         </td><td>0         </td><td>6         </td><td>0         </td><td>2         </td><td>0.24      </td><td>0.2576    </td><td>0.75      </td><td>0.0896    </td><td>0         </td><td>1         </td><td>1         </td></tr>\n",
       "</tbody>\n",
       "</table>\n"
      ],
      "text/latex": [
       "\\begin{tabular}{r|lllllllllllllllll}\n",
       "  & instant & dteday & season & yr & mnth & hr & holiday & weekday & workingday & weathersit & temp & atemp & hum & windspeed & casual & registered & cnt\\\\\n",
       "\\hline\n",
       "\t1 & 1          & 2011-01-01 & 1          & 0          & 1          & 0          & 0          & 6          & 0          & 1          & 0.24       & 0.2879     & 0.81       & 0          & 3          & 13         & 16        \\\\\n",
       "\t2 & 2          & 2011-01-01 & 1          & 0          & 1          & 1          & 0          & 6          & 0          & 1          & 0.22       & 0.2727     & 0.8        & 0          & 8          & 32         & 40        \\\\\n",
       "\t3 & 3          & 2011-01-01 & 1          & 0          & 1          & 2          & 0          & 6          & 0          & 1          & 0.22       & 0.2727     & 0.8        & 0          & 5          & 27         & 32        \\\\\n",
       "\t4 & 4          & 2011-01-01 & 1          & 0          & 1          & 3          & 0          & 6          & 0          & 1          & 0.24       & 0.2879     & 0.75       & 0          & 3          & 10         & 13        \\\\\n",
       "\t5 & 5          & 2011-01-01 & 1          & 0          & 1          & 4          & 0          & 6          & 0          & 1          & 0.24       & 0.2879     & 0.75       & 0          & 0          & 1          & 1         \\\\\n",
       "\t6 & 6          & 2011-01-01 & 1          & 0          & 1          & 5          & 0          & 6          & 0          & 2          & 0.24       & 0.2576     & 0.75       & 0.0896     & 0          & 1          & 1         \\\\\n",
       "\\end{tabular}\n"
      ],
      "text/plain": [
       "  instant     dteday season yr mnth hr holiday weekday workingday weathersit\n",
       "1       1 2011-01-01      1  0    1  0       0       6          0          1\n",
       "2       2 2011-01-01      1  0    1  1       0       6          0          1\n",
       "3       3 2011-01-01      1  0    1  2       0       6          0          1\n",
       "4       4 2011-01-01      1  0    1  3       0       6          0          1\n",
       "5       5 2011-01-01      1  0    1  4       0       6          0          1\n",
       "6       6 2011-01-01      1  0    1  5       0       6          0          2\n",
       "  temp  atemp  hum windspeed casual registered cnt\n",
       "1 0.24 0.2879 0.81    0.0000      3         13  16\n",
       "2 0.22 0.2727 0.80    0.0000      8         32  40\n",
       "3 0.22 0.2727 0.80    0.0000      5         27  32\n",
       "4 0.24 0.2879 0.75    0.0000      3         10  13\n",
       "5 0.24 0.2879 0.75    0.0000      0          1   1\n",
       "6 0.24 0.2576 0.75    0.0896      0          1   1"
      ]
     },
     "metadata": {},
     "output_type": "display_data"
    }
   ],
   "source": [
    "head(bikeshare_hour)"
   ]
  },
  {
   "cell_type": "markdown",
   "metadata": {},
   "source": [
    "Let's say we were interested in analyzing distribution of data whether its a working day or not and the weather situation on that day. \n",
    "\n",
    "**Activity 8**: Find the distribution of data based on workingday or not and kind of weather for the day. Use the table command that was introduced in lab to get an idea of how values are distributed between these two variables."
   ]
  },
  {
   "cell_type": "code",
   "execution_count": null,
   "metadata": {
    "collapsed": true
   },
   "outputs": [],
   "source": [
    "#' Code for Activity 8 goes here -----------------------\n",
    "table(bikeshare_hour$workingday,bikeshare_hour$weathersit)"
   ]
  },
  {
   "cell_type": "markdown",
   "metadata": {},
   "source": [
    "** Activity 9**: Identify the datatype of each variable in dataframe by applying class function to all variables. You were introduced to this command in Intro to Data Science course or you look up for this command."
   ]
  },
  {
   "cell_type": "code",
   "execution_count": null,
   "metadata": {
    "collapsed": true
   },
   "outputs": [],
   "source": [
    "#' Code for Activity 9 goes here -----------------------\n",
    "sapply(bikeshare_hour,class)"
   ]
  },
  {
   "cell_type": "markdown",
   "metadata": {},
   "source": [
    "**Activity 10**: Check the structure of the dataframe. You have to look up for this command. This command will give you the dimensions of dataframe, type of each variable and intial first 10 values of the variable. Its a very command to get a quick overview of dataframe. "
   ]
  },
  {
   "cell_type": "code",
   "execution_count": null,
   "metadata": {
    "collapsed": true
   },
   "outputs": [],
   "source": [
    "#' Code for Activity 10 goes here -----------------------\n",
    "str(bikeshare_hour)"
   ]
  },
  {
   "cell_type": "markdown",
   "metadata": {},
   "source": [
    "Lets see if people are more interested in riding the bike on weekdays or weekends. \n",
    "\n",
    "**Activity 11: ** Find out if people are interested in riding the bike on weekdays or weekends. Find the number of instances for weekdays and weekends."
   ]
  },
  {
   "cell_type": "code",
   "execution_count": 12,
   "metadata": {},
   "outputs": [
    {
     "data": {
      "text/plain": [
       "\n",
       "   0    1    2    3    4    5    6 \n",
       "2502 2479 2453 2475 2471 2487 2512 "
      ]
     },
     "metadata": {},
     "output_type": "display_data"
    }
   ],
   "source": [
    "#' Code for Activity 11 goes here -----------------------\n",
    "\n",
    "table(bikeshare_hour$weekday)"
   ]
  },
  {
   "cell_type": "code",
   "execution_count": 13,
   "metadata": {},
   "outputs": [
    {
     "data": {
      "text/html": [
       "<span style=white-space:pre-wrap>'weekday:  12365'</span>"
      ],
      "text/latex": [
       "'weekday:  12365'"
      ],
      "text/markdown": [
       "<span style=white-space:pre-wrap>'weekday:  12365'</span>"
      ],
      "text/plain": [
       "[1] \"weekday:  12365\""
      ]
     },
     "metadata": {},
     "output_type": "display_data"
    },
    {
     "data": {
      "text/html": [
       "<span style=white-space:pre-wrap>'weekend:  5014'</span>"
      ],
      "text/latex": [
       "'weekend:  5014'"
      ],
      "text/markdown": [
       "<span style=white-space:pre-wrap>'weekend:  5014'</span>"
      ],
      "text/plain": [
       "[1] \"weekend:  5014\""
      ]
     },
     "metadata": {},
     "output_type": "display_data"
    },
    {
     "data": {
      "text/html": [
       "'weekday percentile 0.711490879797457'"
      ],
      "text/latex": [
       "'weekday percentile 0.711490879797457'"
      ],
      "text/markdown": [
       "'weekday percentile 0.711490879797457'"
      ],
      "text/plain": [
       "[1] \"weekday percentile 0.711490879797457\""
      ]
     },
     "metadata": {},
     "output_type": "display_data"
    },
    {
     "data": {
      "text/html": [
       "'weekend percentile 0.288509120202543'"
      ],
      "text/latex": [
       "'weekend percentile 0.288509120202543'"
      ],
      "text/markdown": [
       "'weekend percentile 0.288509120202543'"
      ],
      "text/plain": [
       "[1] \"weekend percentile 0.288509120202543\""
      ]
     },
     "metadata": {},
     "output_type": "display_data"
    },
    {
     "data": {
      "text/html": [
       "'weekday average 2473'"
      ],
      "text/latex": [
       "'weekday average 2473'"
      ],
      "text/markdown": [
       "'weekday average 2473'"
      ],
      "text/plain": [
       "[1] \"weekday average 2473\""
      ]
     },
     "metadata": {},
     "output_type": "display_data"
    },
    {
     "data": {
      "text/html": [
       "'weekend average 2507'"
      ],
      "text/latex": [
       "'weekend average 2507'"
      ],
      "text/markdown": [
       "'weekend average 2507'"
      ],
      "text/plain": [
       "[1] \"weekend average 2507\""
      ]
     },
     "metadata": {},
     "output_type": "display_data"
    }
   ],
   "source": [
    "#Code for Activity 11 continued\n",
    "weekday_count=2479+2453+2475+2471+2487\n",
    "paste('weekday: ',weekday_count)\n",
    "weekend_count=2502+2512\n",
    "paste('weekend: ',weekend_count)\n",
    "paste('weekday percentile',weekday_percentile= weekday_count/nrow(bikeshare_hour))\n",
    "paste('weekend percentile',weekend_percentile= weekend_count/nrow(bikeshare_hour))\n",
    "\n",
    "paste('weekday average',12365/5)\n",
    "paste('weekend average',5014/2)"
   ]
  },
  {
   "cell_type": "markdown",
   "metadata": {},
   "source": [
    "**Activity 12: ** Find out the day and hour when the maximum number of bikes were shared"
   ]
  },
  {
   "cell_type": "code",
   "execution_count": null,
   "metadata": {
    "collapsed": true
   },
   "outputs": [],
   "source": [
    "# Code for Activity 12 goes here -----------------------\n",
    "bikeshare_hour[which(bikeshare_hour$cnt==max(bikeshare_hour$cnt)),]"
   ]
  },
  {
   "cell_type": "markdown",
   "metadata": {},
   "source": [
    "Lets do some data cleaning for taking up the next activity"
   ]
  },
  {
   "cell_type": "code",
   "execution_count": null,
   "metadata": {
    "collapsed": true
   },
   "outputs": [],
   "source": [
    "#First get the count of total bike shares based on each hour of the day and weekday\n",
    "hour_sums=t(tapply(bikeshare_hour$cnt, bikeshare_hour$hr,sum))\n",
    "day_sums=t(tapply(bikeshare_hour$cnt, bikeshare_hour$weekday,sum))"
   ]
  },
  {
   "cell_type": "markdown",
   "metadata": {},
   "source": [
    "tapply() definition from R-manual: Apply a function to each cell of a ragged array, that is to each (non-empty) group of values given by a unique combination of the levels of certain factors.\n",
    "\n",
    "Simply put, In our example of hour_sums variable, the the data is partitioned based on second parameter bikeshare_hour$hr. So 24 subsets are created for each hour(0 to 23). The 3rd arguement which could be any function(sum,mean,median etc) on the first parameter of the subsets created. \n",
    "\n",
    "The t() is used to return transpose input dataframe or matrix. Jupyter has issues rendering tapply() output, so t() is a workaround to display the output correctly.\n",
    "\n",
    "If you check the dimensions of hour_sums and day_sums variables they are dataframes. But we want the output in the form of a vector. So how can we convert a dataframe to a vector?"
   ]
  },
  {
   "cell_type": "code",
   "execution_count": null,
   "metadata": {
    "collapsed": true
   },
   "outputs": [],
   "source": [
    "#The above piece of code returns dataframes as output. Check the dimensions and class to verify\n",
    "dim(hour_sums)\n",
    "dim(day_sums)"
   ]
  },
  {
   "cell_type": "markdown",
   "metadata": {},
   "source": [
    "R has builtin function to convert data format between dataframes,matrices and vectors. You can chnage the data type and also check if certain variable is actually a dataframe or matrix or a vector using functions like is.dataframe() etc."
   ]
  },
  {
   "cell_type": "code",
   "execution_count": null,
   "metadata": {
    "collapsed": true
   },
   "outputs": [],
   "source": [
    "#Convert the dataframes to array type\n",
    "hour_sums=as.vector(hour_sums)\n",
    "day_sums=as.vector(day_sums)\n",
    "hour_sums\n",
    "day_sums"
   ]
  },
  {
   "cell_type": "markdown",
   "metadata": {},
   "source": [
    "## Distributions\n",
    "\n",
    "\n",
    "Lets peek into the distribution of different variables and see how they are distributed.\n",
    "\n",
    "** Activity 13: ** Plot a bar plot for bike shares for each hour of the day and also weekday. Use hour_sums and day_sums vectors just created to plot. Combine this plots using the par() or layout() command for analyzing them easily."
   ]
  },
  {
   "cell_type": "code",
   "execution_count": null,
   "metadata": {
    "collapsed": true
   },
   "outputs": [],
   "source": [
    "# Code for activity 13 goes gere \n",
    "\n",
    "par(mfrow=c(1,2))\n",
    "hour_bar=barplot(hour_sums, main=\"Total bike shares for each hour\", \n",
    "  \txlab=\"Hour of the day\")\n",
    "axis(side=1, at = hour_bar, labels = seq(0, 23, 1))\n",
    "\n",
    "week_bar=barplot(day_sums, main=\"Total bike shares for each weekday\", \n",
    "  \txlab=\"Day of the week\")\n",
    "axis(side=1, at = week_bar, labels = seq(0, 6, 1))"
   ]
  },
  {
   "cell_type": "markdown",
   "metadata": {},
   "source": [
    "The plots clearly tell, The peak hour of bike shares is 17 and 18 hours every day. While, thurdays and fridays are popular for bike shares in a week. This is contradicting with what we saw in activity 10 where average number of instances of bike shares are more on weekends. Lets see the average number of users who rent the bike on each week of the day are shown below."
   ]
  },
  {
   "cell_type": "code",
   "execution_count": null,
   "metadata": {
    "collapsed": true
   },
   "outputs": [],
   "source": [
    "day_sums"
   ]
  },
  {
   "cell_type": "markdown",
   "metadata": {},
   "source": [
    "**Activity 14: ** PLot a boxplot for cnt against each weekday"
   ]
  },
  {
   "cell_type": "code",
   "execution_count": null,
   "metadata": {
    "collapsed": true
   },
   "outputs": [],
   "source": [
    "#Code for activity 14 goes here.........\n",
    "\n",
    "boxplot(bikeshare_hour$cnt~bikeshare_hour$weekday,data=bikeshare_hour, main=\"Bike shares\", xlab=\"Weekday\", ylab=\"Number of bikeshares\")"
   ]
  },
  {
   "cell_type": "markdown",
   "metadata": {},
   "source": [
    "** Activity 15: ** Plot histograms for variables casual, registered and cnt variables and see how they are distributed. plot mean and median on the histogram. "
   ]
  },
  {
   "cell_type": "code",
   "execution_count": null,
   "metadata": {
    "collapsed": true
   },
   "outputs": [],
   "source": [
    "#Code for activity 15 goes here.........\n",
    "\n",
    "casual_mean=mean(bikeshare_hour$casual)\n",
    "casual_sd=sd(bikeshare_hour$casual)\n",
    "registered_mean=mean(bikeshare_hour$registered)\n",
    "registered_sd=sd(bikeshare_hour$registered)\n",
    "total_mean=mean(bikeshare_hour$cnt)\n",
    "total_sd=sd(bikeshare_hour$cnt)\n",
    "\n",
    "par(mfrow=c(1,3))\n",
    "#plot for casual users\n",
    "hist(bikeshare_hour$casual, probability = TRUE,main=\"Casual users distribution\",xlab=\"Number of users\",ylab=\"Density\")\n",
    "x <- 0:max(bikeshare_hour$casual)\n",
    "y <- dnorm(x = x, mean = casual_mean, sd = casual_sd)\n",
    "lines(x = x, y = y, col = \"blue\")\n",
    "\n",
    "casual_median = median(bikeshare_hour$casual)\n",
    "abline(v = casual_mean, col = \"blue\", lwd = 2)\n",
    "abline(v = casual_median, col = \"red\", lwd = 2)\n",
    "abline(v = casual_sd, col = \"green\", lwd = 2)\n",
    "\n",
    "#plot for registered users\n",
    "hist(bikeshare_hour$registered, probability = TRUE,main=\"registered users distribution\",xlab=\"Number of users\",ylab=\"Density\")\n",
    "x <- 0:max(bikeshare_hour$registered)\n",
    "y <- dnorm(x = x, mean = registered_mean, sd = registered_sd)\n",
    "lines(x = x, y = y, col = \"blue\")\n",
    "\n",
    "registered_median = median(bikeshare_hour$registered)\n",
    "abline(v = registered_mean, col = \"blue\", lwd = 2)\n",
    "abline(v = registered_median, col = \"red\", lwd = 2)\n",
    "abline(v = registered_sd, col = \"green\", lwd = 2)\n",
    "\n",
    "\n",
    "#plot for total users\n",
    "hist(bikeshare_hour$cnt, probability = TRUE,main=\"total users distribution\",xlab=\"Number of users\",ylab=\"Density\")\n",
    "x <- 0:max(bikeshare_hour$cnt)\n",
    "y <- dnorm(x = x, mean = total_mean, sd = total_sd)\n",
    "lines(x = x, y = y, col = \"blue\")\n",
    "\n",
    "total_median = median(bikeshare_hour$total)\n",
    "abline(v = total_mean, col = \"blue\", lwd = 2)\n",
    "abline(v = total_median, col = \"red\", lwd = 2)\n",
    "abline(v = total_sd, col = \"green\", lwd = 2)\n"
   ]
  }
 ],
 "metadata": {
  "kernelspec": {
   "display_name": "R",
   "language": "R",
   "name": "ir"
  },
  "language_info": {
   "codemirror_mode": "r",
   "file_extension": ".r",
   "mimetype": "text/x-r-source",
   "name": "R",
   "pygments_lexer": "r",
   "version": "3.5.1"
  }
 },
 "nbformat": 4,
 "nbformat_minor": 1
}
