{
 "cells": [
  {
   "cell_type": "markdown",
   "metadata": {},
   "source": [
    "# Intro to Statistics with `R` practice"
   ]
  },
  {
   "cell_type": "markdown",
   "metadata": {},
   "source": [
    "## Read in the Data"
   ]
  },
  {
   "cell_type": "code",
   "execution_count": null,
   "metadata": {
    "collapsed": true
   },
   "outputs": [],
   "source": [
    "wine_data <- read.csv('/dsa/data/all_datasets/wine price/wine.csv')"
   ]
  },
  {
   "cell_type": "markdown",
   "metadata": {},
   "source": [
    "Now that the data is read in, how would you remove the `Id` column from the dataframe in `R`. Remember, `R` is very flexible so there are several ways to remove columns. Do the following:\n",
    "\n",
    "**Activity 1**: Find the dimensions (the number of rows and columns) of the data frame. *Hint: You will have to look up the function to do this as it was not mentioned in the lab*. \n",
    "\n",
    "**Activity 2**: Subset the wine_data into two dataframes based on the year. Named these dataframes group1 and group2 where group 1 contains data for years less than or equal to 1960 and group2 contains data with year greater than 1960.\n",
    "\n",
    "**Activity 3**: Run summary command learnt in lab and identify each variable if its categorical or numerical."
   ]
  },
  {
   "cell_type": "code",
   "execution_count": null,
   "metadata": {
    "collapsed": true
   },
   "outputs": [],
   "source": [
    "#' Code for Activity 1 goes here -----------------------\n",
    "dim(wine_data)"
   ]
  },
  {
   "cell_type": "code",
   "execution_count": null,
   "metadata": {
    "collapsed": true
   },
   "outputs": [],
   "source": [
    "range(wine_data$Year)"
   ]
  },
  {
   "cell_type": "code",
   "execution_count": null,
   "metadata": {
    "collapsed": true
   },
   "outputs": [],
   "source": [
    "#' Code for Activity 2 goes here -----------------------\n",
    "group1=subset(wine_data,Year<=1960)\n",
    "group2=subset(wine_data,Year>1960)"
   ]
  },
  {
   "cell_type": "code",
   "execution_count": null,
   "metadata": {
    "collapsed": true
   },
   "outputs": [],
   "source": [
    "#' Answer for Activity 3 goes here -----------------------\n",
    "summary(wine_data)"
   ]
  },
  {
   "cell_type": "markdown",
   "metadata": {},
   "source": [
    "All variables are continous"
   ]
  },
  {
   "cell_type": "markdown",
   "metadata": {},
   "source": [
    "Below is one of the ways that you can subset a data frame based. Run the code below to see what it returns."
   ]
  },
  {
   "cell_type": "code",
   "execution_count": null,
   "metadata": {
    "collapsed": true
   },
   "outputs": [],
   "source": [
    "head(wine_data[wine_data$Year > 1970,])"
   ]
  },
  {
   "cell_type": "markdown",
   "metadata": {},
   "source": [
    "**Activity 4**: *Find out the number of rows where the `Price` is greater than 7."
   ]
  },
  {
   "cell_type": "code",
   "execution_count": null,
   "metadata": {
    "collapsed": true
   },
   "outputs": [],
   "source": [
    "#' Code for Activity 4 goes here -----------------------\n",
    "nrow(wine_data[wine_data$Price > 7,])"
   ]
  },
  {
   "cell_type": "markdown",
   "metadata": {},
   "source": [
    "Let's say we want to know average Age of the wine. \n",
    "\n",
    "**Activity 5**: Apply mean() function on the Age variable"
   ]
  },
  {
   "cell_type": "code",
   "execution_count": null,
   "metadata": {
    "collapsed": true
   },
   "outputs": [],
   "source": [
    "mean(wine_data$Age)"
   ]
  },
  {
   "cell_type": "markdown",
   "metadata": {},
   "source": [
    "We want to know the year which has recorded highest price for the wine.\n",
    "\n",
    "**Activity 6**: Find the maximum price that is recorded in wine dataset and find the year for the corresponding year. You will have to look up the command as it not covered in lab."
   ]
  },
  {
   "cell_type": "code",
   "execution_count": null,
   "metadata": {
    "collapsed": true
   },
   "outputs": [],
   "source": [
    "#' Code for Activity 6 goes here -----------------------\n",
    "wine_data$Year[which.max(wine_data$Price)]"
   ]
  },
  {
   "cell_type": "markdown",
   "metadata": {},
   "source": [
    "** Activity 7**: Identify the datatype of each variable in dataframe. You were introduced to this command in Intro to Data Science course or you can look up for this command.\n",
    "\n",
    "**Activity 8**: Check the structure of the dataframe. You have to look up for this command. This command will give you the dimensions of dataframe, type of each variable and intial first 10 values of the variable. Its a very useful command to get a quick overview of dataframe. "
   ]
  },
  {
   "cell_type": "code",
   "execution_count": null,
   "metadata": {
    "collapsed": true
   },
   "outputs": [],
   "source": [
    "#' Code for Activity 7 goes here -----------------------\n",
    "sapply(wine_data,class)"
   ]
  },
  {
   "cell_type": "code",
   "execution_count": null,
   "metadata": {
    "collapsed": true
   },
   "outputs": [],
   "source": [
    "# Code for Activity 8 goes here -----------------------\n",
    "str(wine_data)"
   ]
  },
  {
   "cell_type": "markdown",
   "metadata": {},
   "source": [
    "Lets see how WinterRain variable data is distributed \n",
    "\n",
    "**Activity 9: ** Plot a histogram of WinterRain, using ggplot2 library. Assign the plot to a variable `plot`. Use bin width as 20."
   ]
  },
  {
   "cell_type": "code",
   "execution_count": null,
   "metadata": {
    "collapsed": true
   },
   "outputs": [],
   "source": [
    "#' Code for Activity 9 goes here -----------------------\n",
    "\n",
    "library(ggplot2)\n",
    "plot = ggplot(data=wine_data, aes(wine_data$WinterRain)) + \n",
    "  geom_histogram(aes(y =..density..), \n",
    "                 breaks=seq(360, 850,by = 20), \n",
    "                 col=\"green\", \n",
    "                 fill=\"orange\", \n",
    "                 alpha = .5) + \n",
    "  geom_density(col=2) + \n",
    "  \n",
    "  labs(title=\"Histogram for Winter Rain\") +\n",
    "  labs(x=\"Amount of Rain\", y=\"Count\")\n",
    "plot"
   ]
  },
  {
   "cell_type": "markdown",
   "metadata": {},
   "source": [
    "**Activity 10: ** Draw vertical lines for mean and median of WinterRain in avove plot. You can use the same `plot` object to draw the lines."
   ]
  },
  {
   "cell_type": "code",
   "execution_count": null,
   "metadata": {
    "collapsed": true
   },
   "outputs": [],
   "source": [
    "mean_WinterRain <- mean(wine_data$WinterRain)\n",
    "median_WinterRain = median(wine_data$WinterRain)\n",
    "\n",
    "plot + geom_vline(xintercept = mean_WinterRain,color='red')+geom_vline(xintercept = median_WinterRain,color='blue')"
   ]
  },
  {
   "cell_type": "markdown",
   "metadata": {},
   "source": [
    "Is the WinterRain data skewed.\n",
    "\n",
    "**Activity 11: ** Find the skewness of WinterRain variable."
   ]
  },
  {
   "cell_type": "code",
   "execution_count": null,
   "metadata": {
    "collapsed": true
   },
   "outputs": [],
   "source": [
    "library(moments)\n",
    "skewness(wine_data$WinterRain)"
   ]
  }
 ],
 "metadata": {
  "kernelspec": {
   "display_name": "R",
   "language": "R",
   "name": "ir"
  },
  "language_info": {
   "codemirror_mode": "r",
   "file_extension": ".r",
   "mimetype": "text/x-r-source",
   "name": "R",
   "pygments_lexer": "r",
   "version": "3.5.1"
  }
 },
 "nbformat": 4,
 "nbformat_minor": 1
}
